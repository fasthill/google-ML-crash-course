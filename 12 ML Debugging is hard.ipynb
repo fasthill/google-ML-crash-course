{
 "cells": [
  {
   "cell_type": "markdown",
   "id": "swiss-korea",
   "metadata": {},
   "source": [
    "# Counterintuitive Challenges in ML Debugging"
   ]
  },
  {
   "cell_type": "markdown",
   "id": "prerequisite-distinction",
   "metadata": {},
   "source": [
    "# Case Study: Debugging a Simple Model\n",
    "## Create the Dataset"
   ]
  },
  {
   "cell_type": "code",
   "execution_count": 1,
   "id": "limiting-sphere",
   "metadata": {},
   "outputs": [],
   "source": [
    "# Reset environment for a new run\n",
    "# %reset -f  # This will reset all variables and settings. do not '% reset' with space between the two."
   ]
  },
  {
   "cell_type": "code",
   "execution_count": 2,
   "id": "wanted-local",
   "metadata": {},
   "outputs": [],
   "source": [
    "# Load libraries\n",
    "from os.path import join # for joining file pathfile\n",
    "import pandas as pd\n",
    "import numpy as np\n",
    "import tensorflow as tf\n",
    "from tensorflow import keras\n",
    "import matplotlib.pyplot as plt\n",
    "\n",
    "# set pandas display options\n",
    "pd.options.display.max_rows = 10\n",
    "pd.options.display.float_format = '{:.2f}'.format"
   ]
  },
  {
   "cell_type": "markdown",
   "id": "toxic-lexington",
   "metadata": {},
   "source": [
    "Create the data. Your data consists of one feature with values 0 to 9, and your labels are the same data with some noise added. In a dataset, by convention, rows are examples and columns are features. To match this convention, transpose your data. Before transposing your vectors, you must convert them to matrices."
   ]
  },
  {
   "cell_type": "code",
   "execution_count": 3,
   "id": "green-breach",
   "metadata": {},
   "outputs": [
    {
     "data": {
      "text/plain": [
       "array([[0],\n",
       "       [1],\n",
       "       [2],\n",
       "       [3],\n",
       "       [4],\n",
       "       [5],\n",
       "       [6],\n",
       "       [7],\n",
       "       [8],\n",
       "       [9]])"
      ]
     },
     "execution_count": 3,
     "metadata": {},
     "output_type": "execute_result"
    }
   ],
   "source": [
    "features = np.array(range(10))\n",
    "features = features[:, np.newaxis]\n",
    "features"
   ]
  },
  {
   "cell_type": "code",
   "execution_count": 4,
   "id": "conscious-horizon",
   "metadata": {},
   "outputs": [],
   "source": [
    "# Create labels by adding noise distributed around 0\n",
    "labels = features + np.random.random(size=[10,1]) - 0.5 # == np.random.random(size=(10,1)) - 0.5\n",
    "# 임의의 +- 0.5를 features값(0-9) 에 더하여 노이즈 발생시킴"
   ]
  },
  {
   "cell_type": "code",
   "execution_count": 5,
   "id": "defined-polymer",
   "metadata": {},
   "outputs": [
    {
     "data": {
      "text/plain": [
       "array([[0.34658202],\n",
       "       [0.69583711],\n",
       "       [1.54438631],\n",
       "       [2.95080451],\n",
       "       [3.68748712],\n",
       "       [5.10656269],\n",
       "       [5.62801661],\n",
       "       [7.41058569],\n",
       "       [8.19753433],\n",
       "       [8.8433151 ]])"
      ]
     },
     "execution_count": 5,
     "metadata": {},
     "output_type": "execute_result"
    }
   ],
   "source": [
    "labels"
   ]
  },
  {
   "cell_type": "code",
   "execution_count": 6,
   "id": "another-wiring",
   "metadata": {},
   "outputs": [
    {
     "data": {
      "text/plain": [
       "<matplotlib.collections.PathCollection at 0x1b69908d3d0>"
      ]
     },
     "execution_count": 6,
     "metadata": {},
     "output_type": "execute_result"
    },
    {
     "data": {
      "image/png": "[encoded data removed]",
      "text/plain": [
       "<Figure size 432x288 with 1 Axes>"
      ]
     },
     "metadata": {
      "needs_background": "light"
     },
     "output_type": "display_data"
    }
   ],
   "source": [
    "# Verify that the data roughly lies in a straight line and, therefore, is easily predicted..\n",
    "plt.scatter(features, labels)"
   ]
  },
  {
   "cell_type": "markdown",
   "id": "wicked-celtic",
   "metadata": {},
   "source": [
    "## Fit Simple Data with Simple Model"
   ]
  },
  {
   "cell_type": "code",
   "execution_count": 7,
   "id": "forced-temple",
   "metadata": {},
   "outputs": [
    {
     "name": "stdout",
     "output_type": "stream",
     "text": [
      "Model: \"sequential\"\n",
      "_________________________________________________________________\n",
      "Layer (type)                 Output Shape              Param #   \n",
      "=================================================================\n",
      "dense (Dense)                (None, 1)                 2         \n",
      "=================================================================\n",
      "Total params: 2\n",
      "Trainable params: 2\n",
      "Non-trainable params: 0\n",
      "_________________________________________________________________\n",
      "None\n"
     ]
    }
   ],
   "source": [
    "# Delete any existing assignment to 'model'\n",
    "model = None\n",
    "\n",
    "model = tf.keras.models.Sequential()\n",
    "# Add a layer with 1 neuron. Use the popular \"tanh\" activation function\n",
    "model.add(tf.keras.layers.Dense(units=1, activation='tanh', input_dim=1))\n",
    "\n",
    "model.compile(loss='mse', optimizer=tf.keras.optimizers.Adam(0.001))\n",
    "print(model.summary())"
   ]
  },
  {
   "cell_type": "code",
   "execution_count": 8,
   "id": "sharp-mention",
   "metadata": {},
   "outputs": [
    {
     "name": "stdout",
     "output_type": "stream",
     "text": [
      "Epoch 1/10\n",
      "1/1 [==============================] - 1s 754ms/step - loss: 37.1913\n",
      "Epoch 2/10\n",
      "1/1 [==============================] - 0s 9ms/step - loss: 37.1852\n",
      "Epoch 3/10\n",
      "1/1 [==============================] - 0s 13ms/step - loss: 37.1789\n",
      "Epoch 4/10\n",
      "1/1 [==============================] - 0s 8ms/step - loss: 37.1727\n",
      "Epoch 5/10\n",
      "1/1 [==============================] - 0s 7ms/step - loss: 37.1664\n",
      "Epoch 6/10\n",
      "1/1 [==============================] - 0s 9ms/step - loss: 37.1600\n",
      "Epoch 7/10\n",
      "1/1 [==============================] - 0s 8ms/step - loss: 37.1535\n",
      "Epoch 8/10\n",
      "1/1 [==============================] - 0s 8ms/step - loss: 37.1470\n",
      "Epoch 9/10\n",
      "1/1 [==============================] - 0s 8ms/step - loss: 37.1405\n",
      "Epoch 10/10\n",
      "1/1 [==============================] - 0s 9ms/step - loss: 37.1338\n"
     ]
    },
    {
     "data": {
      "text/plain": [
       "<tensorflow.python.keras.callbacks.History at 0x1b6992d5610>"
      ]
     },
     "execution_count": 8,
     "metadata": {},
     "output_type": "execute_result"
    }
   ],
   "source": [
    "model.fit(features, labels, batch_size=10, epochs=10, verbose=1)"
   ]
  },
  {
   "cell_type": "markdown",
   "id": "virtual-clearing",
   "metadata": {},
   "source": [
    "Your loss stubbornly refuses to decrease! The following list describes possible actions to debug your model.\n",
    "\n",
    "* **Transforming data**: You data is not transformed. You can experiment by transforming the data appropriately and retraining the model.\n",
    "* **Activation function**: The `tanh` activation function cannot predict values >1. Besides, in a regression problem, the last layer should always use the linear activation function. Therefore, should you use  `activation='linear'`?\n",
    "* **Hyperparameter values**: Should you adjust any hyperparameter values to try reducing loss?\n",
    "* **Simpler model**: The model development process recommends starting with a simple model. A linear model is simpler than your nonlinear model. Should you use `activation='linear'`?\n",
    "* **Change optimizer**: Your model uses the Adam optimizer. You can fall back to the gradient descent optimizer by using `optimizer=keras.optimizers.SGD()`.\n",
    "\n",
    "Consider these actions and experiment where necessary. Then read the following section for the solution."
   ]
  },
  {
   "cell_type": "markdown",
   "id": "sitting-journalism",
   "metadata": {},
   "source": [
    "## Solution: Getting Loss to Decrease"
   ]
  },
  {
   "cell_type": "markdown",
   "id": "inner-logging",
   "metadata": {},
   "source": [
    "Before trying to adjust specific model parameters, such as the hyperparameter values, you should first check for good development practices. Here, you should start with a linear model because of these two best practices:\n",
    "\n",
    "* Regression: <span style='color:red'>In a regression problem, the last layer must always be linear.</span>\n",
    "* Start simple: Since a linear model is simpler than a nonliner model, start with a linear model.\n",
    "\n",
    "Run the following code to train a linear model and check if your loss decreases. The code displays the loss curve."
   ]
  },
  {
   "cell_type": "code",
   "execution_count": 9,
   "id": "comic-charter",
   "metadata": {},
   "outputs": [
    {
     "name": "stdout",
     "output_type": "stream",
     "text": [
      "Epoch 1/10\n",
      "10/10 [==============================] - 1s 2ms/step - loss: 0.4555\n",
      "Epoch 2/10\n",
      "10/10 [==============================] - 0s 2ms/step - loss: 0.4012\n",
      "Epoch 3/10\n",
      "10/10 [==============================] - 0s 2ms/step - loss: 0.3535\n",
      "Epoch 4/10\n",
      "10/10 [==============================] - 0s 3ms/step - loss: 0.3149\n",
      "Epoch 5/10\n",
      "10/10 [==============================] - 0s 3ms/step - loss: 0.2697\n",
      "Epoch 6/10\n",
      "10/10 [==============================] - 0s 3ms/step - loss: 0.2422\n",
      "Epoch 7/10\n",
      "10/10 [==============================] - 0s 3ms/step - loss: 0.2109\n",
      "Epoch 8/10\n",
      "10/10 [==============================] - 0s 3ms/step - loss: 0.1916\n",
      "Epoch 9/10\n",
      "10/10 [==============================] - 0s 5ms/step - loss: 0.1688\n",
      "Epoch 10/10\n",
      "10/10 [==============================] - 0s 3ms/step - loss: 0.1533\n"
     ]
    },
    {
     "data": {
      "text/plain": [
       "Text(0.5, 1.0, 'Loss Curve')"
      ]
     },
     "execution_count": 9,
     "metadata": {},
     "output_type": "execute_result"
    },
    {
     "data": {
      "image/png": "[encoded data removed]",
      "text/plain": [
       "<Figure size 432x288 with 1 Axes>"
      ]
     },
     "metadata": {
      "needs_background": "light"
     },
     "output_type": "display_data"
    }
   ],
   "source": [
    "model = None\n",
    "model = tf.keras.models.Sequential()\n",
    "model.add(tf.keras.layers.Dense(units=1, activation='linear', input_dim=1))\n",
    "model.compile(loss='mse', optimizer=tf.keras.optimizers.Adam(0.001))\n",
    "trainHistory = model.fit(features, labels, epochs=10, batch_size=1, verbose=1)\n",
    "# plot loss curve\n",
    "plt.plot(trainHistory.history['loss'])\n",
    "plt.title('Loss Curve')"
   ]
  },
  {
   "cell_type": "markdown",
   "id": "contemporary-springer",
   "metadata": {},
   "source": [
    "Your loss decreases, albeit slowly! You're on the right track. How can you get your loss to converge? Experiment with the code above. For the solution, read the following section."
   ]
  },
  {
   "cell_type": "markdown",
   "id": "aggressive-maine",
   "metadata": {},
   "source": [
    "## Solution: Reaching Convergence"
   ]
  },
  {
   "cell_type": "markdown",
   "id": "regional-nickel",
   "metadata": {},
   "source": [
    "Your loss isn't decreasing fast enough. From the guidance on [Learning Rate](https://developers.google.com/machine-learning/crash-course/reducing-loss/learning-rate), you know that you can increase the learning rate to train faster. Run the following code to increase the learning rate to 0.1. The the model reaches convergence quickly."
   ]
  },
  {
   "cell_type": "code",
   "execution_count": 10,
   "id": "prostate-terrain",
   "metadata": {},
   "outputs": [
    {
     "name": "stdout",
     "output_type": "stream",
     "text": [
      "Epoch 1/5\n",
      "10/10 [==============================] - 1s 2ms/step - loss: 62.2198\n",
      "Epoch 2/5\n",
      "10/10 [==============================] - 0s 2ms/step - loss: 15.1453\n",
      "Epoch 3/5\n",
      "10/10 [==============================] - 0s 3ms/step - loss: 1.5858\n",
      "Epoch 4/5\n",
      "10/10 [==============================] - 0s 2ms/step - loss: 1.7775\n",
      "Epoch 5/5\n",
      "10/10 [==============================] - 0s 2ms/step - loss: 1.5902\n"
     ]
    },
    {
     "data": {
      "text/plain": [
       "Text(0.5, 1.0, 'Loss Curve')"
      ]
     },
     "execution_count": 10,
     "metadata": {},
     "output_type": "execute_result"
    },
    {
     "data": {
      "image/png": "[encoded data removed]",
      "text/plain": [
       "<Figure size 432x288 with 1 Axes>"
      ]
     },
     "metadata": {
      "needs_background": "light"
     },
     "output_type": "display_data"
    }
   ],
   "source": [
    "# Delete any existing assignment to 'model'\n",
    "model = None\n",
    "\n",
    "# Use a Sequential model\n",
    "model = tf.keras.models.Sequential()\n",
    "model.add(tf.keras.layers.Dense(1, activation='linear', input_dim=1))\n",
    "model.compile(loss='mse', optimizer=tf.keras.optimizers.Adam(0.1))\n",
    "trainHistory = model.fit(features, labels, batch_size=1, epochs=5, verbose=1)\n",
    "# plot loss curve\n",
    "plt.plot(trainHistory.history['loss'])\n",
    "plt.title('Loss Curve')"
   ]
  },
  {
   "cell_type": "markdown",
   "id": "maritime-reputation",
   "metadata": {},
   "source": [
    "Wonderful, you quickly get a very low loss! Let's confirm the model works by predicting results for values [0,9] and superimposing them on top of the features."
   ]
  },
  {
   "cell_type": "code",
   "execution_count": 11,
   "id": "parallel-poker",
   "metadata": {},
   "outputs": [
    {
     "name": "stdout",
     "output_type": "stream",
     "text": [
      "1/1 [==============================] - 0s 226ms/step\n"
     ]
    },
    {
     "data": {
      "text/plain": [
       "<matplotlib.legend.Legend at 0x1b69a9eb2b0>"
      ]
     },
     "execution_count": 11,
     "metadata": {},
     "output_type": "execute_result"
    },
    {
     "data": {
      "image/png": "[encoded data removed]",
      "text/plain": [
       "<Figure size 432x288 with 1 Axes>"
      ]
     },
     "metadata": {
      "needs_background": "light"
     },
     "output_type": "display_data"
    }
   ],
   "source": [
    "# get predictions\n",
    "featurePred = model.predict(features, verbose=1)\n",
    "# plot original features and predicted values\n",
    "featurePred = np.transpose(featurePred)\n",
    "plt.scatter(range(10), labels, c='blue')\n",
    "plt.scatter(range(10), featurePred, c='red')\n",
    "plt.legend(['Original', 'Predicted'])"
   ]
  },
  {
   "cell_type": "markdown",
   "id": "married-hollow",
   "metadata": {},
   "source": [
    "# Exploding Gradients"
   ]
  },
  {
   "cell_type": "markdown",
   "id": "stuck-journal",
   "metadata": {},
   "source": [
    "A common problem in model training is a loss that \"explodes\" or becomes `nan`. A common cause is anomalous feature data, such as outliers and `nan` values, or a high learning rate. The following sections demonstrate these causes."
   ]
  },
  {
   "cell_type": "markdown",
   "id": "arranged-stretch",
   "metadata": {},
   "source": [
    "## Cause: High Learning Rate\n",
    "\n",
    "In this section, you will create data in the range [0,50] and show that the gradient explodes when you train the model using a learning rate of 0.01. Then you'll reduce the learning rate to make the model converge.\n",
    "\n",
    "Create and visualize the data by running the following code."
   ]
  },
  {
   "cell_type": "code",
   "execution_count": 12,
   "id": "natural-district",
   "metadata": {},
   "outputs": [
    {
     "data": {
      "text/plain": [
       "<matplotlib.collections.PathCollection at 0x1b69aa20a60>"
      ]
     },
     "execution_count": 12,
     "metadata": {},
     "output_type": "execute_result"
    },
    {
     "data": {
      "image/png": "[encoded data removed]",
      "text/plain": [
       "<Figure size 432x288 with 1 Axes>"
      ]
     },
     "metadata": {
      "needs_background": "light"
     },
     "output_type": "display_data"
    }
   ],
   "source": [
    "features = np.arange(50)\n",
    "labels = features + np.random.random(features.shape) - 0.5\n",
    "plt.scatter(features, labels)"
   ]
  },
  {
   "cell_type": "code",
   "execution_count": 13,
   "id": "suited-stability",
   "metadata": {},
   "outputs": [
    {
     "data": {
      "text/plain": [
       "<matplotlib.collections.PathCollection at 0x1b69aa73250>"
      ]
     },
     "execution_count": 13,
     "metadata": {},
     "output_type": "execute_result"
    },
    {
     "data": {
      "image/png": "[encoded data removed]",
      "text/plain": [
       "<Figure size 432x288 with 1 Axes>"
      ]
     },
     "metadata": {
      "needs_background": "light"
     },
     "output_type": "display_data"
    }
   ],
   "source": [
    "[features, labels] = [features.transpose(), labels.transpose()]\n",
    "plt.scatter(range(len(features)), features)"
   ]
  },
  {
   "cell_type": "markdown",
   "id": "seven-scheme",
   "metadata": {},
   "source": [
    "Run the following cell to train a model with a learning rate of 0.01. You will get `inf` for your loss."
   ]
  },
  {
   "cell_type": "code",
   "execution_count": 14,
   "id": "ceramic-dynamics",
   "metadata": {},
   "outputs": [
    {
     "name": "stdout",
     "output_type": "stream",
     "text": [
      "Epoch 1/5\n",
      "5/5 [==============================] - 0s 2ms/step - loss: 1622745284608.0000\n",
      "Epoch 2/5\n",
      "5/5 [==============================] - 0s 3ms/step - loss: 226966757499086280065024.0000\n",
      "Epoch 3/5\n",
      "5/5 [==============================] - 0s 4ms/step - loss: 143042931669792691045162888818851840.0000\n",
      "Epoch 4/5\n",
      "5/5 [==============================] - 0s 5ms/step - loss: inf\n",
      "Epoch 5/5\n",
      "5/5 [==============================] - 0s 4ms/step - loss: inf\n"
     ]
    },
    {
     "data": {
      "text/plain": [
       "<tensorflow.python.keras.callbacks.History at 0x1b69aae4880>"
      ]
     },
     "execution_count": 14,
     "metadata": {},
     "output_type": "execute_result"
    }
   ],
   "source": [
    "# Train on raw data\n",
    "model = None\n",
    "model = keras.Sequential()\n",
    "model.add(keras.layers.Dense(1, input_dim=1, activation='linear'))\n",
    "model.compile(loss='mse', optimizer=tf.keras.optimizers.SGD(0.01))\n",
    "model.fit(features, labels, epochs=5, batch_size=10, verbose=1)"
   ]
  },
  {
   "cell_type": "markdown",
   "id": "geological-marijuana",
   "metadata": {},
   "source": [
    "To demonstrate that the high learning rate makes the loss explore, reduce the learning rate to `0.001`. Your loss will converge."
   ]
  }
 ],
 "metadata": {
  "kernelspec": {
   "display_name": "Python 3 (ipykernel)",
   "language": "python",
   "name": "python3"
  },
  "language_info": {
   "codemirror_mode": {
    "name": "ipython",
    "version": 3
   },
   "file_extension": ".py",
   "mimetype": "text/x-python",
   "name": "python",
   "nbconvert_exporter": "python",
   "pygments_lexer": "ipython3",
   "version": "3.9.1"
  }
 },
 "nbformat": 4,
 "nbformat_minor": 5
}
