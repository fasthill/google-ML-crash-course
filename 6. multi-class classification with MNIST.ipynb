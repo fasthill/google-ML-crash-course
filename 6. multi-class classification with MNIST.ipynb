{
 "cells": [
  {
   "cell_type": "code",
   "execution_count": 6,
   "id": "domestic-compound",
   "metadata": {},
   "outputs": [],
   "source": [
    "import numpy as np\n",
    "import pandas as pd\n",
    "import matplotlib.pyplot as plt\n",
    "import tensorflow as tf\n",
    "from tensorflow.keras import layers\n",
    "from tensorflow.keras import datasets"
   ]
  },
  {
   "cell_type": "code",
   "execution_count": 2,
   "id": "adjacent-tactics",
   "metadata": {},
   "outputs": [],
   "source": [
    "pd.options.display.float_format = '{:.1f}'.format\n",
    "pd.options.display.max_rows = 10"
   ]
  },
  {
   "cell_type": "code",
   "execution_count": 3,
   "id": "legal-series",
   "metadata": {},
   "outputs": [],
   "source": [
    "# The following line improves formatting when ouputting NumPy arrays.\n",
    "np.set_printoptions(linewidth = 200)"
   ]
  },
  {
   "cell_type": "markdown",
   "id": "photographic-spoke",
   "metadata": {},
   "source": [
    "## Load the dataset\n",
    "\n",
    "`tf.keras` provides a set of convenience functions for loading well-known datasets. Each of these convenience functions does the following:\n",
    "\n",
    "* Loads both the training set and the test set.\n",
    "* Separates each set into features and labels.\n",
    "\n",
    "The relevant convenience function for MNIST is called `mnist.load_data()`:"
   ]
  },
  {
   "cell_type": "code",
   "execution_count": 12,
   "id": "welsh-liverpool",
   "metadata": {},
   "outputs": [],
   "source": [
    "(x_train, y_train), (x_test, y_test) = datasets.mnist.load_data()"
   ]
  },
  {
   "cell_type": "code",
   "execution_count": 15,
   "id": "normal-lending",
   "metadata": {},
   "outputs": [
    {
     "data": {
      "text/plain": [
       "(10000, 28, 28)"
      ]
     },
     "execution_count": 15,
     "metadata": {},
     "output_type": "execute_result"
    }
   ],
   "source": [
    "x_train.shape"
   ]
  },
  {
   "cell_type": "code",
   "execution_count": 17,
   "id": "enclosed-ferry",
   "metadata": {},
   "outputs": [
    {
     "data": {
      "text/plain": [
       "(28, 28)"
      ]
     },
     "execution_count": 17,
     "metadata": {},
     "output_type": "execute_result"
    }
   ],
   "source": [
    "# Output example #2917 of the training set.\n",
    "x_train[2917].shape"
   ]
  },
  {
   "cell_type": "code",
   "execution_count": 18,
   "id": "catholic-saturday",
   "metadata": {},
   "outputs": [
    {
     "data": {
      "text/plain": [
       "<matplotlib.image.AxesImage at 0x285d20e6220>"
      ]
     },
     "execution_count": 18,
     "metadata": {},
     "output_type": "execute_result"
    },
    {
     "data": {
      "image/png": "[encoded data removed]",
      "text/plain": [
       "<Figure size 432x288 with 1 Axes>"
      ]
     },
     "metadata": {
      "needs_background": "light"
     },
     "output_type": "display_data"
    }
   ],
   "source": [
    "plt.imshow(x_train[2917])"
   ]
  },
  {
   "cell_type": "code",
   "execution_count": 27,
   "id": "plain-vacation",
   "metadata": {},
   "outputs": [
    {
     "data": {
      "text/plain": [
       "<matplotlib.image.AxesImage at 0x285db502340>"
      ]
     },
     "execution_count": 27,
     "metadata": {},
     "output_type": "execute_result"
    },
    {
     "data": {
      "image/png": "[encoded data removed]",
      "text/plain": [
       "<Figure size 432x288 with 1 Axes>"
      ]
     },
     "metadata": {
      "needs_background": "light"
     },
     "output_type": "display_data"
    }
   ],
   "source": [
    "plt.imshow(x_train[2917][6:16])"
   ]
  },
  {
   "cell_type": "code",
   "execution_count": 29,
   "id": "geological-villa",
   "metadata": {},
   "outputs": [
    {
     "data": {
      "text/plain": [
       "<matplotlib.image.AxesImage at 0x285db5a62e0>"
      ]
     },
     "execution_count": 29,
     "metadata": {},
     "output_type": "execute_result"
    },
    {
     "data": {
      "image/png": "[encoded data removed]",
      "text/plain": [
       "<Figure size 432x288 with 1 Axes>"
      ]
     },
     "metadata": {
      "needs_background": "light"
     },
     "output_type": "display_data"
    }
   ],
   "source": [
    "plt.imshow(x_train[2917][6:16,10:20])"
   ]
  },
  {
   "cell_type": "code",
   "execution_count": 30,
   "id": "unique-pierce",
   "metadata": {},
   "outputs": [
    {
     "data": {
      "text/plain": [
       "<matplotlib.image.AxesImage at 0x285db5e2be0>"
      ]
     },
     "execution_count": 30,
     "metadata": {},
     "output_type": "execute_result"
    },
    {
     "data": {
      "image/png": "[encoded data removed]",
      "text/plain": [
       "<Figure size 432x288 with 1 Axes>"
      ]
     },
     "metadata": {
      "needs_background": "light"
     },
     "output_type": "display_data"
    }
   ],
   "source": [
    "plt.imshow(x_train[2917,6:16,10:20])"
   ]
  },
  {
   "cell_type": "code",
   "execution_count": 38,
   "id": "generic-chambers",
   "metadata": {},
   "outputs": [
    {
     "data": {
      "text/plain": [
       "58"
      ]
     },
     "execution_count": 38,
     "metadata": {},
     "output_type": "execute_result"
    }
   ],
   "source": [
    "x_train[2917,10,16]"
   ]
  },
  {
   "cell_type": "markdown",
   "id": "intimate-fantasy",
   "metadata": {},
   "source": [
    "## Task 1: Normalize feature values\n",
    "\n",
    "Complete the following code cell to map each feature value from its current representation (an integer between 0 and 255) to a floating-point value between 0 and 1.0. Store the floating-point values in `x_train_normalized` and `x_test_normalized`."
   ]
  },
  {
   "cell_type": "code",
   "execution_count": 70,
   "id": "heard-outline",
   "metadata": {},
   "outputs": [
    {
     "name": "stdout",
     "output_type": "stream",
     "text": [
      "0.22745098039215686\n"
     ]
    }
   ],
   "source": [
    "x_train_normalized = x_train / 255.0\n",
    "x_test_normalized = x_test / 255.0\n",
    "print(x_train_normalized[2917,10,16])"
   ]
  },
  {
   "cell_type": "code",
   "execution_count": 41,
   "id": "roman-malpractice",
   "metadata": {},
   "outputs": [
    {
     "data": {
      "text/plain": [
       "0.22745098039215686"
      ]
     },
     "execution_count": 41,
     "metadata": {},
     "output_type": "execute_result"
    }
   ],
   "source": [
    "58/255"
   ]
  },
  {
   "cell_type": "markdown",
   "id": "acute-induction",
   "metadata": {},
   "source": [
    "## Define a plotting function\n",
    "\n",
    "The following function plots an accuracy curve:"
   ]
  },
  {
   "cell_type": "code",
   "execution_count": 52,
   "id": "nonprofit-taylor",
   "metadata": {},
   "outputs": [
    {
     "name": "stdout",
     "output_type": "stream",
     "text": [
      "Loaded the plot_curve function.\n"
     ]
    }
   ],
   "source": [
    "def plot_curve(epochs, hist, list_of_metrics):\n",
    "    plt.figure()\n",
    "    plt.xlabel('Epoch')\n",
    "    plt.ylabel('Value')\n",
    "    \n",
    "    for m in list_of_metrics:\n",
    "        x = hist[m]\n",
    "        plt.plot(epochs[1:], x[1:], label=m)\n",
    "        \n",
    "    plt.legend()\n",
    "    \n",
    "print('Loaded the plot_curve function.')"
   ]
  },
  {
   "cell_type": "code",
   "execution_count": 74,
   "id": "technological-history",
   "metadata": {},
   "outputs": [],
   "source": [
    "def create_model(my_learning_rate):\n",
    "    model = tf.keras.models.Sequential()\n",
    "    \n",
    "    # The features are stored in a two-dimensional 28X28 array. \n",
    "    # Flatten that two-dimensional array into a a one-dimensional 784-element array.\n",
    "    model.add(tf.keras.layers.Flatten(input_shape=(28, 28)))\n",
    "    \n",
    "    # Define the first hidden layer.  \n",
    "    model.add(tf.keras.layers.Dense(units=32, activation='relu'))\n",
    "    \n",
    "    # Define a dropout regularization layer\n",
    "    model.add(tf.keras.layers.Dropout(rate=0.2))\n",
    "    \n",
    "    # Define the output layer. The units parameter is set to 10 \n",
    "    # because the model must choose among 10 possible output values (representing\n",
    "    # the digits from 0 to 9, inclusive).\n",
    "    #\n",
    "    # Don't change this layer.\n",
    "    model.add(tf.keras.layers.Dense(units=10, activation='softmax'))\n",
    "    \n",
    "    # Construct the layers into a model that TensorFlow can execute.  \n",
    "    # Notice that the loss function for multi-class classification\n",
    "    # is different than the loss function for binary classification. \n",
    "    model.compile(loss = 'sparse_categorical_crossentropy',\n",
    "                 #optimizer= 'adam',\n",
    "                 optimizer=tf.keras.optimizers.Adam(learning_rate=my_learning_rate),\n",
    "                 metrics=['accuracy'])\n",
    "    \n",
    "    return model"
   ]
  },
  {
   "cell_type": "code",
   "execution_count": 56,
   "id": "geographic-object",
   "metadata": {},
   "outputs": [],
   "source": [
    "def train_model(model, train_features, train_label, epochs,\n",
    "               batch_size=None, validation_split=0.1):\n",
    "    history = model.fit(x= train_features, y = train_label, epochs=epochs,\n",
    "                       batch_size=batch_size, shuffle=True,\n",
    "                       validation_split=validation_split)\n",
    "    \n",
    "    # To track the progression of training, gather a snapshot\n",
    "    # of the model's metrics at each epoch. \n",
    "    epochs = history.epoch\n",
    "    hist = pd.DataFrame(history.history)\n",
    "    \n",
    "    return epochs, hist, history"
   ]
  },
  {
   "cell_type": "code",
   "execution_count": 72,
   "id": "about-platform",
   "metadata": {},
   "outputs": [
    {
     "name": "stdout",
     "output_type": "stream",
     "text": [
      "Epoch 1/50\n",
      "12/12 [==============================] - 2s 67ms/step - loss: 1.6577 - accuracy: 0.4739 - val_loss: 0.9405 - val_accuracy: 0.7632\n",
      "Epoch 2/50\n",
      "12/12 [==============================] - 0s 34ms/step - loss: 0.8658 - accuracy: 0.7381 - val_loss: 0.5193 - val_accuracy: 0.8711\n",
      "Epoch 3/50\n",
      "12/12 [==============================] - 0s 41ms/step - loss: 0.6121 - accuracy: 0.8171 - val_loss: 0.4021 - val_accuracy: 0.8931\n",
      "Epoch 4/50\n",
      "12/12 [==============================] - 0s 36ms/step - loss: 0.5059 - accuracy: 0.8520 - val_loss: 0.3447 - val_accuracy: 0.9080\n",
      "Epoch 5/50\n",
      "12/12 [==============================] - 0s 34ms/step - loss: 0.4441 - accuracy: 0.8701 - val_loss: 0.3084 - val_accuracy: 0.9153\n",
      "Epoch 6/50\n",
      "12/12 [==============================] - 0s 38ms/step - loss: 0.4087 - accuracy: 0.8799 - val_loss: 0.2872 - val_accuracy: 0.9209\n",
      "Epoch 7/50\n",
      "12/12 [==============================] - 0s 41ms/step - loss: 0.3805 - accuracy: 0.8889 - val_loss: 0.2695 - val_accuracy: 0.9262\n",
      "Epoch 8/50\n",
      "12/12 [==============================] - 0s 38ms/step - loss: 0.3594 - accuracy: 0.8946 - val_loss: 0.2592 - val_accuracy: 0.9284\n",
      "Epoch 9/50\n",
      "12/12 [==============================] - 0s 33ms/step - loss: 0.3438 - accuracy: 0.8997 - val_loss: 0.2447 - val_accuracy: 0.9316\n",
      "Epoch 10/50\n",
      "12/12 [==============================] - 1s 44ms/step - loss: 0.3289 - accuracy: 0.9028 - val_loss: 0.2345 - val_accuracy: 0.9342\n",
      "Epoch 11/50\n",
      "12/12 [==============================] - 0s 36ms/step - loss: 0.3186 - accuracy: 0.9079 - val_loss: 0.2274 - val_accuracy: 0.9364\n",
      "Epoch 12/50\n",
      "12/12 [==============================] - 0s 37ms/step - loss: 0.3068 - accuracy: 0.9101 - val_loss: 0.2193 - val_accuracy: 0.9388\n",
      "Epoch 13/50\n",
      "12/12 [==============================] - 0s 33ms/step - loss: 0.2981 - accuracy: 0.9124 - val_loss: 0.2150 - val_accuracy: 0.9402\n",
      "Epoch 14/50\n",
      "12/12 [==============================] - 0s 38ms/step - loss: 0.2882 - accuracy: 0.9155 - val_loss: 0.2087 - val_accuracy: 0.9418\n",
      "Epoch 15/50\n",
      "12/12 [==============================] - 0s 40ms/step - loss: 0.2815 - accuracy: 0.9177 - val_loss: 0.2030 - val_accuracy: 0.9437\n",
      "Epoch 16/50\n",
      "12/12 [==============================] - 0s 34ms/step - loss: 0.2719 - accuracy: 0.9207 - val_loss: 0.1986 - val_accuracy: 0.9440\n",
      "Epoch 17/50\n",
      "12/12 [==============================] - 0s 40ms/step - loss: 0.2671 - accuracy: 0.9212 - val_loss: 0.1934 - val_accuracy: 0.9466\n",
      "Epoch 18/50\n",
      "12/12 [==============================] - 0s 34ms/step - loss: 0.2609 - accuracy: 0.9228 - val_loss: 0.1895 - val_accuracy: 0.9473\n",
      "Epoch 19/50\n",
      "12/12 [==============================] - 0s 36ms/step - loss: 0.2536 - accuracy: 0.9250 - val_loss: 0.1850 - val_accuracy: 0.9481\n",
      "Epoch 20/50\n",
      "12/12 [==============================] - 0s 39ms/step - loss: 0.2499 - accuracy: 0.9246 - val_loss: 0.1821 - val_accuracy: 0.9494\n",
      "Epoch 21/50\n",
      "12/12 [==============================] - 0s 35ms/step - loss: 0.2437 - accuracy: 0.9282 - val_loss: 0.1793 - val_accuracy: 0.9496\n",
      "Epoch 22/50\n",
      "12/12 [==============================] - 0s 36ms/step - loss: 0.2388 - accuracy: 0.9291 - val_loss: 0.1749 - val_accuracy: 0.9515\n",
      "Epoch 23/50\n",
      "12/12 [==============================] - 0s 33ms/step - loss: 0.2366 - accuracy: 0.9310 - val_loss: 0.1728 - val_accuracy: 0.9527\n",
      "Epoch 24/50\n",
      "12/12 [==============================] - 0s 42ms/step - loss: 0.2333 - accuracy: 0.9307 - val_loss: 0.1707 - val_accuracy: 0.9516\n",
      "Epoch 25/50\n",
      "12/12 [==============================] - 0s 40ms/step - loss: 0.2265 - accuracy: 0.9324 - val_loss: 0.1689 - val_accuracy: 0.9528\n",
      "Epoch 26/50\n",
      "12/12 [==============================] - 0s 38ms/step - loss: 0.2227 - accuracy: 0.9329 - val_loss: 0.1667 - val_accuracy: 0.9524\n",
      "Epoch 27/50\n",
      "12/12 [==============================] - 0s 35ms/step - loss: 0.2199 - accuracy: 0.9333 - val_loss: 0.1641 - val_accuracy: 0.9540\n",
      "Epoch 28/50\n",
      "12/12 [==============================] - 1s 44ms/step - loss: 0.2193 - accuracy: 0.9340 - val_loss: 0.1630 - val_accuracy: 0.9535\n",
      "Epoch 29/50\n",
      "12/12 [==============================] - 0s 38ms/step - loss: 0.2166 - accuracy: 0.9352 - val_loss: 0.1621 - val_accuracy: 0.9538\n",
      "Epoch 30/50\n",
      "12/12 [==============================] - 0s 36ms/step - loss: 0.2136 - accuracy: 0.9361 - val_loss: 0.1594 - val_accuracy: 0.9553\n",
      "Epoch 31/50\n",
      "12/12 [==============================] - 0s 40ms/step - loss: 0.2088 - accuracy: 0.9376 - val_loss: 0.1576 - val_accuracy: 0.9554\n",
      "Epoch 32/50\n",
      "12/12 [==============================] - 0s 36ms/step - loss: 0.2057 - accuracy: 0.9397 - val_loss: 0.1561 - val_accuracy: 0.9561\n",
      "Epoch 33/50\n",
      "12/12 [==============================] - 0s 37ms/step - loss: 0.2025 - accuracy: 0.9396 - val_loss: 0.1548 - val_accuracy: 0.9563\n",
      "Epoch 34/50\n",
      "12/12 [==============================] - 0s 35ms/step - loss: 0.2015 - accuracy: 0.9393 - val_loss: 0.1537 - val_accuracy: 0.9563\n",
      "Epoch 35/50\n",
      "12/12 [==============================] - 0s 40ms/step - loss: 0.1970 - accuracy: 0.9404 - val_loss: 0.1526 - val_accuracy: 0.9564\n",
      "Epoch 36/50\n",
      "12/12 [==============================] - 0s 34ms/step - loss: 0.1943 - accuracy: 0.9412 - val_loss: 0.1513 - val_accuracy: 0.9569\n",
      "Epoch 37/50\n",
      "12/12 [==============================] - 0s 36ms/step - loss: 0.1945 - accuracy: 0.9414 - val_loss: 0.1484 - val_accuracy: 0.9580\n",
      "Epoch 38/50\n",
      "12/12 [==============================] - 0s 34ms/step - loss: 0.1905 - accuracy: 0.9426 - val_loss: 0.1478 - val_accuracy: 0.9588\n",
      "Epoch 39/50\n",
      "12/12 [==============================] - 0s 39ms/step - loss: 0.1864 - accuracy: 0.9445 - val_loss: 0.1465 - val_accuracy: 0.9582\n",
      "Epoch 40/50\n",
      "12/12 [==============================] - 0s 40ms/step - loss: 0.1857 - accuracy: 0.9454 - val_loss: 0.1458 - val_accuracy: 0.9589\n",
      "Epoch 41/50\n",
      "12/12 [==============================] - 0s 37ms/step - loss: 0.1892 - accuracy: 0.9432 - val_loss: 0.1467 - val_accuracy: 0.9569\n",
      "Epoch 42/50\n",
      "12/12 [==============================] - 0s 40ms/step - loss: 0.1836 - accuracy: 0.9452 - val_loss: 0.1462 - val_accuracy: 0.9586\n",
      "Epoch 43/50\n",
      "12/12 [==============================] - 0s 39ms/step - loss: 0.1829 - accuracy: 0.9446 - val_loss: 0.1436 - val_accuracy: 0.9592\n",
      "Epoch 44/50\n",
      "12/12 [==============================] - 1s 47ms/step - loss: 0.1767 - accuracy: 0.9467 - val_loss: 0.1426 - val_accuracy: 0.9598\n",
      "Epoch 45/50\n",
      "12/12 [==============================] - 0s 40ms/step - loss: 0.1787 - accuracy: 0.9453 - val_loss: 0.1419 - val_accuracy: 0.9592\n",
      "Epoch 46/50\n",
      "12/12 [==============================] - 0s 41ms/step - loss: 0.1781 - accuracy: 0.9462 - val_loss: 0.1413 - val_accuracy: 0.9603\n",
      "Epoch 47/50\n",
      "12/12 [==============================] - 0s 41ms/step - loss: 0.1730 - accuracy: 0.9465 - val_loss: 0.1412 - val_accuracy: 0.9609\n",
      "Epoch 48/50\n",
      "12/12 [==============================] - 1s 52ms/step - loss: 0.1739 - accuracy: 0.9464 - val_loss: 0.1392 - val_accuracy: 0.9616\n",
      "Epoch 49/50\n",
      "12/12 [==============================] - 0s 38ms/step - loss: 0.1701 - accuracy: 0.9473 - val_loss: 0.1382 - val_accuracy: 0.9610\n",
      "Epoch 50/50\n",
      "12/12 [==============================] - 0s 39ms/step - loss: 0.1685 - accuracy: 0.9488 - val_loss: 0.1382 - val_accuracy: 0.9611\n"
     ]
    },
    {
     "data": {
      "image/png": "[encoded data removed]",
      "text/plain": [
       "<Figure size 432x288 with 1 Axes>"
      ]
     },
     "metadata": {
      "needs_background": "light"
     },
     "output_type": "display_data"
    }
   ],
   "source": [
    "# The following variables are the hyperparameters.\n",
    "learning_rate = 0.003\n",
    "epochs = 50\n",
    "batch_size = 4000\n",
    "validation_split = 0.2\n",
    "\n",
    "# Establish the model's topography.\n",
    "my_model = create_model(learning_rate)\n",
    "\n",
    "# Train the model on the normalized training set.\n",
    "epochs, hist, history = train_model(my_model, x_train_normalized, y_train, \n",
    "                           epochs, batch_size, validation_split)\n",
    "\n",
    "# Plot a graph of the metric vs. epochs.\n",
    "list_of_metrics_to_plot = ['accuracy']\n",
    "plot_curve(epochs, hist, list_of_metrics_to_plot)"
   ]
  },
  {
   "cell_type": "code",
   "execution_count": 73,
   "id": "certain-sheet",
   "metadata": {},
   "outputs": [
    {
     "name": "stdout",
     "output_type": "stream",
     "text": [
      "\n",
      " Evaluate the new model against the test set:\n",
      "3/3 [==============================] - 0s 11ms/step - loss: 0.1387 - accuracy: 0.9600\n"
     ]
    },
    {
     "data": {
      "text/plain": [
       "[0.13871465623378754, 0.9599999785423279]"
      ]
     },
     "execution_count": 73,
     "metadata": {},
     "output_type": "execute_result"
    }
   ],
   "source": [
    "# Evaluate against the test set.\n",
    "print(\"\\n Evaluate the new model against the test set:\")\n",
    "my_model.evaluate(x=x_test_normalized, y=y_test, batch_size=batch_size)"
   ]
  },
  {
   "cell_type": "markdown",
   "id": "simple-adventure",
   "metadata": {},
   "source": [
    "## Task 2: Optimize the model\n",
    "\n",
    "Experiment with the following:\n",
    "\n",
    "* number of hidden layers \n",
    "* number of nodes in each layer\n",
    "* dropout regularization rate\n",
    "\n",
    "What trends did you discover?  Can you reach at least 98% accuracy against the test set? "
   ]
  },
  {
   "cell_type": "markdown",
   "id": "naughty-trick",
   "metadata": {},
   "source": [
    " It would take much too long to experiment fully with topography and dropout regularization \n",
    " rate. In the real world, you would also experiment with learning rate, batch size, and number of epochs.  Since you only have a few minutes, searching for trends can be helpful.\n",
    " \n",
    " Here is what we discovered:\n",
    "  * Adding more nodes (at least until 256 nodes) to the first hidden layer improved accuracy.\n",
    "  * Adding a second hidden layer generally improved accuracy.\n",
    "  * When the model contains a lot of nodes, the model overfits unless the dropout rate is at least 0.5. \n",
    "\n",
    " We reached 98% test accuracy with the following configuration:\n",
    "  * One hidden layer of 256 nodes; no second hidden layer.\n",
    "  * dropout regularization rate of 0.4\n",
    "\n",
    " We reached 98.2% test accuracy with the following configuration:\n",
    "  * First hidden layer of 256 nodes; second hidden layer of 128 nodes.\n",
    "  * dropout regularization rate of 0.2"
   ]
  },
  {
   "cell_type": "code",
   "execution_count": 75,
   "id": "athletic-psychiatry",
   "metadata": {},
   "outputs": [
    {
     "name": "stdout",
     "output_type": "stream",
     "text": [
      "Epoch 1/50\n",
      "12/12 [==============================] - 1s 68ms/step - loss: 2.0339 - accuracy: 0.3448 - val_loss: 1.6469 - val_accuracy: 0.6022\n",
      "Epoch 2/50\n",
      "12/12 [==============================] - 0s 37ms/step - loss: 1.4733 - accuracy: 0.5918 - val_loss: 1.1367 - val_accuracy: 0.7334\n",
      "Epoch 3/50\n",
      "12/12 [==============================] - 0s 35ms/step - loss: 1.1090 - accuracy: 0.6893 - val_loss: 0.8314 - val_accuracy: 0.8124\n",
      "Epoch 4/50\n",
      "12/12 [==============================] - 0s 37ms/step - loss: 0.8966 - accuracy: 0.7479 - val_loss: 0.6657 - val_accuracy: 0.8512\n",
      "Epoch 5/50\n",
      "12/12 [==============================] - 0s 40ms/step - loss: 0.7673 - accuracy: 0.7832 - val_loss: 0.5672 - val_accuracy: 0.8703\n",
      "Epoch 6/50\n",
      "12/12 [==============================] - 0s 34ms/step - loss: 0.6822 - accuracy: 0.8086 - val_loss: 0.5016 - val_accuracy: 0.8827\n",
      "Epoch 7/50\n",
      "12/12 [==============================] - 0s 37ms/step - loss: 0.6212 - accuracy: 0.8260 - val_loss: 0.4566 - val_accuracy: 0.8891\n",
      "Epoch 8/50\n",
      "12/12 [==============================] - 0s 35ms/step - loss: 0.5767 - accuracy: 0.8378 - val_loss: 0.4235 - val_accuracy: 0.8960\n",
      "Epoch 9/50\n",
      "12/12 [==============================] - 0s 39ms/step - loss: 0.5416 - accuracy: 0.8473 - val_loss: 0.3970 - val_accuracy: 0.9012\n",
      "Epoch 10/50\n",
      "12/12 [==============================] - 0s 38ms/step - loss: 0.5167 - accuracy: 0.8544 - val_loss: 0.3758 - val_accuracy: 0.9050\n",
      "Epoch 11/50\n",
      "12/12 [==============================] - 1s 47ms/step - loss: 0.4925 - accuracy: 0.8603 - val_loss: 0.3590 - val_accuracy: 0.9091\n",
      "Epoch 12/50\n",
      "12/12 [==============================] - 0s 41ms/step - loss: 0.4737 - accuracy: 0.8636 - val_loss: 0.3444 - val_accuracy: 0.9111\n",
      "Epoch 13/50\n",
      "12/12 [==============================] - 0s 37ms/step - loss: 0.4550 - accuracy: 0.8703 - val_loss: 0.3312 - val_accuracy: 0.9150\n",
      "Epoch 14/50\n",
      "12/12 [==============================] - 0s 34ms/step - loss: 0.4396 - accuracy: 0.8749 - val_loss: 0.3207 - val_accuracy: 0.9172\n",
      "Epoch 15/50\n",
      "12/12 [==============================] - 0s 35ms/step - loss: 0.4263 - accuracy: 0.8787 - val_loss: 0.3107 - val_accuracy: 0.9189\n",
      "Epoch 16/50\n",
      "12/12 [==============================] - 0s 36ms/step - loss: 0.4160 - accuracy: 0.8815 - val_loss: 0.3016 - val_accuracy: 0.9204\n",
      "Epoch 17/50\n",
      "12/12 [==============================] - 0s 35ms/step - loss: 0.4034 - accuracy: 0.8845 - val_loss: 0.2936 - val_accuracy: 0.9212\n",
      "Epoch 18/50\n",
      "12/12 [==============================] - 0s 37ms/step - loss: 0.3962 - accuracy: 0.8864 - val_loss: 0.2875 - val_accuracy: 0.9233\n",
      "Epoch 19/50\n",
      "12/12 [==============================] - 0s 41ms/step - loss: 0.3871 - accuracy: 0.8885 - val_loss: 0.2813 - val_accuracy: 0.9246\n",
      "Epoch 20/50\n",
      "12/12 [==============================] - 1s 44ms/step - loss: 0.3775 - accuracy: 0.8919 - val_loss: 0.2753 - val_accuracy: 0.9252\n",
      "Epoch 21/50\n",
      "12/12 [==============================] - 0s 38ms/step - loss: 0.3705 - accuracy: 0.8921 - val_loss: 0.2697 - val_accuracy: 0.9264\n",
      "Epoch 22/50\n",
      "12/12 [==============================] - 0s 43ms/step - loss: 0.3633 - accuracy: 0.8960 - val_loss: 0.2649 - val_accuracy: 0.9277\n",
      "Epoch 23/50\n",
      "12/12 [==============================] - 0s 36ms/step - loss: 0.3574 - accuracy: 0.8985 - val_loss: 0.2604 - val_accuracy: 0.9293\n",
      "Epoch 24/50\n",
      "12/12 [==============================] - 0s 41ms/step - loss: 0.3495 - accuracy: 0.8999 - val_loss: 0.2561 - val_accuracy: 0.9292\n",
      "Epoch 25/50\n",
      "12/12 [==============================] - 0s 41ms/step - loss: 0.3444 - accuracy: 0.9009 - val_loss: 0.2524 - val_accuracy: 0.9299\n",
      "Epoch 26/50\n",
      "12/12 [==============================] - 0s 41ms/step - loss: 0.3392 - accuracy: 0.9014 - val_loss: 0.2476 - val_accuracy: 0.9314\n",
      "Epoch 27/50\n",
      "12/12 [==============================] - 0s 42ms/step - loss: 0.3316 - accuracy: 0.9040 - val_loss: 0.2458 - val_accuracy: 0.9324\n",
      "Epoch 28/50\n",
      "12/12 [==============================] - 0s 40ms/step - loss: 0.3327 - accuracy: 0.9045 - val_loss: 0.2414 - val_accuracy: 0.9334\n",
      "Epoch 29/50\n",
      "12/12 [==============================] - 0s 37ms/step - loss: 0.3263 - accuracy: 0.9054 - val_loss: 0.2393 - val_accuracy: 0.9341\n",
      "Epoch 30/50\n",
      "12/12 [==============================] - 0s 36ms/step - loss: 0.3177 - accuracy: 0.9075 - val_loss: 0.2357 - val_accuracy: 0.9340\n",
      "Epoch 31/50\n",
      "12/12 [==============================] - 0s 36ms/step - loss: 0.3159 - accuracy: 0.9093 - val_loss: 0.2331 - val_accuracy: 0.9356\n",
      "Epoch 32/50\n",
      "12/12 [==============================] - 0s 35ms/step - loss: 0.3119 - accuracy: 0.9093 - val_loss: 0.2310 - val_accuracy: 0.9359\n",
      "Epoch 33/50\n",
      "12/12 [==============================] - 1s 44ms/step - loss: 0.3070 - accuracy: 0.9126 - val_loss: 0.2277 - val_accuracy: 0.9371\n",
      "Epoch 34/50\n",
      "12/12 [==============================] - 0s 40ms/step - loss: 0.3026 - accuracy: 0.9113 - val_loss: 0.2248 - val_accuracy: 0.9375\n",
      "Epoch 35/50\n",
      "12/12 [==============================] - 0s 39ms/step - loss: 0.3009 - accuracy: 0.9121 - val_loss: 0.2226 - val_accuracy: 0.9385\n",
      "Epoch 36/50\n",
      "12/12 [==============================] - 0s 38ms/step - loss: 0.2979 - accuracy: 0.9144 - val_loss: 0.2203 - val_accuracy: 0.9397\n",
      "Epoch 37/50\n",
      "12/12 [==============================] - 0s 37ms/step - loss: 0.2912 - accuracy: 0.9156 - val_loss: 0.2176 - val_accuracy: 0.9400\n",
      "Epoch 38/50\n",
      "12/12 [==============================] - 0s 38ms/step - loss: 0.2910 - accuracy: 0.9175 - val_loss: 0.2157 - val_accuracy: 0.9406\n",
      "Epoch 39/50\n",
      "12/12 [==============================] - 0s 42ms/step - loss: 0.2851 - accuracy: 0.9179 - val_loss: 0.2135 - val_accuracy: 0.9408\n",
      "Epoch 40/50\n",
      "12/12 [==============================] - 0s 41ms/step - loss: 0.2825 - accuracy: 0.9182 - val_loss: 0.2110 - val_accuracy: 0.9414\n",
      "Epoch 41/50\n",
      "12/12 [==============================] - 1s 45ms/step - loss: 0.2793 - accuracy: 0.9194 - val_loss: 0.2095 - val_accuracy: 0.9419\n",
      "Epoch 42/50\n",
      "12/12 [==============================] - 1s 46ms/step - loss: 0.2790 - accuracy: 0.9193 - val_loss: 0.2078 - val_accuracy: 0.9420\n",
      "Epoch 43/50\n",
      "12/12 [==============================] - 1s 49ms/step - loss: 0.2741 - accuracy: 0.9202 - val_loss: 0.2057 - val_accuracy: 0.9431\n",
      "Epoch 44/50\n",
      "12/12 [==============================] - 1s 44ms/step - loss: 0.2714 - accuracy: 0.9222 - val_loss: 0.2041 - val_accuracy: 0.9430\n",
      "Epoch 45/50\n",
      "12/12 [==============================] - 0s 39ms/step - loss: 0.2680 - accuracy: 0.9214 - val_loss: 0.2017 - val_accuracy: 0.9432\n",
      "Epoch 46/50\n",
      "12/12 [==============================] - 0s 41ms/step - loss: 0.2673 - accuracy: 0.9225 - val_loss: 0.2005 - val_accuracy: 0.9440\n",
      "Epoch 47/50\n",
      "12/12 [==============================] - 0s 36ms/step - loss: 0.2651 - accuracy: 0.9226 - val_loss: 0.1987 - val_accuracy: 0.9445\n",
      "Epoch 48/50\n",
      "12/12 [==============================] - 0s 37ms/step - loss: 0.2624 - accuracy: 0.9232 - val_loss: 0.1977 - val_accuracy: 0.9450\n",
      "Epoch 49/50\n",
      "12/12 [==============================] - 0s 39ms/step - loss: 0.2620 - accuracy: 0.9227 - val_loss: 0.1956 - val_accuracy: 0.9455\n",
      "Epoch 50/50\n",
      "12/12 [==============================] - 0s 34ms/step - loss: 0.2548 - accuracy: 0.9259 - val_loss: 0.1945 - val_accuracy: 0.9457\n"
     ]
    },
    {
     "data": {
      "image/png": "[encoded data removed]",
      "text/plain": [
       "<Figure size 432x288 with 1 Axes>"
      ]
     },
     "metadata": {
      "needs_background": "light"
     },
     "output_type": "display_data"
    }
   ],
   "source": [
    "# The following variables are the hyperparameters.\n",
    "learning_rate = 0.003\n",
    "epochs = 50\n",
    "batch_size = 4000\n",
    "validation_split = 0.2\n",
    "\n",
    "# Establish the model's topography.\n",
    "my_model = create_model(learning_rate)\n",
    "\n",
    "# Train the model on the normalized training set.\n",
    "epochs, hist, history = train_model(my_model, x_train_normalized, y_train, \n",
    "                           epochs, batch_size, validation_split)\n",
    "\n",
    "# Plot a graph of the metric vs. epochs.\n",
    "list_of_metrics_to_plot = ['accuracy']\n",
    "plot_curve(epochs, hist, list_of_metrics_to_plot)"
   ]
  },
  {
   "cell_type": "code",
   "execution_count": null,
   "id": "intellectual-dividend",
   "metadata": {},
   "outputs": [],
   "source": []
  }
 ],
 "metadata": {
  "kernelspec": {
   "display_name": "Python 3",
   "language": "python",
   "name": "python3"
  },
  "language_info": {
   "codemirror_mode": {
    "name": "ipython",
    "version": 3
   },
   "file_extension": ".py",
   "mimetype": "text/x-python",
   "name": "python",
   "nbconvert_exporter": "python",
   "pygments_lexer": "ipython3",
   "version": "3.9.1"
  }
 },
 "nbformat": 4,
 "nbformat_minor": 5
}
