{
 "cells": [
  {
   "cell_type": "markdown",
   "id": "ceramic-farming",
   "metadata": {},
   "source": [
    "### install Facets\n",
    "!pip install facets-overview==1.0.0"
   ]
  },
  {
   "cell_type": "code",
   "execution_count": 2,
   "id": "steady-bahrain",
   "metadata": {},
   "outputs": [],
   "source": [
    "import numpy as np\n",
    "import pandas as pd\n",
    "import matplotlib.pyplot as plt\n",
    "from matplotlib import rcParams\n",
    "\n",
    "import tensorflow as tf\n",
    "from tensorflow.keras import layers\n",
    "from sklearn.model_selection import train_test_split\n",
    "import seaborn as sns"
   ]
  },
  {
   "cell_type": "code",
   "execution_count": 4,
   "id": "korean-capability",
   "metadata": {},
   "outputs": [],
   "source": [
    "pd.options.display.max_rows = 10\n",
    "pd.options.display.float_format = '{:.1f}'.format"
   ]
  },
  {
   "cell_type": "markdown",
   "id": "infectious-better",
   "metadata": {},
   "source": [
    "## Setup"
   ]
  },
  {
   "cell_type": "code",
   "execution_count": 6,
   "id": "recreational-newport",
   "metadata": {},
   "outputs": [],
   "source": [
    "from IPython.core.display import display, HTML\n",
    "import base64\n",
    "from facets_overview.feature_statistics_generator import FeatureStatisticsGenerator"
   ]
  },
  {
   "cell_type": "markdown",
   "id": "handled-bulgaria",
   "metadata": {},
   "source": [
    "### Load the Adult Dataset\n",
    "\n",
    "With the modules now imported, we can load the Adult dataset into a pandas DataFrame data structure."
   ]
  },
  {
   "cell_type": "code",
   "execution_count": 7,
   "id": "positive-moldova",
   "metadata": {},
   "outputs": [
    {
     "name": "stdout",
     "output_type": "stream",
     "text": [
      "Downloading data from https://download.mlcc.google.com/mledu-datasets/adult_census_train.csv\n",
      "3981312/3974305 [==============================] - 1s 0us/step\n"
     ]
    }
   ],
   "source": [
    "COLUMNS = [\"age\", \"workclass\", \"fnlwgt\", \"education\", \"education_num\",\n",
    "           \"marital_status\", \"occupation\", \"relationship\", \"race\", \"gender\",\n",
    "           \"capital_gain\", \"capital_loss\", \"hours_per_week\", \"native_country\",\n",
    "           \"income_bracket\"]\n",
    "train_csv = tf.keras.utils.get_file('adult.data', \n",
    "  'https://download.mlcc.google.com/mledu-datasets/adult_census_train.csv')\n",
    "test_csv = tf.keras.utils.get_file('adult.data',\n",
    "  'https://download.mlcc.google.com/mledu-datasets/adult_census_test.csv')\n",
    "\n",
    "train_df = pd.read_csv(train_csv, names=COLUMNS, sep=r'\\s*,\\s*',\n",
    "                      engine='python', na_values=\"?\")\n",
    "test_df = pd.read_csv(test_csv, names=COLUMNS, sep=r'\\s*,\\s*',\n",
    "                     engine='python', na_values=\"?\")"
   ]
  },
  {
   "cell_type": "code",
   "execution_count": 8,
   "id": "automotive-fraction",
   "metadata": {},
   "outputs": [
    {
     "data": {
      "text/html": [
       "<div>\n",
       "<style scoped>\n",
       "    .dataframe tbody tr th:only-of-type {\n",
       "        vertical-align: middle;\n",
       "    }\n",
       "\n",
       "    .dataframe tbody tr th {\n",
       "        vertical-align: top;\n",
       "    }\n",
       "\n",
       "    .dataframe thead th {\n",
       "        text-align: right;\n",
       "    }\n",
       "</style>\n",
       "<table border=\"1\" class=\"dataframe\">\n",
       "  <thead>\n",
       "    <tr style=\"text-align: right;\">\n",
       "      <th></th>\n",
       "      <th>age</th>\n",
       "      <th>workclass</th>\n",
       "      <th>fnlwgt</th>\n",
       "      <th>education</th>\n",
       "      <th>education_num</th>\n",
       "      <th>marital_status</th>\n",
       "      <th>occupation</th>\n",
       "      <th>relationship</th>\n",
       "      <th>race</th>\n",
       "      <th>gender</th>\n",
       "      <th>capital_gain</th>\n",
       "      <th>capital_loss</th>\n",
       "      <th>hours_per_week</th>\n",
       "      <th>native_country</th>\n",
       "      <th>income_bracket</th>\n",
       "    </tr>\n",
       "  </thead>\n",
       "  <tbody>\n",
       "    <tr>\n",
       "      <th>0</th>\n",
       "      <td>39</td>\n",
       "      <td>State-gov</td>\n",
       "      <td>77516</td>\n",
       "      <td>Bachelors</td>\n",
       "      <td>13</td>\n",
       "      <td>Never-married</td>\n",
       "      <td>Adm-clerical</td>\n",
       "      <td>Not-in-family</td>\n",
       "      <td>White</td>\n",
       "      <td>Male</td>\n",
       "      <td>2174</td>\n",
       "      <td>0</td>\n",
       "      <td>40</td>\n",
       "      <td>United-States</td>\n",
       "      <td>&lt;=50K</td>\n",
       "    </tr>\n",
       "    <tr>\n",
       "      <th>1</th>\n",
       "      <td>50</td>\n",
       "      <td>Self-emp-not-inc</td>\n",
       "      <td>83311</td>\n",
       "      <td>Bachelors</td>\n",
       "      <td>13</td>\n",
       "      <td>Married-civ-spouse</td>\n",
       "      <td>Exec-managerial</td>\n",
       "      <td>Husband</td>\n",
       "      <td>White</td>\n",
       "      <td>Male</td>\n",
       "      <td>0</td>\n",
       "      <td>0</td>\n",
       "      <td>13</td>\n",
       "      <td>United-States</td>\n",
       "      <td>&lt;=50K</td>\n",
       "    </tr>\n",
       "    <tr>\n",
       "      <th>2</th>\n",
       "      <td>38</td>\n",
       "      <td>Private</td>\n",
       "      <td>215646</td>\n",
       "      <td>HS-grad</td>\n",
       "      <td>9</td>\n",
       "      <td>Divorced</td>\n",
       "      <td>Handlers-cleaners</td>\n",
       "      <td>Not-in-family</td>\n",
       "      <td>White</td>\n",
       "      <td>Male</td>\n",
       "      <td>0</td>\n",
       "      <td>0</td>\n",
       "      <td>40</td>\n",
       "      <td>United-States</td>\n",
       "      <td>&lt;=50K</td>\n",
       "    </tr>\n",
       "    <tr>\n",
       "      <th>3</th>\n",
       "      <td>53</td>\n",
       "      <td>Private</td>\n",
       "      <td>234721</td>\n",
       "      <td>11th</td>\n",
       "      <td>7</td>\n",
       "      <td>Married-civ-spouse</td>\n",
       "      <td>Handlers-cleaners</td>\n",
       "      <td>Husband</td>\n",
       "      <td>Black</td>\n",
       "      <td>Male</td>\n",
       "      <td>0</td>\n",
       "      <td>0</td>\n",
       "      <td>40</td>\n",
       "      <td>United-States</td>\n",
       "      <td>&lt;=50K</td>\n",
       "    </tr>\n",
       "    <tr>\n",
       "      <th>4</th>\n",
       "      <td>28</td>\n",
       "      <td>Private</td>\n",
       "      <td>338409</td>\n",
       "      <td>Bachelors</td>\n",
       "      <td>13</td>\n",
       "      <td>Married-civ-spouse</td>\n",
       "      <td>Prof-specialty</td>\n",
       "      <td>Wife</td>\n",
       "      <td>Black</td>\n",
       "      <td>Female</td>\n",
       "      <td>0</td>\n",
       "      <td>0</td>\n",
       "      <td>40</td>\n",
       "      <td>Cuba</td>\n",
       "      <td>&lt;=50K</td>\n",
       "    </tr>\n",
       "  </tbody>\n",
       "</table>\n",
       "</div>"
      ],
      "text/plain": [
       "   age         workclass  fnlwgt  education  education_num  \\\n",
       "0   39         State-gov   77516  Bachelors             13   \n",
       "1   50  Self-emp-not-inc   83311  Bachelors             13   \n",
       "2   38           Private  215646    HS-grad              9   \n",
       "3   53           Private  234721       11th              7   \n",
       "4   28           Private  338409  Bachelors             13   \n",
       "\n",
       "       marital_status         occupation   relationship   race  gender  \\\n",
       "0       Never-married       Adm-clerical  Not-in-family  White    Male   \n",
       "1  Married-civ-spouse    Exec-managerial        Husband  White    Male   \n",
       "2            Divorced  Handlers-cleaners  Not-in-family  White    Male   \n",
       "3  Married-civ-spouse  Handlers-cleaners        Husband  Black    Male   \n",
       "4  Married-civ-spouse     Prof-specialty           Wife  Black  Female   \n",
       "\n",
       "   capital_gain  capital_loss  hours_per_week native_country income_bracket  \n",
       "0          2174             0              40  United-States          <=50K  \n",
       "1             0             0              13  United-States          <=50K  \n",
       "2             0             0              40  United-States          <=50K  \n",
       "3             0             0              40  United-States          <=50K  \n",
       "4             0             0              40           Cuba          <=50K  "
      ]
     },
     "execution_count": 8,
     "metadata": {},
     "output_type": "execute_result"
    }
   ],
   "source": [
    "train_df.head()"
   ]
  },
  {
   "cell_type": "markdown",
   "id": "disabled-still",
   "metadata": {},
   "source": [
    "## Analyzing the Adult Dataset with Facets\n",
    "\n",
    "As mentioned in MLCC, it is important to understand your dataset *before* diving straight into the prediction task. \n",
    "\n",
    "Some important questions to investigate when auditing a dataset for fairness:\n",
    "\n",
    "* **Are there missing feature values for a large number of observations?**\n",
    "* **Are there features that are missing that might affect other features?**\n",
    "* **Are there any unexpected feature values?**\n",
    "* **What signs of data skew do you see?**"
   ]
  },
  {
   "cell_type": "markdown",
   "id": "legendary-liberal",
   "metadata": {},
   "source": [
    "## Visualize the Data in Facets"
   ]
  },
  {
   "cell_type": "code",
   "execution_count": 9,
   "id": "korean-novel",
   "metadata": {},
   "outputs": [
    {
     "data": {
      "text/html": [
       "<script src=\"https://cdnjs.cloudflare.com/ajax/libs/webcomponentsjs/1.3.3/webcomponents-lite.js\"></script>\n",
       "        <link rel=\"import\" href=\"https://raw.githubusercontent.com/PAIR-code/facets/1.0.0/facets-dist/facets-jupyter.html\">\n",
       "        <facets-overview id=\"elem\"></facets-overview>\n",
       "        <script>\n",
       "          document.querySelector(\"#elem\").protoInput = \"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\";\n",
       "        </script>"
      ],
      "text/plain": [
       "<IPython.core.display.HTML object>"
      ]
     },
     "metadata": {},
     "output_type": "display_data"
    }
   ],
   "source": [
    "fsg = FeatureStatisticsGenerator()\n",
    "dataframes = [\n",
    "    {'table': train_df, 'name':'trainData'} ]\n",
    "censusProto = fsg.ProtoFromDataFrames(dataframes)\n",
    "protostr = base64.b64encode(censusProto.SerializeToString()).decode('utf-8')\n",
    "\n",
    "HTML_TEMPLATE = \"\"\"<script src=\"https://cdnjs.cloudflare.com/ajax/libs/webcomponentsjs/1.3.3/webcomponents-lite.js\"></script>\n",
    "        <link rel=\"import\" href=\"https://raw.githubusercontent.com/PAIR-code/facets/1.0.0/facets-dist/facets-jupyter.html\">\n",
    "        <facets-overview id=\"elem\"></facets-overview>\n",
    "        <script>\n",
    "          document.querySelector(\"#elem\").protoInput = \"{protostr}\";\n",
    "        </script>\"\"\"\n",
    "html = HTML_TEMPLATE.format(protostr=protostr)\n",
    "display(HTML(html))"
   ]
  },
  {
   "cell_type": "markdown",
   "id": "fancy-anatomy",
   "metadata": {},
   "source": [
    "### FairAware Task #1\n",
    "\n",
    "Review the descriptive statistics and histograms for each numerical and continuous feature. Click the **Show Raw Data** button above the histograms for categorical features to see the distribution of values per category.\n",
    "\n",
    "Then, try to answer the following questions from earlier:\n",
    "\n",
    "1. Are there missing feature values for a large number of observations?\n",
    "2. Are there features that are missing that might affect other features?\n",
    "3. Are there any unexpected feature values?\n",
    "4. What signs of data skew do you see?"
   ]
  },
  {
   "cell_type": "code",
   "execution_count": null,
   "id": "joined-villa",
   "metadata": {},
   "outputs": [],
   "source": []
  }
 ],
 "metadata": {
  "kernelspec": {
   "display_name": "Python 3",
   "language": "python",
   "name": "python3"
  },
  "language_info": {
   "codemirror_mode": {
    "name": "ipython",
    "version": 3
   },
   "file_extension": ".py",
   "mimetype": "text/x-python",
   "name": "python",
   "nbconvert_exporter": "python",
   "pygments_lexer": "ipython3",
   "version": "3.9.1"
  }
 },
 "nbformat": 4,
 "nbformat_minor": 5
}
