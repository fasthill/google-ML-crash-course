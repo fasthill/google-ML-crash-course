{
 "cells": [
  {
   "cell_type": "markdown",
   "id": "elect-hindu",
   "metadata": {},
   "source": [
    "## Call the import statements"
   ]
  },
  {
   "cell_type": "code",
   "execution_count": 1,
   "id": "express-newcastle",
   "metadata": {},
   "outputs": [],
   "source": [
    "import numpy as np\n",
    "import pandas as pd\n",
    "import tensorflow as tf\n",
    "from tensorflow import feature_column\n",
    "from tensorflow.keras import layers\n",
    "\n",
    "import matplotlib.pyplot as plt"
   ]
  },
  {
   "cell_type": "code",
   "execution_count": 2,
   "id": "coated-jefferson",
   "metadata": {},
   "outputs": [],
   "source": [
    "pd.options.display.max_rows=10\n",
    "pd.options.display.float_format = '{:.1f}'.format"
   ]
  },
  {
   "cell_type": "code",
   "execution_count": 3,
   "id": "further-immune",
   "metadata": {},
   "outputs": [],
   "source": [
    "tf.keras.backend.set_floatx('float32') # set defaults float type"
   ]
  },
  {
   "cell_type": "markdown",
   "id": "collected-haven",
   "metadata": {},
   "source": [
    "## Load, scale, and shuffle the examples"
   ]
  },
  {
   "cell_type": "code",
   "execution_count": 4,
   "id": "restricted-houston",
   "metadata": {},
   "outputs": [],
   "source": [
    "# Load the dataset\n",
    "train_df = pd.read_csv(\"https://download.mlcc.google.com/mledu-datasets/california_housing_train.csv\")\n",
    "test_df = pd.read_csv(\"https://download.mlcc.google.com/mledu-datasets/california_housing_test.csv\")"
   ]
  },
  {
   "cell_type": "code",
   "execution_count": 5,
   "id": "hourly-authority",
   "metadata": {},
   "outputs": [
    {
     "data": {
      "text/plain": [
       "longitude              -117.9\n",
       "latitude                 33.8\n",
       "housing_median_age       34.0\n",
       "total_rooms             988.0\n",
       "total_bedrooms          173.0\n",
       "population              759.0\n",
       "households              184.0\n",
       "median_income             5.6\n",
       "median_house_value   205100.0\n",
       "Name: 3664, dtype: float64"
      ]
     },
     "execution_count": 5,
     "metadata": {},
     "output_type": "execute_result"
    }
   ],
   "source": [
    "train_df.iloc[3664]"
   ]
  },
  {
   "cell_type": "code",
   "execution_count": 6,
   "id": "heard-journey",
   "metadata": {},
   "outputs": [],
   "source": [
    "scale_factor = 1000\n",
    "train_df['median_house_value'] = train_df['median_house_value'] / scale_factor\n",
    "test_df['median_house_value'] /= scale_factor"
   ]
  },
  {
   "cell_type": "code",
   "execution_count": 7,
   "id": "different-booth",
   "metadata": {},
   "outputs": [],
   "source": [
    "train_df = train_df.sample(frac=1) # or\n",
    "train_df = train_df.reindex(np.random.permutation(train_df.index))"
   ]
  },
  {
   "cell_type": "markdown",
   "id": "proper-warning",
   "metadata": {},
   "source": [
    "## Represent latitude and longitude as floating-point values"
   ]
  },
  {
   "cell_type": "code",
   "execution_count": 8,
   "id": "stuck-branch",
   "metadata": {},
   "outputs": [],
   "source": [
    "# Create an empty list that will eventually hold all feature columns.\n",
    "feature_columns = []"
   ]
  },
  {
   "cell_type": "code",
   "execution_count": 9,
   "id": "regional-perception",
   "metadata": {},
   "outputs": [],
   "source": [
    "# Create a numerical feature column to represent latitude.\n",
    "latitude = tf.feature_column.numeric_column('latitude')\n",
    "feature_columns.append(latitude)"
   ]
  },
  {
   "cell_type": "code",
   "execution_count": 10,
   "id": "committed-dictionary",
   "metadata": {},
   "outputs": [],
   "source": [
    "# Create a numerical feature column to represent longitude.\n",
    "longitude = tf.feature_column.numeric_column('longitude')\n",
    "feature_columns.append(longitude)"
   ]
  },
  {
   "cell_type": "code",
   "execution_count": 11,
   "id": "official-iceland",
   "metadata": {},
   "outputs": [
    {
     "data": {
      "text/plain": [
       "2"
      ]
     },
     "execution_count": 11,
     "metadata": {},
     "output_type": "execute_result"
    }
   ],
   "source": [
    "len(feature_columns)"
   ]
  },
  {
   "cell_type": "code",
   "execution_count": 12,
   "id": "pending-daily",
   "metadata": {},
   "outputs": [],
   "source": [
    "# Convert the list of feature columns into a layer that will ultimately become\n",
    "# part of the model. Understanding layers is not important right now.\n",
    "fp_feature_layer = layers.DenseFeatures(feature_columns)"
   ]
  },
  {
   "cell_type": "markdown",
   "id": "amino-swift",
   "metadata": {},
   "source": [
    "## what happened inside feature_layer?"
   ]
  },
  {
   "cell_type": "code",
   "execution_count": 13,
   "id": "underlying-jones",
   "metadata": {},
   "outputs": [],
   "source": [
    "tdf1 = train_df.to_dict() #ordereddict"
   ]
  },
  {
   "cell_type": "code",
   "execution_count": 14,
   "id": "enclosed-equipment",
   "metadata": {},
   "outputs": [],
   "source": [
    "tdf1['latitude'] = tdf1['latitude'].values() # convert to list by removing index"
   ]
  },
  {
   "cell_type": "code",
   "execution_count": 15,
   "id": "relevant-diamond",
   "metadata": {},
   "outputs": [],
   "source": [
    "tdf1['longitude'] = tdf1['longitude'].values()"
   ]
  },
  {
   "cell_type": "code",
   "execution_count": 16,
   "id": "ecological-beaver",
   "metadata": {},
   "outputs": [
    {
     "data": {
      "text/plain": [
       "<tf.Tensor: shape=(17000, 2), dtype=float32, numpy=\n",
       "array([[  34.07, -118.11],\n",
       "       [  39.73, -121.82],\n",
       "       [  38.03, -121.97],\n",
       "       ...,\n",
       "       [  33.69, -116.39],\n",
       "       [  34.12, -118.15],\n",
       "       [  37.79, -122.24]], dtype=float32)>"
      ]
     },
     "execution_count": 16,
     "metadata": {},
     "output_type": "execute_result"
    }
   ],
   "source": [
    "fp_feature_layer(tdf1)"
   ]
  },
  {
   "cell_type": "markdown",
   "id": "appreciated-microwave",
   "metadata": {},
   "source": [
    "## Define functions that create and train a model, and a plotting function"
   ]
  },
  {
   "cell_type": "code",
   "execution_count": 17,
   "id": "packed-satisfaction",
   "metadata": {},
   "outputs": [],
   "source": [
    "def create_model(my_learning_rate, feature_layer):\n",
    "    model = tf.keras.models.Sequential()\n",
    "    # Add the layer containing the feature columns to the model.\n",
    "    model.add(feature_layer)\n",
    "    # Add one linear layer to the model to yield a simple linear regressor.\n",
    "    model.add(tf.keras.layers.Dense(units=1, input_shape=(1,)))\n",
    "    model.compile(optimizer=tf.keras.optimizers.RMSprop(learning_rate=my_learning_rate),\n",
    "                 loss='mean_squared_error',\n",
    "                 metrics=[tf.keras.metrics.RootMeanSquaredError()])\n",
    "    return model"
   ]
  },
  {
   "cell_type": "code",
   "execution_count": 18,
   "id": "sixth-wagner",
   "metadata": {},
   "outputs": [],
   "source": [
    "def train_model(model, dataset, epochs, batch_size, label_name):\n",
    "    features = {name:np.array(value) for name, value in dataset.items()}\n",
    "    label = np.array(features.pop(label_name))\n",
    "    history = model.fit(x=features, y=label, batch_size=batch_size,\n",
    "                       epochs=epochs, shuffle=True)\n",
    "    \n",
    "    # The list of epochs is stored separately from the rest of history.\n",
    "    epochs = history.epoch\n",
    "    \n",
    "    # Isolate the mean absolute error for each epoch.\n",
    "    hist = pd.DataFrame(history.history)\n",
    "    rmse = hist['root_mean_squared_error']\n",
    "    \n",
    "    return epochs, rmse"
   ]
  },
  {
   "cell_type": "code",
   "execution_count": 19,
   "id": "phantom-spirituality",
   "metadata": {},
   "outputs": [
    {
     "name": "stdout",
     "output_type": "stream",
     "text": [
      "Defined the create_model, train_model, and plot_the_loss-curve functions\n"
     ]
    }
   ],
   "source": [
    "def plot_the_loss_curve(epochs, rmse):\n",
    "    plt.figure()\n",
    "    plt.xlabel('Epoch')\n",
    "    plt.ylabel('Root Mean Squared Error')\n",
    "    \n",
    "    plt.plot(epochs, rmse, label='Loss')\n",
    "    plt.legend()\n",
    "    plt.ylim([rmse.min()*0.94, rmse.max()*1.05])\n",
    "    plt.show()\n",
    "    \n",
    "print('Defined the create_model, train_model, and plot_the_loss-curve functions')"
   ]
  },
  {
   "cell_type": "markdown",
   "id": "realistic-salmon",
   "metadata": {},
   "source": [
    "## Train the model with floating-point representations"
   ]
  },
  {
   "cell_type": "code",
   "execution_count": 20,
   "id": "comfortable-congo",
   "metadata": {},
   "outputs": [
    {
     "name": "stdout",
     "output_type": "stream",
     "text": [
      "Epoch 1/30\n",
      "WARNING:tensorflow:Layers in a Sequential model should only have a single input tensor, but we receive a <class 'dict'> input: {'longitude': <tf.Tensor 'ExpandDims_3:0' shape=(100, 1) dtype=float32>, 'latitude': <tf.Tensor 'ExpandDims_2:0' shape=(100, 1) dtype=float32>, 'housing_median_age': <tf.Tensor 'ExpandDims_1:0' shape=(100, 1) dtype=float32>, 'total_rooms': <tf.Tensor 'ExpandDims_7:0' shape=(100, 1) dtype=float32>, 'total_bedrooms': <tf.Tensor 'ExpandDims_6:0' shape=(100, 1) dtype=float32>, 'population': <tf.Tensor 'ExpandDims_5:0' shape=(100, 1) dtype=float32>, 'households': <tf.Tensor 'ExpandDims:0' shape=(100, 1) dtype=float32>, 'median_income': <tf.Tensor 'ExpandDims_4:0' shape=(100, 1) dtype=float32>}\n",
      "Consider rewriting this model with the Functional API.\n",
      "WARNING:tensorflow:Layers in a Sequential model should only have a single input tensor, but we receive a <class 'dict'> input: {'longitude': <tf.Tensor 'ExpandDims_3:0' shape=(100, 1) dtype=float32>, 'latitude': <tf.Tensor 'ExpandDims_2:0' shape=(100, 1) dtype=float32>, 'housing_median_age': <tf.Tensor 'ExpandDims_1:0' shape=(100, 1) dtype=float32>, 'total_rooms': <tf.Tensor 'ExpandDims_7:0' shape=(100, 1) dtype=float32>, 'total_bedrooms': <tf.Tensor 'ExpandDims_6:0' shape=(100, 1) dtype=float32>, 'population': <tf.Tensor 'ExpandDims_5:0' shape=(100, 1) dtype=float32>, 'households': <tf.Tensor 'ExpandDims:0' shape=(100, 1) dtype=float32>, 'median_income': <tf.Tensor 'ExpandDims_4:0' shape=(100, 1) dtype=float32>}\n",
      "Consider rewriting this model with the Functional API.\n",
      "170/170 [==============================] - 1s 2ms/step - loss: 13963.1445 - root_mean_squared_error: 118.1657\n",
      "Epoch 2/30\n",
      "170/170 [==============================] - 0s 2ms/step - loss: 13471.8672 - root_mean_squared_error: 116.0684\n",
      "Epoch 3/30\n",
      "170/170 [==============================] - 0s 2ms/step - loss: 13442.6748 - root_mean_squared_error: 115.9426A: 0s - loss: 13719.5391 - root_mean_squared_error: 11\n",
      "Epoch 4/30\n",
      "170/170 [==============================] - 0s 2ms/step - loss: 13381.9473 - root_mean_squared_error: 115.6804\n",
      "Epoch 5/30\n",
      "170/170 [==============================] - 0s 2ms/step - loss: 13342.4707 - root_mean_squared_error: 115.5096\n",
      "Epoch 6/30\n",
      "170/170 [==============================] - 0s 2ms/step - loss: 13299.4121 - root_mean_squared_error: 115.3231\n",
      "Epoch 7/30\n",
      "170/170 [==============================] - 0s 2ms/step - loss: 13268.6084 - root_mean_squared_error: 115.1894\n",
      "Epoch 8/30\n",
      "170/170 [==============================] - 0s 2ms/step - loss: 13220.7275 - root_mean_squared_error: 114.9814\n",
      "Epoch 9/30\n",
      "170/170 [==============================] - 0s 3ms/step - loss: 13195.5225 - root_mean_squared_error: 114.8718\n",
      "Epoch 10/30\n",
      "170/170 [==============================] - 0s 2ms/step - loss: 13170.2832 - root_mean_squared_error: 114.7619\n",
      "Epoch 11/30\n",
      "170/170 [==============================] - 0s 2ms/step - loss: 13138.0918 - root_mean_squared_error: 114.6215\n",
      "Epoch 12/30\n",
      "170/170 [==============================] - 0s 3ms/step - loss: 13120.8574 - root_mean_squared_error: 114.5463\n",
      "Epoch 13/30\n",
      "170/170 [==============================] - 0s 2ms/step - loss: 13088.4277 - root_mean_squared_error: 114.4047\n",
      "Epoch 14/30\n",
      "170/170 [==============================] - 0s 2ms/step - loss: 13063.5039 - root_mean_squared_error: 114.2957\n",
      "Epoch 15/30\n",
      "170/170 [==============================] - 0s 2ms/step - loss: 13046.9912 - root_mean_squared_error: 114.2234\n",
      "Epoch 16/30\n",
      "170/170 [==============================] - 0s 2ms/step - loss: 13004.2432 - root_mean_squared_error: 114.0361\n",
      "Epoch 17/30\n",
      "170/170 [==============================] - 0s 2ms/step - loss: 13008.4229 - root_mean_squared_error: 114.0545\n",
      "Epoch 18/30\n",
      "170/170 [==============================] - 0s 2ms/step - loss: 12986.3047 - root_mean_squared_error: 113.9575\n",
      "Epoch 19/30\n",
      "170/170 [==============================] - 0s 2ms/step - loss: 12967.9316 - root_mean_squared_error: 113.8768\n",
      "Epoch 20/30\n",
      "170/170 [==============================] - 0s 2ms/step - loss: 12954.8896 - root_mean_squared_error: 113.8195\n",
      "Epoch 21/30\n",
      "170/170 [==============================] - 0s 2ms/step - loss: 12935.8057 - root_mean_squared_error: 113.7357\n",
      "Epoch 22/30\n",
      "170/170 [==============================] - 0s 2ms/step - loss: 12908.8203 - root_mean_squared_error: 113.6170\n",
      "Epoch 23/30\n",
      "170/170 [==============================] - 1s 4ms/step - loss: 12908.8223 - root_mean_squared_error: 113.6170\n",
      "Epoch 24/30\n",
      "170/170 [==============================] - 0s 3ms/step - loss: 12893.4980 - root_mean_squared_error: 113.5495\n",
      "Epoch 25/30\n",
      "170/170 [==============================] - 0s 3ms/step - loss: 12883.6816 - root_mean_squared_error: 113.5063\n",
      "Epoch 26/30\n",
      "170/170 [==============================] - 1s 4ms/step - loss: 12870.8320 - root_mean_squared_error: 113.4497\n",
      "Epoch 27/30\n",
      "170/170 [==============================] - 1s 3ms/step - loss: 12872.7461 - root_mean_squared_error: 113.4581A: 0s - loss: 12860.8408 - root_mean_squared_error: 113.40\n",
      "Epoch 28/30\n",
      "170/170 [==============================] - 0s 3ms/step - loss: 12852.6387 - root_mean_squared_error: 113.3695\n",
      "Epoch 29/30\n",
      "170/170 [==============================] - 0s 2ms/step - loss: 12855.0781 - root_mean_squared_error: 113.3802\n",
      "Epoch 30/30\n",
      "170/170 [==============================] - 0s 2ms/step - loss: 12839.3174 - root_mean_squared_error: 113.3107\n"
     ]
    },
    {
     "data": {
      "image/png": "[encoded data removed]",
      "text/plain": [
       "<Figure size 432x288 with 1 Axes>"
      ]
     },
     "metadata": {
      "needs_background": "light"
     },
     "output_type": "display_data"
    },
    {
     "name": "stdout",
     "output_type": "stream",
     "text": [
      "\n",
      ": Evaluate the new model against the test set:\n",
      "WARNING:tensorflow:Layers in a Sequential model should only have a single input tensor, but we receive a <class 'dict'> input: {'longitude': <tf.Tensor 'ExpandDims_3:0' shape=(100, 1) dtype=float32>, 'latitude': <tf.Tensor 'ExpandDims_2:0' shape=(100, 1) dtype=float32>, 'housing_median_age': <tf.Tensor 'ExpandDims_1:0' shape=(100, 1) dtype=float32>, 'total_rooms': <tf.Tensor 'ExpandDims_7:0' shape=(100, 1) dtype=float32>, 'total_bedrooms': <tf.Tensor 'ExpandDims_6:0' shape=(100, 1) dtype=float32>, 'population': <tf.Tensor 'ExpandDims_5:0' shape=(100, 1) dtype=float32>, 'households': <tf.Tensor 'ExpandDims:0' shape=(100, 1) dtype=float32>, 'median_income': <tf.Tensor 'ExpandDims_4:0' shape=(100, 1) dtype=float32>}\n",
      "Consider rewriting this model with the Functional API.\n",
      "30/30 [==============================] - 0s 2ms/step - loss: 12178.5215 - root_mean_squared_error: 110.3563\n"
     ]
    },
    {
     "data": {
      "text/plain": [
       "[12178.521484375, 110.35633850097656]"
      ]
     },
     "execution_count": 20,
     "metadata": {},
     "output_type": "execute_result"
    }
   ],
   "source": [
    "# The following variables are the hyperparameters.\n",
    "learning_rate = 0.05\n",
    "epochs = 30\n",
    "batch_size = 100\n",
    "label_name = 'median_house_value'\n",
    "\n",
    "# Create and compile the model's topography.\n",
    "my_model = create_model(learning_rate, fp_feature_layer)\n",
    "\n",
    "# Train the model on the training set.\n",
    "epochs, rmse = train_model(my_model, train_df, epochs, batch_size, label_name)\n",
    "\n",
    "plot_the_loss_curve(epochs, rmse)\n",
    "\n",
    "print('\\n: Evaluate the new model against the test set:')\n",
    "test_features = {name:np.array(value) for name, value in test_df.items()}\n",
    "test_label = np.array(test_features.pop(label_name))\n",
    "my_model.evaluate(x=test_features, y=test_label, batch_size=batch_size)"
   ]
  },
  {
   "cell_type": "markdown",
   "id": "representative-christianity",
   "metadata": {},
   "source": [
    "## tf.feature_column.numeric_column"
   ]
  },
  {
   "cell_type": "code",
   "execution_count": 21,
   "id": "solar-julian",
   "metadata": {},
   "outputs": [],
   "source": [
    "data = {'a': [15, 9, 17, 19, 21, 18, 25, 30],\n",
    "   'b': [5.0, 6.4, 10.5, 13.6, 15.7, 19.9, 20.3 , 0.0]}"
   ]
  },
  {
   "cell_type": "code",
   "execution_count": 22,
   "id": "simple-refund",
   "metadata": {},
   "outputs": [],
   "source": [
    "a = tf.feature_column.numeric_column('a')\n",
    "b = tf.feature_column.numeric_column('b')"
   ]
  },
  {
   "cell_type": "code",
   "execution_count": 23,
   "id": "large-elder",
   "metadata": {},
   "outputs": [],
   "source": [
    "a_buckets = tf.feature_column.bucketized_column(a,\n",
    "   boundaries=[10, 15, 20, 25, 30])"
   ]
  },
  {
   "cell_type": "code",
   "execution_count": 24,
   "id": "catholic-master",
   "metadata": {},
   "outputs": [
    {
     "name": "stdout",
     "output_type": "stream",
     "text": [
      "tf.Tensor(\n",
      "[[15.   5. ]\n",
      " [ 9.   6.4]\n",
      " [17.  10.5]\n",
      " [19.  13.6]\n",
      " [21.  15.7]\n",
      " [18.  19.9]\n",
      " [25.  20.3]\n",
      " [30.   0. ]], shape=(8, 2), dtype=float32)\n"
     ]
    }
   ],
   "source": [
    "feature_layer = tf.keras.layers.DenseFeatures([a, b])\n",
    "print(feature_layer(data))"
   ]
  },
  {
   "cell_type": "code",
   "execution_count": 25,
   "id": "classical-chrome",
   "metadata": {},
   "outputs": [
    {
     "name": "stdout",
     "output_type": "stream",
     "text": [
      "tf.Tensor(\n",
      "[[ 0.   0.   1.   0.   0.   0.   5. ]\n",
      " [ 1.   0.   0.   0.   0.   0.   6.4]\n",
      " [ 0.   0.   1.   0.   0.   0.  10.5]\n",
      " [ 0.   0.   1.   0.   0.   0.  13.6]\n",
      " [ 0.   0.   0.   1.   0.   0.  15.7]\n",
      " [ 0.   0.   1.   0.   0.   0.  19.9]\n",
      " [ 0.   0.   0.   0.   1.   0.  20.3]\n",
      " [ 0.   0.   0.   0.   0.   1.   0. ]], shape=(8, 7), dtype=float32)\n"
     ]
    }
   ],
   "source": [
    "feature_layer = tf.keras.layers.DenseFeatures([a_buckets, b])\n",
    "print(feature_layer(data))"
   ]
  },
  {
   "cell_type": "code",
   "execution_count": 26,
   "id": "harmful-central",
   "metadata": {},
   "outputs": [
    {
     "name": "stdout",
     "output_type": "stream",
     "text": [
      "tf.Tensor(\n",
      "[[0. 0. 1. 0. 0. 0.]\n",
      " [1. 0. 0. 0. 0. 0.]\n",
      " [0. 0. 1. 0. 0. 0.]\n",
      " [0. 0. 1. 0. 0. 0.]\n",
      " [0. 0. 0. 1. 0. 0.]\n",
      " [0. 0. 1. 0. 0. 0.]\n",
      " [0. 0. 0. 0. 1. 0.]\n",
      " [0. 0. 0. 0. 0. 1.]], shape=(8, 6), dtype=float32)\n"
     ]
    }
   ],
   "source": [
    "feature_layer = tf.keras.layers.DenseFeatures([a_buckets])\n",
    "print(feature_layer(data))"
   ]
  },
  {
   "cell_type": "markdown",
   "id": "declared-mineral",
   "metadata": {},
   "source": [
    "## Task 1: Why aren't floating-point values a good way to represent latitude and longitude?"
   ]
  },
  {
   "cell_type": "markdown",
   "id": "concrete-village",
   "metadata": {},
   "source": [
    "@title Double-click to view an answer to Task 1.\n",
    "\n",
    "No. Representing latitude and longitude as floating-point values does not have much predictive power. For example, neighborhoods at latitude 35 are not 36/35 more valuable (or 35/36 less valuable) than houses at latitude 36.\n",
    "\n",
    "Representing `latitude` and `longitude` as floating-point values provides almost no \n",
    "predictive power. We're only using the raw values to establish a baseline for future experiments \n",
    "with better representations."
   ]
  },
  {
   "cell_type": "markdown",
   "id": "returning-bench",
   "metadata": {},
   "source": [
    "## Represent latitude and longitude in buckets"
   ]
  },
  {
   "cell_type": "code",
   "execution_count": 27,
   "id": "operational-manchester",
   "metadata": {},
   "outputs": [],
   "source": [
    "resolution_in_degrees = 1.0\n",
    "\n",
    "# Create a new empty list that will eventually hold the generated feature column.\n",
    "feature_columns = []\n",
    "\n",
    "# Create a bucket feature column for latitude\n",
    "# Create a bucket feature column for latitude.\n",
    "latitude_as_a_numeric_column = tf.feature_column.numeric_column(\"latitude\")\n",
    "latitude_boundaries = list(np.arange(int(min(train_df['latitude'])), \n",
    "                                     int(max(train_df['latitude'])), \n",
    "                                     resolution_in_degrees))\n",
    "latitude = tf.feature_column.bucketized_column(latitude_as_a_numeric_column, \n",
    "                                               latitude_boundaries)\n",
    "feature_columns.append(latitude)\n",
    "\n",
    "# Create a bucket feature column for longitude.\n",
    "longitude_as_a_numeric_column = tf.feature_column.numeric_column(\"longitude\")\n",
    "longitude_boundaries = list(np.arange(int(min(train_df['longitude'])), \n",
    "                                      int(max(train_df['longitude'])), \n",
    "                                      resolution_in_degrees))\n",
    "longitude = tf.feature_column.bucketized_column(longitude_as_a_numeric_column, \n",
    "                                                longitude_boundaries)\n",
    "feature_columns.append(longitude)\n",
    "\n",
    "# Convert the list of feature columns into a layer that will ultimately become\n",
    "# part of the model. Understanding layers is not important right now.\n",
    "\n",
    "buckets_feature_layer = layers.DenseFeatures(feature_columns)"
   ]
  },
  {
   "cell_type": "markdown",
   "id": "sixth-insert",
   "metadata": {},
   "source": [
    "## Train the model with bucket representations"
   ]
  },
  {
   "cell_type": "code",
   "execution_count": 28,
   "id": "spanish-calibration",
   "metadata": {},
   "outputs": [
    {
     "name": "stdout",
     "output_type": "stream",
     "text": [
      "Epoch 1/35\n",
      "WARNING:tensorflow:Layers in a Sequential model should only have a single input tensor, but we receive a <class 'dict'> input: {'longitude': <tf.Tensor 'ExpandDims_3:0' shape=(100, 1) dtype=float32>, 'latitude': <tf.Tensor 'ExpandDims_2:0' shape=(100, 1) dtype=float32>, 'housing_median_age': <tf.Tensor 'ExpandDims_1:0' shape=(100, 1) dtype=float32>, 'total_rooms': <tf.Tensor 'ExpandDims_7:0' shape=(100, 1) dtype=float32>, 'total_bedrooms': <tf.Tensor 'ExpandDims_6:0' shape=(100, 1) dtype=float32>, 'population': <tf.Tensor 'ExpandDims_5:0' shape=(100, 1) dtype=float32>, 'households': <tf.Tensor 'ExpandDims:0' shape=(100, 1) dtype=float32>, 'median_income': <tf.Tensor 'ExpandDims_4:0' shape=(100, 1) dtype=float32>}\n",
      "Consider rewriting this model with the Functional API.\n",
      "WARNING:tensorflow:Layers in a Sequential model should only have a single input tensor, but we receive a <class 'dict'> input: {'longitude': <tf.Tensor 'ExpandDims_3:0' shape=(100, 1) dtype=float32>, 'latitude': <tf.Tensor 'ExpandDims_2:0' shape=(100, 1) dtype=float32>, 'housing_median_age': <tf.Tensor 'ExpandDims_1:0' shape=(100, 1) dtype=float32>, 'total_rooms': <tf.Tensor 'ExpandDims_7:0' shape=(100, 1) dtype=float32>, 'total_bedrooms': <tf.Tensor 'ExpandDims_6:0' shape=(100, 1) dtype=float32>, 'population': <tf.Tensor 'ExpandDims_5:0' shape=(100, 1) dtype=float32>, 'households': <tf.Tensor 'ExpandDims:0' shape=(100, 1) dtype=float32>, 'median_income': <tf.Tensor 'ExpandDims_4:0' shape=(100, 1) dtype=float32>}\n",
      "Consider rewriting this model with the Functional API.\n",
      "170/170 [==============================] - 1s 2ms/step - loss: 52165.1055 - root_mean_squared_error: 228.3968\n",
      "Epoch 2/35\n",
      "170/170 [==============================] - 0s 2ms/step - loss: 44763.5117 - root_mean_squared_error: 211.5739\n",
      "Epoch 3/35\n",
      "170/170 [==============================] - 0s 2ms/step - loss: 38167.8438 - root_mean_squared_error: 195.3659\n",
      "Epoch 4/35\n",
      "170/170 [==============================] - 1s 3ms/step - loss: 32321.6758 - root_mean_squared_error: 179.7823\n",
      "Epoch 5/35\n",
      "170/170 [==============================] - 0s 3ms/step - loss: 27311.0879 - root_mean_squared_error: 165.2607\n",
      "Epoch 6/35\n",
      "170/170 [==============================] - 0s 3ms/step - loss: 23044.8652 - root_mean_squared_error: 151.8054\n",
      "Epoch 7/35\n",
      "170/170 [==============================] - 0s 2ms/step - loss: 19522.1035 - root_mean_squared_error: 139.7215\n",
      "Epoch 8/35\n",
      "170/170 [==============================] - 0s 2ms/step - loss: 16705.7949 - root_mean_squared_error: 129.2509\n",
      "Epoch 9/35\n",
      "170/170 [==============================] - 0s 3ms/step - loss: 14549.7178 - root_mean_squared_error: 120.6222\n",
      "Epoch 10/35\n",
      "170/170 [==============================] - 0s 2ms/step - loss: 12992.0479 - root_mean_squared_error: 113.9827A: 0s - loss: 13020.0400 - root_mean_squared_error: 114.105\n",
      "Epoch 11/35\n",
      "170/170 [==============================] - 0s 3ms/step - loss: 11948.0537 - root_mean_squared_error: 109.3072\n",
      "Epoch 12/35\n",
      "170/170 [==============================] - 0s 2ms/step - loss: 11323.9414 - root_mean_squared_error: 106.4140\n",
      "Epoch 13/35\n",
      "170/170 [==============================] - 0s 3ms/step - loss: 10982.0879 - root_mean_squared_error: 104.7955\n",
      "Epoch 14/35\n",
      "170/170 [==============================] - 0s 2ms/step - loss: 10792.1982 - root_mean_squared_error: 103.8855\n",
      "Epoch 15/35\n",
      "170/170 [==============================] - 0s 2ms/step - loss: 10674.2520 - root_mean_squared_error: 103.3163\n",
      "Epoch 16/35\n",
      "170/170 [==============================] - 0s 2ms/step - loss: 10600.1201 - root_mean_squared_error: 102.9569\n",
      "Epoch 17/35\n",
      "170/170 [==============================] - 0s 2ms/step - loss: 10551.6680 - root_mean_squared_error: 102.7213\n",
      "Epoch 18/35\n",
      "170/170 [==============================] - 0s 2ms/step - loss: 10518.2363 - root_mean_squared_error: 102.5585\n",
      "Epoch 19/35\n",
      "170/170 [==============================] - 0s 2ms/step - loss: 10494.8271 - root_mean_squared_error: 102.4443\n",
      "Epoch 20/35\n",
      "170/170 [==============================] - 0s 2ms/step - loss: 10477.1689 - root_mean_squared_error: 102.3580\n",
      "Epoch 21/35\n",
      "170/170 [==============================] - 1s 3ms/step - loss: 10462.7061 - root_mean_squared_error: 102.2874\n",
      "Epoch 22/35\n",
      "170/170 [==============================] - 0s 3ms/step - loss: 10449.9453 - root_mean_squared_error: 102.2250\n",
      "Epoch 23/35\n",
      "170/170 [==============================] - 1s 3ms/step - loss: 10438.3174 - root_mean_squared_error: 102.1681\n",
      "Epoch 24/35\n",
      "170/170 [==============================] - 0s 2ms/step - loss: 10427.9834 - root_mean_squared_error: 102.1175\n",
      "Epoch 25/35\n",
      "170/170 [==============================] - 0s 3ms/step - loss: 10418.0947 - root_mean_squared_error: 102.0691\n",
      "Epoch 26/35\n",
      "170/170 [==============================] - 0s 2ms/step - loss: 10408.6826 - root_mean_squared_error: 102.0229\n",
      "Epoch 27/35\n",
      "170/170 [==============================] - 1s 3ms/step - loss: 10399.5371 - root_mean_squared_error: 101.9781\n",
      "Epoch 28/35\n",
      "170/170 [==============================] - 0s 2ms/step - loss: 10391.5059 - root_mean_squared_error: 101.9387\n",
      "Epoch 29/35\n",
      "170/170 [==============================] - 0s 2ms/step - loss: 10383.4189 - root_mean_squared_error: 101.8991\n",
      "Epoch 30/35\n",
      "170/170 [==============================] - 0s 2ms/step - loss: 10375.1387 - root_mean_squared_error: 101.8584\n",
      "Epoch 31/35\n",
      "170/170 [==============================] - 1s 3ms/step - loss: 10368.1230 - root_mean_squared_error: 101.8240\n",
      "Epoch 32/35\n",
      "170/170 [==============================] - 0s 3ms/step - loss: 10360.9268 - root_mean_squared_error: 101.7886\n",
      "Epoch 33/35\n",
      "170/170 [==============================] - 0s 2ms/step - loss: 10353.9004 - root_mean_squared_error: 101.7541\n",
      "Epoch 34/35\n",
      "170/170 [==============================] - 0s 2ms/step - loss: 10347.1670 - root_mean_squared_error: 101.7210\n",
      "Epoch 35/35\n",
      "170/170 [==============================] - 0s 2ms/step - loss: 10340.6670 - root_mean_squared_error: 101.6891\n"
     ]
    },
    {
     "data": {
      "image/png": "[encoded data removed]",
      "text/plain": [
       "<Figure size 432x288 with 1 Axes>"
      ]
     },
     "metadata": {
      "needs_background": "light"
     },
     "output_type": "display_data"
    },
    {
     "name": "stdout",
     "output_type": "stream",
     "text": [
      "\n",
      ": Evaluate the new model against the test set:\n",
      "WARNING:tensorflow:Layers in a Sequential model should only have a single input tensor, but we receive a <class 'dict'> input: {'longitude': <tf.Tensor 'ExpandDims_3:0' shape=(100, 1) dtype=float32>, 'latitude': <tf.Tensor 'ExpandDims_2:0' shape=(100, 1) dtype=float32>, 'housing_median_age': <tf.Tensor 'ExpandDims_1:0' shape=(100, 1) dtype=float32>, 'total_rooms': <tf.Tensor 'ExpandDims_7:0' shape=(100, 1) dtype=float32>, 'total_bedrooms': <tf.Tensor 'ExpandDims_6:0' shape=(100, 1) dtype=float32>, 'population': <tf.Tensor 'ExpandDims_5:0' shape=(100, 1) dtype=float32>, 'households': <tf.Tensor 'ExpandDims:0' shape=(100, 1) dtype=float32>, 'median_income': <tf.Tensor 'ExpandDims_4:0' shape=(100, 1) dtype=float32>}\n",
      "Consider rewriting this model with the Functional API.\n",
      "30/30 [==============================] - 0s 2ms/step - loss: 10199.1914 - root_mean_squared_error: 100.9910\n"
     ]
    },
    {
     "data": {
      "text/plain": [
       "[10199.19140625, 100.99104309082031]"
      ]
     },
     "execution_count": 28,
     "metadata": {},
     "output_type": "execute_result"
    }
   ],
   "source": [
    "# The following variables are the hyperparameters.\n",
    "learning_rate = 0.04\n",
    "epochs = 35\n",
    "batch_size = 100\n",
    "label_name = 'median_house_value'\n",
    "\n",
    "# Build the model, this time passing in the buckets_feature_layer.\n",
    "my_model = create_model(learning_rate, buckets_feature_layer)\n",
    "\n",
    "#Train the model on the training set.\n",
    "epochs, rmse = train_model(my_model, train_df, epochs, batch_size, label_name)\n",
    "\n",
    "plot_the_loss_curve(epochs, rmse)\n",
    "\n",
    "print('\\n: Evaluate the new model against the test set:')\n",
    "my_model.evaluate(x=test_features, y=test_label, batch_size=batch_size)"
   ]
  },
  {
   "cell_type": "markdown",
   "id": "requested-anxiety",
   "metadata": {},
   "source": [
    "## Task 2: Did buckets outperform floating-point representations?"
   ]
  },
  {
   "cell_type": "markdown",
   "id": "attractive-thanks",
   "metadata": {},
   "source": [
    "### @title Double-click for an answer to Task 2.\n",
    "\n",
    "Bucket representation outperformed floating-point representations.  \n",
    "However, you can still do far better."
   ]
  },
  {
   "cell_type": "markdown",
   "id": "molecular-allen",
   "metadata": {},
   "source": [
    "## Task 3: What is a better way to represent location?"
   ]
  },
  {
   "cell_type": "markdown",
   "id": "rocky-solid",
   "metadata": {},
   "source": [
    "Buckets are a big improvement over floating-point values. Can you identify an even better way to identify location with latitude and longitude?"
   ]
  },
  {
   "cell_type": "code",
   "execution_count": null,
   "id": "immediate-definition",
   "metadata": {},
   "outputs": [],
   "source": []
  }
 ],
 "metadata": {
  "kernelspec": {
   "display_name": "Python 3",
   "language": "python",
   "name": "python3"
  },
  "language_info": {
   "codemirror_mode": {
    "name": "ipython",
    "version": 3
   },
   "file_extension": ".py",
   "mimetype": "text/x-python",
   "name": "python",
   "nbconvert_exporter": "python",
   "pygments_lexer": "ipython3",
   "version": "3.9.1"
  }
 },
 "nbformat": 4,
 "nbformat_minor": 5
}
