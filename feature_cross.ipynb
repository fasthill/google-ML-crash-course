{
 "cells": [
  {
   "cell_type": "markdown",
   "id": "elect-hindu",
   "metadata": {},
   "source": [
    "## Call the import statements"
   ]
  },
  {
   "cell_type": "code",
   "execution_count": 1,
   "id": "express-newcastle",
   "metadata": {},
   "outputs": [],
   "source": [
    "import numpy as np\n",
    "import pandas as pd\n",
    "import tensorflow as tf\n",
    "from tensorflow import feature_column\n",
    "from tensorflow.keras import layers\n",
    "\n",
    "import matplotlib.pyplot as plt"
   ]
  },
  {
   "cell_type": "code",
   "execution_count": 2,
   "id": "coated-jefferson",
   "metadata": {},
   "outputs": [],
   "source": [
    "pd.options.display.max_rows=10\n",
    "pd.options.display.float_format = '{:.1f}'.format"
   ]
  },
  {
   "cell_type": "code",
   "execution_count": 3,
   "id": "further-immune",
   "metadata": {},
   "outputs": [],
   "source": [
    "tf.keras.backend.set_floatx('float32') # set defaults float type"
   ]
  },
  {
   "cell_type": "markdown",
   "id": "collected-haven",
   "metadata": {},
   "source": [
    "## Load, scale, and shuffle the examples"
   ]
  },
  {
   "cell_type": "code",
   "execution_count": 4,
   "id": "restricted-houston",
   "metadata": {},
   "outputs": [],
   "source": [
    "# Load the dataset\n",
    "train_df = pd.read_csv(\"https://download.mlcc.google.com/mledu-datasets/california_housing_train.csv\")\n",
    "test_df = pd.read_csv(\"https://download.mlcc.google.com/mledu-datasets/california_housing_test.csv\")"
   ]
  },
  {
   "cell_type": "code",
   "execution_count": 5,
   "id": "hourly-authority",
   "metadata": {},
   "outputs": [
    {
     "data": {
      "text/plain": [
       "longitude              -117.9\n",
       "latitude                 33.8\n",
       "housing_median_age       34.0\n",
       "total_rooms             988.0\n",
       "total_bedrooms          173.0\n",
       "population              759.0\n",
       "households              184.0\n",
       "median_income             5.6\n",
       "median_house_value   205100.0\n",
       "Name: 3664, dtype: float64"
      ]
     },
     "execution_count": 5,
     "metadata": {},
     "output_type": "execute_result"
    }
   ],
   "source": [
    "train_df.iloc[3664]"
   ]
  },
  {
   "cell_type": "code",
   "execution_count": 6,
   "id": "heard-journey",
   "metadata": {},
   "outputs": [],
   "source": [
    "scale_factor = 1000\n",
    "train_df['median_house_value'] = train_df['median_house_value'] / scale_factor\n",
    "test_df['median_house_value'] /= scale_factor"
   ]
  },
  {
   "cell_type": "code",
   "execution_count": 7,
   "id": "different-booth",
   "metadata": {},
   "outputs": [],
   "source": [
    "train_df = train_df.sample(frac=1) # or\n",
    "train_df = train_df.reindex(np.random.permutation(train_df.index))"
   ]
  },
  {
   "cell_type": "markdown",
   "id": "proper-warning",
   "metadata": {},
   "source": [
    "## Represent latitude and longitude as floating-point values"
   ]
  },
  {
   "cell_type": "code",
   "execution_count": 8,
   "id": "stuck-branch",
   "metadata": {},
   "outputs": [],
   "source": [
    "# Create an empty list that will eventually hold all feature columns.\n",
    "feature_columns = []"
   ]
  },
  {
   "cell_type": "code",
   "execution_count": 9,
   "id": "regional-perception",
   "metadata": {},
   "outputs": [],
   "source": [
    "# Create a numerical feature column to represent latitude.\n",
    "latitude = tf.feature_column.numeric_column('latitude')\n",
    "feature_columns.append(latitude)"
   ]
  },
  {
   "cell_type": "code",
   "execution_count": 10,
   "id": "committed-dictionary",
   "metadata": {},
   "outputs": [],
   "source": [
    "# Create a numerical feature column to represent longitude.\n",
    "longitude = tf.feature_column.numeric_column('longitude')\n",
    "feature_columns.append(longitude)"
   ]
  },
  {
   "cell_type": "code",
   "execution_count": 11,
   "id": "official-iceland",
   "metadata": {},
   "outputs": [
    {
     "data": {
      "text/plain": [
       "2"
      ]
     },
     "execution_count": 11,
     "metadata": {},
     "output_type": "execute_result"
    }
   ],
   "source": [
    "len(feature_columns)"
   ]
  },
  {
   "cell_type": "code",
   "execution_count": 12,
   "id": "pending-daily",
   "metadata": {},
   "outputs": [],
   "source": [
    "# Convert the list of feature columns into a layer that will ultimately become\n",
    "# part of the model. Understanding layers is not important right now.\n",
    "fp_feature_layer = layers.DenseFeatures(feature_columns)"
   ]
  },
  {
   "cell_type": "markdown",
   "id": "amino-swift",
   "metadata": {},
   "source": [
    "## what happened inside feature_layer?"
   ]
  },
  {
   "cell_type": "code",
   "execution_count": 13,
   "id": "underlying-jones",
   "metadata": {},
   "outputs": [],
   "source": [
    "tdf1 = train_df.to_dict() #ordereddict"
   ]
  },
  {
   "cell_type": "code",
   "execution_count": 14,
   "id": "enclosed-equipment",
   "metadata": {},
   "outputs": [],
   "source": [
    "tdf1['latitude'] = tdf1['latitude'].values() # convert to list by removing index"
   ]
  },
  {
   "cell_type": "code",
   "execution_count": 15,
   "id": "relevant-diamond",
   "metadata": {},
   "outputs": [],
   "source": [
    "tdf1['longitude'] = tdf1['longitude'].values()"
   ]
  },
  {
   "cell_type": "code",
   "execution_count": 16,
   "id": "ecological-beaver",
   "metadata": {},
   "outputs": [
    {
     "data": {
      "text/plain": [
       "<tf.Tensor: shape=(17000, 2), dtype=float32, numpy=\n",
       "array([[  34.17, -118.12],\n",
       "       [  37.64, -122.11],\n",
       "       [  34.08, -118.36],\n",
       "       ...,\n",
       "       [  37.67, -122.14],\n",
       "       [  39.52, -121.61],\n",
       "       [  37.84, -120.2 ]], dtype=float32)>"
      ]
     },
     "execution_count": 16,
     "metadata": {},
     "output_type": "execute_result"
    }
   ],
   "source": [
    "fp_feature_layer(tdf1)"
   ]
  },
  {
   "cell_type": "markdown",
   "id": "appreciated-microwave",
   "metadata": {},
   "source": [
    "## Define functions that create and train a model, and a plotting function"
   ]
  },
  {
   "cell_type": "code",
   "execution_count": 17,
   "id": "packed-satisfaction",
   "metadata": {},
   "outputs": [],
   "source": [
    "def create_model(my_learning_rate, feature_layer):\n",
    "    model = tf.keras.models.Sequential()\n",
    "    # Add the layer containing the feature columns to the model.\n",
    "    model.add(feature_layer)\n",
    "    # Add one linear layer to the model to yield a simple linear regressor.\n",
    "    model.add(tf.keras.layers.Dense(units=1, input_shape=(1,)))\n",
    "    model.compile(optimizer=tf.keras.optimizers.RMSprop(learning_rate=my_learning_rate),\n",
    "                 loss='mean_squared_error',\n",
    "                 metrics=[tf.keras.metrics.RootMeanSquaredError()])\n",
    "    return model"
   ]
  },
  {
   "cell_type": "code",
   "execution_count": 18,
   "id": "sixth-wagner",
   "metadata": {},
   "outputs": [],
   "source": [
    "def train_model(model, dataset, epochs, batch_size, label_name):\n",
    "    features = {name:np.array(value) for name, value in dataset.items()}\n",
    "    label = np.array(features.pop(label_name))\n",
    "    history = model.fit(x=features, y=label, batch_size=batch_size,\n",
    "                       epochs=epochs, shuffle=True)\n",
    "    \n",
    "    # The list of epochs is stored separately from the rest of history.\n",
    "    epochs = history.epoch\n",
    "    \n",
    "    # Isolate the mean absolute error for each epoch.\n",
    "    hist = pd.DataFrame(history.history)\n",
    "    rmse = hist['root_mean_squared_error']\n",
    "    \n",
    "    return epochs, rmse"
   ]
  },
  {
   "cell_type": "code",
   "execution_count": 19,
   "id": "phantom-spirituality",
   "metadata": {},
   "outputs": [
    {
     "name": "stdout",
     "output_type": "stream",
     "text": [
      "Defined the create_model, train_model, and plot_the_loss-curve functions\n"
     ]
    }
   ],
   "source": [
    "def plot_the_loss_curve(epochs, rmse):\n",
    "    plt.figure()\n",
    "    plt.xlabel('Epoch')\n",
    "    plt.ylabel('Root Mean Squared Error')\n",
    "    \n",
    "    plt.plot(epochs, rmse, label='Loss')\n",
    "    plt.legend()\n",
    "    plt.ylim([rmse.min()*0.94, rmse.max()*1.05])\n",
    "    plt.show()\n",
    "    \n",
    "print('Defined the create_model, train_model, and plot_the_loss-curve functions')"
   ]
  },
  {
   "cell_type": "markdown",
   "id": "realistic-salmon",
   "metadata": {},
   "source": [
    "## Train the model with floating-point representations"
   ]
  },
  {
   "cell_type": "code",
   "execution_count": 20,
   "id": "comfortable-congo",
   "metadata": {},
   "outputs": [
    {
     "name": "stdout",
     "output_type": "stream",
     "text": [
      "Epoch 1/30\n",
      "WARNING:tensorflow:Layers in a Sequential model should only have a single input tensor, but we receive a <class 'dict'> input: {'longitude': <tf.Tensor 'ExpandDims_3:0' shape=(100, 1) dtype=float32>, 'latitude': <tf.Tensor 'ExpandDims_2:0' shape=(100, 1) dtype=float32>, 'housing_median_age': <tf.Tensor 'ExpandDims_1:0' shape=(100, 1) dtype=float32>, 'total_rooms': <tf.Tensor 'ExpandDims_7:0' shape=(100, 1) dtype=float32>, 'total_bedrooms': <tf.Tensor 'ExpandDims_6:0' shape=(100, 1) dtype=float32>, 'population': <tf.Tensor 'ExpandDims_5:0' shape=(100, 1) dtype=float32>, 'households': <tf.Tensor 'ExpandDims:0' shape=(100, 1) dtype=float32>, 'median_income': <tf.Tensor 'ExpandDims_4:0' shape=(100, 1) dtype=float32>}\n",
      "Consider rewriting this model with the Functional API.\n",
      "WARNING:tensorflow:Layers in a Sequential model should only have a single input tensor, but we receive a <class 'dict'> input: {'longitude': <tf.Tensor 'ExpandDims_3:0' shape=(100, 1) dtype=float32>, 'latitude': <tf.Tensor 'ExpandDims_2:0' shape=(100, 1) dtype=float32>, 'housing_median_age': <tf.Tensor 'ExpandDims_1:0' shape=(100, 1) dtype=float32>, 'total_rooms': <tf.Tensor 'ExpandDims_7:0' shape=(100, 1) dtype=float32>, 'total_bedrooms': <tf.Tensor 'ExpandDims_6:0' shape=(100, 1) dtype=float32>, 'population': <tf.Tensor 'ExpandDims_5:0' shape=(100, 1) dtype=float32>, 'households': <tf.Tensor 'ExpandDims:0' shape=(100, 1) dtype=float32>, 'median_income': <tf.Tensor 'ExpandDims_4:0' shape=(100, 1) dtype=float32>}\n",
      "Consider rewriting this model with the Functional API.\n",
      "170/170 [==============================] - 0s 462us/step - loss: 17722.2891 - root_mean_squared_error: 133.1251\n",
      "Epoch 2/30\n",
      "170/170 [==============================] - 0s 444us/step - loss: 13498.8584 - root_mean_squared_error: 116.1846\n",
      "Epoch 3/30\n",
      "170/170 [==============================] - 0s 472us/step - loss: 13434.3682 - root_mean_squared_error: 115.9067\n",
      "Epoch 4/30\n",
      "170/170 [==============================] - 0s 536us/step - loss: 13403.3701 - root_mean_squared_error: 115.7729\n",
      "Epoch 5/30\n",
      "170/170 [==============================] - 0s 451us/step - loss: 13364.6738 - root_mean_squared_error: 115.6057\n",
      "Epoch 6/30\n",
      "170/170 [==============================] - 0s 447us/step - loss: 13313.1035 - root_mean_squared_error: 115.3824\n",
      "Epoch 7/30\n",
      "170/170 [==============================] - 0s 444us/step - loss: 13263.9580 - root_mean_squared_error: 115.1693\n",
      "Epoch 8/30\n",
      "170/170 [==============================] - 0s 464us/step - loss: 13213.5371 - root_mean_squared_error: 114.9501\n",
      "Epoch 9/30\n",
      "170/170 [==============================] - 0s 445us/step - loss: 13198.2100 - root_mean_squared_error: 114.8835\n",
      "Epoch 10/30\n",
      "170/170 [==============================] - 0s 437us/step - loss: 13164.2607 - root_mean_squared_error: 114.7356\n",
      "Epoch 11/30\n",
      "170/170 [==============================] - 0s 447us/step - loss: 13142.2432 - root_mean_squared_error: 114.6396\n",
      "Epoch 12/30\n",
      "170/170 [==============================] - 0s 447us/step - loss: 13117.7393 - root_mean_squared_error: 114.5327\n",
      "Epoch 13/30\n",
      "170/170 [==============================] - 0s 440us/step - loss: 13082.9160 - root_mean_squared_error: 114.3806\n",
      "Epoch 14/30\n",
      "170/170 [==============================] - 0s 447us/step - loss: 13055.8857 - root_mean_squared_error: 114.2624\n",
      "Epoch 15/30\n",
      "170/170 [==============================] - 0s 454us/step - loss: 13044.6846 - root_mean_squared_error: 114.2133\n",
      "Epoch 16/30\n",
      "170/170 [==============================] - 0s 443us/step - loss: 13012.2705 - root_mean_squared_error: 114.0713\n",
      "Epoch 17/30\n",
      "170/170 [==============================] - 0s 448us/step - loss: 12998.2432 - root_mean_squared_error: 114.0098\n",
      "Epoch 18/30\n",
      "170/170 [==============================] - 0s 458us/step - loss: 13001.3496 - root_mean_squared_error: 114.0235\n",
      "Epoch 19/30\n",
      "170/170 [==============================] - 0s 433us/step - loss: 12969.6191 - root_mean_squared_error: 113.8842\n",
      "Epoch 20/30\n",
      "170/170 [==============================] - 0s 425us/step - loss: 12941.1699 - root_mean_squared_error: 113.7593\n",
      "Epoch 21/30\n",
      "170/170 [==============================] - 0s 437us/step - loss: 12948.1582 - root_mean_squared_error: 113.7900\n",
      "Epoch 22/30\n",
      "170/170 [==============================] - 0s 447us/step - loss: 12911.7451 - root_mean_squared_error: 113.6299\n",
      "Epoch 23/30\n",
      "170/170 [==============================] - 0s 435us/step - loss: 12907.4424 - root_mean_squared_error: 113.6109\n",
      "Epoch 24/30\n",
      "170/170 [==============================] - 0s 444us/step - loss: 12904.0254 - root_mean_squared_error: 113.5959\n",
      "Epoch 25/30\n",
      "170/170 [==============================] - 0s 443us/step - loss: 12879.1035 - root_mean_squared_error: 113.4861\n",
      "Epoch 26/30\n",
      "170/170 [==============================] - 0s 452us/step - loss: 12889.1152 - root_mean_squared_error: 113.5302\n",
      "Epoch 27/30\n",
      "170/170 [==============================] - 0s 433us/step - loss: 12860.4590 - root_mean_squared_error: 113.4040\n",
      "Epoch 28/30\n",
      "170/170 [==============================] - 0s 452us/step - loss: 12867.6240 - root_mean_squared_error: 113.4355\n",
      "Epoch 29/30\n",
      "170/170 [==============================] - 0s 446us/step - loss: 12856.4775 - root_mean_squared_error: 113.3864\n",
      "Epoch 30/30\n",
      "170/170 [==============================] - 0s 460us/step - loss: 12836.6758 - root_mean_squared_error: 113.2991\n"
     ]
    },
    {
     "data": {
      "image/png": "[encoded data removed]",
      "text/plain": [
       "<Figure size 432x288 with 1 Axes>"
      ]
     },
     "metadata": {
      "needs_background": "light"
     },
     "output_type": "display_data"
    },
    {
     "name": "stdout",
     "output_type": "stream",
     "text": [
      "\n",
      ": Evaluate the new model against the test set:\n",
      "WARNING:tensorflow:Layers in a Sequential model should only have a single input tensor, but we receive a <class 'dict'> input: {'longitude': <tf.Tensor 'ExpandDims_3:0' shape=(100, 1) dtype=float32>, 'latitude': <tf.Tensor 'ExpandDims_2:0' shape=(100, 1) dtype=float32>, 'housing_median_age': <tf.Tensor 'ExpandDims_1:0' shape=(100, 1) dtype=float32>, 'total_rooms': <tf.Tensor 'ExpandDims_7:0' shape=(100, 1) dtype=float32>, 'total_bedrooms': <tf.Tensor 'ExpandDims_6:0' shape=(100, 1) dtype=float32>, 'population': <tf.Tensor 'ExpandDims_5:0' shape=(100, 1) dtype=float32>, 'households': <tf.Tensor 'ExpandDims:0' shape=(100, 1) dtype=float32>, 'median_income': <tf.Tensor 'ExpandDims_4:0' shape=(100, 1) dtype=float32>}\n",
      "Consider rewriting this model with the Functional API.\n",
      "30/30 [==============================] - 0s 447us/step - loss: 12171.6064 - root_mean_squared_error: 110.3250\n"
     ]
    },
    {
     "data": {
      "text/plain": [
       "[12171.6064453125, 110.32500457763672]"
      ]
     },
     "execution_count": 20,
     "metadata": {},
     "output_type": "execute_result"
    }
   ],
   "source": [
    "# The following variables are the hyperparameters.\n",
    "learning_rate = 0.05\n",
    "epochs = 30\n",
    "batch_size = 100\n",
    "label_name = 'median_house_value'\n",
    "\n",
    "# Create and compile the model's topography.\n",
    "my_model = create_model(learning_rate, fp_feature_layer)\n",
    "\n",
    "# Train the model on the training set.\n",
    "epochs, rmse = train_model(my_model, train_df, epochs, batch_size, label_name)\n",
    "\n",
    "plot_the_loss_curve(epochs, rmse)\n",
    "\n",
    "print('\\n: Evaluate the new model against the test set:')\n",
    "test_features = {name:np.array(value) for name, value in test_df.items()}\n",
    "test_label = np.array(test_features.pop(label_name))\n",
    "my_model.evaluate(x=test_features, y=test_label, batch_size=batch_size)"
   ]
  },
  {
   "cell_type": "markdown",
   "id": "representative-christianity",
   "metadata": {},
   "source": [
    "## tf.feature_column.numeric_column"
   ]
  },
  {
   "cell_type": "code",
   "execution_count": 21,
   "id": "solar-julian",
   "metadata": {},
   "outputs": [],
   "source": [
    "data = {'a': [15, 9, 17, 19, 21, 18, 25, 30],\n",
    "   'b': [5.0, 6.4, 10.5, 13.6, 15.7, 19.9, 20.3 , 0.0]}"
   ]
  },
  {
   "cell_type": "code",
   "execution_count": 22,
   "id": "simple-refund",
   "metadata": {},
   "outputs": [],
   "source": [
    "a = tf.feature_column.numeric_column('a')\n",
    "b = tf.feature_column.numeric_column('b')"
   ]
  },
  {
   "cell_type": "code",
   "execution_count": 23,
   "id": "large-elder",
   "metadata": {},
   "outputs": [],
   "source": [
    "a_buckets = tf.feature_column.bucketized_column(a,\n",
    "   boundaries=[10, 15, 20, 25, 30])"
   ]
  },
  {
   "cell_type": "code",
   "execution_count": 24,
   "id": "catholic-master",
   "metadata": {},
   "outputs": [
    {
     "name": "stdout",
     "output_type": "stream",
     "text": [
      "tf.Tensor(\n",
      "[[15.   5. ]\n",
      " [ 9.   6.4]\n",
      " [17.  10.5]\n",
      " [19.  13.6]\n",
      " [21.  15.7]\n",
      " [18.  19.9]\n",
      " [25.  20.3]\n",
      " [30.   0. ]], shape=(8, 2), dtype=float32)\n"
     ]
    }
   ],
   "source": [
    "feature_layer = tf.keras.layers.DenseFeatures([a, b])\n",
    "print(feature_layer(data))"
   ]
  },
  {
   "cell_type": "code",
   "execution_count": 25,
   "id": "classical-chrome",
   "metadata": {},
   "outputs": [
    {
     "name": "stdout",
     "output_type": "stream",
     "text": [
      "tf.Tensor(\n",
      "[[ 0.   0.   1.   0.   0.   0.   5. ]\n",
      " [ 1.   0.   0.   0.   0.   0.   6.4]\n",
      " [ 0.   0.   1.   0.   0.   0.  10.5]\n",
      " [ 0.   0.   1.   0.   0.   0.  13.6]\n",
      " [ 0.   0.   0.   1.   0.   0.  15.7]\n",
      " [ 0.   0.   1.   0.   0.   0.  19.9]\n",
      " [ 0.   0.   0.   0.   1.   0.  20.3]\n",
      " [ 0.   0.   0.   0.   0.   1.   0. ]], shape=(8, 7), dtype=float32)\n"
     ]
    }
   ],
   "source": [
    "feature_layer = tf.keras.layers.DenseFeatures([a_buckets, b])\n",
    "print(feature_layer(data))"
   ]
  },
  {
   "cell_type": "code",
   "execution_count": 26,
   "id": "harmful-central",
   "metadata": {},
   "outputs": [
    {
     "name": "stdout",
     "output_type": "stream",
     "text": [
      "tf.Tensor(\n",
      "[[0. 0. 1. 0. 0. 0.]\n",
      " [1. 0. 0. 0. 0. 0.]\n",
      " [0. 0. 1. 0. 0. 0.]\n",
      " [0. 0. 1. 0. 0. 0.]\n",
      " [0. 0. 0. 1. 0. 0.]\n",
      " [0. 0. 1. 0. 0. 0.]\n",
      " [0. 0. 0. 0. 1. 0.]\n",
      " [0. 0. 0. 0. 0. 1.]], shape=(8, 6), dtype=float32)\n"
     ]
    }
   ],
   "source": [
    "feature_layer = tf.keras.layers.DenseFeatures([a_buckets])\n",
    "print(feature_layer(data))"
   ]
  },
  {
   "cell_type": "markdown",
   "id": "declared-mineral",
   "metadata": {},
   "source": [
    "## Task 1: Why aren't floating-point values a good way to represent latitude and longitude?"
   ]
  },
  {
   "cell_type": "markdown",
   "id": "concrete-village",
   "metadata": {},
   "source": [
    "@title Double-click to view an answer to Task 1.\n",
    "\n",
    "No. Representing latitude and longitude as floating-point values does not have much predictive power. For example, neighborhoods at latitude 35 are not 36/35 more valuable (or 35/36 less valuable) than houses at latitude 36.\n",
    "\n",
    "Representing `latitude` and `longitude` as floating-point values provides almost no \n",
    "predictive power. We're only using the raw values to establish a baseline for future experiments \n",
    "with better representations."
   ]
  },
  {
   "cell_type": "markdown",
   "id": "returning-bench",
   "metadata": {},
   "source": [
    "## Represent latitude and longitude in buckets"
   ]
  },
  {
   "cell_type": "code",
   "execution_count": 27,
   "id": "operational-manchester",
   "metadata": {},
   "outputs": [],
   "source": [
    "resolution_in_degrees = 1.0\n",
    "\n",
    "# Create a new empty list that will eventually hold the generated feature column.\n",
    "feature_columns = []\n",
    "\n",
    "# Create a bucket feature column for latitude\n",
    "# Create a bucket feature column for latitude.\n",
    "latitude_as_a_numeric_column = tf.feature_column.numeric_column(\"latitude\")\n",
    "latitude_boundaries = list(np.arange(int(min(train_df['latitude'])), \n",
    "                                     int(max(train_df['latitude'])), \n",
    "                                     resolution_in_degrees))\n",
    "latitude = tf.feature_column.bucketized_column(latitude_as_a_numeric_column, \n",
    "                                               latitude_boundaries)\n",
    "feature_columns.append(latitude)\n",
    "\n",
    "# Create a bucket feature column for longitude.\n",
    "longitude_as_a_numeric_column = tf.feature_column.numeric_column(\"longitude\")\n",
    "longitude_boundaries = list(np.arange(int(min(train_df['longitude'])), \n",
    "                                      int(max(train_df['longitude'])), \n",
    "                                      resolution_in_degrees))\n",
    "longitude = tf.feature_column.bucketized_column(longitude_as_a_numeric_column, \n",
    "                                                longitude_boundaries)\n",
    "feature_columns.append(longitude)\n",
    "\n",
    "# Convert the list of feature columns into a layer that will ultimately become\n",
    "# part of the model. Understanding layers is not important right now.\n",
    "\n",
    "buckets_feature_layer = layers.DenseFeatures(feature_columns)"
   ]
  },
  {
   "cell_type": "markdown",
   "id": "sixth-insert",
   "metadata": {},
   "source": [
    "## Train the model with bucket representations"
   ]
  },
  {
   "cell_type": "code",
   "execution_count": 28,
   "id": "spanish-calibration",
   "metadata": {},
   "outputs": [
    {
     "name": "stdout",
     "output_type": "stream",
     "text": [
      "Epoch 1/35\n",
      "WARNING:tensorflow:Layers in a Sequential model should only have a single input tensor, but we receive a <class 'dict'> input: {'longitude': <tf.Tensor 'ExpandDims_3:0' shape=(100, 1) dtype=float32>, 'latitude': <tf.Tensor 'ExpandDims_2:0' shape=(100, 1) dtype=float32>, 'housing_median_age': <tf.Tensor 'ExpandDims_1:0' shape=(100, 1) dtype=float32>, 'total_rooms': <tf.Tensor 'ExpandDims_7:0' shape=(100, 1) dtype=float32>, 'total_bedrooms': <tf.Tensor 'ExpandDims_6:0' shape=(100, 1) dtype=float32>, 'population': <tf.Tensor 'ExpandDims_5:0' shape=(100, 1) dtype=float32>, 'households': <tf.Tensor 'ExpandDims:0' shape=(100, 1) dtype=float32>, 'median_income': <tf.Tensor 'ExpandDims_4:0' shape=(100, 1) dtype=float32>}\n",
      "Consider rewriting this model with the Functional API.\n",
      "WARNING:tensorflow:Layers in a Sequential model should only have a single input tensor, but we receive a <class 'dict'> input: {'longitude': <tf.Tensor 'ExpandDims_3:0' shape=(100, 1) dtype=float32>, 'latitude': <tf.Tensor 'ExpandDims_2:0' shape=(100, 1) dtype=float32>, 'housing_median_age': <tf.Tensor 'ExpandDims_1:0' shape=(100, 1) dtype=float32>, 'total_rooms': <tf.Tensor 'ExpandDims_7:0' shape=(100, 1) dtype=float32>, 'total_bedrooms': <tf.Tensor 'ExpandDims_6:0' shape=(100, 1) dtype=float32>, 'population': <tf.Tensor 'ExpandDims_5:0' shape=(100, 1) dtype=float32>, 'households': <tf.Tensor 'ExpandDims:0' shape=(100, 1) dtype=float32>, 'median_income': <tf.Tensor 'ExpandDims_4:0' shape=(100, 1) dtype=float32>}\n",
      "Consider rewriting this model with the Functional API.\n",
      "170/170 [==============================] - 0s 482us/step - loss: 52006.4375 - root_mean_squared_error: 228.0492\n",
      "Epoch 2/35\n",
      "170/170 [==============================] - 0s 456us/step - loss: 44628.6562 - root_mean_squared_error: 211.2550\n",
      "Epoch 3/35\n",
      "170/170 [==============================] - 0s 456us/step - loss: 38045.8984 - root_mean_squared_error: 195.0536\n",
      "Epoch 4/35\n",
      "170/170 [==============================] - 0s 452us/step - loss: 32228.6191 - root_mean_squared_error: 179.5233\n",
      "Epoch 5/35\n",
      "170/170 [==============================] - 0s 461us/step - loss: 27222.6250 - root_mean_squared_error: 164.9928\n",
      "Epoch 6/35\n",
      "170/170 [==============================] - 0s 475us/step - loss: 22971.8027 - root_mean_squared_error: 151.5645\n",
      "Epoch 7/35\n",
      "170/170 [==============================] - 0s 486us/step - loss: 19468.0293 - root_mean_squared_error: 139.5279\n",
      "Epoch 8/35\n",
      "170/170 [==============================] - 0s 478us/step - loss: 16674.1406 - root_mean_squared_error: 129.1284\n",
      "Epoch 9/35\n",
      "170/170 [==============================] - 0s 451us/step - loss: 14523.6279 - root_mean_squared_error: 120.5140\n",
      "Epoch 10/35\n",
      "170/170 [==============================] - 0s 471us/step - loss: 12975.1631 - root_mean_squared_error: 113.9086\n",
      "Epoch 11/35\n",
      "170/170 [==============================] - 0s 468us/step - loss: 11943.7646 - root_mean_squared_error: 109.2875\n",
      "Epoch 12/35\n",
      "170/170 [==============================] - 0s 465us/step - loss: 11326.6377 - root_mean_squared_error: 106.4267\n",
      "Epoch 13/35\n",
      "170/170 [==============================] - 0s 458us/step - loss: 10992.2930 - root_mean_squared_error: 104.8441\n",
      "Epoch 14/35\n",
      "170/170 [==============================] - 0s 461us/step - loss: 10797.9375 - root_mean_squared_error: 103.9131\n",
      "Epoch 15/35\n",
      "170/170 [==============================] - 0s 453us/step - loss: 10679.1006 - root_mean_squared_error: 103.3397\n",
      "Epoch 16/35\n",
      "170/170 [==============================] - 0s 457us/step - loss: 10602.5967 - root_mean_squared_error: 102.9689\n",
      "Epoch 17/35\n",
      "170/170 [==============================] - 0s 452us/step - loss: 10552.8281 - root_mean_squared_error: 102.7270\n",
      "Epoch 18/35\n",
      "170/170 [==============================] - 0s 448us/step - loss: 10519.3584 - root_mean_squared_error: 102.5639\n",
      "Epoch 19/35\n",
      "170/170 [==============================] - 0s 436us/step - loss: 10495.7207 - root_mean_squared_error: 102.4486\n",
      "Epoch 20/35\n",
      "170/170 [==============================] - 0s 467us/step - loss: 10477.3643 - root_mean_squared_error: 102.3590\n",
      "Epoch 21/35\n",
      "170/170 [==============================] - 0s 466us/step - loss: 10462.0049 - root_mean_squared_error: 102.2839\n",
      "Epoch 22/35\n",
      "170/170 [==============================] - 0s 447us/step - loss: 10449.1670 - root_mean_squared_error: 102.2212\n",
      "Epoch 23/35\n",
      "170/170 [==============================] - 0s 441us/step - loss: 10437.5537 - root_mean_squared_error: 102.1643\n",
      "Epoch 24/35\n",
      "170/170 [==============================] - 0s 451us/step - loss: 10427.2861 - root_mean_squared_error: 102.1141\n",
      "Epoch 25/35\n",
      "170/170 [==============================] - 0s 446us/step - loss: 10416.7168 - root_mean_squared_error: 102.0623\n",
      "Epoch 26/35\n",
      "170/170 [==============================] - 0s 448us/step - loss: 10407.4014 - root_mean_squared_error: 102.0167\n",
      "Epoch 27/35\n",
      "170/170 [==============================] - 0s 466us/step - loss: 10399.2549 - root_mean_squared_error: 101.9767\n",
      "Epoch 28/35\n",
      "170/170 [==============================] - 0s 509us/step - loss: 10390.8779 - root_mean_squared_error: 101.9357\n",
      "Epoch 29/35\n",
      "170/170 [==============================] - 0s 493us/step - loss: 10382.6250 - root_mean_squared_error: 101.8952\n",
      "Epoch 30/35\n",
      "170/170 [==============================] - 0s 447us/step - loss: 10374.6416 - root_mean_squared_error: 101.8560\n",
      "Epoch 31/35\n",
      "170/170 [==============================] - 0s 449us/step - loss: 10366.9990 - root_mean_squared_error: 101.8185\n",
      "Epoch 32/35\n",
      "170/170 [==============================] - 0s 450us/step - loss: 10360.6670 - root_mean_squared_error: 101.7874\n",
      "Epoch 33/35\n",
      "170/170 [==============================] - 0s 449us/step - loss: 10353.4355 - root_mean_squared_error: 101.7518\n",
      "Epoch 34/35\n",
      "170/170 [==============================] - 0s 471us/step - loss: 10346.6045 - root_mean_squared_error: 101.7183\n",
      "Epoch 35/35\n",
      "170/170 [==============================] - 0s 469us/step - loss: 10340.1807 - root_mean_squared_error: 101.6867\n"
     ]
    },
    {
     "data": {
      "image/png": "[encoded data removed]",
      "text/plain": [
       "<Figure size 432x288 with 1 Axes>"
      ]
     },
     "metadata": {
      "needs_background": "light"
     },
     "output_type": "display_data"
    },
    {
     "name": "stdout",
     "output_type": "stream",
     "text": [
      "\n",
      ": Evaluate the new model against the test set:\n",
      "WARNING:tensorflow:Layers in a Sequential model should only have a single input tensor, but we receive a <class 'dict'> input: {'longitude': <tf.Tensor 'ExpandDims_3:0' shape=(100, 1) dtype=float32>, 'latitude': <tf.Tensor 'ExpandDims_2:0' shape=(100, 1) dtype=float32>, 'housing_median_age': <tf.Tensor 'ExpandDims_1:0' shape=(100, 1) dtype=float32>, 'total_rooms': <tf.Tensor 'ExpandDims_7:0' shape=(100, 1) dtype=float32>, 'total_bedrooms': <tf.Tensor 'ExpandDims_6:0' shape=(100, 1) dtype=float32>, 'population': <tf.Tensor 'ExpandDims_5:0' shape=(100, 1) dtype=float32>, 'households': <tf.Tensor 'ExpandDims:0' shape=(100, 1) dtype=float32>, 'median_income': <tf.Tensor 'ExpandDims_4:0' shape=(100, 1) dtype=float32>}\n",
      "Consider rewriting this model with the Functional API.\n",
      "30/30 [==============================] - 0s 501us/step - loss: 10198.6582 - root_mean_squared_error: 100.9884\n"
     ]
    },
    {
     "data": {
      "text/plain": [
       "[10198.658203125, 100.9884033203125]"
      ]
     },
     "execution_count": 28,
     "metadata": {},
     "output_type": "execute_result"
    }
   ],
   "source": [
    "# The following variables are the hyperparameters.\n",
    "learning_rate = 0.04\n",
    "epochs = 35\n",
    "batch_size = 100\n",
    "label_name = 'median_house_value'\n",
    "\n",
    "# Build the model, this time passing in the buckets_feature_layer.\n",
    "my_model = create_model(learning_rate, buckets_feature_layer)\n",
    "\n",
    "#Train the model on the training set.\n",
    "epochs, rmse = train_model(my_model, train_df, epochs, batch_size, label_name)\n",
    "\n",
    "plot_the_loss_curve(epochs, rmse)\n",
    "\n",
    "print('\\n: Evaluate the new model against the test set:')\n",
    "my_model.evaluate(x=test_features, y=test_label, batch_size=batch_size)"
   ]
  },
  {
   "cell_type": "markdown",
   "id": "requested-anxiety",
   "metadata": {},
   "source": [
    "## Task 2: Did buckets outperform floating-point representations?"
   ]
  },
  {
   "cell_type": "markdown",
   "id": "attractive-thanks",
   "metadata": {},
   "source": [
    "### @title Double-click for an answer to Task 2.\n",
    "\n",
    "Bucket representation outperformed floating-point representations.  \n",
    "However, you can still do far better."
   ]
  },
  {
   "cell_type": "markdown",
   "id": "molecular-allen",
   "metadata": {},
   "source": [
    "## Task 3: What is a better way to represent location?"
   ]
  },
  {
   "cell_type": "markdown",
   "id": "rocky-solid",
   "metadata": {},
   "source": [
    "Buckets are a big improvement over floating-point values. Can you identify an even better way to identify location with latitude and longitude?"
   ]
  },
  {
   "cell_type": "code",
   "execution_count": 36,
   "id": "immediate-definition",
   "metadata": {},
   "outputs": [],
   "source": [
    "resolution_in_degrees = 1.0\n",
    "\n",
    "# Create a new empty list that will eventually hold the generated feature column\n",
    "feature_columns = []\n",
    "\n",
    "# Create a bucket feature column for latitude\n",
    "latitude_as_a_numeric_column = tf.feature_column.numeric_column('latitude')\n",
    "latitude_boundaries = list(np.arange(int(min(train_df['latitude'])), int(max(train_df['latitude'])), resolution_in_degrees))\n",
    "latitude = tf.feature_column.bucketized_column(latitude_as_a_numeric_column, latitude_boundaries)\n",
    "\n",
    "# Create a bucket feature column for longitude\n",
    "longitude_as_a_numeric_column = tf.feature_column.numeric_column('longitude')\n",
    "longitude_boundaries = list(np.arange(int(min(train_df['longitude'])), int(max(train_df['longitude'])), resolution_in_degrees))\n",
    "longitude = tf.feature_column.bucketized_column(longitude_as_a_numeric_column, longitude_boundaries )\n",
    "\n",
    "# Create a feature cross of latitude and longitude\n",
    "latitude_x_longitude = tf.feature_column.crossed_column([latitude, longitude], hash_bucket_size=100)\n",
    "crossed_feature = tf.feature_column.indicator_column(latitude_x_longitude)\n",
    "feature_columns.append(crossed_feature)\n",
    "\n",
    "# Convert the list of feature columns into a layer that will later be fed into the model.\n",
    "feature_cross_feature_layer = layers.DenseFeatures(feature_columns)"
   ]
  },
  {
   "cell_type": "code",
   "execution_count": 37,
   "id": "9075c3d2",
   "metadata": {},
   "outputs": [
    {
     "name": "stdout",
     "output_type": "stream",
     "text": [
      "Epoch 1/35\n",
      "WARNING:tensorflow:Layers in a Sequential model should only have a single input tensor, but we receive a <class 'dict'> input: {'longitude': <tf.Tensor 'ExpandDims_3:0' shape=(100, 1) dtype=float32>, 'latitude': <tf.Tensor 'ExpandDims_2:0' shape=(100, 1) dtype=float32>, 'housing_median_age': <tf.Tensor 'ExpandDims_1:0' shape=(100, 1) dtype=float32>, 'total_rooms': <tf.Tensor 'ExpandDims_7:0' shape=(100, 1) dtype=float32>, 'total_bedrooms': <tf.Tensor 'ExpandDims_6:0' shape=(100, 1) dtype=float32>, 'population': <tf.Tensor 'ExpandDims_5:0' shape=(100, 1) dtype=float32>, 'households': <tf.Tensor 'ExpandDims:0' shape=(100, 1) dtype=float32>, 'median_income': <tf.Tensor 'ExpandDims_4:0' shape=(100, 1) dtype=float32>}\n",
      "Consider rewriting this model with the Functional API.\n",
      "WARNING:tensorflow:Layers in a Sequential model should only have a single input tensor, but we receive a <class 'dict'> input: {'longitude': <tf.Tensor 'ExpandDims_3:0' shape=(100, 1) dtype=float32>, 'latitude': <tf.Tensor 'ExpandDims_2:0' shape=(100, 1) dtype=float32>, 'housing_median_age': <tf.Tensor 'ExpandDims_1:0' shape=(100, 1) dtype=float32>, 'total_rooms': <tf.Tensor 'ExpandDims_7:0' shape=(100, 1) dtype=float32>, 'total_bedrooms': <tf.Tensor 'ExpandDims_6:0' shape=(100, 1) dtype=float32>, 'population': <tf.Tensor 'ExpandDims_5:0' shape=(100, 1) dtype=float32>, 'households': <tf.Tensor 'ExpandDims:0' shape=(100, 1) dtype=float32>, 'median_income': <tf.Tensor 'ExpandDims_4:0' shape=(100, 1) dtype=float32>}\n",
      "Consider rewriting this model with the Functional API.\n",
      "170/170 [==============================] - 0s 541us/step - loss: 53537.2539 - root_mean_squared_error: 231.3812\n",
      "Epoch 2/35\n",
      "170/170 [==============================] - 0s 504us/step - loss: 48506.9531 - root_mean_squared_error: 220.2429\n",
      "Epoch 3/35\n",
      "170/170 [==============================] - 0s 492us/step - loss: 43819.1211 - root_mean_squared_error: 209.3302\n",
      "Epoch 4/35\n",
      "170/170 [==============================] - 0s 473us/step - loss: 39466.5078 - root_mean_squared_error: 198.6618\n",
      "Epoch 5/35\n",
      "170/170 [==============================] - 0s 497us/step - loss: 35459.1367 - root_mean_squared_error: 188.3060\n",
      "Epoch 6/35\n",
      "170/170 [==============================] - 0s 498us/step - loss: 31765.3906 - root_mean_squared_error: 178.2285\n",
      "Epoch 7/35\n",
      "170/170 [==============================] - 0s 501us/step - loss: 28418.2695 - root_mean_squared_error: 168.5772\n",
      "Epoch 8/35\n",
      "170/170 [==============================] - 0s 501us/step - loss: 25374.7305 - root_mean_squared_error: 159.2945\n",
      "Epoch 9/35\n",
      "170/170 [==============================] - 0s 504us/step - loss: 22675.4043 - root_mean_squared_error: 150.5835\n",
      "Epoch 10/35\n",
      "170/170 [==============================] - 0s 530us/step - loss: 20272.5879 - root_mean_squared_error: 142.3818\n",
      "Epoch 11/35\n",
      "170/170 [==============================] - 0s 505us/step - loss: 18167.1191 - root_mean_squared_error: 134.7855\n",
      "Epoch 12/35\n",
      "170/170 [==============================] - 0s 500us/step - loss: 16359.1357 - root_mean_squared_error: 127.9028\n",
      "Epoch 13/35\n",
      "170/170 [==============================] - 0s 494us/step - loss: 14800.2520 - root_mean_squared_error: 121.6563\n",
      "Epoch 14/35\n",
      "170/170 [==============================] - 0s 483us/step - loss: 13510.9629 - root_mean_squared_error: 116.2367\n",
      "Epoch 15/35\n",
      "170/170 [==============================] - 0s 504us/step - loss: 12471.3584 - root_mean_squared_error: 111.6752\n",
      "Epoch 16/35\n",
      "170/170 [==============================] - 0s 519us/step - loss: 11640.3662 - root_mean_squared_error: 107.8905\n",
      "Epoch 17/35\n",
      "170/170 [==============================] - 0s 531us/step - loss: 11029.6982 - root_mean_squared_error: 105.0224\n",
      "Epoch 18/35\n",
      "170/170 [==============================] - 0s 547us/step - loss: 10599.8154 - root_mean_squared_error: 102.9554\n",
      "Epoch 19/35\n",
      "170/170 [==============================] - 0s 515us/step - loss: 10315.4541 - root_mean_squared_error: 101.5650\n",
      "Epoch 20/35\n",
      "170/170 [==============================] - 0s 505us/step - loss: 10131.6641 - root_mean_squared_error: 100.6562\n",
      "Epoch 21/35\n",
      "170/170 [==============================] - 0s 508us/step - loss: 10001.8584 - root_mean_squared_error: 100.0093\n",
      "Epoch 22/35\n",
      "170/170 [==============================] - 0s 513us/step - loss: 9907.9736 - root_mean_squared_error: 99.5388\n",
      "Epoch 23/35\n",
      "170/170 [==============================] - 0s 504us/step - loss: 9832.8965 - root_mean_squared_error: 99.1610\n",
      "Epoch 24/35\n",
      "170/170 [==============================] - 0s 525us/step - loss: 9776.9424 - root_mean_squared_error: 98.8784\n",
      "Epoch 25/35\n",
      "170/170 [==============================] - 0s 493us/step - loss: 9733.4639 - root_mean_squared_error: 98.6583\n",
      "Epoch 26/35\n",
      "170/170 [==============================] - 0s 475us/step - loss: 9703.4043 - root_mean_squared_error: 98.5059\n",
      "Epoch 27/35\n",
      "170/170 [==============================] - 0s 493us/step - loss: 9680.4141 - root_mean_squared_error: 98.3891\n",
      "Epoch 28/35\n",
      "170/170 [==============================] - 0s 498us/step - loss: 9663.5947 - root_mean_squared_error: 98.3036\n",
      "Epoch 29/35\n",
      "170/170 [==============================] - 0s 495us/step - loss: 9650.3486 - root_mean_squared_error: 98.2362\n",
      "Epoch 30/35\n",
      "170/170 [==============================] - 0s 505us/step - loss: 9640.9736 - root_mean_squared_error: 98.1885\n",
      "Epoch 31/35\n",
      "170/170 [==============================] - 0s 492us/step - loss: 9634.2246 - root_mean_squared_error: 98.1541\n",
      "Epoch 32/35\n",
      "170/170 [==============================] - 0s 504us/step - loss: 9628.4863 - root_mean_squared_error: 98.1248\n",
      "Epoch 33/35\n",
      "170/170 [==============================] - 0s 503us/step - loss: 9623.9502 - root_mean_squared_error: 98.1017\n",
      "Epoch 34/35\n",
      "170/170 [==============================] - 0s 509us/step - loss: 9620.5078 - root_mean_squared_error: 98.0842\n",
      "Epoch 35/35\n",
      "170/170 [==============================] - 0s 497us/step - loss: 9617.8525 - root_mean_squared_error: 98.0706\n"
     ]
    },
    {
     "data": {
      "image/png": "[encoded data removed]",
      "text/plain": [
       "<Figure size 432x288 with 1 Axes>"
      ]
     },
     "metadata": {
      "needs_background": "light"
     },
     "output_type": "display_data"
    },
    {
     "name": "stdout",
     "output_type": "stream",
     "text": [
      "\n",
      ": Evaluate the new model against the test set:\n",
      "WARNING:tensorflow:Layers in a Sequential model should only have a single input tensor, but we receive a <class 'dict'> input: {'longitude': <tf.Tensor 'ExpandDims_3:0' shape=(100, 1) dtype=float32>, 'latitude': <tf.Tensor 'ExpandDims_2:0' shape=(100, 1) dtype=float32>, 'housing_median_age': <tf.Tensor 'ExpandDims_1:0' shape=(100, 1) dtype=float32>, 'total_rooms': <tf.Tensor 'ExpandDims_7:0' shape=(100, 1) dtype=float32>, 'total_bedrooms': <tf.Tensor 'ExpandDims_6:0' shape=(100, 1) dtype=float32>, 'population': <tf.Tensor 'ExpandDims_5:0' shape=(100, 1) dtype=float32>, 'households': <tf.Tensor 'ExpandDims:0' shape=(100, 1) dtype=float32>, 'median_income': <tf.Tensor 'ExpandDims_4:0' shape=(100, 1) dtype=float32>}\n",
      "Consider rewriting this model with the Functional API.\n",
      "30/30 [==============================] - 0s 589us/step - loss: 9520.3975 - root_mean_squared_error: 97.5725\n"
     ]
    },
    {
     "data": {
      "text/plain": [
       "[9520.3974609375, 97.57252502441406]"
      ]
     },
     "execution_count": 37,
     "metadata": {},
     "output_type": "execute_result"
    }
   ],
   "source": [
    "# The following variables are the hyperparameters.\n",
    "learning_rate = 0.04\n",
    "epochs = 35\n",
    "\n",
    "# Build the model, this time passing in the feature_cross_feature_layer: \n",
    "my_model = create_model(learning_rate, feature_cross_feature_layer)\n",
    "\n",
    "# Train the model on the training set.\n",
    "epochs, rmse = train_model(my_model, train_df, epochs, batch_size, label_name)\n",
    "\n",
    "plot_the_loss_curve(epochs, rmse)\n",
    "\n",
    "print(\"\\n: Evaluate the new model against the test set:\")\n",
    "my_model.evaluate(x=test_features, y=test_label, batch_size=batch_size)"
   ]
  },
  {
   "cell_type": "markdown",
   "id": "9b6d9302",
   "metadata": {},
   "source": [
    "## Task 4: Did the feature cross outperform buckets?"
   ]
  },
  {
   "cell_type": "markdown",
   "id": "a1132e54",
   "metadata": {},
   "source": [
    "@title Double-click for an answer to this question.\n",
    "\n",
    "Yes, representing these features as a feature cross produced much lower loss values than representing these features as buckets"
   ]
  },
  {
   "cell_type": "markdown",
   "id": "bb16f6a1",
   "metadata": {},
   "source": [
    "## Task 5: Adjust the resolution of the feature cross"
   ]
  },
  {
   "cell_type": "code",
   "execution_count": 42,
   "id": "718a40d9",
   "metadata": {},
   "outputs": [],
   "source": [
    "resolution_in_degrees = 0.4  # change 1.0 to 0.5\n",
    "\n",
    "# Create a new empty list that will eventually hold the generated feature column\n",
    "feature_columns = []\n",
    "\n",
    "# Create a bucket feature column for latitude\n",
    "latitude_as_a_numeric_column = tf.feature_column.numeric_column('latitude')\n",
    "latitude_boundaries = list(np.arange(int(min(train_df['latitude'])), int(max(train_df['latitude'])), resolution_in_degrees))\n",
    "latitude = tf.feature_column.bucketized_column(latitude_as_a_numeric_column, latitude_boundaries)\n",
    "\n",
    "# Create a bucket feature column for longitude\n",
    "longitude_as_a_numeric_column = tf.feature_column.numeric_column('longitude')\n",
    "longitude_boundaries = list(np.arange(int(min(train_df['longitude'])), int(max(train_df['longitude'])), resolution_in_degrees))\n",
    "longitude = tf.feature_column.bucketized_column(longitude_as_a_numeric_column, longitude_boundaries )\n",
    "\n",
    "# Create a feature cross of latitude and longitude\n",
    "latitude_x_longitude = tf.feature_column.crossed_column([latitude, longitude], hash_bucket_size=100)\n",
    "crossed_feature = tf.feature_column.indicator_column(latitude_x_longitude)\n",
    "feature_columns.append(crossed_feature)\n",
    "\n",
    "# Convert the list of feature columns into a layer that will later be fed into the model.\n",
    "feature_cross_feature_layer = layers.DenseFeatures(feature_columns)"
   ]
  },
  {
   "cell_type": "code",
   "execution_count": 43,
   "id": "198ac643",
   "metadata": {},
   "outputs": [
    {
     "name": "stdout",
     "output_type": "stream",
     "text": [
      "Epoch 1/35\n",
      "WARNING:tensorflow:Layers in a Sequential model should only have a single input tensor, but we receive a <class 'dict'> input: {'longitude': <tf.Tensor 'ExpandDims_3:0' shape=(100, 1) dtype=float32>, 'latitude': <tf.Tensor 'ExpandDims_2:0' shape=(100, 1) dtype=float32>, 'housing_median_age': <tf.Tensor 'ExpandDims_1:0' shape=(100, 1) dtype=float32>, 'total_rooms': <tf.Tensor 'ExpandDims_7:0' shape=(100, 1) dtype=float32>, 'total_bedrooms': <tf.Tensor 'ExpandDims_6:0' shape=(100, 1) dtype=float32>, 'population': <tf.Tensor 'ExpandDims_5:0' shape=(100, 1) dtype=float32>, 'households': <tf.Tensor 'ExpandDims:0' shape=(100, 1) dtype=float32>, 'median_income': <tf.Tensor 'ExpandDims_4:0' shape=(100, 1) dtype=float32>}\n",
      "Consider rewriting this model with the Functional API.\n",
      "WARNING:tensorflow:Layers in a Sequential model should only have a single input tensor, but we receive a <class 'dict'> input: {'longitude': <tf.Tensor 'ExpandDims_3:0' shape=(100, 1) dtype=float32>, 'latitude': <tf.Tensor 'ExpandDims_2:0' shape=(100, 1) dtype=float32>, 'housing_median_age': <tf.Tensor 'ExpandDims_1:0' shape=(100, 1) dtype=float32>, 'total_rooms': <tf.Tensor 'ExpandDims_7:0' shape=(100, 1) dtype=float32>, 'total_bedrooms': <tf.Tensor 'ExpandDims_6:0' shape=(100, 1) dtype=float32>, 'population': <tf.Tensor 'ExpandDims_5:0' shape=(100, 1) dtype=float32>, 'households': <tf.Tensor 'ExpandDims:0' shape=(100, 1) dtype=float32>, 'median_income': <tf.Tensor 'ExpandDims_4:0' shape=(100, 1) dtype=float32>}\n",
      "Consider rewriting this model with the Functional API.\n",
      "170/170 [==============================] - 0s 498us/step - loss: 53663.2539 - root_mean_squared_error: 231.6533\n",
      "Epoch 2/35\n",
      "170/170 [==============================] - 0s 506us/step - loss: 48821.6758 - root_mean_squared_error: 220.9563\n",
      "Epoch 3/35\n",
      "170/170 [==============================] - 0s 496us/step - loss: 44307.8945 - root_mean_squared_error: 210.4944\n",
      "Epoch 4/35\n",
      "170/170 [==============================] - 0s 500us/step - loss: 40096.0859 - root_mean_squared_error: 200.2401\n",
      "Epoch 5/35\n",
      "170/170 [==============================] - 0s 498us/step - loss: 36180.3711 - root_mean_squared_error: 190.2114\n",
      "Epoch 6/35\n",
      "170/170 [==============================] - 0s 514us/step - loss: 32576.5449 - root_mean_squared_error: 180.4897\n",
      "Epoch 7/35\n",
      "170/170 [==============================] - 0s 496us/step - loss: 29279.7578 - root_mean_squared_error: 171.1133\n",
      "Epoch 8/35\n",
      "170/170 [==============================] - 0s 506us/step - loss: 26303.2715 - root_mean_squared_error: 162.1828\n",
      "Epoch 9/35\n",
      "170/170 [==============================] - 0s 508us/step - loss: 23614.5449 - root_mean_squared_error: 153.6702\n",
      "Epoch 10/35\n",
      "170/170 [==============================] - 0s 486us/step - loss: 21220.2988 - root_mean_squared_error: 145.6719\n",
      "Epoch 11/35\n",
      "170/170 [==============================] - 0s 484us/step - loss: 19101.1191 - root_mean_squared_error: 138.2068\n",
      "Epoch 12/35\n",
      "170/170 [==============================] - 0s 486us/step - loss: 17248.5000 - root_mean_squared_error: 131.3335\n",
      "Epoch 13/35\n",
      "170/170 [==============================] - 0s 479us/step - loss: 15641.1582 - root_mean_squared_error: 125.0646\n",
      "Epoch 14/35\n",
      "170/170 [==============================] - 0s 483us/step - loss: 14273.7109 - root_mean_squared_error: 119.4726\n",
      "Epoch 15/35\n",
      "170/170 [==============================] - 0s 472us/step - loss: 13146.3125 - root_mean_squared_error: 114.6574\n",
      "Epoch 16/35\n",
      "170/170 [==============================] - 0s 484us/step - loss: 12222.1553 - root_mean_squared_error: 110.5539\n",
      "Epoch 17/35\n",
      "170/170 [==============================] - 0s 467us/step - loss: 11495.8223 - root_mean_squared_error: 107.2186\n",
      "Epoch 18/35\n",
      "170/170 [==============================] - 0s 469us/step - loss: 10929.7373 - root_mean_squared_error: 104.5454\n",
      "Epoch 19/35\n",
      "170/170 [==============================] - 0s 518us/step - loss: 10512.8184 - root_mean_squared_error: 102.5320\n",
      "Epoch 20/35\n",
      "170/170 [==============================] - 0s 484us/step - loss: 10203.9082 - root_mean_squared_error: 101.0144\n",
      "Epoch 21/35\n",
      "170/170 [==============================] - 0s 483us/step - loss: 9972.8008 - root_mean_squared_error: 99.8639\n",
      "Epoch 22/35\n",
      "170/170 [==============================] - 0s 480us/step - loss: 9783.2646 - root_mean_squared_error: 98.9104\n",
      "Epoch 23/35\n",
      "170/170 [==============================] - 0s 497us/step - loss: 9621.6465 - root_mean_squared_error: 98.0900\n",
      "Epoch 24/35\n",
      "170/170 [==============================] - 0s 476us/step - loss: 9483.5156 - root_mean_squared_error: 97.3833\n",
      "Epoch 25/35\n",
      "170/170 [==============================] - 0s 489us/step - loss: 9365.5156 - root_mean_squared_error: 96.7756\n",
      "Epoch 26/35\n",
      "170/170 [==============================] - 0s 520us/step - loss: 9259.7812 - root_mean_squared_error: 96.2278\n",
      "Epoch 27/35\n",
      "170/170 [==============================] - 0s 487us/step - loss: 9169.5742 - root_mean_squared_error: 95.7579\n",
      "Epoch 28/35\n",
      "170/170 [==============================] - 0s 537us/step - loss: 9090.1963 - root_mean_squared_error: 95.3425\n",
      "Epoch 29/35\n",
      "170/170 [==============================] - 0s 501us/step - loss: 9021.4951 - root_mean_squared_error: 94.9816\n",
      "Epoch 30/35\n",
      "170/170 [==============================] - 0s 513us/step - loss: 8963.9268 - root_mean_squared_error: 94.6780\n",
      "Epoch 31/35\n",
      "170/170 [==============================] - 0s 491us/step - loss: 8913.5303 - root_mean_squared_error: 94.4115\n",
      "Epoch 32/35\n",
      "170/170 [==============================] - 0s 481us/step - loss: 8870.6191 - root_mean_squared_error: 94.1840\n",
      "Epoch 33/35\n",
      "170/170 [==============================] - 0s 484us/step - loss: 8833.3740 - root_mean_squared_error: 93.9860\n",
      "Epoch 34/35\n",
      "170/170 [==============================] - 0s 486us/step - loss: 8801.8760 - root_mean_squared_error: 93.8183\n",
      "Epoch 35/35\n",
      "170/170 [==============================] - 0s 484us/step - loss: 8775.0820 - root_mean_squared_error: 93.6754\n"
     ]
    },
    {
     "data": {
      "image/png": "[encoded data removed]",
      "text/plain": [
       "<Figure size 432x288 with 1 Axes>"
      ]
     },
     "metadata": {
      "needs_background": "light"
     },
     "output_type": "display_data"
    },
    {
     "name": "stdout",
     "output_type": "stream",
     "text": [
      "\n",
      ": Evaluate the new model against the test set:\n",
      "WARNING:tensorflow:Layers in a Sequential model should only have a single input tensor, but we receive a <class 'dict'> input: {'longitude': <tf.Tensor 'ExpandDims_3:0' shape=(100, 1) dtype=float32>, 'latitude': <tf.Tensor 'ExpandDims_2:0' shape=(100, 1) dtype=float32>, 'housing_median_age': <tf.Tensor 'ExpandDims_1:0' shape=(100, 1) dtype=float32>, 'total_rooms': <tf.Tensor 'ExpandDims_7:0' shape=(100, 1) dtype=float32>, 'total_bedrooms': <tf.Tensor 'ExpandDims_6:0' shape=(100, 1) dtype=float32>, 'population': <tf.Tensor 'ExpandDims_5:0' shape=(100, 1) dtype=float32>, 'households': <tf.Tensor 'ExpandDims:0' shape=(100, 1) dtype=float32>, 'median_income': <tf.Tensor 'ExpandDims_4:0' shape=(100, 1) dtype=float32>}\n",
      "Consider rewriting this model with the Functional API.\n",
      "30/30 [==============================] - 0s 624us/step - loss: 8646.4678 - root_mean_squared_error: 92.9864\n"
     ]
    },
    {
     "data": {
      "text/plain": [
       "[8646.4677734375, 92.98638153076172]"
      ]
     },
     "execution_count": 43,
     "metadata": {},
     "output_type": "execute_result"
    }
   ],
   "source": [
    "# The following variables are the hyperparameters.\n",
    "learning_rate = 0.04\n",
    "epochs = 35\n",
    "\n",
    "# Build the model, this time passing in the feature_cross_feature_layer: \n",
    "my_model = create_model(learning_rate, feature_cross_feature_layer)\n",
    "\n",
    "# Train the model on the training set.\n",
    "epochs, rmse = train_model(my_model, train_df, epochs, batch_size, label_name)\n",
    "\n",
    "plot_the_loss_curve(epochs, rmse)\n",
    "\n",
    "print(\"\\n: Evaluate the new model against the test set:\")\n",
    "my_model.evaluate(x=test_features, y=test_label, batch_size=batch_size)"
   ]
  },
  {
   "cell_type": "markdown",
   "id": "460a9ca8",
   "metadata": {},
   "source": [
    "@title Double-click for possible answers to Task 5.\n",
    "\n",
    "1. A resolution of ~0.4 degree provides the best results.\n",
    "\n",
    "2. Below ~0.4 degree, loss increases because the dataset does not contain enough examples in each cell to accurately predict prices for those cells.\n",
    "\n",
    "3. Postal code would be a far better feature than latitude X longitude, assuming that the dataset contained sufficient examples in each postal code."
   ]
  },
  {
   "cell_type": "code",
   "execution_count": null,
   "id": "8b23638b",
   "metadata": {},
   "outputs": [],
   "source": []
  }
 ],
 "metadata": {
  "kernelspec": {
   "display_name": "Python 3",
   "language": "python",
   "name": "python3"
  },
  "language_info": {
   "codemirror_mode": {
    "name": "ipython",
    "version": 3
   },
   "file_extension": ".py",
   "mimetype": "text/x-python",
   "name": "python",
   "nbconvert_exporter": "python",
   "pygments_lexer": "ipython3",
   "version": "3.9.1"
  }
 },
 "nbformat": 4,
 "nbformat_minor": 5
}
