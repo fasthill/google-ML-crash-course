{
 "cells": [
  {
   "cell_type": "markdown",
   "id": "elect-hindu",
   "metadata": {},
   "source": [
    "## Call the import statements"
   ]
  },
  {
   "cell_type": "code",
   "execution_count": 2,
   "id": "express-newcastle",
   "metadata": {},
   "outputs": [],
   "source": [
    "import numpy as np\n",
    "import pandas as pd\n",
    "import tensorflow as tf\n",
    "from tensorflow import feature_column\n",
    "from tensorflow.keras import layers\n",
    "\n",
    "import matplotlib.pyplot as plt"
   ]
  },
  {
   "cell_type": "code",
   "execution_count": 3,
   "id": "coated-jefferson",
   "metadata": {},
   "outputs": [],
   "source": [
    "pd.options.display.max_rows=10\n",
    "pd.options.display.float_format = '{:.1f}'.format"
   ]
  },
  {
   "cell_type": "code",
   "execution_count": 4,
   "id": "further-immune",
   "metadata": {},
   "outputs": [],
   "source": [
    "tf.keras.backend.set_floatx('float32') # set defaults float type"
   ]
  },
  {
   "cell_type": "markdown",
   "id": "collected-haven",
   "metadata": {},
   "source": [
    "## Load, scale, and shuffle the examples"
   ]
  },
  {
   "cell_type": "code",
   "execution_count": 5,
   "id": "restricted-houston",
   "metadata": {},
   "outputs": [],
   "source": [
    "# Load the dataset\n",
    "train_df = pd.read_csv(\"https://download.mlcc.google.com/mledu-datasets/california_housing_train.csv\")\n",
    "test_df = pd.read_csv(\"https://download.mlcc.google.com/mledu-datasets/california_housing_test.csv\")"
   ]
  },
  {
   "cell_type": "code",
   "execution_count": 6,
   "id": "hourly-authority",
   "metadata": {},
   "outputs": [
    {
     "data": {
      "text/html": [
       "<div>\n",
       "<style scoped>\n",
       "    .dataframe tbody tr th:only-of-type {\n",
       "        vertical-align: middle;\n",
       "    }\n",
       "\n",
       "    .dataframe tbody tr th {\n",
       "        vertical-align: top;\n",
       "    }\n",
       "\n",
       "    .dataframe thead th {\n",
       "        text-align: right;\n",
       "    }\n",
       "</style>\n",
       "<table border=\"1\" class=\"dataframe\">\n",
       "  <thead>\n",
       "    <tr style=\"text-align: right;\">\n",
       "      <th></th>\n",
       "      <th>longitude</th>\n",
       "      <th>latitude</th>\n",
       "      <th>housing_median_age</th>\n",
       "      <th>total_rooms</th>\n",
       "      <th>total_bedrooms</th>\n",
       "      <th>population</th>\n",
       "      <th>households</th>\n",
       "      <th>median_income</th>\n",
       "      <th>median_house_value</th>\n",
       "    </tr>\n",
       "  </thead>\n",
       "  <tbody>\n",
       "    <tr>\n",
       "      <th>0</th>\n",
       "      <td>-114.3</td>\n",
       "      <td>34.2</td>\n",
       "      <td>15.0</td>\n",
       "      <td>5612.0</td>\n",
       "      <td>1283.0</td>\n",
       "      <td>1015.0</td>\n",
       "      <td>472.0</td>\n",
       "      <td>1.5</td>\n",
       "      <td>66900.0</td>\n",
       "    </tr>\n",
       "    <tr>\n",
       "      <th>1</th>\n",
       "      <td>-114.5</td>\n",
       "      <td>34.4</td>\n",
       "      <td>19.0</td>\n",
       "      <td>7650.0</td>\n",
       "      <td>1901.0</td>\n",
       "      <td>1129.0</td>\n",
       "      <td>463.0</td>\n",
       "      <td>1.8</td>\n",
       "      <td>80100.0</td>\n",
       "    </tr>\n",
       "    <tr>\n",
       "      <th>2</th>\n",
       "      <td>-114.6</td>\n",
       "      <td>33.7</td>\n",
       "      <td>17.0</td>\n",
       "      <td>720.0</td>\n",
       "      <td>174.0</td>\n",
       "      <td>333.0</td>\n",
       "      <td>117.0</td>\n",
       "      <td>1.7</td>\n",
       "      <td>85700.0</td>\n",
       "    </tr>\n",
       "    <tr>\n",
       "      <th>3</th>\n",
       "      <td>-114.6</td>\n",
       "      <td>33.6</td>\n",
       "      <td>14.0</td>\n",
       "      <td>1501.0</td>\n",
       "      <td>337.0</td>\n",
       "      <td>515.0</td>\n",
       "      <td>226.0</td>\n",
       "      <td>3.2</td>\n",
       "      <td>73400.0</td>\n",
       "    </tr>\n",
       "    <tr>\n",
       "      <th>4</th>\n",
       "      <td>-114.6</td>\n",
       "      <td>33.6</td>\n",
       "      <td>20.0</td>\n",
       "      <td>1454.0</td>\n",
       "      <td>326.0</td>\n",
       "      <td>624.0</td>\n",
       "      <td>262.0</td>\n",
       "      <td>1.9</td>\n",
       "      <td>65500.0</td>\n",
       "    </tr>\n",
       "  </tbody>\n",
       "</table>\n",
       "</div>"
      ],
      "text/plain": [
       "   longitude  latitude  housing_median_age  total_rooms  total_bedrooms  \\\n",
       "0     -114.3      34.2                15.0       5612.0          1283.0   \n",
       "1     -114.5      34.4                19.0       7650.0          1901.0   \n",
       "2     -114.6      33.7                17.0        720.0           174.0   \n",
       "3     -114.6      33.6                14.0       1501.0           337.0   \n",
       "4     -114.6      33.6                20.0       1454.0           326.0   \n",
       "\n",
       "   population  households  median_income  median_house_value  \n",
       "0      1015.0       472.0            1.5             66900.0  \n",
       "1      1129.0       463.0            1.8             80100.0  \n",
       "2       333.0       117.0            1.7             85700.0  \n",
       "3       515.0       226.0            3.2             73400.0  \n",
       "4       624.0       262.0            1.9             65500.0  "
      ]
     },
     "execution_count": 6,
     "metadata": {},
     "output_type": "execute_result"
    }
   ],
   "source": [
    "train_df.head()"
   ]
  },
  {
   "cell_type": "code",
   "execution_count": 7,
   "id": "heard-journey",
   "metadata": {},
   "outputs": [],
   "source": [
    "scale_factor = 1000\n",
    "train_df['median_house_value'] = train_df['median_house_value'] / scale_factor\n",
    "test_df['median_house_value'] /= scale_factor"
   ]
  },
  {
   "cell_type": "code",
   "execution_count": 8,
   "id": "different-booth",
   "metadata": {},
   "outputs": [],
   "source": [
    "train_df = train_df.sample(frac=1) # or\n",
    "train_df = train_df.reindex(np.random.permutation(train_df.index))"
   ]
  },
  {
   "cell_type": "markdown",
   "id": "proper-warning",
   "metadata": {},
   "source": [
    "## Represent latitude and longitude as floating-point values"
   ]
  },
  {
   "cell_type": "code",
   "execution_count": 10,
   "id": "stuck-branch",
   "metadata": {},
   "outputs": [],
   "source": [
    "# Create an empty list that will eventually hold all feature columns.\n",
    "feature_columns = []"
   ]
  },
  {
   "cell_type": "code",
   "execution_count": 12,
   "id": "regional-perception",
   "metadata": {},
   "outputs": [],
   "source": [
    "# Create a numerical feature column to represent latitude.\n",
    "latitude = tf.feature_column.numeric_column('latitude')\n",
    "feature_columns.append(latitude)"
   ]
  },
  {
   "cell_type": "code",
   "execution_count": 19,
   "id": "committed-dictionary",
   "metadata": {},
   "outputs": [],
   "source": [
    "# Create a numerical feature column to represent longitude.\n",
    "longitude = tf.feature_column.numeric_column('longitude')\n",
    "feature_columns.append(longitude)"
   ]
  },
  {
   "cell_type": "code",
   "execution_count": 20,
   "id": "official-iceland",
   "metadata": {},
   "outputs": [
    {
     "data": {
      "text/plain": [
       "2"
      ]
     },
     "execution_count": 20,
     "metadata": {},
     "output_type": "execute_result"
    }
   ],
   "source": [
    "len(feature_columns)"
   ]
  },
  {
   "cell_type": "code",
   "execution_count": 21,
   "id": "pending-daily",
   "metadata": {},
   "outputs": [],
   "source": [
    "# Convert the list of feature columns into a layer that will ultimately become\n",
    "# part of the model. Understanding layers is not important right now.\n",
    "fp_feature_layer = layers.DenseFeatures(feature_columns)"
   ]
  },
  {
   "cell_type": "code",
   "execution_count": 24,
   "id": "underlying-jones",
   "metadata": {},
   "outputs": [
    {
     "data": {
      "text/plain": [
       "<tensorflow.python.keras.feature_column.dense_features_v2.DenseFeatures at 0x1d4fb70b670>"
      ]
     },
     "execution_count": 24,
     "metadata": {},
     "output_type": "execute_result"
    }
   ],
   "source": [
    "fp_feature_layer"
   ]
  },
  {
   "cell_type": "markdown",
   "id": "appreciated-microwave",
   "metadata": {},
   "source": [
    "## Define functions that create and train a model, and a plotting function"
   ]
  },
  {
   "cell_type": "code",
   "execution_count": 25,
   "id": "packed-satisfaction",
   "metadata": {},
   "outputs": [],
   "source": [
    "def create_model(my_learning_rate, feature_layer):\n",
    "    model = tf.keras.models.Sequential()\n",
    "    # Add the layer containing the feature columns to the model.\n",
    "    model.add(feature_layer)\n",
    "    # Add one linear layer to the model to yield a simple linear regressor.\n",
    "    model.add(tf.keras.layers.Dense(units=1, input_shape=(1,)))\n",
    "    model.compile(optimizer=tf.keras.optimizers.RMSprop(learning_rate=my_learning_rate),\n",
    "                 loss='mean_squared_error',\n",
    "                 metrics=[tf.keras.metrics.RootMeanSquaredError()])\n",
    "    return model"
   ]
  },
  {
   "cell_type": "code",
   "execution_count": 29,
   "id": "sixth-wagner",
   "metadata": {},
   "outputs": [],
   "source": [
    "def train_model(model, dataset, epochs, batch_size, label_name):\n",
    "    features = {name:np.array(value) for name, value in dataset.items()}\n",
    "    label = np.array(features.pop(label_name))\n",
    "    history = model.fit(x=features, y=label, batch_size=batch_size,\n",
    "                       epochs=epochs, shuffle=True)\n",
    "    \n",
    "    # The list of epochs is stored separately from the rest of history.\n",
    "    epochs = history.epoch\n",
    "    \n",
    "    # Isolate the mean absolute error for each epoch.\n",
    "    hist = pd.DataFrame(history.history)\n",
    "    rmse = hist['root_mean_squared_error']\n",
    "    \n",
    "    return epochs, rmse"
   ]
  },
  {
   "cell_type": "code",
   "execution_count": 27,
   "id": "phantom-spirituality",
   "metadata": {},
   "outputs": [
    {
     "name": "stdout",
     "output_type": "stream",
     "text": [
      "Defined the create_model, train_model, and plot_the_loss-curve functions\n"
     ]
    }
   ],
   "source": [
    "def plot_the_loss_curve(epochs, rmse):\n",
    "    plt.figure()\n",
    "    plt.xlabel('Epoch')\n",
    "    plt.ylabel('Root Mean Squared Error')\n",
    "    \n",
    "    plt.plot(epochs, rmse, label='Loss')\n",
    "    plt.legend()\n",
    "    plt.ylim([rmse.min()*0.94, rmse.max()*1.05])\n",
    "    plt.show()\n",
    "    \n",
    "print('Defined the create_model, train_model, and plot_the_loss-curve functions')"
   ]
  },
  {
   "cell_type": "markdown",
   "id": "realistic-salmon",
   "metadata": {},
   "source": [
    "## Train the model with floating-point representations"
   ]
  },
  {
   "cell_type": "code",
   "execution_count": 30,
   "id": "comfortable-congo",
   "metadata": {},
   "outputs": [
    {
     "name": "stdout",
     "output_type": "stream",
     "text": [
      "Epoch 1/30\n",
      "WARNING:tensorflow:Layers in a Sequential model should only have a single input tensor, but we receive a <class 'dict'> input: {'longitude': <tf.Tensor 'ExpandDims_3:0' shape=(100, 1) dtype=float32>, 'latitude': <tf.Tensor 'ExpandDims_2:0' shape=(100, 1) dtype=float32>, 'housing_median_age': <tf.Tensor 'ExpandDims_1:0' shape=(100, 1) dtype=float32>, 'total_rooms': <tf.Tensor 'ExpandDims_7:0' shape=(100, 1) dtype=float32>, 'total_bedrooms': <tf.Tensor 'ExpandDims_6:0' shape=(100, 1) dtype=float32>, 'population': <tf.Tensor 'ExpandDims_5:0' shape=(100, 1) dtype=float32>, 'households': <tf.Tensor 'ExpandDims:0' shape=(100, 1) dtype=float32>, 'median_income': <tf.Tensor 'ExpandDims_4:0' shape=(100, 1) dtype=float32>}\n",
      "Consider rewriting this model with the Functional API.\n",
      "WARNING:tensorflow:Layers in a Sequential model should only have a single input tensor, but we receive a <class 'dict'> input: {'longitude': <tf.Tensor 'ExpandDims_3:0' shape=(100, 1) dtype=float32>, 'latitude': <tf.Tensor 'ExpandDims_2:0' shape=(100, 1) dtype=float32>, 'housing_median_age': <tf.Tensor 'ExpandDims_1:0' shape=(100, 1) dtype=float32>, 'total_rooms': <tf.Tensor 'ExpandDims_7:0' shape=(100, 1) dtype=float32>, 'total_bedrooms': <tf.Tensor 'ExpandDims_6:0' shape=(100, 1) dtype=float32>, 'population': <tf.Tensor 'ExpandDims_5:0' shape=(100, 1) dtype=float32>, 'households': <tf.Tensor 'ExpandDims:0' shape=(100, 1) dtype=float32>, 'median_income': <tf.Tensor 'ExpandDims_4:0' shape=(100, 1) dtype=float32>}\n",
      "Consider rewriting this model with the Functional API.\n",
      "170/170 [==============================] - 1s 3ms/step - loss: 18272.8867 - root_mean_squared_error: 135.1772\n",
      "Epoch 2/30\n",
      "170/170 [==============================] - 0s 2ms/step - loss: 13612.1338 - root_mean_squared_error: 116.6711\n",
      "Epoch 3/30\n",
      "170/170 [==============================] - 0s 2ms/step - loss: 13567.7998 - root_mean_squared_error: 116.4809\n",
      "Epoch 4/30\n",
      "170/170 [==============================] - 0s 3ms/step - loss: 13493.9834 - root_mean_squared_error: 116.1636\n",
      "Epoch 5/30\n",
      "170/170 [==============================] - 0s 2ms/step - loss: 13464.9736 - root_mean_squared_error: 116.0387\n",
      "Epoch 6/30\n",
      "170/170 [==============================] - 0s 3ms/step - loss: 13421.2822 - root_mean_squared_error: 115.8503\n",
      "Epoch 7/30\n",
      "170/170 [==============================] - 0s 2ms/step - loss: 13365.8311 - root_mean_squared_error: 115.6107\n",
      "Epoch 8/30\n",
      "170/170 [==============================] - 0s 2ms/step - loss: 13328.9238 - root_mean_squared_error: 115.4510\n",
      "Epoch 9/30\n",
      "170/170 [==============================] - 0s 2ms/step - loss: 13285.6504 - root_mean_squared_error: 115.2634\n",
      "Epoch 10/30\n",
      "170/170 [==============================] - 0s 2ms/step - loss: 13236.1377 - root_mean_squared_error: 115.0484\n",
      "Epoch 11/30\n",
      "170/170 [==============================] - 0s 2ms/step - loss: 13219.3174 - root_mean_squared_error: 114.9753\n",
      "Epoch 12/30\n",
      "170/170 [==============================] - 0s 2ms/step - loss: 13178.6621 - root_mean_squared_error: 114.7984\n",
      "Epoch 13/30\n",
      "170/170 [==============================] - 0s 2ms/step - loss: 13156.3643 - root_mean_squared_error: 114.7012\n",
      "Epoch 14/30\n",
      "170/170 [==============================] - 0s 2ms/step - loss: 13135.1865 - root_mean_squared_error: 114.6088\n",
      "Epoch 15/30\n",
      "170/170 [==============================] - 0s 2ms/step - loss: 13096.7031 - root_mean_squared_error: 114.4408\n",
      "Epoch 16/30\n",
      "170/170 [==============================] - 0s 2ms/step - loss: 13058.1191 - root_mean_squared_error: 114.2721\n",
      "Epoch 17/30\n",
      "170/170 [==============================] - 1s 3ms/step - loss: 13055.7500 - root_mean_squared_error: 114.2618\n",
      "Epoch 18/30\n",
      "170/170 [==============================] - 0s 2ms/step - loss: 13037.4600 - root_mean_squared_error: 114.1817\n",
      "Epoch 19/30\n",
      "170/170 [==============================] - 0s 2ms/step - loss: 13006.1338 - root_mean_squared_error: 114.0444\n",
      "Epoch 20/30\n",
      "170/170 [==============================] - 0s 2ms/step - loss: 12988.3867 - root_mean_squared_error: 113.9666\n",
      "Epoch 21/30\n",
      "170/170 [==============================] - 0s 3ms/step - loss: 12961.6211 - root_mean_squared_error: 113.8491\n",
      "Epoch 22/30\n",
      "170/170 [==============================] - 0s 2ms/step - loss: 12956.2705 - root_mean_squared_error: 113.8256\n",
      "Epoch 23/30\n",
      "170/170 [==============================] - 0s 2ms/step - loss: 12930.6357 - root_mean_squared_error: 113.7130\n",
      "Epoch 24/30\n",
      "170/170 [==============================] - 0s 2ms/step - loss: 12918.0352 - root_mean_squared_error: 113.6575\n",
      "Epoch 25/30\n",
      "170/170 [==============================] - 0s 2ms/step - loss: 12918.6084 - root_mean_squared_error: 113.6601\n",
      "Epoch 26/30\n",
      "170/170 [==============================] - 0s 2ms/step - loss: 12898.4785 - root_mean_squared_error: 113.5715\n",
      "Epoch 27/30\n",
      "170/170 [==============================] - 0s 2ms/step - loss: 12883.9102 - root_mean_squared_error: 113.5073\n",
      "Epoch 28/30\n",
      "170/170 [==============================] - 0s 2ms/step - loss: 12884.5586 - root_mean_squared_error: 113.5102\n",
      "Epoch 29/30\n",
      "170/170 [==============================] - 0s 2ms/step - loss: 12873.7285 - root_mean_squared_error: 113.4625\n",
      "Epoch 30/30\n",
      "170/170 [==============================] - 0s 2ms/step - loss: 12872.3584 - root_mean_squared_error: 113.4564\n"
     ]
    },
    {
     "data": {
      "image/png": "[encoded data removed]",
      "text/plain": [
       "<Figure size 432x288 with 1 Axes>"
      ]
     },
     "metadata": {
      "needs_background": "light"
     },
     "output_type": "display_data"
    },
    {
     "name": "stdout",
     "output_type": "stream",
     "text": [
      "\n",
      ": Evaluate the new model against the test set:\n",
      "WARNING:tensorflow:Layers in a Sequential model should only have a single input tensor, but we receive a <class 'dict'> input: {'longitude': <tf.Tensor 'ExpandDims_3:0' shape=(100, 1) dtype=float32>, 'latitude': <tf.Tensor 'ExpandDims_2:0' shape=(100, 1) dtype=float32>, 'housing_median_age': <tf.Tensor 'ExpandDims_1:0' shape=(100, 1) dtype=float32>, 'total_rooms': <tf.Tensor 'ExpandDims_7:0' shape=(100, 1) dtype=float32>, 'total_bedrooms': <tf.Tensor 'ExpandDims_6:0' shape=(100, 1) dtype=float32>, 'population': <tf.Tensor 'ExpandDims_5:0' shape=(100, 1) dtype=float32>, 'households': <tf.Tensor 'ExpandDims:0' shape=(100, 1) dtype=float32>, 'median_income': <tf.Tensor 'ExpandDims_4:0' shape=(100, 1) dtype=float32>}\n",
      "Consider rewriting this model with the Functional API.\n",
      "30/30 [==============================] - 0s 2ms/step - loss: 12188.1094 - root_mean_squared_error: 110.3998\n"
     ]
    },
    {
     "data": {
      "text/plain": [
       "[12188.109375, 110.39976501464844]"
      ]
     },
     "execution_count": 30,
     "metadata": {},
     "output_type": "execute_result"
    }
   ],
   "source": [
    "# The following variables are the hyperparameters.\n",
    "learning_rate = 0.05\n",
    "epochs = 30\n",
    "batch_size = 100\n",
    "label_name = 'median_house_value'\n",
    "\n",
    "# Create and compile the model's topography.\n",
    "my_model = create_model(learning_rate, fp_feature_layer)\n",
    "\n",
    "# Train the model on the training set.\n",
    "epochs, rmse = train_model(my_model, train_df, epochs, batch_size, label_name)\n",
    "\n",
    "plot_the_loss_curve(epochs, rmse)\n",
    "\n",
    "print('\\n: Evaluate the new model against the test set:')\n",
    "test_features = {name:np.array(value) for name, value in test_df.items()}\n",
    "test_label = np.array(test_features.pop(label_name))\n",
    "my_model.evaluate(x=test_features, y=test_label, batch_size=batch_size)"
   ]
  },
  {
   "cell_type": "code",
   "execution_count": null,
   "id": "chinese-screening",
   "metadata": {},
   "outputs": [],
   "source": []
  }
 ],
 "metadata": {
  "kernelspec": {
   "display_name": "Python 3",
   "language": "python",
   "name": "python3"
  },
  "language_info": {
   "codemirror_mode": {
    "name": "ipython",
    "version": 3
   },
   "file_extension": ".py",
   "mimetype": "text/x-python",
   "name": "python",
   "nbconvert_exporter": "python",
   "pygments_lexer": "ipython3",
   "version": "3.9.1"
  }
 },
 "nbformat": 4,
 "nbformat_minor": 5
}
