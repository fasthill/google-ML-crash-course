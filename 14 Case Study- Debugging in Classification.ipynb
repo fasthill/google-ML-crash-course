{
 "cells": [
  {
   "cell_type": "markdown",
   "id": "7d034547",
   "metadata": {},
   "source": [
    "## Load MNIST Data\n",
    "MNIST is a dataset of images of the numbers 0 to 9. The problem is to classify the images as numbers. Setup libraries and load the MNIST dataset. Display the first few rows to verify that the data loaded. You'll explore the data format after the data loads."
   ]
  },
  {
   "cell_type": "code",
   "execution_count": 1,
   "id": "e508b946",
   "metadata": {},
   "outputs": [],
   "source": [
    "# Load libraries\n",
    "from os.path import join\n",
    "import sys\n",
    "import numpy as np\n",
    "import pandas as pd\n",
    "import matplotlib.pyplot as plt\n",
    "\n",
    "import tensorflow as tf\n",
    "from tensorflow import keras\n",
    "import unittest"
   ]
  },
  {
   "cell_type": "code",
   "execution_count": 2,
   "id": "9601e27e",
   "metadata": {},
   "outputs": [],
   "source": [
    "# set pandas display options\n",
    "pd.options.display.max_rows = 10\n",
    "pd.options.display.float_format = '{:.2f}'.format"
   ]
  },
  {
   "cell_type": "code",
   "execution_count": 3,
   "id": "dae2931f",
   "metadata": {},
   "outputs": [],
   "source": [
    "seed = 2022\n",
    "np.random.seed(seed)\n",
    "tf.random.set_seed(seed)"
   ]
  },
  {
   "cell_type": "code",
   "execution_count": 4,
   "id": "911155db",
   "metadata": {},
   "outputs": [],
   "source": [
    "# Load data\n",
    "mnistDf_backup = pd.read_csv(\n",
    "    \"https://download.mlcc.google.com/mledu-datasets/mnist_train_small.csv\",\n",
    "    sep=\",\", header=None)"
   ]
  },
  {
   "cell_type": "code",
   "execution_count": 5,
   "id": "1e3c9cf5",
   "metadata": {},
   "outputs": [
    {
     "data": {
      "text/html": [
       "<div>\n",
       "<style scoped>\n",
       "    .dataframe tbody tr th:only-of-type {\n",
       "        vertical-align: middle;\n",
       "    }\n",
       "\n",
       "    .dataframe tbody tr th {\n",
       "        vertical-align: top;\n",
       "    }\n",
       "\n",
       "    .dataframe thead th {\n",
       "        text-align: right;\n",
       "    }\n",
       "</style>\n",
       "<table border=\"1\" class=\"dataframe\">\n",
       "  <thead>\n",
       "    <tr style=\"text-align: right;\">\n",
       "      <th></th>\n",
       "      <th>0</th>\n",
       "      <th>1</th>\n",
       "      <th>2</th>\n",
       "      <th>3</th>\n",
       "      <th>4</th>\n",
       "      <th>5</th>\n",
       "      <th>6</th>\n",
       "      <th>7</th>\n",
       "      <th>8</th>\n",
       "      <th>9</th>\n",
       "      <th>...</th>\n",
       "      <th>775</th>\n",
       "      <th>776</th>\n",
       "      <th>777</th>\n",
       "      <th>778</th>\n",
       "      <th>779</th>\n",
       "      <th>780</th>\n",
       "      <th>781</th>\n",
       "      <th>782</th>\n",
       "      <th>783</th>\n",
       "      <th>784</th>\n",
       "    </tr>\n",
       "  </thead>\n",
       "  <tbody>\n",
       "    <tr>\n",
       "      <th>0</th>\n",
       "      <td>9</td>\n",
       "      <td>0</td>\n",
       "      <td>0</td>\n",
       "      <td>0</td>\n",
       "      <td>0</td>\n",
       "      <td>0</td>\n",
       "      <td>0</td>\n",
       "      <td>0</td>\n",
       "      <td>0</td>\n",
       "      <td>0</td>\n",
       "      <td>...</td>\n",
       "      <td>0</td>\n",
       "      <td>0</td>\n",
       "      <td>0</td>\n",
       "      <td>0</td>\n",
       "      <td>0</td>\n",
       "      <td>0</td>\n",
       "      <td>0</td>\n",
       "      <td>0</td>\n",
       "      <td>0</td>\n",
       "      <td>0</td>\n",
       "    </tr>\n",
       "    <tr>\n",
       "      <th>1</th>\n",
       "      <td>5</td>\n",
       "      <td>0</td>\n",
       "      <td>0</td>\n",
       "      <td>0</td>\n",
       "      <td>0</td>\n",
       "      <td>0</td>\n",
       "      <td>0</td>\n",
       "      <td>0</td>\n",
       "      <td>0</td>\n",
       "      <td>0</td>\n",
       "      <td>...</td>\n",
       "      <td>0</td>\n",
       "      <td>0</td>\n",
       "      <td>0</td>\n",
       "      <td>0</td>\n",
       "      <td>0</td>\n",
       "      <td>0</td>\n",
       "      <td>0</td>\n",
       "      <td>0</td>\n",
       "      <td>0</td>\n",
       "      <td>0</td>\n",
       "    </tr>\n",
       "    <tr>\n",
       "      <th>2</th>\n",
       "      <td>2</td>\n",
       "      <td>0</td>\n",
       "      <td>0</td>\n",
       "      <td>0</td>\n",
       "      <td>0</td>\n",
       "      <td>0</td>\n",
       "      <td>0</td>\n",
       "      <td>0</td>\n",
       "      <td>0</td>\n",
       "      <td>0</td>\n",
       "      <td>...</td>\n",
       "      <td>0</td>\n",
       "      <td>0</td>\n",
       "      <td>0</td>\n",
       "      <td>0</td>\n",
       "      <td>0</td>\n",
       "      <td>0</td>\n",
       "      <td>0</td>\n",
       "      <td>0</td>\n",
       "      <td>0</td>\n",
       "      <td>0</td>\n",
       "    </tr>\n",
       "    <tr>\n",
       "      <th>3</th>\n",
       "      <td>5</td>\n",
       "      <td>0</td>\n",
       "      <td>0</td>\n",
       "      <td>0</td>\n",
       "      <td>0</td>\n",
       "      <td>0</td>\n",
       "      <td>0</td>\n",
       "      <td>0</td>\n",
       "      <td>0</td>\n",
       "      <td>0</td>\n",
       "      <td>...</td>\n",
       "      <td>0</td>\n",
       "      <td>0</td>\n",
       "      <td>0</td>\n",
       "      <td>0</td>\n",
       "      <td>0</td>\n",
       "      <td>0</td>\n",
       "      <td>0</td>\n",
       "      <td>0</td>\n",
       "      <td>0</td>\n",
       "      <td>0</td>\n",
       "    </tr>\n",
       "    <tr>\n",
       "      <th>4</th>\n",
       "      <td>6</td>\n",
       "      <td>0</td>\n",
       "      <td>0</td>\n",
       "      <td>0</td>\n",
       "      <td>0</td>\n",
       "      <td>0</td>\n",
       "      <td>0</td>\n",
       "      <td>0</td>\n",
       "      <td>0</td>\n",
       "      <td>0</td>\n",
       "      <td>...</td>\n",
       "      <td>0</td>\n",
       "      <td>0</td>\n",
       "      <td>0</td>\n",
       "      <td>0</td>\n",
       "      <td>0</td>\n",
       "      <td>0</td>\n",
       "      <td>0</td>\n",
       "      <td>0</td>\n",
       "      <td>0</td>\n",
       "      <td>0</td>\n",
       "    </tr>\n",
       "    <tr>\n",
       "      <th>...</th>\n",
       "      <td>...</td>\n",
       "      <td>...</td>\n",
       "      <td>...</td>\n",
       "      <td>...</td>\n",
       "      <td>...</td>\n",
       "      <td>...</td>\n",
       "      <td>...</td>\n",
       "      <td>...</td>\n",
       "      <td>...</td>\n",
       "      <td>...</td>\n",
       "      <td>...</td>\n",
       "      <td>...</td>\n",
       "      <td>...</td>\n",
       "      <td>...</td>\n",
       "      <td>...</td>\n",
       "      <td>...</td>\n",
       "      <td>...</td>\n",
       "      <td>...</td>\n",
       "      <td>...</td>\n",
       "      <td>...</td>\n",
       "      <td>...</td>\n",
       "    </tr>\n",
       "    <tr>\n",
       "      <th>19995</th>\n",
       "      <td>4</td>\n",
       "      <td>0</td>\n",
       "      <td>0</td>\n",
       "      <td>0</td>\n",
       "      <td>0</td>\n",
       "      <td>0</td>\n",
       "      <td>0</td>\n",
       "      <td>0</td>\n",
       "      <td>0</td>\n",
       "      <td>0</td>\n",
       "      <td>...</td>\n",
       "      <td>0</td>\n",
       "      <td>0</td>\n",
       "      <td>0</td>\n",
       "      <td>0</td>\n",
       "      <td>0</td>\n",
       "      <td>0</td>\n",
       "      <td>0</td>\n",
       "      <td>0</td>\n",
       "      <td>0</td>\n",
       "      <td>0</td>\n",
       "    </tr>\n",
       "    <tr>\n",
       "      <th>19996</th>\n",
       "      <td>8</td>\n",
       "      <td>0</td>\n",
       "      <td>0</td>\n",
       "      <td>0</td>\n",
       "      <td>0</td>\n",
       "      <td>0</td>\n",
       "      <td>0</td>\n",
       "      <td>0</td>\n",
       "      <td>0</td>\n",
       "      <td>0</td>\n",
       "      <td>...</td>\n",
       "      <td>0</td>\n",
       "      <td>0</td>\n",
       "      <td>0</td>\n",
       "      <td>0</td>\n",
       "      <td>0</td>\n",
       "      <td>0</td>\n",
       "      <td>0</td>\n",
       "      <td>0</td>\n",
       "      <td>0</td>\n",
       "      <td>0</td>\n",
       "    </tr>\n",
       "    <tr>\n",
       "      <th>19997</th>\n",
       "      <td>7</td>\n",
       "      <td>0</td>\n",
       "      <td>0</td>\n",
       "      <td>0</td>\n",
       "      <td>0</td>\n",
       "      <td>0</td>\n",
       "      <td>0</td>\n",
       "      <td>0</td>\n",
       "      <td>0</td>\n",
       "      <td>0</td>\n",
       "      <td>...</td>\n",
       "      <td>0</td>\n",
       "      <td>0</td>\n",
       "      <td>0</td>\n",
       "      <td>0</td>\n",
       "      <td>0</td>\n",
       "      <td>0</td>\n",
       "      <td>0</td>\n",
       "      <td>0</td>\n",
       "      <td>0</td>\n",
       "      <td>0</td>\n",
       "    </tr>\n",
       "    <tr>\n",
       "      <th>19998</th>\n",
       "      <td>4</td>\n",
       "      <td>0</td>\n",
       "      <td>0</td>\n",
       "      <td>0</td>\n",
       "      <td>0</td>\n",
       "      <td>0</td>\n",
       "      <td>0</td>\n",
       "      <td>0</td>\n",
       "      <td>0</td>\n",
       "      <td>0</td>\n",
       "      <td>...</td>\n",
       "      <td>0</td>\n",
       "      <td>0</td>\n",
       "      <td>0</td>\n",
       "      <td>0</td>\n",
       "      <td>0</td>\n",
       "      <td>0</td>\n",
       "      <td>0</td>\n",
       "      <td>0</td>\n",
       "      <td>0</td>\n",
       "      <td>0</td>\n",
       "    </tr>\n",
       "    <tr>\n",
       "      <th>19999</th>\n",
       "      <td>2</td>\n",
       "      <td>0</td>\n",
       "      <td>0</td>\n",
       "      <td>0</td>\n",
       "      <td>0</td>\n",
       "      <td>0</td>\n",
       "      <td>0</td>\n",
       "      <td>0</td>\n",
       "      <td>0</td>\n",
       "      <td>0</td>\n",
       "      <td>...</td>\n",
       "      <td>0</td>\n",
       "      <td>0</td>\n",
       "      <td>0</td>\n",
       "      <td>0</td>\n",
       "      <td>0</td>\n",
       "      <td>0</td>\n",
       "      <td>0</td>\n",
       "      <td>0</td>\n",
       "      <td>0</td>\n",
       "      <td>0</td>\n",
       "    </tr>\n",
       "  </tbody>\n",
       "</table>\n",
       "<p>20000 rows × 785 columns</p>\n",
       "</div>"
      ],
      "text/plain": [
       "       0    1    2    3    4    5    6    7    8    9    ...  775  776  777  \\\n",
       "0        9    0    0    0    0    0    0    0    0    0  ...    0    0    0   \n",
       "1        5    0    0    0    0    0    0    0    0    0  ...    0    0    0   \n",
       "2        2    0    0    0    0    0    0    0    0    0  ...    0    0    0   \n",
       "3        5    0    0    0    0    0    0    0    0    0  ...    0    0    0   \n",
       "4        6    0    0    0    0    0    0    0    0    0  ...    0    0    0   \n",
       "...    ...  ...  ...  ...  ...  ...  ...  ...  ...  ...  ...  ...  ...  ...   \n",
       "19995    4    0    0    0    0    0    0    0    0    0  ...    0    0    0   \n",
       "19996    8    0    0    0    0    0    0    0    0    0  ...    0    0    0   \n",
       "19997    7    0    0    0    0    0    0    0    0    0  ...    0    0    0   \n",
       "19998    4    0    0    0    0    0    0    0    0    0  ...    0    0    0   \n",
       "19999    2    0    0    0    0    0    0    0    0    0  ...    0    0    0   \n",
       "\n",
       "       778  779  780  781  782  783  784  \n",
       "0        0    0    0    0    0    0    0  \n",
       "1        0    0    0    0    0    0    0  \n",
       "2        0    0    0    0    0    0    0  \n",
       "3        0    0    0    0    0    0    0  \n",
       "4        0    0    0    0    0    0    0  \n",
       "...    ...  ...  ...  ...  ...  ...  ...  \n",
       "19995    0    0    0    0    0    0    0  \n",
       "19996    0    0    0    0    0    0    0  \n",
       "19997    0    0    0    0    0    0    0  \n",
       "19998    0    0    0    0    0    0    0  \n",
       "19999    0    0    0    0    0    0    0  \n",
       "\n",
       "[20000 rows x 785 columns]"
      ]
     },
     "execution_count": 5,
     "metadata": {},
     "output_type": "execute_result"
    }
   ],
   "source": [
    "# Shuffle data\n",
    "mnistDf_backup.sample(frac=1).reset_index(drop=True) # 기존 idx를 drop시키고 0부터 순서"
   ]
  },
  {
   "cell_type": "code",
   "execution_count": 6,
   "id": "1cd5e364",
   "metadata": {},
   "outputs": [
    {
     "data": {
      "text/html": [
       "<div>\n",
       "<style scoped>\n",
       "    .dataframe tbody tr th:only-of-type {\n",
       "        vertical-align: middle;\n",
       "    }\n",
       "\n",
       "    .dataframe tbody tr th {\n",
       "        vertical-align: top;\n",
       "    }\n",
       "\n",
       "    .dataframe thead th {\n",
       "        text-align: right;\n",
       "    }\n",
       "</style>\n",
       "<table border=\"1\" class=\"dataframe\">\n",
       "  <thead>\n",
       "    <tr style=\"text-align: right;\">\n",
       "      <th></th>\n",
       "      <th>0</th>\n",
       "      <th>1</th>\n",
       "      <th>2</th>\n",
       "      <th>3</th>\n",
       "      <th>4</th>\n",
       "      <th>5</th>\n",
       "      <th>6</th>\n",
       "      <th>7</th>\n",
       "      <th>8</th>\n",
       "      <th>9</th>\n",
       "      <th>...</th>\n",
       "      <th>775</th>\n",
       "      <th>776</th>\n",
       "      <th>777</th>\n",
       "      <th>778</th>\n",
       "      <th>779</th>\n",
       "      <th>780</th>\n",
       "      <th>781</th>\n",
       "      <th>782</th>\n",
       "      <th>783</th>\n",
       "      <th>784</th>\n",
       "    </tr>\n",
       "  </thead>\n",
       "  <tbody>\n",
       "    <tr>\n",
       "      <th>0</th>\n",
       "      <td>6</td>\n",
       "      <td>0</td>\n",
       "      <td>0</td>\n",
       "      <td>0</td>\n",
       "      <td>0</td>\n",
       "      <td>0</td>\n",
       "      <td>0</td>\n",
       "      <td>0</td>\n",
       "      <td>0</td>\n",
       "      <td>0</td>\n",
       "      <td>...</td>\n",
       "      <td>0</td>\n",
       "      <td>0</td>\n",
       "      <td>0</td>\n",
       "      <td>0</td>\n",
       "      <td>0</td>\n",
       "      <td>0</td>\n",
       "      <td>0</td>\n",
       "      <td>0</td>\n",
       "      <td>0</td>\n",
       "      <td>0</td>\n",
       "    </tr>\n",
       "    <tr>\n",
       "      <th>1</th>\n",
       "      <td>5</td>\n",
       "      <td>0</td>\n",
       "      <td>0</td>\n",
       "      <td>0</td>\n",
       "      <td>0</td>\n",
       "      <td>0</td>\n",
       "      <td>0</td>\n",
       "      <td>0</td>\n",
       "      <td>0</td>\n",
       "      <td>0</td>\n",
       "      <td>...</td>\n",
       "      <td>0</td>\n",
       "      <td>0</td>\n",
       "      <td>0</td>\n",
       "      <td>0</td>\n",
       "      <td>0</td>\n",
       "      <td>0</td>\n",
       "      <td>0</td>\n",
       "      <td>0</td>\n",
       "      <td>0</td>\n",
       "      <td>0</td>\n",
       "    </tr>\n",
       "    <tr>\n",
       "      <th>2</th>\n",
       "      <td>7</td>\n",
       "      <td>0</td>\n",
       "      <td>0</td>\n",
       "      <td>0</td>\n",
       "      <td>0</td>\n",
       "      <td>0</td>\n",
       "      <td>0</td>\n",
       "      <td>0</td>\n",
       "      <td>0</td>\n",
       "      <td>0</td>\n",
       "      <td>...</td>\n",
       "      <td>0</td>\n",
       "      <td>0</td>\n",
       "      <td>0</td>\n",
       "      <td>0</td>\n",
       "      <td>0</td>\n",
       "      <td>0</td>\n",
       "      <td>0</td>\n",
       "      <td>0</td>\n",
       "      <td>0</td>\n",
       "      <td>0</td>\n",
       "    </tr>\n",
       "    <tr>\n",
       "      <th>3</th>\n",
       "      <td>9</td>\n",
       "      <td>0</td>\n",
       "      <td>0</td>\n",
       "      <td>0</td>\n",
       "      <td>0</td>\n",
       "      <td>0</td>\n",
       "      <td>0</td>\n",
       "      <td>0</td>\n",
       "      <td>0</td>\n",
       "      <td>0</td>\n",
       "      <td>...</td>\n",
       "      <td>0</td>\n",
       "      <td>0</td>\n",
       "      <td>0</td>\n",
       "      <td>0</td>\n",
       "      <td>0</td>\n",
       "      <td>0</td>\n",
       "      <td>0</td>\n",
       "      <td>0</td>\n",
       "      <td>0</td>\n",
       "      <td>0</td>\n",
       "    </tr>\n",
       "    <tr>\n",
       "      <th>4</th>\n",
       "      <td>5</td>\n",
       "      <td>0</td>\n",
       "      <td>0</td>\n",
       "      <td>0</td>\n",
       "      <td>0</td>\n",
       "      <td>0</td>\n",
       "      <td>0</td>\n",
       "      <td>0</td>\n",
       "      <td>0</td>\n",
       "      <td>0</td>\n",
       "      <td>...</td>\n",
       "      <td>0</td>\n",
       "      <td>0</td>\n",
       "      <td>0</td>\n",
       "      <td>0</td>\n",
       "      <td>0</td>\n",
       "      <td>0</td>\n",
       "      <td>0</td>\n",
       "      <td>0</td>\n",
       "      <td>0</td>\n",
       "      <td>0</td>\n",
       "    </tr>\n",
       "  </tbody>\n",
       "</table>\n",
       "<p>5 rows × 785 columns</p>\n",
       "</div>"
      ],
      "text/plain": [
       "   0    1    2    3    4    5    6    7    8    9    ...  775  776  777  778  \\\n",
       "0    6    0    0    0    0    0    0    0    0    0  ...    0    0    0    0   \n",
       "1    5    0    0    0    0    0    0    0    0    0  ...    0    0    0    0   \n",
       "2    7    0    0    0    0    0    0    0    0    0  ...    0    0    0    0   \n",
       "3    9    0    0    0    0    0    0    0    0    0  ...    0    0    0    0   \n",
       "4    5    0    0    0    0    0    0    0    0    0  ...    0    0    0    0   \n",
       "\n",
       "   779  780  781  782  783  784  \n",
       "0    0    0    0    0    0    0  \n",
       "1    0    0    0    0    0    0  \n",
       "2    0    0    0    0    0    0  \n",
       "3    0    0    0    0    0    0  \n",
       "4    0    0    0    0    0    0  \n",
       "\n",
       "[5 rows x 785 columns]"
      ]
     },
     "execution_count": 6,
     "metadata": {},
     "output_type": "execute_result"
    }
   ],
   "source": [
    "# Use the first 5000 examples for faster prototyping\n",
    "mnistDf = mnistDf_backup[0:5000]\n",
    "\n",
    "mnistDf.head()"
   ]
  },
  {
   "cell_type": "code",
   "execution_count": 7,
   "id": "6a6d1063",
   "metadata": {
    "scrolled": false
   },
   "outputs": [
    {
     "name": "stdout",
     "output_type": "stream",
     "text": [
      "[[  0   0   0   0   0   0   0   0   0   0   0   0   0   0   0   0   0   0\n",
      "    0   0   0   0   0   0   0   0   0   0]\n",
      " [  0   0   0   0   0   0   0   0   0   0   0   0   0   0   0   0   0   0\n",
      "    0   0   0   0   0   0   0   0   0   0]\n",
      " [  0   0   0   0   0   0   0   0   0   0   0   0   0   0   0   0   0   0\n",
      "    0   0   0   0   0   0   0   0   0   0]\n",
      " [  0   0   0   0   0   0   0   0   0   0   0   0   0   0   0   0   0   0\n",
      "    0   0   0   0   0   0   0   0   0   0]\n",
      " [  0   0   0   0   0   0   0   0   0   0   0   0   0   0   0   0   0   0\n",
      "    0   0   0   0   0   0   0   0   0   0]\n",
      " [  0   0   0   0   0   0   0   0   0   0   0   0   0   0   0   0   0   0\n",
      "    0   0   0   0   0   0   0   0   0   0]\n",
      " [  0   0   0   0   0   0   0   0   0   0   0   0   0   0   0   0   0  32\n",
      "   97 179 254 223  72   0   0   0   0   0]\n",
      " [  0   0   0   0   0   0   0   0   0   0   0   0   0   0  13  65 185 235\n",
      "  253 254 253 253 199   0   0   0   0   0]\n",
      " [  0   0   0   0   0   0   0   0   0   0  37  55   0  61 224 253 253 253\n",
      "  192  78 226 253 213   0   0   0   0   0]\n",
      " [  0   0   0   0   0   0   0   0   0 100 228 247 159 248 254 234 183  64\n",
      "    5   0 177 253 161   0   0   0   0   0]\n",
      " [  0   0   0   0   0   0   0   0  76 254 253 253 253 253 193  46   0   0\n",
      "    0   0 214 253 117   0   0   0   0   0]\n",
      " [  0   0   0   0   0   0   0   0 121 255 254 254 146  60   0   0   0   0\n",
      "    0  14 224 254  57   0   0   0   0   0]\n",
      " [  0   0   0   0   0   0   0  79 244 254 243 106   3   0   0   0   0   0\n",
      "    0 186 253 216  10   0   0   0   0   0]\n",
      " [  0   0   0   0   0   0   0 166 253 254 135   0   0   0   0   0   0   0\n",
      "    0 254 253 107   0   0   0   0   0   0]\n",
      " [  0   0   0   0   0   0 126 251 253 146   3   0   0   0   0   0   0   0\n",
      "  106 254 242  36   0   0   0   0   0   0]\n",
      " [  0   0   0   0   0   8 205 253 215  23   0   0   0   0   0   0   0  31\n",
      "  239 254 121   0   0   0   0   0   0   0]\n",
      " [  0   0   0   0   0 178 254 244  83   0   0   0   0   0   0   0  19 201\n",
      "  254 196  15   0   0   0   0   0   0   0]\n",
      " [  0   0   0   0  28 232 253 124   0   0   0   0   0   0   0   2 129 253\n",
      "  253  15   0   0   0   0   0   0   0   0]\n",
      " [  0   0   0   0  18 220 174  13   0   0   0   0   0   0   0  88 253 253\n",
      "  154   0   0   0   0   0   0   0   0   0]\n",
      " [  0   0   0   0   0  15   0   0   0   0   0   0   0   0  10 175 253 231\n",
      "   27   0   0   0   0   0   0   0   0   0]\n",
      " [  0   0   0   0   0   0   0   0   0   0   0   0   0   0 134 253 253 138\n",
      "    0   0   0   0   0   0   0   0   0   0]\n",
      " [  0   0   0   0   0   0   0   0   0   0   0   0   0  83 255 254 152   0\n",
      "    0   0   0   0   0   0   0   0   0   0]\n",
      " [  0   0   0   0   0   0   0   0   0   0   0   0  19 222 254 191  12   0\n",
      "    0   0   0   0   0   0   0   0   0   0]\n",
      " [  0   0   0   0   0   0   0   0   0   0   0   0 137 253 254 135   0   0\n",
      "    0   0   0   0   0   0   0   0   0   0]\n",
      " [  0   0   0   0   0   0   0   0   0   0   0   0 234 253 254 173   0   0\n",
      "    0   0   0   0   0   0   0   0   0   0]\n",
      " [  0   0   0   0   0   0   0   0   0   0   0   0 159 253 193  46   0   0\n",
      "    0   0   0   0   0   0   0   0   0   0]\n",
      " [  0   0   0   0   0   0   0   0   0   0   0   0   0   0   0   0   0   0\n",
      "    0   0   0   0   0   0   0   0   0   0]\n",
      " [  0   0   0   0   0   0   0   0   0   0   0   0   0   0   0   0   0   0\n",
      "    0   0   0   0   0   0   0   0   0   0]]\n"
     ]
    }
   ],
   "source": [
    "showExample = 2\n",
    "# digitData = np.reshape(np.array(mnistDf.iloc[showExample, 1:]), [28,28])\n",
    "digitData = np.array(mnistDf.iloc[showExample, 1:]).reshape(28,28)\n",
    "print(digitData)"
   ]
  },
  {
   "cell_type": "markdown",
   "id": "4d2765e7",
   "metadata": {},
   "source": [
    "## Do you have Imbalanced Classes?\n",
    "As we read in the course, imbalanced classes make classification harder. Let's look at the distribution of classes. Do you have imbalanced classes?"
   ]
  },
  {
   "cell_type": "code",
   "execution_count": 8,
   "id": "e034e860",
   "metadata": {},
   "outputs": [],
   "source": [
    "# Calculate the number of classes\n",
    "numClasses = mnistDf.iloc[:, 0].unique().shape[0]"
   ]
  },
  {
   "cell_type": "code",
   "execution_count": 9,
   "id": "e2371ae8",
   "metadata": {
    "scrolled": true
   },
   "outputs": [
    {
     "data": {
      "text/plain": [
       "([<matplotlib.axis.XTick at 0x232ed8d6280>,\n",
       "  <matplotlib.axis.XTick at 0x232ed8d6250>,\n",
       "  <matplotlib.axis.XTick at 0x232ed8f2d90>,\n",
       "  <matplotlib.axis.XTick at 0x232ed91e220>,\n",
       "  <matplotlib.axis.XTick at 0x232ed91e700>,\n",
       "  <matplotlib.axis.XTick at 0x232ed91ec10>,\n",
       "  <matplotlib.axis.XTick at 0x232ed941160>,\n",
       "  <matplotlib.axis.XTick at 0x232ed941670>,\n",
       "  <matplotlib.axis.XTick at 0x232ed941b80>,\n",
       "  <matplotlib.axis.XTick at 0x232ed92c0d0>,\n",
       "  <matplotlib.axis.XTick at 0x232ed92c5e0>],\n",
       " [Text(0, 0, ''),\n",
       "  Text(0, 0, ''),\n",
       "  Text(0, 0, ''),\n",
       "  Text(0, 0, ''),\n",
       "  Text(0, 0, ''),\n",
       "  Text(0, 0, ''),\n",
       "  Text(0, 0, ''),\n",
       "  Text(0, 0, ''),\n",
       "  Text(0, 0, ''),\n",
       "  Text(0, 0, ''),\n",
       "  Text(0, 0, '')])"
      ]
     },
     "execution_count": 9,
     "metadata": {},
     "output_type": "execute_result"
    },
    {
     "data": {
      "image/png": "[encoded data removed]",
      "text/plain": [
       "<Figure size 432x288 with 1 Axes>"
      ]
     },
     "metadata": {
      "needs_background": "light"
     },
     "output_type": "display_data"
    }
   ],
   "source": [
    "# Plot histogram of class distribution\n",
    "# (mnistDf.iloc[:, 0]).value_counts().sort_index()\n",
    "plt.hist(mnistDf.iloc[:, 0], bins=range(numClasses+1))\n",
    "plt.xticks(range(numClasses+1))"
   ]
  },
  {
   "cell_type": "markdown",
   "id": "e141e240",
   "metadata": {},
   "source": [
    "The preceding graph shows that the 10 classes are roughly equally represented."
   ]
  },
  {
   "cell_type": "markdown",
   "id": "ded8d738",
   "metadata": {},
   "source": [
    "## Shuffle and Split Dataset\n",
    "As part of [Data Debugging](https://developers.google.com/machine-learning/testing-debugging/common/data-errors) best practices, ensure your splits are statistically equivalent by shuffling your data to remove any pre-existing order."
   ]
  },
  {
   "cell_type": "code",
   "execution_count": 10,
   "id": "8f967430",
   "metadata": {},
   "outputs": [],
   "source": [
    "mnistDf = mnistDf.sample(frac=1).reset_index(drop=True)"
   ]
  },
  {
   "cell_type": "code",
   "execution_count": 11,
   "id": "bf238f84",
   "metadata": {},
   "outputs": [],
   "source": [
    "mnistData = mnistDf.iloc[:, 1:].copy(deep=True)\n",
    "mnistLabels = mnistDf.iloc[:, 0].copy(deep=True)"
   ]
  },
  {
   "cell_type": "markdown",
   "id": "cc576cdd",
   "metadata": {},
   "source": [
    "## Process Data\n",
    "Scale the data values to `[0,1]` since the values are bounded to `[0,255]` and do not contain outliers. Then check that the scaled data values are as expected by generating summary statistics using the `DataFrame.describe()` function.\n",
    "\n",
    "Run the following cell to scale data and generate statistics. This cell takes a few minutes to run."
   ]
  },
  {
   "cell_type": "code",
   "execution_count": 12,
   "id": "16fd04f2",
   "metadata": {},
   "outputs": [],
   "source": [
    "def minMaxScaler(arr):\n",
    "    max = np.max(arr)\n",
    "    if(max!=0):  # avoid /0\n",
    "        min = np.min(arr)\n",
    "        arr = (arr-min)/max\n",
    "    return arr"
   ]
  },
  {
   "cell_type": "code",
   "execution_count": 13,
   "id": "a3aaae2f",
   "metadata": {},
   "outputs": [],
   "source": [
    "for featureIdx in range(mnistData.shape[1]):\n",
    "    mnistData.iloc[:,featureIdx] = minMaxScaler(mnistData.iloc[:,featureIdx])"
   ]
  },
  {
   "cell_type": "code",
   "execution_count": 14,
   "id": "818cc55e",
   "metadata": {},
   "outputs": [
    {
     "data": {
      "text/html": [
       "<div>\n",
       "<style scoped>\n",
       "    .dataframe tbody tr th:only-of-type {\n",
       "        vertical-align: middle;\n",
       "    }\n",
       "\n",
       "    .dataframe tbody tr th {\n",
       "        vertical-align: top;\n",
       "    }\n",
       "\n",
       "    .dataframe thead th {\n",
       "        text-align: right;\n",
       "    }\n",
       "</style>\n",
       "<table border=\"1\" class=\"dataframe\">\n",
       "  <thead>\n",
       "    <tr style=\"text-align: right;\">\n",
       "      <th></th>\n",
       "      <th>1</th>\n",
       "      <th>2</th>\n",
       "      <th>3</th>\n",
       "      <th>4</th>\n",
       "      <th>5</th>\n",
       "      <th>6</th>\n",
       "      <th>7</th>\n",
       "      <th>8</th>\n",
       "      <th>9</th>\n",
       "      <th>10</th>\n",
       "      <th>...</th>\n",
       "      <th>775</th>\n",
       "      <th>776</th>\n",
       "      <th>777</th>\n",
       "      <th>778</th>\n",
       "      <th>779</th>\n",
       "      <th>780</th>\n",
       "      <th>781</th>\n",
       "      <th>782</th>\n",
       "      <th>783</th>\n",
       "      <th>784</th>\n",
       "    </tr>\n",
       "  </thead>\n",
       "  <tbody>\n",
       "    <tr>\n",
       "      <th>count</th>\n",
       "      <td>5000.00</td>\n",
       "      <td>5000.00</td>\n",
       "      <td>5000.00</td>\n",
       "      <td>5000.00</td>\n",
       "      <td>5000.00</td>\n",
       "      <td>5000.00</td>\n",
       "      <td>5000.00</td>\n",
       "      <td>5000.00</td>\n",
       "      <td>5000.00</td>\n",
       "      <td>5000.00</td>\n",
       "      <td>...</td>\n",
       "      <td>5000.00</td>\n",
       "      <td>5000.00</td>\n",
       "      <td>5000.00</td>\n",
       "      <td>5000.00</td>\n",
       "      <td>5000.00</td>\n",
       "      <td>5000.00</td>\n",
       "      <td>5000.00</td>\n",
       "      <td>5000.00</td>\n",
       "      <td>5000.00</td>\n",
       "      <td>5000.00</td>\n",
       "    </tr>\n",
       "    <tr>\n",
       "      <th>mean</th>\n",
       "      <td>0.00</td>\n",
       "      <td>0.00</td>\n",
       "      <td>0.00</td>\n",
       "      <td>0.00</td>\n",
       "      <td>0.00</td>\n",
       "      <td>0.00</td>\n",
       "      <td>0.00</td>\n",
       "      <td>0.00</td>\n",
       "      <td>0.00</td>\n",
       "      <td>0.00</td>\n",
       "      <td>...</td>\n",
       "      <td>0.00</td>\n",
       "      <td>0.00</td>\n",
       "      <td>0.00</td>\n",
       "      <td>0.00</td>\n",
       "      <td>0.00</td>\n",
       "      <td>0.00</td>\n",
       "      <td>0.00</td>\n",
       "      <td>0.00</td>\n",
       "      <td>0.00</td>\n",
       "      <td>0.00</td>\n",
       "    </tr>\n",
       "    <tr>\n",
       "      <th>std</th>\n",
       "      <td>0.00</td>\n",
       "      <td>0.00</td>\n",
       "      <td>0.00</td>\n",
       "      <td>0.00</td>\n",
       "      <td>0.00</td>\n",
       "      <td>0.00</td>\n",
       "      <td>0.00</td>\n",
       "      <td>0.00</td>\n",
       "      <td>0.00</td>\n",
       "      <td>0.00</td>\n",
       "      <td>...</td>\n",
       "      <td>0.03</td>\n",
       "      <td>0.02</td>\n",
       "      <td>0.01</td>\n",
       "      <td>0.01</td>\n",
       "      <td>0.01</td>\n",
       "      <td>0.01</td>\n",
       "      <td>0.00</td>\n",
       "      <td>0.00</td>\n",
       "      <td>0.00</td>\n",
       "      <td>0.00</td>\n",
       "    </tr>\n",
       "    <tr>\n",
       "      <th>min</th>\n",
       "      <td>0.00</td>\n",
       "      <td>0.00</td>\n",
       "      <td>0.00</td>\n",
       "      <td>0.00</td>\n",
       "      <td>0.00</td>\n",
       "      <td>0.00</td>\n",
       "      <td>0.00</td>\n",
       "      <td>0.00</td>\n",
       "      <td>0.00</td>\n",
       "      <td>0.00</td>\n",
       "      <td>...</td>\n",
       "      <td>0.00</td>\n",
       "      <td>0.00</td>\n",
       "      <td>0.00</td>\n",
       "      <td>0.00</td>\n",
       "      <td>0.00</td>\n",
       "      <td>0.00</td>\n",
       "      <td>0.00</td>\n",
       "      <td>0.00</td>\n",
       "      <td>0.00</td>\n",
       "      <td>0.00</td>\n",
       "    </tr>\n",
       "    <tr>\n",
       "      <th>25%</th>\n",
       "      <td>0.00</td>\n",
       "      <td>0.00</td>\n",
       "      <td>0.00</td>\n",
       "      <td>0.00</td>\n",
       "      <td>0.00</td>\n",
       "      <td>0.00</td>\n",
       "      <td>0.00</td>\n",
       "      <td>0.00</td>\n",
       "      <td>0.00</td>\n",
       "      <td>0.00</td>\n",
       "      <td>...</td>\n",
       "      <td>0.00</td>\n",
       "      <td>0.00</td>\n",
       "      <td>0.00</td>\n",
       "      <td>0.00</td>\n",
       "      <td>0.00</td>\n",
       "      <td>0.00</td>\n",
       "      <td>0.00</td>\n",
       "      <td>0.00</td>\n",
       "      <td>0.00</td>\n",
       "      <td>0.00</td>\n",
       "    </tr>\n",
       "    <tr>\n",
       "      <th>50%</th>\n",
       "      <td>0.00</td>\n",
       "      <td>0.00</td>\n",
       "      <td>0.00</td>\n",
       "      <td>0.00</td>\n",
       "      <td>0.00</td>\n",
       "      <td>0.00</td>\n",
       "      <td>0.00</td>\n",
       "      <td>0.00</td>\n",
       "      <td>0.00</td>\n",
       "      <td>0.00</td>\n",
       "      <td>...</td>\n",
       "      <td>0.00</td>\n",
       "      <td>0.00</td>\n",
       "      <td>0.00</td>\n",
       "      <td>0.00</td>\n",
       "      <td>0.00</td>\n",
       "      <td>0.00</td>\n",
       "      <td>0.00</td>\n",
       "      <td>0.00</td>\n",
       "      <td>0.00</td>\n",
       "      <td>0.00</td>\n",
       "    </tr>\n",
       "    <tr>\n",
       "      <th>75%</th>\n",
       "      <td>0.00</td>\n",
       "      <td>0.00</td>\n",
       "      <td>0.00</td>\n",
       "      <td>0.00</td>\n",
       "      <td>0.00</td>\n",
       "      <td>0.00</td>\n",
       "      <td>0.00</td>\n",
       "      <td>0.00</td>\n",
       "      <td>0.00</td>\n",
       "      <td>0.00</td>\n",
       "      <td>...</td>\n",
       "      <td>0.00</td>\n",
       "      <td>0.00</td>\n",
       "      <td>0.00</td>\n",
       "      <td>0.00</td>\n",
       "      <td>0.00</td>\n",
       "      <td>0.00</td>\n",
       "      <td>0.00</td>\n",
       "      <td>0.00</td>\n",
       "      <td>0.00</td>\n",
       "      <td>0.00</td>\n",
       "    </tr>\n",
       "    <tr>\n",
       "      <th>max</th>\n",
       "      <td>0.00</td>\n",
       "      <td>0.00</td>\n",
       "      <td>0.00</td>\n",
       "      <td>0.00</td>\n",
       "      <td>0.00</td>\n",
       "      <td>0.00</td>\n",
       "      <td>0.00</td>\n",
       "      <td>0.00</td>\n",
       "      <td>0.00</td>\n",
       "      <td>0.00</td>\n",
       "      <td>...</td>\n",
       "      <td>1.00</td>\n",
       "      <td>1.00</td>\n",
       "      <td>1.00</td>\n",
       "      <td>1.00</td>\n",
       "      <td>1.00</td>\n",
       "      <td>1.00</td>\n",
       "      <td>0.00</td>\n",
       "      <td>0.00</td>\n",
       "      <td>0.00</td>\n",
       "      <td>0.00</td>\n",
       "    </tr>\n",
       "  </tbody>\n",
       "</table>\n",
       "<p>8 rows × 784 columns</p>\n",
       "</div>"
      ],
      "text/plain": [
       "          1       2       3       4       5       6       7       8       9    \\\n",
       "count 5000.00 5000.00 5000.00 5000.00 5000.00 5000.00 5000.00 5000.00 5000.00   \n",
       "mean     0.00    0.00    0.00    0.00    0.00    0.00    0.00    0.00    0.00   \n",
       "std      0.00    0.00    0.00    0.00    0.00    0.00    0.00    0.00    0.00   \n",
       "min      0.00    0.00    0.00    0.00    0.00    0.00    0.00    0.00    0.00   \n",
       "25%      0.00    0.00    0.00    0.00    0.00    0.00    0.00    0.00    0.00   \n",
       "50%      0.00    0.00    0.00    0.00    0.00    0.00    0.00    0.00    0.00   \n",
       "75%      0.00    0.00    0.00    0.00    0.00    0.00    0.00    0.00    0.00   \n",
       "max      0.00    0.00    0.00    0.00    0.00    0.00    0.00    0.00    0.00   \n",
       "\n",
       "          10   ...     775     776     777     778     779     780     781  \\\n",
       "count 5000.00  ... 5000.00 5000.00 5000.00 5000.00 5000.00 5000.00 5000.00   \n",
       "mean     0.00  ...    0.00    0.00    0.00    0.00    0.00    0.00    0.00   \n",
       "std      0.00  ...    0.03    0.02    0.01    0.01    0.01    0.01    0.00   \n",
       "min      0.00  ...    0.00    0.00    0.00    0.00    0.00    0.00    0.00   \n",
       "25%      0.00  ...    0.00    0.00    0.00    0.00    0.00    0.00    0.00   \n",
       "50%      0.00  ...    0.00    0.00    0.00    0.00    0.00    0.00    0.00   \n",
       "75%      0.00  ...    0.00    0.00    0.00    0.00    0.00    0.00    0.00   \n",
       "max      0.00  ...    1.00    1.00    1.00    1.00    1.00    1.00    0.00   \n",
       "\n",
       "          782     783     784  \n",
       "count 5000.00 5000.00 5000.00  \n",
       "mean     0.00    0.00    0.00  \n",
       "std      0.00    0.00    0.00  \n",
       "min      0.00    0.00    0.00  \n",
       "25%      0.00    0.00    0.00  \n",
       "50%      0.00    0.00    0.00  \n",
       "75%      0.00    0.00    0.00  \n",
       "max      0.00    0.00    0.00  \n",
       "\n",
       "[8 rows x 784 columns]"
      ]
     },
     "execution_count": 14,
     "metadata": {},
     "output_type": "execute_result"
    }
   ],
   "source": [
    "mnistData.describe()"
   ]
  },
  {
   "cell_type": "markdown",
   "id": "f6e91fcb",
   "metadata": {},
   "source": [
    "## Establish Baseline\n",
    "Following development best practices, you should establish a baseline. The simplest baseline is predicting the most common class. You saw that the most common class is 1. Let's check the accuracy when always predicting 1."
   ]
  },
  {
   "cell_type": "code",
   "execution_count": 15,
   "id": "41d337ca",
   "metadata": {},
   "outputs": [
    {
     "data": {
      "text/plain": [
       "11.42"
      ]
     },
     "execution_count": 15,
     "metadata": {},
     "output_type": "execute_result"
    }
   ],
   "source": [
    "np.sum(mnistLabels==1)*1.0/mnistLabels.shape[0]*100"
   ]
  },
  {
   "cell_type": "markdown",
   "id": "6c4451ed",
   "metadata": {},
   "source": [
    "## Train a Linear Model\n",
    "Let's start nice and easy with a linear model. All we need is an accuracy > 11%.\n",
    "\n",
    "First, let's define a function to plot our loss and accuracy curves. The function will also print the final loss and accuracy. Instead of using `verbose=1`, you can call the function."
   ]
  },
  {
   "cell_type": "code",
   "execution_count": 16,
   "id": "29a5cc79",
   "metadata": {},
   "outputs": [],
   "source": [
    "def showClassificationResults(trainHistory):\n",
    "    print('Final training loss: ' + str(trainHistory.history['loss'][-1]))\n",
    "    print('Final validation loss: ' + str(trainHistory.history['val_loss'][-1]))\n",
    "    print('Final training accuracy: ' + str(trainHistory.history['accuracy'][-1]))\n",
    "    print('Final validation accuracy: ' + str(trainHistory.history['val_accuracy'][-1]))\n",
    "    \n",
    "    # Plot loss and accuracy curves\n",
    "    f = plt.figure(figsize=(10,4))\n",
    "    axLoss = f.add_subplot(121)\n",
    "    axAcc = f.add_subplot(122)\n",
    "    axLoss.plot(trainHistory.history['loss'])\n",
    "    axLoss.plot(trainHistory.history['val_loss'])\n",
    "    axLoss.legend(['Training loss', 'Validation loss'], loc='best')\n",
    "    axLoss.set_xlabel('Training epochs')\n",
    "    axLoss.set_ylabel('Loss')\n",
    "    axAcc.plot(trainHistory.history['accuracy'])\n",
    "    axAcc.plot(trainHistory.history['val_accuracy'])\n",
    "    axAcc.legend(['Training accuracy', 'Validation accuracy'], loc='best')\n",
    "    axAcc.set_xlabel('Training epochs')\n",
    "    axAcc.set_ylabel('Accuracy')"
   ]
  },
  {
   "cell_type": "markdown",
   "id": "efa4a528",
   "metadata": {},
   "source": [
    "Now train a linear model with an output layer and a hidden layer."
   ]
  },
  {
   "cell_type": "code",
   "execution_count": 17,
   "id": "faf83473",
   "metadata": {},
   "outputs": [
    {
     "name": "stdout",
     "output_type": "stream",
     "text": [
      "Epoch 1/10\n",
      "40/40 [==============================] - 2s 29ms/step - loss: 7.0537 - accuracy: 0.1390 - val_loss: 4.0598 - val_accuracy: 0.1590\n",
      "Epoch 2/10\n",
      "40/40 [==============================] - 1s 19ms/step - loss: 4.0221 - accuracy: 0.1435 - val_loss: 3.9654 - val_accuracy: 0.1970\n",
      "Epoch 3/10\n",
      "40/40 [==============================] - 1s 19ms/step - loss: 3.8174 - accuracy: 0.1443 - val_loss: 3.7235 - val_accuracy: 0.1770\n",
      "Epoch 4/10\n",
      "40/40 [==============================] - 1s 14ms/step - loss: 3.7539 - accuracy: 0.1398 - val_loss: 3.7479 - val_accuracy: 0.1600\n",
      "Epoch 5/10\n",
      "40/40 [==============================] - 1s 18ms/step - loss: 3.6427 - accuracy: 0.1390 - val_loss: 3.6465 - val_accuracy: 0.1490\n",
      "Epoch 6/10\n",
      "40/40 [==============================] - 1s 15ms/step - loss: 3.6876 - accuracy: 0.1440 - val_loss: 3.6544 - val_accuracy: 0.1550\n",
      "Epoch 7/10\n",
      "40/40 [==============================] - 1s 14ms/step - loss: 3.4965 - accuracy: 0.1412 - val_loss: 3.8149 - val_accuracy: 0.1520\n",
      "Epoch 8/10\n",
      "40/40 [==============================] - 1s 14ms/step - loss: 3.4726 - accuracy: 0.1385 - val_loss: 3.5708 - val_accuracy: 0.1590\n",
      "Epoch 9/10\n",
      "40/40 [==============================] - 1s 17ms/step - loss: 3.4540 - accuracy: 0.1367 - val_loss: 3.7375 - val_accuracy: 0.1620\n",
      "Epoch 10/10\n",
      "40/40 [==============================] - 1s 15ms/step - loss: 3.3864 - accuracy: 0.1405 - val_loss: 3.6060 - val_accuracy: 0.1650\n",
      "Final training loss: 3.386361837387085\n",
      "Final validation loss: 3.605973720550537\n",
      "Final training accuracy: 0.1404999941587448\n",
      "Final validation accuracy: 0.16500000655651093\n"
     ]
    },
    {
     "data": {
      "image/png": "[encoded data removed]",
      "text/plain": [
       "<Figure size 720x288 with 2 Axes>"
      ]
     },
     "metadata": {
      "needs_background": "light"
     },
     "output_type": "display_data"
    }
   ],
   "source": [
    "in_dim = mnistData.shape[1]\n",
    "\n",
    "model = None\n",
    "\n",
    "model = tf.keras.models.Sequential()\n",
    "model.add(tf.keras.layers.Dense(units=in_dim, activation='linear', input_dim=in_dim))\n",
    "model.add(tf.keras.layers.Dense(units=1, activation='linear'))\n",
    "\n",
    "model.compile(loss='mse', optimizer=tf.keras.optimizers.Adam(), \n",
    "              metrics=['accuracy'])\n",
    "\n",
    "trainHistory = model.fit(mnistData, mnistLabels, epochs=10, batch_size=100, validation_split=0.2, verbose=1)\n",
    "\n",
    "# Plot the results\n",
    "showClassificationResults(trainHistory)"
   ]
  },
  {
   "cell_type": "markdown",
   "id": "5866f1ea",
   "metadata": {},
   "source": [
    "Wow, that accuracy is terrible! What could the cause be?\n",
    "\n",
    "Hint: You followed the same procedure as for the previous regression problem. Do you need an adaptation for a classification problem? Experiment with the code above or skip to the solution below."
   ]
  },
  {
   "cell_type": "markdown",
   "id": "323b0431",
   "metadata": {},
   "source": [
    "In regression, the last layer uses a linear activation function. In classification, the last layer <span style='color:red'> cannot use a linear transform</span>. Instead, one option is a <span style='color:red'>softmax transform</span>. Furthermore, in regression, the loss is calculated using MSE while in classification, loss is calculated using <span style='color:red'> crossentropy</span>. Before running your model, if you wrote a test to validate the output values, your test would detect the anomalous output. You'll look at such a test later. Move onto the next section to fix the loss calculation."
   ]
  },
  {
   "cell_type": "markdown",
   "id": "5cca4e39",
   "metadata": {},
   "source": [
    "## Fixing Loss Calculation\n",
    "Since your labels are integers instead of one-hot encodings, use <span style='color:red'> sparse_categorical_crossentropy</span> instead of <span style='color:red'> categorical_crossentropy</span> so that you avoid converting the integers to one-hot encoding."
   ]
  },
  {
   "cell_type": "code",
   "execution_count": 18,
   "id": "6a788636",
   "metadata": {},
   "outputs": [
    {
     "name": "stdout",
     "output_type": "stream",
     "text": [
      "Epoch 1/10\n",
      "45/45 [==============================] - 2s 24ms/step - loss: 0.6746 - accuracy: 0.7938 - val_loss: 0.3850 - val_accuracy: 0.8780\n",
      "Epoch 2/10\n",
      "45/45 [==============================] - 1s 14ms/step - loss: 0.3411 - accuracy: 0.8987 - val_loss: 0.3597 - val_accuracy: 0.9000\n",
      "Epoch 3/10\n",
      "45/45 [==============================] - 1s 13ms/step - loss: 0.3001 - accuracy: 0.9113 - val_loss: 0.3671 - val_accuracy: 0.9080\n",
      "Epoch 4/10\n",
      "45/45 [==============================] - 1s 15ms/step - loss: 0.2657 - accuracy: 0.9233 - val_loss: 0.3788 - val_accuracy: 0.9080\n",
      "Epoch 5/10\n",
      "45/45 [==============================] - 1s 15ms/step - loss: 0.2433 - accuracy: 0.9287 - val_loss: 0.3758 - val_accuracy: 0.9040\n",
      "Epoch 6/10\n",
      "45/45 [==============================] - 1s 14ms/step - loss: 0.2177 - accuracy: 0.9404 - val_loss: 0.4010 - val_accuracy: 0.9020\n",
      "Epoch 7/10\n",
      "45/45 [==============================] - 1s 15ms/step - loss: 0.2024 - accuracy: 0.9447 - val_loss: 0.3971 - val_accuracy: 0.8940\n",
      "Epoch 8/10\n",
      "45/45 [==============================] - 1s 13ms/step - loss: 0.1860 - accuracy: 0.9447 - val_loss: 0.4124 - val_accuracy: 0.8980\n",
      "Epoch 9/10\n",
      "45/45 [==============================] - 1s 13ms/step - loss: 0.1799 - accuracy: 0.9482 - val_loss: 0.4010 - val_accuracy: 0.9040\n",
      "Epoch 10/10\n",
      "45/45 [==============================] - 1s 14ms/step - loss: 0.1613 - accuracy: 0.9527 - val_loss: 0.4327 - val_accuracy: 0.9000\n",
      "Final training loss: 0.16134563088417053\n",
      "Final validation loss: 0.43266773223876953\n",
      "Final training accuracy: 0.9526666402816772\n",
      "Final validation accuracy: 0.8999999761581421\n"
     ]
    },
    {
     "data": {
      "image/png": "[encoded data removed]",
      "text/plain": [
       "<Figure size 720x288 with 2 Axes>"
      ]
     },
     "metadata": {
      "needs_background": "light"
     },
     "output_type": "display_data"
    }
   ],
   "source": [
    "in_dim = mnistData.shape[1]\n",
    "\n",
    "model = None\n",
    "\n",
    "model = tf.keras.models.Sequential()\n",
    "model.add(tf.keras.layers.Dense(units=in_dim, activation='linear', input_dim=in_dim))\n",
    "model.add(tf.keras.layers.Dense(units=10, activation='softmax'))\n",
    "\n",
    "model.compile(loss='sparse_categorical_crossentropy', optimizer=tf.keras.optimizers.Adam(), \n",
    "              metrics=['accuracy'])\n",
    "\n",
    "# trainHistory = model.fit(mnistData, mnistLabels, epochs=10, \n",
    "#                          batch_size=100, validation_split=0.1, verbose=1)\n",
    "trainHistory = model.fit(mnistData, mnistLabels, epochs=10, batch_size=100, validation_split=0.1, verbose=1)\n",
    "\n",
    "# Plot the results\n",
    "showClassificationResults(trainHistory)"
   ]
  },
  {
   "cell_type": "markdown",
   "id": "cb040463",
   "metadata": {},
   "source": [
    "Your loss curves are much better. Your accuracy has improved too. You're on the right track."
   ]
  },
  {
   "cell_type": "markdown",
   "id": "f4ca6a2b",
   "metadata": {},
   "source": [
    "## Train a Nonlinear Model\n",
    "Switch to a nonlinear model by modifying the code below to use <span style='color:red'>relu activation functions instead of linear activation functions</span>. Run the code. What do you observe?"
   ]
  },
  {
   "cell_type": "code",
   "execution_count": 20,
   "id": "6cac8aef",
   "metadata": {},
   "outputs": [
    {
     "name": "stdout",
     "output_type": "stream",
     "text": [
      "Epoch 1/10\n",
      "45/45 [==============================] - 2s 23ms/step - loss: 0.7419 - accuracy: 0.7849 - val_loss: 0.3600 - val_accuracy: 0.9060\n",
      "Epoch 2/10\n",
      "45/45 [==============================] - 1s 17ms/step - loss: 0.2957 - accuracy: 0.9158 - val_loss: 0.2920 - val_accuracy: 0.9180\n",
      "Epoch 3/10\n",
      "45/45 [==============================] - 1s 14ms/step - loss: 0.2221 - accuracy: 0.9382 - val_loss: 0.2826 - val_accuracy: 0.9300\n",
      "Epoch 4/10\n",
      "45/45 [==============================] - 1s 14ms/step - loss: 0.1667 - accuracy: 0.9544 - val_loss: 0.2764 - val_accuracy: 0.9280\n",
      "Epoch 5/10\n",
      "45/45 [==============================] - 1s 13ms/step - loss: 0.1200 - accuracy: 0.9713 - val_loss: 0.2594 - val_accuracy: 0.9340\n",
      "Epoch 6/10\n",
      "45/45 [==============================] - 1s 17ms/step - loss: 0.0909 - accuracy: 0.9811 - val_loss: 0.2550 - val_accuracy: 0.9360\n",
      "Epoch 7/10\n",
      "45/45 [==============================] - 1s 15ms/step - loss: 0.0666 - accuracy: 0.9878 - val_loss: 0.2504 - val_accuracy: 0.9380\n",
      "Epoch 8/10\n",
      "45/45 [==============================] - 1s 14ms/step - loss: 0.0491 - accuracy: 0.9920 - val_loss: 0.2537 - val_accuracy: 0.9360\n",
      "Epoch 9/10\n",
      "45/45 [==============================] - 1s 13ms/step - loss: 0.0391 - accuracy: 0.9953 - val_loss: 0.2413 - val_accuracy: 0.9400\n",
      "Epoch 10/10\n",
      "45/45 [==============================] - 1s 14ms/step - loss: 0.0289 - accuracy: 0.9973 - val_loss: 0.2427 - val_accuracy: 0.9440\n",
      "Final training loss: 0.02890818566083908\n",
      "Final validation loss: 0.24271264672279358\n",
      "Final training accuracy: 0.9973333477973938\n",
      "Final validation accuracy: 0.9440000057220459\n"
     ]
    },
    {
     "data": {
      "image/png": "[encoded data removed]",
      "text/plain": [
       "<Figure size 720x288 with 2 Axes>"
      ]
     },
     "metadata": {
      "needs_background": "light"
     },
     "output_type": "display_data"
    }
   ],
   "source": [
    "input_dim = mnistData.shape[1]\n",
    "units = input_dim # 최초 hidden layer의 노드수는 input dim 과 동일히게 진행 (일반적으로)\n",
    "\n",
    "model = None\n",
    "\n",
    "model = tf.keras.models.Sequential()\n",
    "model.add(tf.keras.layers.Dense(units=units, activation='relu', input_dim=input_dim))\n",
    "model.add(tf.keras.layers.Dense(units=10, activation='softmax'))\n",
    "model.compile(optimizer=tf.keras.optimizers.Adam(), loss='sparse_categorical_crossentropy',\n",
    "              metrics = ['accuracy'])\n",
    "\n",
    "trainHistory = model.fit(mnistData, mnistLabels, \n",
    "                         batch_size=100, epochs=10, validation_split=0.1, verbose=1)\n",
    "\n",
    "# Plot\n",
    "showClassificationResults(trainHistory)"
   ]
  },
  {
   "cell_type": "markdown",
   "id": "secure-sheffield",
   "metadata": {},
   "source": [
    "## Adding a Second Layer\n",
    "Increasing the model's capacity significantly improved your results. Perhaps you can continue this strategy by adding a second relu layer. Run the following code cell to train the model with another relu layer."
   ]
  },
  {
   "cell_type": "code",
   "execution_count": 21,
   "id": "athletic-divide",
   "metadata": {},
   "outputs": [
    {
     "name": "stdout",
     "output_type": "stream",
     "text": [
      "Epoch 1/10\n",
      "45/45 [==============================] - 2s 35ms/step - loss: 0.6306 - accuracy: 0.8153 - val_loss: 0.3255 - val_accuracy: 0.9060\n",
      "Epoch 2/10\n",
      "45/45 [==============================] - 1s 27ms/step - loss: 0.2274 - accuracy: 0.9342 - val_loss: 0.2684 - val_accuracy: 0.9280\n",
      "Epoch 3/10\n",
      "45/45 [==============================] - 1s 28ms/step - loss: 0.1365 - accuracy: 0.9580 - val_loss: 0.2324 - val_accuracy: 0.9440\n",
      "Epoch 4/10\n",
      "45/45 [==============================] - 1s 28ms/step - loss: 0.0719 - accuracy: 0.9811 - val_loss: 0.2546 - val_accuracy: 0.9420\n",
      "Epoch 5/10\n",
      "45/45 [==============================] - 1s 31ms/step - loss: 0.0408 - accuracy: 0.9898 - val_loss: 0.2259 - val_accuracy: 0.9420\n",
      "Epoch 6/10\n",
      "45/45 [==============================] - 1s 28ms/step - loss: 0.0216 - accuracy: 0.9953 - val_loss: 0.2382 - val_accuracy: 0.9520\n",
      "Epoch 7/10\n",
      "45/45 [==============================] - 1s 33ms/step - loss: 0.0216 - accuracy: 0.9942 - val_loss: 0.2563 - val_accuracy: 0.9500\n",
      "Epoch 8/10\n",
      "45/45 [==============================] - 1s 30ms/step - loss: 0.0077 - accuracy: 0.9989 - val_loss: 0.2443 - val_accuracy: 0.9540\n",
      "Epoch 9/10\n",
      "45/45 [==============================] - 1s 28ms/step - loss: 0.0039 - accuracy: 0.9998 - val_loss: 0.2531 - val_accuracy: 0.9540\n",
      "Epoch 10/10\n",
      "45/45 [==============================] - 1s 28ms/step - loss: 0.0015 - accuracy: 1.0000 - val_loss: 0.2518 - val_accuracy: 0.9560\n",
      "Final training loss: 0.0014948154566809535\n",
      "Final validation loss: 0.25183242559432983\n",
      "Final training accuracy: 1.0\n",
      "Final validation accuracy: 0.9559999704360962\n"
     ]
    },
    {
     "data": {
      "image/png": "[encoded data removed]",
      "text/plain": [
       "<Figure size 720x288 with 2 Axes>"
      ]
     },
     "metadata": {
      "needs_background": "light"
     },
     "output_type": "display_data"
    }
   ],
   "source": [
    "input_dim = mnistData.shape[1]\n",
    "units = input_dim # 최초 hidden layer의 노드수는 input dim 과 동일히게 진행 (일반적으로)\n",
    "\n",
    "model = None\n",
    "\n",
    "model = tf.keras.models.Sequential()\n",
    "model.add(tf.keras.layers.Dense(units=units, activation='relu', input_dim=input_dim))\n",
    "model.add(tf.keras.layers.Dense(units=units, activation='relu'))\n",
    "model.add(tf.keras.layers.Dense(units=10, activation='softmax'))\n",
    "model.compile(optimizer=tf.keras.optimizers.Adam(), loss='sparse_categorical_crossentropy',\n",
    "              metrics = ['accuracy'])\n",
    "\n",
    "trainHistory = model.fit(mnistData, mnistLabels, \n",
    "                         batch_size=100, epochs=10, validation_split=0.1, verbose=1)\n",
    "\n",
    "# Plot\n",
    "showClassificationResults(trainHistory)"
   ]
  },
  {
   "cell_type": "markdown",
   "id": "prescribed-washington",
   "metadata": {},
   "source": [
    "Guess what. Your previous model had training and validation accuracies of 100% and 95%. You can't do much better than that! So your new accuracy is about the same. How high can you push your accuracy? With this configuration the highest training and validation accuracies appear to be 100% and 96% respectively. Since the neural net returns similar accuracy with 1 or 2 layers, let's use the simpler model with 1 layer.\n",
    "\n",
    "Does your model begin to overfit the training data if you train for long enough? (Your model starts overfitting training data at the point when your validation loss starts increasing.)"
   ]
  },
  {
   "cell_type": "markdown",
   "id": "interested-maple",
   "metadata": {},
   "source": [
    "## Check for Training/Validation Data Skew\n",
    "Our validation accuracy is a little worse than our training accuracy. While this result is always expected, you should check for typical errors. The commonest cause is having different distributions of data and labels in training and validation. Confirm that the distribution of classes in training and validation data is similar."
   ]
  },
  {
   "cell_type": "code",
   "execution_count": 27,
   "id": "becoming-effects",
   "metadata": {},
   "outputs": [
    {
     "data": {
      "text/plain": [
       "([<matplotlib.axis.XTick at 0x232892a5fa0>,\n",
       "  <matplotlib.axis.XTick at 0x232892a5f70>,\n",
       "  <matplotlib.axis.XTick at 0x23289297040>,\n",
       "  <matplotlib.axis.XTick at 0x232892d84c0>,\n",
       "  <matplotlib.axis.XTick at 0x232892d8b20>,\n",
       "  <matplotlib.axis.XTick at 0x232892e1070>,\n",
       "  <matplotlib.axis.XTick at 0x232892e1580>,\n",
       "  <matplotlib.axis.XTick at 0x232892e1a90>,\n",
       "  <matplotlib.axis.XTick at 0x232892d8850>,\n",
       "  <matplotlib.axis.XTick at 0x232892e16d0>,\n",
       "  <matplotlib.axis.XTick at 0x232892e6190>],\n",
       " [Text(0, 0, ''),\n",
       "  Text(0, 0, ''),\n",
       "  Text(0, 0, ''),\n",
       "  Text(0, 0, ''),\n",
       "  Text(0, 0, ''),\n",
       "  Text(0, 0, ''),\n",
       "  Text(0, 0, ''),\n",
       "  Text(0, 0, ''),\n",
       "  Text(0, 0, ''),\n",
       "  Text(0, 0, ''),\n",
       "  Text(0, 0, '')])"
      ]
     },
     "execution_count": 27,
     "metadata": {},
     "output_type": "execute_result"
    },
    {
     "data": {
      "image/png": "[encoded data removed]",
      "text/plain": [
       "<Figure size 720x216 with 2 Axes>"
      ]
     },
     "metadata": {
      "needs_background": "light"
     },
     "output_type": "display_data"
    }
   ],
   "source": [
    "f = plt.figure(figsize=(10,3))\n",
    "ax = f.add_subplot(1,2,1)\n",
    "num_bins = len(mnistLabels.value_counts()) + 1\n",
    "plt.hist(mnistLabels[0:int(len(mnistLabels)*8/10+0.5)], bins=range(num_bins))\n",
    "plt.xticks(range(num_bins))\n",
    "\n",
    "ax2 = f.add_subplot(1,2,2)\n",
    "plt.hist(mnistLabels[int(len(mnistLabels)*8/10+0.5):], bins=range(num_bins))\n",
    "plt.xticks(range(num_bins))"
   ]
  },
  {
   "cell_type": "markdown",
   "id": "subsequent-intersection",
   "metadata": {},
   "source": [
    "## Apply Dropout Regularization\n",
    "Dropout regularization is a common regularization method that removes a random selection of a fixed number of units in a network layer for a single gradient step. Typically, dropout will improve generalization at a dropout rate of between 10% and 50% of neurons. \n",
    "\n",
    "Try to reduce the divergence between training and validation loss by using dropout regularization with values between 0.1 and 0.5. Dropout does not improve the results in this case. However, at a dropout of 0.5, the difference in loss decreases, though both training and validation loss decrease in absolute terms."
   ]
  },
  {
   "cell_type": "code",
   "execution_count": 34,
   "id": "polish-trailer",
   "metadata": {},
   "outputs": [
    {
     "name": "stdout",
     "output_type": "stream",
     "text": [
      "Final training loss: 0.10417452454566956\n",
      "Final validation loss: 0.23219113051891327\n",
      "Final training accuracy: 0.9753333330154419\n",
      "Final validation accuracy: 0.9340000152587891\n"
     ]
    },
    {
     "data": {
      "image/png": "[encoded data removed]",
      "text/plain": [
       "<Figure size 720x288 with 2 Axes>"
      ]
     },
     "metadata": {
      "needs_background": "light"
     },
     "output_type": "display_data"
    }
   ],
   "source": [
    "from keras import regularizers\n",
    "\n",
    "model = None\n",
    "\n",
    "# Dropout lambda\n",
    "dropoutLambda = 0.5\n",
    "\n",
    "model = keras.Sequential()\n",
    "model.add(tf.keras.layers.Dense(units=input_dim, activation='relu', input_dim=input_dim))\n",
    "model.add(tf.keras.layers.Dropout(dropoutLambda, noise_shape=(1,input_dim), seed=seed))\n",
    "# noise_shape : dropout layer에 들어오는 input_shape.\n",
    "model.add(tf.keras.layers.Dense(10, activation='softmax'))\n",
    "\n",
    "model.compile(loss='sparse_categorical_crossentropy',\n",
    "             optimizer=tf.keras.optimizers.Adam(),\n",
    "             metrics=['accuracy'])\n",
    "\n",
    "trainHistory = model.fit(mnistData, mnistLabels, \n",
    "                         batch_size=500, epochs=30, validation_split=0.1, verbose=0)\n",
    "\n",
    "# Plot\n",
    "showClassificationResults(trainHistory)"
   ]
  },
  {
   "cell_type": "code",
   "execution_count": 35,
   "id": "infectious-intention",
   "metadata": {},
   "outputs": [
    {
     "name": "stdout",
     "output_type": "stream",
     "text": [
      "Final training loss: 0.027262184768915176\n",
      "Final validation loss: 0.2473752796649933\n",
      "Final training accuracy: 0.9982222318649292\n",
      "Final validation accuracy: 0.9419999718666077\n"
     ]
    },
    {
     "data": {
      "image/png": "[encoded data removed]",
      "text/plain": [
       "<Figure size 720x288 with 2 Axes>"
      ]
     },
     "metadata": {
      "needs_background": "light"
     },
     "output_type": "display_data"
    }
   ],
   "source": [
    "model = None\n",
    "\n",
    "# Dropout lambda\n",
    "dropoutLambda = 0.1\n",
    "\n",
    "model = keras.Sequential()\n",
    "model.add(tf.keras.layers.Dense(units=input_dim, activation='relu', input_dim=input_dim))\n",
    "model.add(tf.keras.layers.Dropout(dropoutLambda, noise_shape=(1,input_dim), seed=seed))\n",
    "# noise_shape : dropout layer에 들어오는 input_shape.\n",
    "model.add(tf.keras.layers.Dense(10, activation='softmax'))\n",
    "\n",
    "model.compile(loss='sparse_categorical_crossentropy',\n",
    "             optimizer=tf.keras.optimizers.Adam(),\n",
    "             metrics=['accuracy'])\n",
    "\n",
    "trainHistory = model.fit(mnistData, mnistLabels, \n",
    "                         batch_size=500, epochs=30, validation_split=0.1, verbose=0)\n",
    "\n",
    "# Plot\n",
    "showClassificationResults(trainHistory)"
   ]
  },
  {
   "cell_type": "code",
   "execution_count": 36,
   "id": "manufactured-airfare",
   "metadata": {},
   "outputs": [
    {
     "name": "stdout",
     "output_type": "stream",
     "text": [
      "Final training loss: 0.04608340933918953\n",
      "Final validation loss: 0.2309262752532959\n",
      "Final training accuracy: 0.992222249507904\n",
      "Final validation accuracy: 0.9359999895095825\n"
     ]
    },
    {
     "data": {
      "image/png": "[encoded data removed]",
      "text/plain": [
       "<Figure size 720x288 with 2 Axes>"
      ]
     },
     "metadata": {
      "needs_background": "light"
     },
     "output_type": "display_data"
    }
   ],
   "source": [
    "model = None\n",
    "\n",
    "# Dropout lambda\n",
    "dropoutLambda = 0.2\n",
    "\n",
    "model = keras.Sequential()\n",
    "model.add(tf.keras.layers.Dense(units=input_dim, activation='relu', input_dim=input_dim))\n",
    "model.add(tf.keras.layers.Dropout(dropoutLambda, noise_shape=(1,input_dim), seed=seed))\n",
    "# noise_shape : dropout layer에 들어오는 input_shape.\n",
    "model.add(tf.keras.layers.Dense(10, activation='softmax'))\n",
    "\n",
    "model.compile(loss='sparse_categorical_crossentropy',\n",
    "             optimizer=tf.keras.optimizers.Adam(),\n",
    "             metrics=['accuracy'])\n",
    "\n",
    "trainHistory = model.fit(mnistData, mnistLabels, \n",
    "                         batch_size=500, epochs=30, validation_split=0.1, verbose=0)\n",
    "\n",
    "# Plot\n",
    "showClassificationResults(trainHistory)"
   ]
  },
  {
   "cell_type": "code",
   "execution_count": 37,
   "id": "distributed-heather",
   "metadata": {},
   "outputs": [
    {
     "name": "stdout",
     "output_type": "stream",
     "text": [
      "Final training loss: 0.06120524927973747\n",
      "Final validation loss: 0.23770196735858917\n",
      "Final training accuracy: 0.988444447517395\n",
      "Final validation accuracy: 0.9380000233650208\n"
     ]
    },
    {
     "data": {
      "image/png": "[encoded data removed]",
      "text/plain": [
       "<Figure size 720x288 with 2 Axes>"
      ]
     },
     "metadata": {
      "needs_background": "light"
     },
     "output_type": "display_data"
    }
   ],
   "source": [
    "model = None\n",
    "\n",
    "# Dropout lambda\n",
    "dropoutLambda = 0.3\n",
    "\n",
    "model = keras.Sequential()\n",
    "model.add(tf.keras.layers.Dense(units=input_dim, activation='relu', input_dim=input_dim))\n",
    "model.add(tf.keras.layers.Dropout(dropoutLambda, noise_shape=(1,input_dim), seed=seed))\n",
    "# noise_shape : dropout layer에 들어오는 input_shape.\n",
    "model.add(tf.keras.layers.Dense(10, activation='softmax'))\n",
    "\n",
    "model.compile(loss='sparse_categorical_crossentropy',\n",
    "             optimizer=tf.keras.optimizers.Adam(),\n",
    "             metrics=['accuracy'])\n",
    "\n",
    "trainHistory = model.fit(mnistData, mnistLabels, \n",
    "                         batch_size=500, epochs=30, validation_split=0.1, verbose=0)\n",
    "\n",
    "# Plot\n",
    "showClassificationResults(trainHistory)"
   ]
  },
  {
   "cell_type": "code",
   "execution_count": 38,
   "id": "electoral-disease",
   "metadata": {},
   "outputs": [
    {
     "name": "stdout",
     "output_type": "stream",
     "text": [
      "Final training loss: 0.08075889945030212\n",
      "Final validation loss: 0.22249829769134521\n",
      "Final training accuracy: 0.9822221994400024\n",
      "Final validation accuracy: 0.9419999718666077\n"
     ]
    },
    {
     "data": {
      "image/png": "[encoded data removed]",
      "text/plain": [
       "<Figure size 720x288 with 2 Axes>"
      ]
     },
     "metadata": {
      "needs_background": "light"
     },
     "output_type": "display_data"
    }
   ],
   "source": [
    "model = None\n",
    "\n",
    "# Dropout lambda\n",
    "dropoutLambda = 0.4\n",
    "\n",
    "model = keras.Sequential()\n",
    "model.add(tf.keras.layers.Dense(units=input_dim, activation='relu', input_dim=input_dim))\n",
    "model.add(tf.keras.layers.Dropout(dropoutLambda, noise_shape=(1,input_dim), seed=seed))\n",
    "# noise_shape : dropout layer에 들어오는 input_shape.\n",
    "model.add(tf.keras.layers.Dense(10, activation='softmax'))\n",
    "\n",
    "model.compile(loss='sparse_categorical_crossentropy',\n",
    "             optimizer=tf.keras.optimizers.Adam(),\n",
    "             metrics=['accuracy'])\n",
    "\n",
    "trainHistory = model.fit(mnistData, mnistLabels, \n",
    "                         batch_size=500, epochs=30, validation_split=0.1, verbose=0)\n",
    "\n",
    "# Plot\n",
    "showClassificationResults(trainHistory)"
   ]
  },
  {
   "cell_type": "markdown",
   "id": "impressive-scoop",
   "metadata": {},
   "source": [
    "Sample results using dropout regularization after 30 epochs:\n",
    "\n",
    "Lambda | Training Acc | Validation Acc <br>\n",
    "------ | -------------------------------------<br>\n",
    "0.1....| 0.998         | 0.942  <br>\n",
    "0.2....| 0.992         | 0.935  <br>\n",
    "0.3....| 0.988         | 0.938  <br>\n",
    "0.4....| 0.982         | 0.942  <br>\n",
    "0.5....| 0.975         | 0.934  <br>\n",
    "\n",
    "dropoutLambda가 0.1 일 경우, 가장 좋은 결과 보임"
   ]
  },
  {
   "cell_type": "markdown",
   "id": "attractive-limit",
   "metadata": {},
   "source": [
    "## Check Accuracy for Data Slices\n",
    "<span style='color:red'>For classification problems, you should always check the metrics by class to ensure your model predicts well across all classes</span>. Check accuracy on the 10 classes by running the next cell by using the function `sklearn.metrics.classification_report` from the scikit-learn library. In the output, the rows with indices 0 to 9 correspond to the classes for the labels 0 to 9. The columns \"Precision\", \"Recall\", and \"[F1-Score](https://en.wikipedia.org/wiki/F1_score)\" correspond to the respective classification metrics for each class. \"Support\" is the number of examples for the class in question. For example, for the label \"4\", when predicting on 464 examples labelled \"4\", the model has a precision of 0.98, a recall of 0.97, and a F1 score of 0.98.\n",
    "\n",
    "The classification metrics are very uniform across all classes, which is perfect. In your classification problem, in case any metric is lower for a class, then you should investigate why the model has lower-quality predictions for that class."
   ]
  },
  {
   "cell_type": "code",
   "execution_count": 47,
   "id": "expected-zealand",
   "metadata": {},
   "outputs": [
    {
     "name": "stdout",
     "output_type": "stream",
     "text": [
      "              precision    recall  f1-score   support\n",
      "\n",
      "           0       1.00      0.99      0.99       499\n",
      "           1       0.98      0.99      0.99       571\n",
      "           2       0.98      0.99      0.98       504\n",
      "           3       0.99      0.97      0.98       487\n",
      "           4       0.99      0.98      0.99       464\n",
      "           5       0.98      0.99      0.99       434\n",
      "           6       1.00      0.99      0.99       491\n",
      "           7       0.98      0.99      0.98       550\n",
      "           8       0.99      0.99      0.99       485\n",
      "           9       0.98      0.98      0.98       515\n",
      "\n",
      "    accuracy                           0.99      5000\n",
      "   macro avg       0.99      0.99      0.99      5000\n",
      "weighted avg       0.99      0.99      0.99      5000\n",
      "\n"
     ]
    }
   ],
   "source": [
    "from sklearn.metrics import classification_report\n",
    "# mnistPred = model.predict_classes(x= mnistData) # => predicr_classes 없어짐.\n",
    "mnistPred = model.predict(x = mnistData) \n",
    "mnistPred = np.argmax(mnistPred, axis=1)\n",
    "print(classification_report(mnistLabels, mnistPred))"
   ]
  },
  {
   "cell_type": "markdown",
   "id": "efficient-trial",
   "metadata": {},
   "source": [
    "## Testing for Anomalous Values\n",
    "In the section [Train a Linear Model](https://colab.corp.google.com/google_src/cloud/karangill/mlcc/google3/engedu/ml/capitalg/colab/testing_debugging_classification.ipynb#scrollTo=B6AOgLcC5nwp), you debugged an incorrect calculation of loss. Before running your model, if you wrote a test to validate the output values, your test would detect the anomalous output. For example, you could test whether the distribution of predicted labels on the training dataset is similar to the actual distribution of training labels. A simple statistical implementation of this concept is to compare the standard deviation and mean of the predicted and actual labels.\n",
    "\n",
    "First, check the standard deviation and mean of the actual labels."
   ]
  },
  {
   "cell_type": "code",
   "execution_count": 49,
   "id": "accredited-permission",
   "metadata": {},
   "outputs": [
    {
     "name": "stdout",
     "output_type": "stream",
     "text": [
      "Mean of actual labels: 4.4754\n",
      "Standard deviation of actual labels: 2.914754679214016\n"
     ]
    }
   ],
   "source": [
    "print('Mean of actual labels: ' + str(np.mean(mnistLabels)))\n",
    "print('Standard deviation of actual labels: ' + str(np.std(mnistLabels)))"
   ]
  },
  {
   "cell_type": "code",
   "execution_count": 50,
   "id": "numerous-intellectual",
   "metadata": {},
   "outputs": [
    {
     "name": "stdout",
     "output_type": "stream",
     "text": [
      "Mean of predicted labels: 4.4738\n",
      "Standard deviation of predicted labels: 2.916524225855153\n"
     ]
    }
   ],
   "source": [
    "print('Mean of predicted labels: ' + str(np.mean(mnistPred)))\n",
    "print('Standard deviation of predicted labels: ' + str(np.std(mnistPred)))"
   ]
  },
  {
   "cell_type": "markdown",
   "id": "married-music",
   "metadata": {},
   "source": [
    "예측값의 분포(평균(np.mean(mnistPred)), 표준편차)가 실제값(np.mean(mnistLabels) 등)의 분포와 상당한 유사성을 보이므로 좋은 결과를 도출하였다고 판단."
   ]
  },
  {
   "cell_type": "markdown",
   "id": "behind-haiti",
   "metadata": {},
   "source": [
    "Write tests to check if the mean and standard deviation of the predicted labels falls within the expected range. The expected range defined in the tests below is somewhat arbitrary. In practice, you will tune the range thresholds to accommodate natural variation in predictions."
   ]
  },
  {
   "cell_type": "code",
   "execution_count": 54,
   "id": "placed-hospital",
   "metadata": {},
   "outputs": [],
   "source": [
    "class mlTest(unittest.TestCase):\n",
    "    def testStd(self):\n",
    "        y = model.predict(mnistData)\n",
    "        yStd = np.std(y)\n",
    "        yStdActual = np.std(mnistLabels)\n",
    "        deltaStd = 0.05\n",
    "        errorMsg = 'Std. dev. of predicted values ' + str(yStd) + \\\n",
    "                   ' and actual values ' + str(yStdActual) + \\\n",
    "                   ' differs by >' + str(deltaStd) + '.'\n",
    "        self.assertAlmostEqual(yStd, yStdActual, delta=deltaStd, msg=errorMsg)\n",
    "        \n",
    "    def testMean(self):\n",
    "        y = model.predict(mnistData)\n",
    "        yMean = np.mean(y)\n",
    "        yMeanActual = np.mean(mnistLabels)\n",
    "        deltaMean = 0.05\n",
    "        errorMsg = 'Mean of predicted values ' + str(yMean) + \\\n",
    "                   ' and actual values ' + str(yMeanActual) + \\\n",
    "                   ' differs by >' + str(deltaMean) + '.'\n",
    "        self.assertAlmostEqual(yMean, yMeanActual, delta=deltaMean, msg=errorMsg)"
   ]
  },
  {
   "cell_type": "code",
   "execution_count": 55,
   "id": "comparable-fence",
   "metadata": {},
   "outputs": [
    {
     "name": "stderr",
     "output_type": "stream",
     "text": [
      "FF\n",
      "======================================================================\n",
      "FAIL: testMean (__main__.mlTest)\n",
      "----------------------------------------------------------------------\n",
      "Traceback (most recent call last):\n",
      "  File \"C:\\Users\\User\\AppData\\Local\\Temp\\ipykernel_18424\\2563444613.py\", line 20, in testMean\n",
      "    self.assertAlmostEqual(yMean, yMeanActual, delta=deltaMean, msg=errorMsg)\n",
      "AssertionError: 4.193223 != 4.4754 within 0.05 delta (0.2821770004272457 difference) : Mean of predicted values 4.193223 and actual values 4.4754 differs by >0.05.\n",
      "\n",
      "======================================================================\n",
      "FAIL: testStd (__main__.mlTest)\n",
      "----------------------------------------------------------------------\n",
      "Traceback (most recent call last):\n",
      "  File \"C:\\Users\\User\\AppData\\Local\\Temp\\ipykernel_18424\\2563444613.py\", line 10, in testStd\n",
      "    self.assertAlmostEqual(yStd, yStdActual, delta=deltaStd, msg=errorMsg)\n",
      "AssertionError: 2.3622353 != 2.914754679214016 within 0.05 delta (0.5525193715205345 difference) : Std. dev. of predicted values 2.3622353 and actual values 2.914754679214016 differs by >0.05.\n",
      "\n",
      "----------------------------------------------------------------------\n",
      "Ran 2 tests in 1.422s\n",
      "\n",
      "FAILED (failures=2)\n"
     ]
    },
    {
     "data": {
      "text/plain": [
       "<unittest.runner.TextTestResult run=2 errors=0 failures=2>"
      ]
     },
     "execution_count": 55,
     "metadata": {},
     "output_type": "execute_result"
    }
   ],
   "source": [
    "# Train model and run tests\n",
    "input_dim = mnistData.shape[1]\n",
    "\n",
    "model = None\n",
    "\n",
    "model = keras.Sequential()\n",
    "model.add(tf.keras.layers.Dense(units=input_dim, activation='linear', input_dim=input_dim))\n",
    "model.add(keras.layers.Dense(1, activation='linear'))\n",
    "\n",
    "model.compile(optimizer=\"adam\", loss='mse', metrics=['accuracy'])\n",
    "\n",
    "trainHistory = model.fit(mnistData, mnistLabels, \n",
    "                         epochs= 10, batch_size=100, validation_split=0.1, verbose=0)\n",
    "\n",
    "suite = unittest.TestLoader().loadTestsFromTestCase(mlTest)\n",
    "unittest.TextTestRunner(verbosity=1, stream=sys.stderr).run(suite)"
   ]
  },
  {
   "cell_type": "code",
   "execution_count": 64,
   "id": "suited-overhead",
   "metadata": {},
   "outputs": [
    {
     "data": {
      "text/plain": [
       "(array([285., 581., 606., 753., 723., 712., 523., 417., 173.,  56.]),\n",
       " array([ 0,  1,  2,  3,  4,  5,  6,  7,  8,  9, 10]),\n",
       " <BarContainer object of 10 artists>)"
      ]
     },
     "execution_count": 64,
     "metadata": {},
     "output_type": "execute_result"
    },
    {
     "data": {
      "image/png": "[encoded data removed]",
      "text/plain": [
       "<Figure size 432x288 with 1 Axes>"
      ]
     },
     "metadata": {
      "needs_background": "light"
     },
     "output_type": "display_data"
    }
   ],
   "source": [
    "yPred = model.predict(mnistData)\n",
    "plt.hist(yPred, bins=range(11), rwidth=0.96)"
   ]
  },
  {
   "cell_type": "markdown",
   "id": "changing-joseph",
   "metadata": {},
   "source": [
    "Given equally represented classes, the predicted labels are <span style='color:red'>clearly skewed</span>. From this plot, a possible explanation is that your loss calculation does not appear to be weighting all classes equally. This anomaly is a hint that your loss calculation is incorrect."
   ]
  },
  {
   "cell_type": "code",
   "execution_count": 72,
   "id": "incredible-pepper",
   "metadata": {},
   "outputs": [
    {
     "name": "stdout",
     "output_type": "stream",
     "text": [
      "Final training loss: 0.12337701767683029\n",
      "Final validation loss: 0.21156549453735352\n",
      "Final training accuracy: 0.9620000123977661\n",
      "Final validation accuracy: 0.949999988079071\n"
     ]
    },
    {
     "name": "stderr",
     "output_type": "stream",
     "text": [
      "FF\n",
      "======================================================================\n",
      "FAIL: testMean (__main__.mlTest)\n",
      "----------------------------------------------------------------------\n",
      "Traceback (most recent call last):\n",
      "  File \"C:\\Users\\User\\AppData\\Local\\Temp\\ipykernel_18424\\2563444613.py\", line 20, in testMean\n",
      "    self.assertAlmostEqual(yMean, yMeanActual, delta=deltaMean, msg=errorMsg)\n",
      "AssertionError: 0.1 != 4.4754 within 0.05 delta (4.3753999985098835 difference) : Mean of predicted values 0.1 and actual values 4.4754 differs by >0.05.\n",
      "\n",
      "======================================================================\n",
      "FAIL: testStd (__main__.mlTest)\n",
      "----------------------------------------------------------------------\n",
      "Traceback (most recent call last):\n",
      "  File \"C:\\Users\\User\\AppData\\Local\\Temp\\ipykernel_18424\\2563444613.py\", line 10, in testStd\n",
      "    self.assertAlmostEqual(yStd, yStdActual, delta=deltaStd, msg=errorMsg)\n",
      "AssertionError: 0.29100493 != 2.914754679214016 within 0.05 delta (2.623749753247753 difference) : Std. dev. of predicted values 0.29100493 and actual values 2.914754679214016 differs by >0.05.\n",
      "\n",
      "----------------------------------------------------------------------\n",
      "Ran 2 tests in 2.274s\n",
      "\n",
      "FAILED (failures=2)\n"
     ]
    },
    {
     "data": {
      "text/plain": [
       "<unittest.runner.TextTestResult run=2 errors=0 failures=2>"
      ]
     },
     "execution_count": 72,
     "metadata": {},
     "output_type": "execute_result"
    },
    {
     "data": {
      "image/png": "[encoded data removed]",
      "text/plain": [
       "<Figure size 720x288 with 2 Axes>"
      ]
     },
     "metadata": {
      "needs_background": "light"
     },
     "output_type": "display_data"
    }
   ],
   "source": [
    "# Train model and run tests\n",
    "input_dim = mnistData.shape[1]\n",
    "dropoutLambda = 0.5\n",
    "\n",
    "model = None\n",
    "\n",
    "model = keras.Sequential()\n",
    "model.add(tf.keras.layers.Dense(units=input_dim, activation='relu', input_dim=input_dim))\n",
    "model.add(tf.keras.layers.Dropout(dropoutLambda, noise_shape=(1, input_dim)))\n",
    "model.add(tf.keras.layers.Dense(units=int(input_dim/2 +0.5), activation='relu'))\n",
    "model.add(tf.keras.layers.Dropout(dropoutLambda, noise_shape=(1, int(input_dim/2 +0.5))))\n",
    "model.add(keras.layers.Dense(10, activation='softmax'))\n",
    "\n",
    "model.compile(optimizer=\"adam\", loss='sparse_categorical_crossentropy', metrics=['accuracy'])\n",
    "\n",
    "trainHistory = model.fit(mnistData, mnistLabels, \n",
    "                         epochs= 30, batch_size=500, validation_split=0.1, verbose=0)\n",
    "\n",
    "showClassificationResults(trainHistory)\n",
    "\n",
    "suite = unittest.TestLoader().loadTestsFromTestCase(mlTest)\n",
    "unittest.TextTestRunner(verbosity=1, stream=sys.stderr).run(suite)"
   ]
  },
  {
   "cell_type": "markdown",
   "id": "coral-supervision",
   "metadata": {},
   "source": [
    "overfitting을 해결하기 위해서 droupoutLambda 를 변환시키면서(0.1 ~0.5) 확인 필요. model capacity를 줄이면서 시도 필요."
   ]
  },
  {
   "cell_type": "code",
   "execution_count": null,
   "id": "female-washington",
   "metadata": {},
   "outputs": [],
   "source": [
    "unittest숙지하여 정리해 놓을 필요 있음."
   ]
  }
 ],
 "metadata": {
  "kernelspec": {
   "display_name": "Python 3 (ipykernel)",
   "language": "python",
   "name": "python3"
  },
  "language_info": {
   "codemirror_mode": {
    "name": "ipython",
    "version": 3
   },
   "file_extension": ".py",
   "mimetype": "text/x-python",
   "name": "python",
   "nbconvert_exporter": "python",
   "pygments_lexer": "ipython3",
   "version": "3.9.1"
  }
 },
 "nbformat": 4,
 "nbformat_minor": 5
}
