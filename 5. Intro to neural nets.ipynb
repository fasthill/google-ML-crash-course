{
 "cells": [
  {
   "cell_type": "code",
   "execution_count": 1,
   "id": "incident-variable",
   "metadata": {},
   "outputs": [],
   "source": [
    "from __future__ import absolute_import, division, print_function, unicode_literals\n",
    "# 위의 __future__ statement 는 파이썬 2.x 코드가 파이썬 3.x 처럼 작동하게 해줍니다. "
   ]
  },
  {
   "cell_type": "code",
   "execution_count": 2,
   "id": "exempt-deployment",
   "metadata": {},
   "outputs": [],
   "source": [
    "import pandas as pd\n",
    "import numpy as np\n",
    "import matplotlib.pyplot as plt\n",
    "import tensorflow as tf\n",
    "from tensorflow.keras import layers\n",
    "import seaborn as sns"
   ]
  },
  {
   "cell_type": "code",
   "execution_count": 3,
   "id": "enormous-blair",
   "metadata": {},
   "outputs": [
    {
     "name": "stdout",
     "output_type": "stream",
     "text": [
      "imported modules\n"
     ]
    }
   ],
   "source": [
    "pd.options.display.float_format = '{:.1f}'.format\n",
    "pd.options.display.max_rows = 10\n",
    "print('imported modules')"
   ]
  },
  {
   "cell_type": "code",
   "execution_count": 4,
   "id": "strong-nelson",
   "metadata": {},
   "outputs": [],
   "source": [
    "train_df = pd.read_csv(\"https://download.mlcc.google.com/mledu-datasets/california_housing_train.csv\")\n",
    "train_df = train_df.reindex(np.random.permutation(train_df.index))\n",
    "# train_df = train_df.sample(frac=1)\n",
    "test_df = pd.read_csv(\"https://download.mlcc.google.com/mledu-datasets/california_housing_test.csv\")"
   ]
  },
  {
   "cell_type": "code",
   "execution_count": 5,
   "id": "express-broadway",
   "metadata": {},
   "outputs": [
    {
     "name": "stdout",
     "output_type": "stream",
     "text": [
      "Normalize the values\n"
     ]
    }
   ],
   "source": [
    "# Z convert\n",
    "train_df_norm = (train_df - train_df.mean())/train_df.std()\n",
    "test_df_norm = (test_df - test_df.mean())/test_df.std()\n",
    "print('Normalize the values')"
   ]
  },
  {
   "cell_type": "code",
   "execution_count": 6,
   "id": "dying-savannah",
   "metadata": {},
   "outputs": [],
   "source": [
    "feature_columns = []"
   ]
  },
  {
   "cell_type": "markdown",
   "id": "neither-boating",
   "metadata": {},
   "source": [
    " We scaled all the columns, including latitude and longitude, into their Z scores. So, instead of picking a resolution in degrees, we're going to use resolution_in_Zs.  A resolution_in_Zs of 1 corresponds to a full standard deviation. "
   ]
  },
  {
   "cell_type": "code",
   "execution_count": 7,
   "id": "baking-stone",
   "metadata": {},
   "outputs": [
    {
     "data": {
      "text/html": [
       "<div>\n",
       "<style scoped>\n",
       "    .dataframe tbody tr th:only-of-type {\n",
       "        vertical-align: middle;\n",
       "    }\n",
       "\n",
       "    .dataframe tbody tr th {\n",
       "        vertical-align: top;\n",
       "    }\n",
       "\n",
       "    .dataframe thead th {\n",
       "        text-align: right;\n",
       "    }\n",
       "</style>\n",
       "<table border=\"1\" class=\"dataframe\">\n",
       "  <thead>\n",
       "    <tr style=\"text-align: right;\">\n",
       "      <th></th>\n",
       "      <th>longitude</th>\n",
       "      <th>latitude</th>\n",
       "      <th>housing_median_age</th>\n",
       "      <th>total_rooms</th>\n",
       "      <th>total_bedrooms</th>\n",
       "      <th>population</th>\n",
       "      <th>households</th>\n",
       "      <th>median_income</th>\n",
       "      <th>median_house_value</th>\n",
       "    </tr>\n",
       "  </thead>\n",
       "  <tbody>\n",
       "    <tr>\n",
       "      <th>7610</th>\n",
       "      <td>0.6</td>\n",
       "      <td>-0.7</td>\n",
       "      <td>0.4</td>\n",
       "      <td>0.2</td>\n",
       "      <td>0.8</td>\n",
       "      <td>-0.1</td>\n",
       "      <td>0.9</td>\n",
       "      <td>0.1</td>\n",
       "      <td>2.5</td>\n",
       "    </tr>\n",
       "    <tr>\n",
       "      <th>9468</th>\n",
       "      <td>0.1</td>\n",
       "      <td>0.1</td>\n",
       "      <td>0.3</td>\n",
       "      <td>-0.6</td>\n",
       "      <td>-0.5</td>\n",
       "      <td>-0.1</td>\n",
       "      <td>-0.4</td>\n",
       "      <td>-1.2</td>\n",
       "      <td>-1.4</td>\n",
       "    </tr>\n",
       "    <tr>\n",
       "      <th>14944</th>\n",
       "      <td>-1.3</td>\n",
       "      <td>0.9</td>\n",
       "      <td>0.6</td>\n",
       "      <td>1.6</td>\n",
       "      <td>1.2</td>\n",
       "      <td>1.4</td>\n",
       "      <td>1.5</td>\n",
       "      <td>0.9</td>\n",
       "      <td>1.2</td>\n",
       "    </tr>\n",
       "    <tr>\n",
       "      <th>4677</th>\n",
       "      <td>0.7</td>\n",
       "      <td>-0.8</td>\n",
       "      <td>-0.9</td>\n",
       "      <td>1.0</td>\n",
       "      <td>1.5</td>\n",
       "      <td>2.1</td>\n",
       "      <td>1.6</td>\n",
       "      <td>-0.7</td>\n",
       "      <td>-0.6</td>\n",
       "    </tr>\n",
       "    <tr>\n",
       "      <th>6932</th>\n",
       "      <td>0.6</td>\n",
       "      <td>-0.7</td>\n",
       "      <td>0.2</td>\n",
       "      <td>-0.2</td>\n",
       "      <td>0.7</td>\n",
       "      <td>0.7</td>\n",
       "      <td>0.6</td>\n",
       "      <td>-1.1</td>\n",
       "      <td>0.7</td>\n",
       "    </tr>\n",
       "  </tbody>\n",
       "</table>\n",
       "</div>"
      ],
      "text/plain": [
       "       longitude  latitude  housing_median_age  total_rooms  total_bedrooms  \\\n",
       "7610         0.6      -0.7                 0.4          0.2             0.8   \n",
       "9468         0.1       0.1                 0.3         -0.6            -0.5   \n",
       "14944       -1.3       0.9                 0.6          1.6             1.2   \n",
       "4677         0.7      -0.8                -0.9          1.0             1.5   \n",
       "6932         0.6      -0.7                 0.2         -0.2             0.7   \n",
       "\n",
       "       population  households  median_income  median_house_value  \n",
       "7610         -0.1         0.9            0.1                 2.5  \n",
       "9468         -0.1        -0.4           -1.2                -1.4  \n",
       "14944         1.4         1.5            0.9                 1.2  \n",
       "4677          2.1         1.6           -0.7                -0.6  \n",
       "6932          0.7         0.6           -1.1                 0.7  "
      ]
     },
     "execution_count": 7,
     "metadata": {},
     "output_type": "execute_result"
    }
   ],
   "source": [
    "train_df_norm.head()"
   ]
  },
  {
   "cell_type": "code",
   "execution_count": 8,
   "id": "lovely-regulation",
   "metadata": {},
   "outputs": [],
   "source": [
    "resolution_in_Zs = 0.3"
   ]
  },
  {
   "cell_type": "code",
   "execution_count": 9,
   "id": "bored-custody",
   "metadata": {},
   "outputs": [],
   "source": [
    "# Create a bucket feature column for latidude\n",
    "latitude_as_a_numeric_column = tf.feature_column.numeric_column('latitude')\n",
    "latitude_boundaries = list(np.arange(int(min(train_df_norm['latitude'])), \n",
    "                                     int(max(train_df_norm['latitude'])),\n",
    "                                    resolution_in_Zs))\n",
    "latitude = tf.feature_column.bucketized_column(latitude_as_a_numeric_column, latitude_boundaries)"
   ]
  },
  {
   "cell_type": "code",
   "execution_count": 10,
   "id": "psychological-jenny",
   "metadata": {},
   "outputs": [],
   "source": [
    "# Create a bucket feature column for longitude\n",
    "longitude_as_a_numeric_column = tf.feature_column.numeric_column('longitude')\n",
    "longitude_boundaries = list(np.arange(int(min(train_df_norm['longitude'])),\n",
    "                                     int(max(train_df_norm['longitude'])),\n",
    "                                     resolution_in_Zs))\n",
    "longitude = tf.feature_column.bucketized_column(longitude_as_a_numeric_column, longitude_boundaries)"
   ]
  },
  {
   "cell_type": "code",
   "execution_count": 11,
   "id": "potential-chick",
   "metadata": {},
   "outputs": [],
   "source": [
    "# Create a feature cross of latitude and longitude\n",
    "latitude_x_longitude = tf.feature_column.crossed_column([latitude, longitude], hash_bucket_size=100)\n",
    "crossed_feature = tf.feature_column.indicator_column(latitude_x_longitude)\n",
    "feature_columns.append(crossed_feature)"
   ]
  },
  {
   "cell_type": "code",
   "execution_count": 12,
   "id": "accepting-doubt",
   "metadata": {},
   "outputs": [],
   "source": [
    "# Represent median_income as a floating-point value\n",
    "median_income = tf.feature_column.numeric_column('median_income')\n",
    "feature_columns.append(median_income)"
   ]
  },
  {
   "cell_type": "code",
   "execution_count": 13,
   "id": "identified-burton",
   "metadata": {},
   "outputs": [],
   "source": [
    "# Represent population as a floating-point value.\n",
    "population = tf.feature_column.numeric_column(\"population\")\n",
    "feature_columns.append(population)"
   ]
  },
  {
   "cell_type": "code",
   "execution_count": 14,
   "id": "neural-phrase",
   "metadata": {},
   "outputs": [],
   "source": [
    "# Convert the list of feature columns into a layer that will later be fed into the model\n",
    "my_feature_layer = tf.keras.layers.DenseFeatures(feature_columns)"
   ]
  },
  {
   "cell_type": "code",
   "execution_count": 15,
   "id": "personalized-parish",
   "metadata": {},
   "outputs": [
    {
     "name": "stdout",
     "output_type": "stream",
     "text": [
      "Defined the plot_the_loss_curve function\n"
     ]
    }
   ],
   "source": [
    "def plot_the_loss_curve(epochs, mse):\n",
    "    plt.figure()\n",
    "    plt.xlabel('Epoch')\n",
    "    plt.ylabel('Mean Squared Error')\n",
    "    \n",
    "    plt.plot(epochs, mse, label='Loss')\n",
    "    plt.legend()\n",
    "    plt.ylim([mse.min()*0.95, mse.max()*1.03])\n",
    "    plt.show()\n",
    "    \n",
    "print('Defined the plot_the_loss_curve function')"
   ]
  },
  {
   "cell_type": "code",
   "execution_count": 16,
   "id": "fleet-violation",
   "metadata": {},
   "outputs": [],
   "source": [
    "def create_model(my_learning_rate, feature_layer):\n",
    "    model = tf.keras.models.Sequential()\n",
    "    model.add(feature_layer)\n",
    "    # Add one linear layer to the model to yield a simple linear regressor.\n",
    "    model.add(tf.keras.layers.Dense(units=1, input_shape=(1,)))\n",
    "    \n",
    "    model.compile(optimizer=tf.keras.optimizers.RMSprop(learning_rate=my_learning_rate),\n",
    "                 loss='mean_squared_error',\n",
    "                 metrics=[tf.keras.metrics.MeanSquaredError()])\n",
    "    \n",
    "    return model"
   ]
  },
  {
   "cell_type": "code",
   "execution_count": 17,
   "id": "designed-brooklyn",
   "metadata": {},
   "outputs": [
    {
     "name": "stdout",
     "output_type": "stream",
     "text": [
      "Defined the create_model and train_model functions\n"
     ]
    }
   ],
   "source": [
    "def train_model(model, dataset, epochs, batch_size, label_name):\n",
    "    \n",
    "    features = {name:np.array(value) for name, value in dataset.items()}\n",
    "    label = np.array(features.pop(label_name))\n",
    "    history = model.fit(x=features, y=label, batch_size=batch_size, epochs=epochs, shuffle=True)\n",
    "    \n",
    "    # Get details that will be useful for plotting the loss curve.\n",
    "    epochs = history.epoch\n",
    "    hist = pd.DataFrame(history.history)\n",
    "    rmse = hist['mean_squared_error']\n",
    "    \n",
    "    return epochs, rmse\n",
    "\n",
    "print('Defined the create_model and train_model functions')"
   ]
  },
  {
   "cell_type": "code",
   "execution_count": 18,
   "id": "confirmed-times",
   "metadata": {},
   "outputs": [
    {
     "name": "stdout",
     "output_type": "stream",
     "text": [
      "Epoch 1/15\n",
      "WARNING:tensorflow:Layers in a Sequential model should only have a single input tensor, but we receive a <class 'dict'> input: {'longitude': <tf.Tensor 'ExpandDims_3:0' shape=(1000, 1) dtype=float32>, 'latitude': <tf.Tensor 'ExpandDims_2:0' shape=(1000, 1) dtype=float32>, 'housing_median_age': <tf.Tensor 'ExpandDims_1:0' shape=(1000, 1) dtype=float32>, 'total_rooms': <tf.Tensor 'ExpandDims_7:0' shape=(1000, 1) dtype=float32>, 'total_bedrooms': <tf.Tensor 'ExpandDims_6:0' shape=(1000, 1) dtype=float32>, 'population': <tf.Tensor 'ExpandDims_5:0' shape=(1000, 1) dtype=float32>, 'households': <tf.Tensor 'ExpandDims:0' shape=(1000, 1) dtype=float32>, 'median_income': <tf.Tensor 'ExpandDims_4:0' shape=(1000, 1) dtype=float32>}\n",
      "Consider rewriting this model with the Functional API.\n",
      "WARNING:tensorflow:Layers in a Sequential model should only have a single input tensor, but we receive a <class 'dict'> input: {'longitude': <tf.Tensor 'ExpandDims_3:0' shape=(1000, 1) dtype=float32>, 'latitude': <tf.Tensor 'ExpandDims_2:0' shape=(1000, 1) dtype=float32>, 'housing_median_age': <tf.Tensor 'ExpandDims_1:0' shape=(1000, 1) dtype=float32>, 'total_rooms': <tf.Tensor 'ExpandDims_7:0' shape=(1000, 1) dtype=float32>, 'total_bedrooms': <tf.Tensor 'ExpandDims_6:0' shape=(1000, 1) dtype=float32>, 'population': <tf.Tensor 'ExpandDims_5:0' shape=(1000, 1) dtype=float32>, 'households': <tf.Tensor 'ExpandDims:0' shape=(1000, 1) dtype=float32>, 'median_income': <tf.Tensor 'ExpandDims_4:0' shape=(1000, 1) dtype=float32>}\n",
      "Consider rewriting this model with the Functional API.\n",
      "17/17 [==============================] - 2s 5ms/step - loss: 0.8673 - mean_squared_error: 0.8673\n",
      "Epoch 2/15\n",
      "17/17 [==============================] - 0s 6ms/step - loss: 0.5860 - mean_squared_error: 0.5860\n",
      "Epoch 3/15\n",
      "17/17 [==============================] - 0s 7ms/step - loss: 0.4527 - mean_squared_error: 0.4527\n",
      "Epoch 4/15\n",
      "17/17 [==============================] - 0s 7ms/step - loss: 0.3897 - mean_squared_error: 0.3897\n",
      "Epoch 5/15\n",
      "17/17 [==============================] - 0s 5ms/step - loss: 0.3672 - mean_squared_error: 0.3672\n",
      "Epoch 6/15\n",
      "17/17 [==============================] - 0s 6ms/step - loss: 0.3621 - mean_squared_error: 0.3621\n",
      "Epoch 7/15\n",
      "17/17 [==============================] - 0s 8ms/step - loss: 0.3607 - mean_squared_error: 0.3607\n",
      "Epoch 8/15\n",
      "17/17 [==============================] - 0s 6ms/step - loss: 0.3602 - mean_squared_error: 0.3602\n",
      "Epoch 9/15\n",
      "17/17 [==============================] - 0s 6ms/step - loss: 0.3603 - mean_squared_error: 0.3603\n",
      "Epoch 10/15\n",
      "17/17 [==============================] - 0s 7ms/step - loss: 0.3599 - mean_squared_error: 0.3599\n",
      "Epoch 11/15\n",
      "17/17 [==============================] - 0s 6ms/step - loss: 0.3599 - mean_squared_error: 0.3599\n",
      "Epoch 12/15\n",
      "17/17 [==============================] - 0s 9ms/step - loss: 0.3599 - mean_squared_error: 0.3599\n",
      "Epoch 13/15\n",
      "17/17 [==============================] - 0s 6ms/step - loss: 0.3596 - mean_squared_error: 0.3596\n",
      "Epoch 14/15\n",
      "17/17 [==============================] - 0s 5ms/step - loss: 0.3599 - mean_squared_error: 0.3599\n",
      "Epoch 15/15\n",
      "17/17 [==============================] - 0s 6ms/step - loss: 0.3601 - mean_squared_error: 0.3601\n"
     ]
    },
    {
     "data": {
      "image/png": "[encoded data removed]",
      "text/plain": [
       "<Figure size 432x288 with 1 Axes>"
      ]
     },
     "metadata": {
      "needs_background": "light"
     },
     "output_type": "display_data"
    }
   ],
   "source": [
    "# The following variables are the hyperparameters.\n",
    "learning_rate = 0.01\n",
    "epochs = 15\n",
    "batch_size = 1000\n",
    "label_name = \"median_house_value\"\n",
    "\n",
    "# Establish the model's topography.\n",
    "my_model = create_model(learning_rate, my_feature_layer)\n",
    "\n",
    "# Train the model on the normalized training set.\n",
    "epochs, mse = train_model(my_model, train_df_norm, epochs, batch_size, label_name)\n",
    "plot_the_loss_curve(epochs, mse)"
   ]
  },
  {
   "cell_type": "code",
   "execution_count": 19,
   "id": "answering-hardwood",
   "metadata": {},
   "outputs": [
    {
     "name": "stdout",
     "output_type": "stream",
     "text": [
      "\n",
      " Evaluate the linear regression model against the test set:\n",
      "WARNING:tensorflow:Layers in a Sequential model should only have a single input tensor, but we receive a <class 'dict'> input: {'longitude': <tf.Tensor 'ExpandDims_3:0' shape=(1000, 1) dtype=float32>, 'latitude': <tf.Tensor 'ExpandDims_2:0' shape=(1000, 1) dtype=float32>, 'housing_median_age': <tf.Tensor 'ExpandDims_1:0' shape=(1000, 1) dtype=float32>, 'total_rooms': <tf.Tensor 'ExpandDims_7:0' shape=(1000, 1) dtype=float32>, 'total_bedrooms': <tf.Tensor 'ExpandDims_6:0' shape=(1000, 1) dtype=float32>, 'population': <tf.Tensor 'ExpandDims_5:0' shape=(1000, 1) dtype=float32>, 'households': <tf.Tensor 'ExpandDims:0' shape=(1000, 1) dtype=float32>, 'median_income': <tf.Tensor 'ExpandDims_4:0' shape=(1000, 1) dtype=float32>}\n",
      "Consider rewriting this model with the Functional API.\n",
      "3/3 [==============================] - 1s 6ms/step - loss: 0.3952 - mean_squared_error: 0.3952\n"
     ]
    },
    {
     "data": {
      "text/plain": [
       "[0.39523574709892273, 0.39523574709892273]"
      ]
     },
     "execution_count": 19,
     "metadata": {},
     "output_type": "execute_result"
    }
   ],
   "source": [
    "test_features = {name:np.array(value) for name, value in test_df_norm.items()}\n",
    "test_label = np.array(test_features.pop(label_name)) # isolate the label\n",
    "print(\"\\n Evaluate the linear regression model against the test set:\")\n",
    "my_model.evaluate(x = test_features, y = test_label, batch_size=batch_size)"
   ]
  },
  {
   "cell_type": "markdown",
   "id": "collective-worst",
   "metadata": {},
   "source": [
    "## Define a deep neural net model\n",
    "\n",
    "The `create_model` function defines the topography of the deep neural net, specifying the following:\n",
    "\n",
    "* The number of [layers](https://developers.google.com/machine-learning/glossary/#layer) in the deep neural net.\n",
    "* The number of [nodes](https://developers.google.com/machine-learning/glossary/#node) in each layer.\n",
    "\n",
    "The `create_model` function also defines the [activation function](https://developers.google.com/machine-learning/glossary/#activation_function) of each layer."
   ]
  },
  {
   "cell_type": "code",
   "execution_count": 52,
   "id": "adverse-framing",
   "metadata": {},
   "outputs": [],
   "source": [
    "def create_model(my_learning_rate, my_feature_layer):\n",
    "    model = tf.keras.models.Sequential()\n",
    "    \n",
    "    # Add the layer containing the feature columns to the model.\n",
    "    model.add(my_feature_layer)\n",
    "    \n",
    "    # Describe the topography of the model by calling the tf.keras.layers.Dense\n",
    "    # method once for each layer. We've specified the following arguments:\n",
    "    #   * units specifies the number of nodes in this layer.\n",
    "    #   * activation specifies the activation function (Rectified Linear Unit).\n",
    "    #   * name is just a string that can be useful when debugging.\n",
    "    \n",
    "    # Define the first hidden layer with 20 nodes. \n",
    "    model.add(tf.keras.layers.Dense(units=20, activation='relu', name='Hidden1'))\n",
    "    \n",
    "    # Define the second hidden layer with 12 nodes. \n",
    "    model.add(tf.keras.layers.Dense(units=12, activation='relu', name='Hidden2'))\n",
    "    \n",
    "    # Define the output layer.\n",
    "    model.add(tf.keras.layers.Dense(units=1, name='Output'))\n",
    "\n",
    "    model.compile(optimizer=tf.keras.optimizers.Adam(learning_rate=my_learning_rate),\n",
    "                 loss='mean_squared_error', metrics=[tf.keras.metrics.MeanSquaredError()])\n",
    "    \n",
    "    return model"
   ]
  },
  {
   "cell_type": "markdown",
   "id": "proper-circulation",
   "metadata": {},
   "source": [
    "## Define a training function\n",
    "\n",
    "The `train_model` function trains the model from the input features and labels. The [tf.keras.Model.fit](https://www.tensorflow.org/api_docs/python/tf/keras/Sequential#fit) method performs the actual training. The `x` parameter of the `fit` method is very flexible, enabling you to pass feature data in a variety of ways. The following implementation passes a Python dictionary in which:\n",
    "\n",
    "* The *keys* are the names of each feature (for example, `longitude`, `latitude`, and so on).\n",
    "* The *value* of each key is a NumPy array containing the values of that feature. \n",
    "\n",
    "**Note:** <span style=\"color:red\">Although you are passing *every* feature to `model.fit`, most of those values will be ignored. Only the features accessed by `my_feature_layer` will actually be used to train the model.</span>"
   ]
  },
  {
   "cell_type": "code",
   "execution_count": 40,
   "id": "personal-affair",
   "metadata": {},
   "outputs": [],
   "source": [
    "def train_model(model, dataset, epochs, label_name, batch_size=None):\n",
    "    #Split the dataset into features and label\n",
    "    features = {name:np.array(value) for name, value in dataset.items()}\n",
    "    label = np.array(features.pop(label_name))\n",
    "    history = model.fit(x=features, y = label, epochs=epochs, batch_size=batch_size, shuffle=True)\n",
    "    \n",
    "    # The list of epochs is stored separately from the rest of history\n",
    "    epochs = history.epoch\n",
    "    \n",
    "    # To track the pregression of training, \n",
    "    # gather a snapshot of the model's mean squared error at each epoch\n",
    "    hist = pd.DataFrame(history.history)\n",
    "    mse = hist['mean_squared_error']\n",
    "    \n",
    "    return epochs, mse\n"
   ]
  },
  {
   "cell_type": "markdown",
   "id": "peaceful-greensboro",
   "metadata": {},
   "source": [
    "## Call the functions to build and train a deep neural net\n",
    "\n",
    "Okay, it is time to actually train the deep neural net.  If time permits, experiment with the three hyperparameters to see if you can reduce the loss\n",
    "against the test set."
   ]
  },
  {
   "cell_type": "code",
   "execution_count": 53,
   "id": "lyric-scott",
   "metadata": {},
   "outputs": [
    {
     "name": "stdout",
     "output_type": "stream",
     "text": [
      "Epoch 1/20\n",
      "WARNING:tensorflow:Layers in a Sequential model should only have a single input tensor, but we receive a <class 'dict'> input: {'longitude': <tf.Tensor 'ExpandDims_3:0' shape=(1000, 1) dtype=float32>, 'latitude': <tf.Tensor 'ExpandDims_2:0' shape=(1000, 1) dtype=float32>, 'housing_median_age': <tf.Tensor 'ExpandDims_1:0' shape=(1000, 1) dtype=float32>, 'total_rooms': <tf.Tensor 'ExpandDims_7:0' shape=(1000, 1) dtype=float32>, 'total_bedrooms': <tf.Tensor 'ExpandDims_6:0' shape=(1000, 1) dtype=float32>, 'population': <tf.Tensor 'ExpandDims_5:0' shape=(1000, 1) dtype=float32>, 'households': <tf.Tensor 'ExpandDims:0' shape=(1000, 1) dtype=float32>, 'median_income': <tf.Tensor 'ExpandDims_4:0' shape=(1000, 1) dtype=float32>}\n",
      "Consider rewriting this model with the Functional API.\n",
      "WARNING:tensorflow:Layers in a Sequential model should only have a single input tensor, but we receive a <class 'dict'> input: {'longitude': <tf.Tensor 'ExpandDims_3:0' shape=(1000, 1) dtype=float32>, 'latitude': <tf.Tensor 'ExpandDims_2:0' shape=(1000, 1) dtype=float32>, 'housing_median_age': <tf.Tensor 'ExpandDims_1:0' shape=(1000, 1) dtype=float32>, 'total_rooms': <tf.Tensor 'ExpandDims_7:0' shape=(1000, 1) dtype=float32>, 'total_bedrooms': <tf.Tensor 'ExpandDims_6:0' shape=(1000, 1) dtype=float32>, 'population': <tf.Tensor 'ExpandDims_5:0' shape=(1000, 1) dtype=float32>, 'households': <tf.Tensor 'ExpandDims:0' shape=(1000, 1) dtype=float32>, 'median_income': <tf.Tensor 'ExpandDims_4:0' shape=(1000, 1) dtype=float32>}\n",
      "Consider rewriting this model with the Functional API.\n",
      "17/17 [==============================] - 1s 7ms/step - loss: 0.5499 - mean_squared_error: 0.5499\n",
      "Epoch 2/20\n",
      "17/17 [==============================] - 0s 6ms/step - loss: 0.3597 - mean_squared_error: 0.3597\n",
      "Epoch 3/20\n",
      "17/17 [==============================] - 0s 5ms/step - loss: 0.3453 - mean_squared_error: 0.3453\n",
      "Epoch 4/20\n",
      "17/17 [==============================] - 0s 6ms/step - loss: 0.3393 - mean_squared_error: 0.3393\n",
      "Epoch 5/20\n",
      "17/17 [==============================] - 0s 5ms/step - loss: 0.3370 - mean_squared_error: 0.3370\n",
      "Epoch 6/20\n",
      "17/17 [==============================] - 0s 8ms/step - loss: 0.3352 - mean_squared_error: 0.3352\n",
      "Epoch 7/20\n",
      "17/17 [==============================] - 0s 6ms/step - loss: 0.3346 - mean_squared_error: 0.3346\n",
      "Epoch 8/20\n",
      "17/17 [==============================] - 0s 5ms/step - loss: 0.3330 - mean_squared_error: 0.3330\n",
      "Epoch 9/20\n",
      "17/17 [==============================] - 0s 5ms/step - loss: 0.3309 - mean_squared_error: 0.3309\n",
      "Epoch 10/20\n",
      "17/17 [==============================] - 0s 9ms/step - loss: 0.3304 - mean_squared_error: 0.3304\n",
      "Epoch 11/20\n",
      "17/17 [==============================] - 0s 8ms/step - loss: 0.3313 - mean_squared_error: 0.3313\n",
      "Epoch 12/20\n",
      "17/17 [==============================] - 0s 6ms/step - loss: 0.3304 - mean_squared_error: 0.3304\n",
      "Epoch 13/20\n",
      "17/17 [==============================] - 0s 6ms/step - loss: 0.3282 - mean_squared_error: 0.3282\n",
      "Epoch 14/20\n",
      "17/17 [==============================] - 0s 8ms/step - loss: 0.3269 - mean_squared_error: 0.3269\n",
      "Epoch 15/20\n",
      "17/17 [==============================] - 0s 7ms/step - loss: 0.3258 - mean_squared_error: 0.3258\n",
      "Epoch 16/20\n",
      "17/17 [==============================] - 0s 5ms/step - loss: 0.3265 - mean_squared_error: 0.3265\n",
      "Epoch 17/20\n",
      "17/17 [==============================] - 0s 5ms/step - loss: 0.3256 - mean_squared_error: 0.3256\n",
      "Epoch 18/20\n",
      "17/17 [==============================] - 0s 7ms/step - loss: 0.3236 - mean_squared_error: 0.3236\n",
      "Epoch 19/20\n",
      "17/17 [==============================] - 0s 6ms/step - loss: 0.3233 - mean_squared_error: 0.3233\n",
      "Epoch 20/20\n",
      "17/17 [==============================] - 0s 7ms/step - loss: 0.3274 - mean_squared_error: 0.3274\n"
     ]
    },
    {
     "data": {
      "image/png": "[encoded data removed]",
      "text/plain": [
       "<Figure size 432x288 with 1 Axes>"
      ]
     },
     "metadata": {
      "needs_background": "light"
     },
     "output_type": "display_data"
    }
   ],
   "source": [
    "# The following variables are the hyperparameters.\n",
    "learning_rate = 0.01\n",
    "epochs = 20\n",
    "batch_size = 1000\n",
    "\n",
    "# Specify the label\n",
    "label_name = \"median_house_value\"\n",
    "\n",
    "# Establish the model's topography.\n",
    "my_model = create_model(learning_rate, my_feature_layer)\n",
    "\n",
    "# Train the model on the normalized training set. We're passing the entire\n",
    "# normalized training set, but the model will only use the features\n",
    "# defined by the feature_layer.\n",
    "epochs, mse = train_model(my_model, train_df_norm, epochs, label_name, batch_size)\n",
    "plot_the_loss_curve(epochs, mse)"
   ]
  },
  {
   "cell_type": "code",
   "execution_count": 54,
   "id": "excited-disposal",
   "metadata": {},
   "outputs": [
    {
     "name": "stdout",
     "output_type": "stream",
     "text": [
      "\n",
      " Evaluate the new model against the test set:\n",
      "WARNING:tensorflow:Layers in a Sequential model should only have a single input tensor, but we receive a <class 'dict'> input: {'longitude': <tf.Tensor 'ExpandDims_3:0' shape=(1000, 1) dtype=float32>, 'latitude': <tf.Tensor 'ExpandDims_2:0' shape=(1000, 1) dtype=float32>, 'housing_median_age': <tf.Tensor 'ExpandDims_1:0' shape=(1000, 1) dtype=float32>, 'total_rooms': <tf.Tensor 'ExpandDims_7:0' shape=(1000, 1) dtype=float32>, 'total_bedrooms': <tf.Tensor 'ExpandDims_6:0' shape=(1000, 1) dtype=float32>, 'population': <tf.Tensor 'ExpandDims_5:0' shape=(1000, 1) dtype=float32>, 'households': <tf.Tensor 'ExpandDims:0' shape=(1000, 1) dtype=float32>, 'median_income': <tf.Tensor 'ExpandDims_4:0' shape=(1000, 1) dtype=float32>}\n",
      "Consider rewriting this model with the Functional API.\n",
      "3/3 [==============================] - 1s 5ms/step - loss: 0.3674 - mean_squared_error: 0.3674\n"
     ]
    },
    {
     "data": {
      "text/plain": [
       "[0.3674446642398834, 0.3674446642398834]"
      ]
     },
     "execution_count": 54,
     "metadata": {},
     "output_type": "execute_result"
    }
   ],
   "source": [
    "# After building a model against the training set, test that model\n",
    "# against the test set.\n",
    "test_features = {name:np.array(value) for name, value in test_df_norm.items()}\n",
    "test_label = np.array(test_features.pop(label_name)) # isolate the label\n",
    "print(\"\\n Evaluate the new model against the test set:\")\n",
    "my_model.evaluate(x = test_features, y = test_label, batch_size=batch_size)"
   ]
  },
  {
   "cell_type": "markdown",
   "id": "veterinary-terrain",
   "metadata": {},
   "source": [
    "## Task 3: Regularize the deep neural network (if you have enough time)\n",
    "\n",
    "Notice that the model's loss against the test set is *much higher* than the loss against the training set.  In other words, the deep neural network is [overfitting](https://developers.google.com/machine-learning/glossary/#overfitting) to the data in the training set.  To reduce overfitting, regularize the model.  The course has suggested several different ways to regularize a model, including:\n",
    "\n",
    "  * [L1 regularization](https://developers.google.com/machine-learning/glossary/#L1_regularization)\n",
    "  * [L2 regularization](https://developers.google.com/machine-learning/glossary/#L2_regularization)\n",
    "  * [Dropout regularization](https://developers.google.com/machine-learning/glossary/#dropout_regularization)\n",
    "\n",
    "Your task is to experiment with one or more regularization mechanisms to bring the test loss closer to the training loss (while still keeping test loss relatively low).  \n",
    "\n",
    "**Note:** When you add a regularization function to a model, you might need to tweak other hyperparameters. \n",
    "\n",
    "### Implementing L1 or L2 regularization\n",
    "\n",
    "To use L1 or L2 regularization on a hidden layer, specify the `kernel_regularizer` argument to [tf.keras.layers.Dense](https://www.tensorflow.org/api_docs/python/tf/keras/layers/Dense). Assign one of the following methods to this argument:\n",
    "\n",
    "* `tf.keras.regularizers.l1` for L1 regularization\n",
    "* `tf.keras.regularizers.l2` for L2 regularization\n",
    "\n",
    "Each of the preceding methods takes an `l` parameter, which adjusts the [regularization rate](https://developers.google.com/machine-learning/glossary/#regularization_rate). Assign a decimal value between 0 and 1.0 to `l`; the higher the decimal, the greater the regularization. For example, the following applies L2 regularization at a strength of 0.05. \n",
    "\n",
    "```\n",
    "model.add(tf.keras.layers.Dense(units=20, \n",
    "                                activation='relu',\n",
    "                                kernel_regularizer=tf.keras.regularizers.l2(l=0.01),\n",
    "                                name='Hidden1'))\n",
    "```\n",
    "\n",
    "### Implementing Dropout regularization\n",
    "\n",
    "You implement dropout regularization as a separate layer in the topography. For example, the following code demonstrates how to add a dropout regularization layer between the first hidden layer and the second hidden layer:\n",
    "\n",
    "```\n",
    "model.add(tf.keras.layers.Dense( *define first hidden layer*)\n",
    " \n",
    "model.add(tf.keras.layers.Dropout(rate=0.25))\n",
    "\n",
    "model.add(tf.keras.layers.Dense( *define second hidden layer*)\n",
    "```\n",
    "\n",
    "The `rate` parameter to [tf.keras.layers.Dropout](https://www.tensorflow.org/api_docs/python/tf/keras/layers/Dropout) specifies the fraction of nodes that the model should drop out during training. "
   ]
  },
  {
   "cell_type": "code",
   "execution_count": 61,
   "id": "familiar-venture",
   "metadata": {},
   "outputs": [
    {
     "name": "stdout",
     "output_type": "stream",
     "text": [
      "Epoch 1/140\n",
      "WARNING:tensorflow:Layers in a Sequential model should only have a single input tensor, but we receive a <class 'dict'> input: {'longitude': <tf.Tensor 'ExpandDims_3:0' shape=(1000, 1) dtype=float32>, 'latitude': <tf.Tensor 'ExpandDims_2:0' shape=(1000, 1) dtype=float32>, 'housing_median_age': <tf.Tensor 'ExpandDims_1:0' shape=(1000, 1) dtype=float32>, 'total_rooms': <tf.Tensor 'ExpandDims_7:0' shape=(1000, 1) dtype=float32>, 'total_bedrooms': <tf.Tensor 'ExpandDims_6:0' shape=(1000, 1) dtype=float32>, 'population': <tf.Tensor 'ExpandDims_5:0' shape=(1000, 1) dtype=float32>, 'households': <tf.Tensor 'ExpandDims:0' shape=(1000, 1) dtype=float32>, 'median_income': <tf.Tensor 'ExpandDims_4:0' shape=(1000, 1) dtype=float32>}\n",
      "Consider rewriting this model with the Functional API.\n",
      "WARNING:tensorflow:Layers in a Sequential model should only have a single input tensor, but we receive a <class 'dict'> input: {'longitude': <tf.Tensor 'ExpandDims_3:0' shape=(1000, 1) dtype=float32>, 'latitude': <tf.Tensor 'ExpandDims_2:0' shape=(1000, 1) dtype=float32>, 'housing_median_age': <tf.Tensor 'ExpandDims_1:0' shape=(1000, 1) dtype=float32>, 'total_rooms': <tf.Tensor 'ExpandDims_7:0' shape=(1000, 1) dtype=float32>, 'total_bedrooms': <tf.Tensor 'ExpandDims_6:0' shape=(1000, 1) dtype=float32>, 'population': <tf.Tensor 'ExpandDims_5:0' shape=(1000, 1) dtype=float32>, 'households': <tf.Tensor 'ExpandDims:0' shape=(1000, 1) dtype=float32>, 'median_income': <tf.Tensor 'ExpandDims_4:0' shape=(1000, 1) dtype=float32>}\n",
      "Consider rewriting this model with the Functional API.\n",
      "17/17 [==============================] - 2s 6ms/step - loss: 1.8910 - mean_squared_error: 0.7661\n",
      "Epoch 2/140\n",
      "17/17 [==============================] - 0s 5ms/step - loss: 0.8182 - mean_squared_error: 0.5102\n",
      "Epoch 3/140\n",
      "17/17 [==============================] - 0s 6ms/step - loss: 0.5605 - mean_squared_error: 0.4009\n",
      "Epoch 4/140\n",
      "17/17 [==============================] - 0s 7ms/step - loss: 0.4922 - mean_squared_error: 0.3812\n",
      "Epoch 5/140\n",
      "17/17 [==============================] - 0s 5ms/step - loss: 0.4677 - mean_squared_error: 0.3794\n",
      "Epoch 6/140\n",
      "17/17 [==============================] - 0s 5ms/step - loss: 0.4586 - mean_squared_error: 0.3782\n",
      "Epoch 7/140\n",
      "17/17 [==============================] - 0s 6ms/step - loss: 0.4487 - mean_squared_error: 0.3736\n",
      "Epoch 8/140\n",
      "17/17 [==============================] - 0s 5ms/step - loss: 0.4422 - mean_squared_error: 0.3717\n",
      "Epoch 9/140\n",
      "17/17 [==============================] - 0s 6ms/step - loss: 0.4379 - mean_squared_error: 0.3695\n",
      "Epoch 10/140\n",
      "17/17 [==============================] - 0s 6ms/step - loss: 0.4358 - mean_squared_error: 0.3700\n",
      "Epoch 11/140\n",
      "17/17 [==============================] - 0s 6ms/step - loss: 0.4341 - mean_squared_error: 0.3710\n",
      "Epoch 12/140\n",
      "17/17 [==============================] - 0s 5ms/step - loss: 0.4307 - mean_squared_error: 0.3699\n",
      "Epoch 13/140\n",
      "17/17 [==============================] - 0s 5ms/step - loss: 0.4257 - mean_squared_error: 0.3658\n",
      "Epoch 14/140\n",
      "17/17 [==============================] - 0s 6ms/step - loss: 0.4246 - mean_squared_error: 0.3664\n",
      "Epoch 15/140\n",
      "17/17 [==============================] - 0s 6ms/step - loss: 0.4224 - mean_squared_error: 0.3659\n",
      "Epoch 16/140\n",
      "17/17 [==============================] - 0s 6ms/step - loss: 0.4240 - mean_squared_error: 0.3669\n",
      "Epoch 17/140\n",
      "17/17 [==============================] - 0s 7ms/step - loss: 0.4191 - mean_squared_error: 0.3648\n",
      "Epoch 18/140\n",
      "17/17 [==============================] - 0s 5ms/step - loss: 0.4164 - mean_squared_error: 0.3619\n",
      "Epoch 19/140\n",
      "17/17 [==============================] - 0s 7ms/step - loss: 0.4180 - mean_squared_error: 0.3627\n",
      "Epoch 20/140\n",
      "17/17 [==============================] - 0s 8ms/step - loss: 0.4147 - mean_squared_error: 0.3631\n",
      "Epoch 21/140\n",
      "17/17 [==============================] - 0s 6ms/step - loss: 0.4122 - mean_squared_error: 0.3593\n",
      "Epoch 22/140\n",
      "17/17 [==============================] - 0s 6ms/step - loss: 0.4096 - mean_squared_error: 0.3567\n",
      "Epoch 23/140\n",
      "17/17 [==============================] - 0s 7ms/step - loss: 0.4099 - mean_squared_error: 0.3580\n",
      "Epoch 24/140\n",
      "17/17 [==============================] - 0s 5ms/step - loss: 0.4133 - mean_squared_error: 0.3617\n",
      "Epoch 25/140\n",
      "17/17 [==============================] - 0s 6ms/step - loss: 0.4108 - mean_squared_error: 0.3602\n",
      "Epoch 26/140\n",
      "17/17 [==============================] - 0s 5ms/step - loss: 0.4072 - mean_squared_error: 0.3555\n",
      "Epoch 27/140\n",
      "17/17 [==============================] - 0s 5ms/step - loss: 0.4063 - mean_squared_error: 0.3563\n",
      "Epoch 28/140\n",
      "17/17 [==============================] - 0s 7ms/step - loss: 0.4037 - mean_squared_error: 0.3529\n",
      "Epoch 29/140\n",
      "17/17 [==============================] - 0s 7ms/step - loss: 0.4034 - mean_squared_error: 0.3538\n",
      "Epoch 30/140\n",
      "17/17 [==============================] - 0s 6ms/step - loss: 0.4033 - mean_squared_error: 0.3530\n",
      "Epoch 31/140\n",
      "17/17 [==============================] - 0s 6ms/step - loss: 0.4047 - mean_squared_error: 0.3561\n",
      "Epoch 32/140\n",
      "17/17 [==============================] - 0s 7ms/step - loss: 0.4008 - mean_squared_error: 0.3515\n",
      "Epoch 33/140\n",
      "17/17 [==============================] - 0s 8ms/step - loss: 0.4009 - mean_squared_error: 0.3526\n",
      "Epoch 34/140\n",
      "17/17 [==============================] - 0s 5ms/step - loss: 0.3997 - mean_squared_error: 0.3517\n",
      "Epoch 35/140\n",
      "17/17 [==============================] - 0s 5ms/step - loss: 0.3991 - mean_squared_error: 0.3515\n",
      "Epoch 36/140\n",
      "17/17 [==============================] - 0s 6ms/step - loss: 0.3988 - mean_squared_error: 0.3515\n",
      "Epoch 37/140\n",
      "17/17 [==============================] - 0s 7ms/step - loss: 0.4003 - mean_squared_error: 0.3536\n",
      "Epoch 38/140\n",
      "17/17 [==============================] - 0s 6ms/step - loss: 0.3996 - mean_squared_error: 0.3527: 0s - loss: 0.4066 - mean_squared_error: 0.35\n",
      "Epoch 39/140\n",
      "17/17 [==============================] - 0s 5ms/step - loss: 0.3969 - mean_squared_error: 0.3512\n",
      "Epoch 40/140\n",
      "17/17 [==============================] - 0s 5ms/step - loss: 0.3961 - mean_squared_error: 0.3502\n",
      "Epoch 41/140\n",
      "17/17 [==============================] - 0s 6ms/step - loss: 0.3959 - mean_squared_error: 0.3495\n",
      "Epoch 42/140\n",
      "17/17 [==============================] - 0s 7ms/step - loss: 0.3947 - mean_squared_error: 0.3494\n",
      "Epoch 43/140\n",
      "17/17 [==============================] - 0s 6ms/step - loss: 0.3954 - mean_squared_error: 0.3495\n",
      "Epoch 44/140\n",
      "17/17 [==============================] - 0s 6ms/step - loss: 0.3961 - mean_squared_error: 0.3520\n",
      "Epoch 45/140\n",
      "17/17 [==============================] - 0s 7ms/step - loss: 0.3967 - mean_squared_error: 0.3525\n",
      "Epoch 46/140\n",
      "17/17 [==============================] - 0s 7ms/step - loss: 0.3974 - mean_squared_error: 0.3520\n",
      "Epoch 47/140\n",
      "17/17 [==============================] - 0s 6ms/step - loss: 0.3958 - mean_squared_error: 0.3525\n",
      "Epoch 48/140\n",
      "17/17 [==============================] - 0s 5ms/step - loss: 0.3952 - mean_squared_error: 0.3512\n",
      "Epoch 49/140\n",
      "17/17 [==============================] - 0s 5ms/step - loss: 0.3934 - mean_squared_error: 0.3495\n",
      "Epoch 50/140\n",
      "17/17 [==============================] - 0s 5ms/step - loss: 0.3915 - mean_squared_error: 0.3487\n",
      "Epoch 51/140\n",
      "17/17 [==============================] - 0s 6ms/step - loss: 0.3918 - mean_squared_error: 0.3479: 0s - loss: 0.3923 - mean_squared_error: 0.34\n",
      "Epoch 52/140\n",
      "17/17 [==============================] - 0s 6ms/step - loss: 0.3925 - mean_squared_error: 0.3496\n",
      "Epoch 53/140\n",
      "17/17 [==============================] - 0s 5ms/step - loss: 0.3943 - mean_squared_error: 0.3510\n",
      "Epoch 54/140\n",
      "17/17 [==============================] - 0s 6ms/step - loss: 0.3928 - mean_squared_error: 0.3509\n",
      "Epoch 55/140\n",
      "17/17 [==============================] - 0s 11ms/step - loss: 0.3924 - mean_squared_error: 0.3503\n",
      "Epoch 56/140\n",
      "17/17 [==============================] - 0s 7ms/step - loss: 0.3909 - mean_squared_error: 0.3485\n",
      "Epoch 57/140\n",
      "17/17 [==============================] - 0s 7ms/step - loss: 0.3915 - mean_squared_error: 0.3504\n",
      "Epoch 58/140\n",
      "17/17 [==============================] - 0s 6ms/step - loss: 0.3904 - mean_squared_error: 0.3484\n",
      "Epoch 59/140\n",
      "17/17 [==============================] - 0s 6ms/step - loss: 0.3886 - mean_squared_error: 0.3470\n",
      "Epoch 60/140\n"
     ]
    },
    {
     "name": "stdout",
     "output_type": "stream",
     "text": [
      "17/17 [==============================] - 0s 8ms/step - loss: 0.3921 - mean_squared_error: 0.3515\n",
      "Epoch 61/140\n",
      "17/17 [==============================] - 0s 6ms/step - loss: 0.3892 - mean_squared_error: 0.3473\n",
      "Epoch 62/140\n",
      "17/17 [==============================] - 0s 8ms/step - loss: 0.3870 - mean_squared_error: 0.3468\n",
      "Epoch 63/140\n",
      "17/17 [==============================] - 0s 6ms/step - loss: 0.3874 - mean_squared_error: 0.3463\n",
      "Epoch 64/140\n",
      "17/17 [==============================] - 0s 5ms/step - loss: 0.3863 - mean_squared_error: 0.3460\n",
      "Epoch 65/140\n",
      "17/17 [==============================] - 0s 6ms/step - loss: 0.3869 - mean_squared_error: 0.3465\n",
      "Epoch 66/140\n",
      "17/17 [==============================] - 0s 6ms/step - loss: 0.3877 - mean_squared_error: 0.3471\n",
      "Epoch 67/140\n",
      "17/17 [==============================] - 0s 6ms/step - loss: 0.3863 - mean_squared_error: 0.3464\n",
      "Epoch 68/140\n",
      "17/17 [==============================] - 0s 5ms/step - loss: 0.3885 - mean_squared_error: 0.3489\n",
      "Epoch 69/140\n",
      "17/17 [==============================] - 0s 5ms/step - loss: 0.3860 - mean_squared_error: 0.3457\n",
      "Epoch 70/140\n",
      "17/17 [==============================] - 0s 5ms/step - loss: 0.3873 - mean_squared_error: 0.3486\n",
      "Epoch 71/140\n",
      "17/17 [==============================] - 0s 5ms/step - loss: 0.3877 - mean_squared_error: 0.3479\n",
      "Epoch 72/140\n",
      "17/17 [==============================] - 0s 7ms/step - loss: 0.3846 - mean_squared_error: 0.3447: 0s - loss: 0.3955 - mean_squared_error: 0.\n",
      "Epoch 73/140\n",
      "17/17 [==============================] - 0s 8ms/step - loss: 0.3848 - mean_squared_error: 0.3460\n",
      "Epoch 74/140\n",
      "17/17 [==============================] - 0s 7ms/step - loss: 0.3866 - mean_squared_error: 0.3475\n",
      "Epoch 75/140\n",
      "17/17 [==============================] - 0s 7ms/step - loss: 0.3862 - mean_squared_error: 0.3482\n",
      "Epoch 76/140\n",
      "17/17 [==============================] - 0s 8ms/step - loss: 0.3836 - mean_squared_error: 0.3449\n",
      "Epoch 77/140\n",
      "17/17 [==============================] - 0s 7ms/step - loss: 0.3839 - mean_squared_error: 0.3457\n",
      "Epoch 78/140\n",
      "17/17 [==============================] - 0s 6ms/step - loss: 0.3836 - mean_squared_error: 0.3453\n",
      "Epoch 79/140\n",
      "17/17 [==============================] - 0s 6ms/step - loss: 0.3835 - mean_squared_error: 0.3449\n",
      "Epoch 80/140\n",
      "17/17 [==============================] - 0s 7ms/step - loss: 0.3842 - mean_squared_error: 0.3469\n",
      "Epoch 81/140\n",
      "17/17 [==============================] - 0s 6ms/step - loss: 0.3840 - mean_squared_error: 0.3455\n",
      "Epoch 82/140\n",
      "17/17 [==============================] - 0s 5ms/step - loss: 0.3827 - mean_squared_error: 0.3453\n",
      "Epoch 83/140\n",
      "17/17 [==============================] - 0s 6ms/step - loss: 0.3838 - mean_squared_error: 0.3467\n",
      "Epoch 84/140\n",
      "17/17 [==============================] - 0s 6ms/step - loss: 0.3830 - mean_squared_error: 0.3457\n",
      "Epoch 85/140\n",
      "17/17 [==============================] - 0s 6ms/step - loss: 0.3820 - mean_squared_error: 0.3446\n",
      "Epoch 86/140\n",
      "17/17 [==============================] - 0s 6ms/step - loss: 0.3826 - mean_squared_error: 0.3458\n",
      "Epoch 87/140\n",
      "17/17 [==============================] - 0s 6ms/step - loss: 0.3855 - mean_squared_error: 0.3481\n",
      "Epoch 88/140\n",
      "17/17 [==============================] - 0s 6ms/step - loss: 0.3847 - mean_squared_error: 0.3480\n",
      "Epoch 89/140\n",
      "17/17 [==============================] - 0s 7ms/step - loss: 0.3835 - mean_squared_error: 0.3470\n",
      "Epoch 90/140\n",
      "17/17 [==============================] - 0s 7ms/step - loss: 0.3803 - mean_squared_error: 0.3438\n",
      "Epoch 91/140\n",
      "17/17 [==============================] - 0s 5ms/step - loss: 0.3814 - mean_squared_error: 0.3450\n",
      "Epoch 92/140\n",
      "17/17 [==============================] - 0s 5ms/step - loss: 0.3800 - mean_squared_error: 0.3430\n",
      "Epoch 93/140\n",
      "17/17 [==============================] - 0s 5ms/step - loss: 0.3804 - mean_squared_error: 0.3444\n",
      "Epoch 94/140\n",
      "17/17 [==============================] - 0s 5ms/step - loss: 0.3805 - mean_squared_error: 0.3446\n",
      "Epoch 95/140\n",
      "17/17 [==============================] - 0s 6ms/step - loss: 0.3796 - mean_squared_error: 0.3437: 0s - loss: 0.3921 - mean_squared_error: 0.35\n",
      "Epoch 96/140\n",
      "17/17 [==============================] - 0s 5ms/step - loss: 0.3788 - mean_squared_error: 0.3426\n",
      "Epoch 97/140\n",
      "17/17 [==============================] - 0s 5ms/step - loss: 0.3799 - mean_squared_error: 0.3444\n",
      "Epoch 98/140\n",
      "17/17 [==============================] - 0s 6ms/step - loss: 0.3797 - mean_squared_error: 0.3439\n",
      "Epoch 99/140\n",
      "17/17 [==============================] - 0s 7ms/step - loss: 0.3801 - mean_squared_error: 0.3446\n",
      "Epoch 100/140\n",
      "17/17 [==============================] - 0s 7ms/step - loss: 0.3791 - mean_squared_error: 0.3434\n",
      "Epoch 101/140\n",
      "17/17 [==============================] - 0s 6ms/step - loss: 0.3779 - mean_squared_error: 0.3432\n",
      "Epoch 102/140\n",
      "17/17 [==============================] - 0s 6ms/step - loss: 0.3787 - mean_squared_error: 0.3437\n",
      "Epoch 103/140\n",
      "17/17 [==============================] - 0s 6ms/step - loss: 0.3790 - mean_squared_error: 0.3435\n",
      "Epoch 104/140\n",
      "17/17 [==============================] - 0s 6ms/step - loss: 0.3805 - mean_squared_error: 0.3457\n",
      "Epoch 105/140\n",
      "17/17 [==============================] - 0s 6ms/step - loss: 0.3813 - mean_squared_error: 0.3471\n",
      "Epoch 106/140\n",
      "17/17 [==============================] - 0s 6ms/step - loss: 0.3772 - mean_squared_error: 0.3425\n",
      "Epoch 107/140\n",
      "17/17 [==============================] - 0s 6ms/step - loss: 0.3780 - mean_squared_error: 0.3435\n",
      "Epoch 108/140\n",
      "17/17 [==============================] - 0s 10ms/step - loss: 0.3777 - mean_squared_error: 0.3437\n",
      "Epoch 109/140\n",
      "17/17 [==============================] - 0s 8ms/step - loss: 0.3774 - mean_squared_error: 0.3432\n",
      "Epoch 110/140\n",
      "17/17 [==============================] - 0s 6ms/step - loss: 0.3778 - mean_squared_error: 0.3436\n",
      "Epoch 111/140\n",
      "17/17 [==============================] - 0s 6ms/step - loss: 0.3787 - mean_squared_error: 0.3447\n",
      "Epoch 112/140\n",
      "17/17 [==============================] - 0s 6ms/step - loss: 0.3775 - mean_squared_error: 0.3435\n",
      "Epoch 113/140\n",
      "17/17 [==============================] - 0s 7ms/step - loss: 0.3772 - mean_squared_error: 0.3434\n",
      "Epoch 114/140\n",
      "17/17 [==============================] - 0s 7ms/step - loss: 0.3767 - mean_squared_error: 0.3427\n",
      "Epoch 115/140\n",
      "17/17 [==============================] - 0s 8ms/step - loss: 0.3756 - mean_squared_error: 0.3417\n",
      "Epoch 116/140\n",
      "17/17 [==============================] - 0s 9ms/step - loss: 0.3770 - mean_squared_error: 0.3432\n",
      "Epoch 117/140\n",
      "17/17 [==============================] - 0s 5ms/step - loss: 0.3780 - mean_squared_error: 0.3447\n",
      "Epoch 118/140\n",
      "17/17 [==============================] - 0s 6ms/step - loss: 0.3775 - mean_squared_error: 0.3439\n",
      "Epoch 119/140\n",
      "17/17 [==============================] - 0s 6ms/step - loss: 0.3769 - mean_squared_error: 0.3438\n",
      "Epoch 120/140\n",
      "17/17 [==============================] - 0s 7ms/step - loss: 0.3773 - mean_squared_error: 0.3440\n",
      "Epoch 121/140\n",
      "17/17 [==============================] - 0s 6ms/step - loss: 0.3804 - mean_squared_error: 0.3473\n",
      "Epoch 122/140\n",
      "17/17 [==============================] - 0s 5ms/step - loss: 0.3780 - mean_squared_error: 0.3446\n",
      "Epoch 123/140\n",
      "17/17 [==============================] - 0s 5ms/step - loss: 0.3770 - mean_squared_error: 0.3445\n",
      "Epoch 124/140\n",
      "17/17 [==============================] - 0s 6ms/step - loss: 0.3785 - mean_squared_error: 0.3457\n",
      "Epoch 125/140\n",
      "17/17 [==============================] - 0s 6ms/step - loss: 0.3764 - mean_squared_error: 0.3441\n",
      "Epoch 126/140\n",
      "17/17 [==============================] - 0s 5ms/step - loss: 0.3770 - mean_squared_error: 0.3444\n",
      "Epoch 127/140\n",
      "17/17 [==============================] - 0s 6ms/step - loss: 0.3773 - mean_squared_error: 0.3451\n",
      "Epoch 128/140\n",
      "17/17 [==============================] - 0s 6ms/step - loss: 0.3752 - mean_squared_error: 0.3427\n",
      "Epoch 129/140\n",
      "17/17 [==============================] - 0s 8ms/step - loss: 0.3762 - mean_squared_error: 0.3436\n",
      "Epoch 130/140\n",
      "17/17 [==============================] - 0s 6ms/step - loss: 0.3749 - mean_squared_error: 0.3421\n",
      "Epoch 131/140\n",
      "17/17 [==============================] - 0s 6ms/step - loss: 0.3743 - mean_squared_error: 0.3426\n",
      "Epoch 132/140\n",
      "17/17 [==============================] - 0s 6ms/step - loss: 0.3736 - mean_squared_error: 0.3412\n",
      "Epoch 133/140\n"
     ]
    },
    {
     "name": "stdout",
     "output_type": "stream",
     "text": [
      "17/17 [==============================] - 0s 9ms/step - loss: 0.3741 - mean_squared_error: 0.3426\n",
      "Epoch 134/140\n",
      "17/17 [==============================] - 0s 6ms/step - loss: 0.3745 - mean_squared_error: 0.3420\n",
      "Epoch 135/140\n",
      "17/17 [==============================] - 0s 5ms/step - loss: 0.3745 - mean_squared_error: 0.3423\n",
      "Epoch 136/140\n",
      "17/17 [==============================] - 0s 5ms/step - loss: 0.3736 - mean_squared_error: 0.3418\n",
      "Epoch 137/140\n",
      "17/17 [==============================] - 0s 6ms/step - loss: 0.3740 - mean_squared_error: 0.3425\n",
      "Epoch 138/140\n",
      "17/17 [==============================] - 0s 5ms/step - loss: 0.3734 - mean_squared_error: 0.3419\n",
      "Epoch 139/140\n",
      "17/17 [==============================] - 0s 5ms/step - loss: 0.3772 - mean_squared_error: 0.3454\n",
      "Epoch 140/140\n",
      "17/17 [==============================] - 0s 5ms/step - loss: 0.3780 - mean_squared_error: 0.3465\n"
     ]
    },
    {
     "data": {
      "image/png": "[encoded data removed]",
      "text/plain": [
       "<Figure size 432x288 with 1 Axes>"
      ]
     },
     "metadata": {
      "needs_background": "light"
     },
     "output_type": "display_data"
    },
    {
     "name": "stdout",
     "output_type": "stream",
     "text": [
      "\n",
      " Evaluate the new model against the test set:\n",
      "WARNING:tensorflow:Layers in a Sequential model should only have a single input tensor, but we receive a <class 'dict'> input: {'longitude': <tf.Tensor 'ExpandDims_3:0' shape=(1000, 1) dtype=float32>, 'latitude': <tf.Tensor 'ExpandDims_2:0' shape=(1000, 1) dtype=float32>, 'housing_median_age': <tf.Tensor 'ExpandDims_1:0' shape=(1000, 1) dtype=float32>, 'total_rooms': <tf.Tensor 'ExpandDims_7:0' shape=(1000, 1) dtype=float32>, 'total_bedrooms': <tf.Tensor 'ExpandDims_6:0' shape=(1000, 1) dtype=float32>, 'population': <tf.Tensor 'ExpandDims_5:0' shape=(1000, 1) dtype=float32>, 'households': <tf.Tensor 'ExpandDims:0' shape=(1000, 1) dtype=float32>, 'median_income': <tf.Tensor 'ExpandDims_4:0' shape=(1000, 1) dtype=float32>}\n",
      "Consider rewriting this model with the Functional API.\n",
      "WARNING:tensorflow:5 out of the last 13 calls to <function Model.make_test_function.<locals>.test_function at 0x000001735BCE70D0> triggered tf.function retracing. Tracing is expensive and the excessive number of tracings could be due to (1) creating @tf.function repeatedly in a loop, (2) passing tensors with different shapes, (3) passing Python objects instead of tensors. For (1), please define your @tf.function outside of the loop. For (2), @tf.function has experimental_relax_shapes=True option that relaxes argument shapes that can avoid unnecessary retracing. For (3), please refer to https://www.tensorflow.org/guide/function#controlling_retracing and https://www.tensorflow.org/api_docs/python/tf/function for  more details.\n",
      "3/3 [==============================] - 1s 7ms/step - loss: 0.4147 - mean_squared_error: 0.3830\n"
     ]
    },
    {
     "data": {
      "text/plain": [
       "[0.41469335556030273, 0.3830486536026001]"
      ]
     },
     "execution_count": 61,
     "metadata": {},
     "output_type": "execute_result"
    }
   ],
   "source": [
    "# The following \"solution\" uses L2 regularization to bring training loss\n",
    "# and test loss closer to each other. Many, many other solutions are possible.\n",
    "\n",
    "def create_model(my_learning_rate, my_feature_layer):\n",
    "  \"\"\"Create and compile a simple linear regression model.\"\"\"\n",
    "\n",
    "  # Discard any pre-existing version of the model.\n",
    "  model = None\n",
    "\n",
    "  # Most simple tf.keras models are sequential.\n",
    "  model = tf.keras.models.Sequential()\n",
    "\n",
    "  # Add the layer containing the feature columns to the model.\n",
    "  model.add(my_feature_layer)\n",
    "\n",
    "  # Describe the topography of the model. \n",
    "\n",
    "  # Implement L2 regularization in the first hidden layer.\n",
    "  model.add(tf.keras.layers.Dense(units=20, \n",
    "                                  activation='relu',\n",
    "                                  kernel_regularizer=tf.keras.regularizers.l2(0.04),\n",
    "                                  name='Hidden1'))\n",
    "  \n",
    "  # Implement L2 regularization in the second hidden layer.\n",
    "  model.add(tf.keras.layers.Dense(units=12, \n",
    "                                  activation='relu', \n",
    "                                  kernel_regularizer=tf.keras.regularizers.l2(0.04),\n",
    "                                  name='Hidden2'))\n",
    "\n",
    "  # Define the output layer.\n",
    "  model.add(tf.keras.layers.Dense(units=1,  \n",
    "                                  name='Output'))                              \n",
    "  \n",
    "  model.compile(optimizer=tf.keras.optimizers.Adam(learning_rate=my_learning_rate),\n",
    "                loss=\"mean_squared_error\",\n",
    "                metrics=[tf.keras.metrics.MeanSquaredError()])\n",
    "\n",
    "  return model     \n",
    "\n",
    "# Call the new create_model function and the other (unchanged) functions.\n",
    "\n",
    "# The following variables are the hyperparameters.\n",
    "learning_rate = 0.007\n",
    "epochs = 140\n",
    "batch_size = 1000\n",
    "\n",
    "label_name = \"median_house_value\"\n",
    "\n",
    "# Establish the model's topography.\n",
    "my_model = create_model(learning_rate, my_feature_layer)\n",
    "\n",
    "# Train the model on the normalized training set.\n",
    "epochs, mse = train_model(my_model, train_df_norm, epochs, \n",
    "                          label_name, batch_size)\n",
    "plot_the_loss_curve(epochs, mse)\n",
    "\n",
    "test_features = {name:np.array(value) for name, value in test_df_norm.items()}\n",
    "test_label = np.array(test_features.pop(label_name)) # isolate the label\n",
    "print(\"\\n Evaluate the new model against the test set:\")\n",
    "my_model.evaluate(x = test_features, y = test_label, batch_size=batch_size) "
   ]
  },
  {
   "cell_type": "code",
   "execution_count": null,
   "id": "annoying-warning",
   "metadata": {},
   "outputs": [],
   "source": []
  }
 ],
 "metadata": {
  "kernelspec": {
   "display_name": "Python 3",
   "language": "python",
   "name": "python3"
  },
  "language_info": {
   "codemirror_mode": {
    "name": "ipython",
    "version": 3
   },
   "file_extension": ".py",
   "mimetype": "text/x-python",
   "name": "python",
   "nbconvert_exporter": "python",
   "pygments_lexer": "ipython3",
   "version": "3.9.1"
  }
 },
 "nbformat": 4,
 "nbformat_minor": 5
}
