{
 "cells": [
  {
   "cell_type": "code",
   "execution_count": 1,
   "id": "incident-variable",
   "metadata": {},
   "outputs": [],
   "source": [
    "from __future__ import absolute_import, division, print_function, unicode_literals\n",
    "# 위의 __future__ statement 는 파이썬 2.x 코드가 파이썬 3.x 처럼 작동하게 해줍니다. "
   ]
  },
  {
   "cell_type": "code",
   "execution_count": 4,
   "id": "exempt-deployment",
   "metadata": {},
   "outputs": [],
   "source": [
    "import pandas as pd\n",
    "import numpy as np\n",
    "import matplotlib.pyplot as plt\n",
    "import tensorflow as tf\n",
    "from tensorflow.keras import layers\n",
    "import seaborn as sns"
   ]
  },
  {
   "cell_type": "code",
   "execution_count": 5,
   "id": "enormous-blair",
   "metadata": {},
   "outputs": [
    {
     "name": "stdout",
     "output_type": "stream",
     "text": [
      "imported modules\n"
     ]
    }
   ],
   "source": [
    "pd.options.display.float_format = '{:.1f}'.format\n",
    "pd.options.display.max_rows = 10\n",
    "print('imported modules')"
   ]
  },
  {
   "cell_type": "code",
   "execution_count": 11,
   "id": "strong-nelson",
   "metadata": {},
   "outputs": [],
   "source": [
    "train_df = pd.read_csv(\"https://download.mlcc.google.com/mledu-datasets/california_housing_train.csv\")\n",
    "train_df = train_df.reindex(np.random.permutation(train_df.index))\n",
    "# train_df = train_df.sample(frac=1)\n",
    "test_df = pd.read_csv(\"https://download.mlcc.google.com/mledu-datasets/california_housing_test.csv\")"
   ]
  },
  {
   "cell_type": "code",
   "execution_count": 12,
   "id": "express-broadway",
   "metadata": {},
   "outputs": [
    {
     "name": "stdout",
     "output_type": "stream",
     "text": [
      "Normalize the values\n"
     ]
    }
   ],
   "source": [
    "# Z convert\n",
    "train_df_norm = (train_df - train_df.mean())/train_df.std()\n",
    "test_df_norm = (test_df - test_df.mean())/test_df.std()\n",
    "print('Normalize the values')"
   ]
  },
  {
   "cell_type": "code",
   "execution_count": 21,
   "id": "dying-savannah",
   "metadata": {},
   "outputs": [],
   "source": [
    "feature_columns = []"
   ]
  },
  {
   "cell_type": "markdown",
   "id": "neither-boating",
   "metadata": {},
   "source": [
    " We scaled all the columns, including latitude and longitude, into their Z scores. So, instead of picking a resolution in degrees, we're going to use resolution_in_Zs.  A resolution_in_Zs of 1 corresponds to a full standard deviation. "
   ]
  },
  {
   "cell_type": "code",
   "execution_count": 13,
   "id": "baking-stone",
   "metadata": {},
   "outputs": [
    {
     "data": {
      "text/html": [
       "<div>\n",
       "<style scoped>\n",
       "    .dataframe tbody tr th:only-of-type {\n",
       "        vertical-align: middle;\n",
       "    }\n",
       "\n",
       "    .dataframe tbody tr th {\n",
       "        vertical-align: top;\n",
       "    }\n",
       "\n",
       "    .dataframe thead th {\n",
       "        text-align: right;\n",
       "    }\n",
       "</style>\n",
       "<table border=\"1\" class=\"dataframe\">\n",
       "  <thead>\n",
       "    <tr style=\"text-align: right;\">\n",
       "      <th></th>\n",
       "      <th>longitude</th>\n",
       "      <th>latitude</th>\n",
       "      <th>housing_median_age</th>\n",
       "      <th>total_rooms</th>\n",
       "      <th>total_bedrooms</th>\n",
       "      <th>population</th>\n",
       "      <th>households</th>\n",
       "      <th>median_income</th>\n",
       "      <th>median_house_value</th>\n",
       "    </tr>\n",
       "  </thead>\n",
       "  <tbody>\n",
       "    <tr>\n",
       "      <th>2632</th>\n",
       "      <td>0.9</td>\n",
       "      <td>-1.0</td>\n",
       "      <td>-1.0</td>\n",
       "      <td>0.7</td>\n",
       "      <td>0.1</td>\n",
       "      <td>0.2</td>\n",
       "      <td>0.1</td>\n",
       "      <td>2.2</td>\n",
       "      <td>0.7</td>\n",
       "    </tr>\n",
       "    <tr>\n",
       "      <th>10238</th>\n",
       "      <td>-0.2</td>\n",
       "      <td>1.6</td>\n",
       "      <td>-1.6</td>\n",
       "      <td>-1.0</td>\n",
       "      <td>-1.0</td>\n",
       "      <td>-1.2</td>\n",
       "      <td>-1.3</td>\n",
       "      <td>-0.7</td>\n",
       "      <td>-0.2</td>\n",
       "    </tr>\n",
       "    <tr>\n",
       "      <th>8640</th>\n",
       "      <td>0.5</td>\n",
       "      <td>-0.7</td>\n",
       "      <td>0.5</td>\n",
       "      <td>-0.4</td>\n",
       "      <td>-0.6</td>\n",
       "      <td>-0.4</td>\n",
       "      <td>-0.5</td>\n",
       "      <td>0.4</td>\n",
       "      <td>0.1</td>\n",
       "    </tr>\n",
       "    <tr>\n",
       "      <th>14562</th>\n",
       "      <td>-1.3</td>\n",
       "      <td>1.1</td>\n",
       "      <td>0.4</td>\n",
       "      <td>-0.1</td>\n",
       "      <td>-0.3</td>\n",
       "      <td>-0.4</td>\n",
       "      <td>-0.2</td>\n",
       "      <td>0.4</td>\n",
       "      <td>0.0</td>\n",
       "    </tr>\n",
       "    <tr>\n",
       "      <th>9078</th>\n",
       "      <td>0.3</td>\n",
       "      <td>-0.1</td>\n",
       "      <td>0.7</td>\n",
       "      <td>-0.8</td>\n",
       "      <td>-0.8</td>\n",
       "      <td>-0.6</td>\n",
       "      <td>-0.7</td>\n",
       "      <td>-1.1</td>\n",
       "      <td>-1.3</td>\n",
       "    </tr>\n",
       "  </tbody>\n",
       "</table>\n",
       "</div>"
      ],
      "text/plain": [
       "       longitude  latitude  housing_median_age  total_rooms  total_bedrooms  \\\n",
       "2632         0.9      -1.0                -1.0          0.7             0.1   \n",
       "10238       -0.2       1.6                -1.6         -1.0            -1.0   \n",
       "8640         0.5      -0.7                 0.5         -0.4            -0.6   \n",
       "14562       -1.3       1.1                 0.4         -0.1            -0.3   \n",
       "9078         0.3      -0.1                 0.7         -0.8            -0.8   \n",
       "\n",
       "       population  households  median_income  median_house_value  \n",
       "2632          0.2         0.1            2.2                 0.7  \n",
       "10238        -1.2        -1.3           -0.7                -0.2  \n",
       "8640         -0.4        -0.5            0.4                 0.1  \n",
       "14562        -0.4        -0.2            0.4                 0.0  \n",
       "9078         -0.6        -0.7           -1.1                -1.3  "
      ]
     },
     "execution_count": 13,
     "metadata": {},
     "output_type": "execute_result"
    }
   ],
   "source": [
    "train_df_norm.head()"
   ]
  },
  {
   "cell_type": "code",
   "execution_count": 15,
   "id": "lovely-regulation",
   "metadata": {},
   "outputs": [],
   "source": [
    "resolution_in_Zs = 0.3"
   ]
  },
  {
   "cell_type": "code",
   "execution_count": 18,
   "id": "bored-custody",
   "metadata": {},
   "outputs": [],
   "source": [
    "# Create a bucket feature column for latidude\n",
    "latitude_as_a_numeric_column = tf.feature_column.numeric_column('latitude')\n",
    "latitude_boundaries = list(np.arange(int(min(train_df_norm['latitude'])), \n",
    "                                     int(max(train_df_norm['latitude'])),\n",
    "                                    resolution_in_Zs))\n",
    "latitude = tf.feature_column.bucketized_column(latitude_as_a_numeric_column, latitude_boundaries)"
   ]
  },
  {
   "cell_type": "code",
   "execution_count": 19,
   "id": "psychological-jenny",
   "metadata": {},
   "outputs": [],
   "source": [
    "# Create a bucket feature column for longitude\n",
    "longitude_as_a_numeric_column = tf.feature_column.numeric_column('longitude')\n",
    "longitude_boundaries = list(np.arange(int(min(train_df_norm['longitude'])),\n",
    "                                     int(max(train_df_norm['longitude'])),\n",
    "                                     resolution_in_Zs))\n",
    "longitude = tf.feature_column.bucketized_column(longitude_as_a_numeric_column, longitude_boundaries)"
   ]
  },
  {
   "cell_type": "code",
   "execution_count": 24,
   "id": "potential-chick",
   "metadata": {},
   "outputs": [],
   "source": [
    "# Create a feature cross of latitude and longitude\n",
    "latitude_x_longitude = tf.feature_column.crossed_column([latitude, longitude], hash_bucket_size=100)\n",
    "crossed_feature = tf.feature_column.indicator_column(latitude_x_longitude)\n",
    "feature_columns.append(crossed_feature)"
   ]
  },
  {
   "cell_type": "code",
   "execution_count": 25,
   "id": "accepting-doubt",
   "metadata": {},
   "outputs": [],
   "source": [
    "# Represent median_income as a floating-point value\n",
    "median_income = tf.feature_column.numeric_column('median_income')\n",
    "feature_columns.append(median_income)"
   ]
  },
  {
   "cell_type": "code",
   "execution_count": 26,
   "id": "identified-burton",
   "metadata": {},
   "outputs": [],
   "source": [
    "# Represent population as a floating-point value.\n",
    "population = tf.feature_column.numeric_column(\"population\")\n",
    "feature_columns.append(population)"
   ]
  },
  {
   "cell_type": "code",
   "execution_count": 28,
   "id": "neural-phrase",
   "metadata": {},
   "outputs": [],
   "source": [
    "# Convert the list of feature columns into a layer that will later be fed into the model\n",
    "my_feature_layer = tf.keras.layers.DenseFeatures(feature_columns)"
   ]
  },
  {
   "cell_type": "code",
   "execution_count": 43,
   "id": "personalized-parish",
   "metadata": {},
   "outputs": [
    {
     "name": "stdout",
     "output_type": "stream",
     "text": [
      "Defined the plot_the_loss_curve function\n"
     ]
    }
   ],
   "source": [
    "def plot_the_loss_curve(epochs, mse):\n",
    "    plt.figure()\n",
    "    plt.xlabel('Epoch')\n",
    "    plt.ylabel('Mean Squared Error')\n",
    "    \n",
    "    plt.plot(epochs, mse, label='Loss')\n",
    "    plt.legend()\n",
    "    plt.ylim([mse.min()*0.95, mse.max()*1.03])\n",
    "    plt.show()\n",
    "    \n",
    "print('Defined the plot_the_loss_curve function')"
   ]
  },
  {
   "cell_type": "code",
   "execution_count": 37,
   "id": "fleet-violation",
   "metadata": {},
   "outputs": [],
   "source": [
    "def create_model(my_learning_rate, feature_layer):\n",
    "    model = tf.keras.models.Sequential()\n",
    "    model.add(feature_layer)\n",
    "    # Add one linear layer to the model to yield a simple linear regressor.\n",
    "    model.add(tf.keras.layers.Dense(units=1, input_shape=(1,)))\n",
    "    \n",
    "    model.compile(optimizer=tf.keras.optimizers.RMSprop(learning_rate=my_learning_rate),\n",
    "                 loss='mean_squared_error',\n",
    "                 metrics=[tf.keras.metrics.MeanSquaredError()])\n",
    "    \n",
    "    return model"
   ]
  },
  {
   "cell_type": "code",
   "execution_count": 39,
   "id": "designed-brooklyn",
   "metadata": {},
   "outputs": [
    {
     "name": "stdout",
     "output_type": "stream",
     "text": [
      "Defined the create_model and train_model functions\n"
     ]
    }
   ],
   "source": [
    "def train_model(model, dataset, epochs, batch_size, label_name):\n",
    "    \n",
    "    features = {name:np.array(value) for name, value in dataset.items()}\n",
    "    label = np.array(features.pop(label_name))\n",
    "    history = model.fit(x=features, y=label, batch_size=batch_size, epochs=epochs, shuffle=True)\n",
    "    \n",
    "    # Get details that will be useful for plotting the loss curve.\n",
    "    epochs = history.epoch\n",
    "    hist = pd.DataFrame(history.history)\n",
    "    rmse = hist['mean_squared_error']\n",
    "    \n",
    "    return epochs, rmse\n",
    "\n",
    "print('Defined the create_model and train_model functions')"
   ]
  },
  {
   "cell_type": "code",
   "execution_count": 46,
   "id": "confirmed-times",
   "metadata": {},
   "outputs": [
    {
     "name": "stdout",
     "output_type": "stream",
     "text": [
      "Epoch 1/15\n",
      "WARNING:tensorflow:Layers in a Sequential model should only have a single input tensor, but we receive a <class 'dict'> input: {'longitude': <tf.Tensor 'ExpandDims_3:0' shape=(1000, 1) dtype=float32>, 'latitude': <tf.Tensor 'ExpandDims_2:0' shape=(1000, 1) dtype=float32>, 'housing_median_age': <tf.Tensor 'ExpandDims_1:0' shape=(1000, 1) dtype=float32>, 'total_rooms': <tf.Tensor 'ExpandDims_7:0' shape=(1000, 1) dtype=float32>, 'total_bedrooms': <tf.Tensor 'ExpandDims_6:0' shape=(1000, 1) dtype=float32>, 'population': <tf.Tensor 'ExpandDims_5:0' shape=(1000, 1) dtype=float32>, 'households': <tf.Tensor 'ExpandDims:0' shape=(1000, 1) dtype=float32>, 'median_income': <tf.Tensor 'ExpandDims_4:0' shape=(1000, 1) dtype=float32>}\n",
      "Consider rewriting this model with the Functional API.\n",
      "WARNING:tensorflow:Layers in a Sequential model should only have a single input tensor, but we receive a <class 'dict'> input: {'longitude': <tf.Tensor 'ExpandDims_3:0' shape=(1000, 1) dtype=float32>, 'latitude': <tf.Tensor 'ExpandDims_2:0' shape=(1000, 1) dtype=float32>, 'housing_median_age': <tf.Tensor 'ExpandDims_1:0' shape=(1000, 1) dtype=float32>, 'total_rooms': <tf.Tensor 'ExpandDims_7:0' shape=(1000, 1) dtype=float32>, 'total_bedrooms': <tf.Tensor 'ExpandDims_6:0' shape=(1000, 1) dtype=float32>, 'population': <tf.Tensor 'ExpandDims_5:0' shape=(1000, 1) dtype=float32>, 'households': <tf.Tensor 'ExpandDims:0' shape=(1000, 1) dtype=float32>, 'median_income': <tf.Tensor 'ExpandDims_4:0' shape=(1000, 1) dtype=float32>}\n",
      "Consider rewriting this model with the Functional API.\n",
      "17/17 [==============================] - 1s 4ms/step - loss: 1.0391 - mean_squared_error: 1.0391\n",
      "Epoch 2/15\n",
      "17/17 [==============================] - 0s 5ms/step - loss: 0.7015 - mean_squared_error: 0.7015\n",
      "Epoch 3/15\n",
      "17/17 [==============================] - 0s 4ms/step - loss: 0.5257 - mean_squared_error: 0.5257\n",
      "Epoch 4/15\n",
      "17/17 [==============================] - ETA: 0s - loss: 0.4356 - mean_squared_error: 0.43 - 0s 5ms/step - loss: 0.4266 - mean_squared_error: 0.4266\n",
      "Epoch 5/15\n",
      "17/17 [==============================] - 0s 6ms/step - loss: 0.3793 - mean_squared_error: 0.3793\n",
      "Epoch 6/15\n",
      "17/17 [==============================] - 0s 5ms/step - loss: 0.3638 - mean_squared_error: 0.3638\n",
      "Epoch 7/15\n",
      "17/17 [==============================] - 0s 6ms/step - loss: 0.3608 - mean_squared_error: 0.3608\n",
      "Epoch 8/15\n",
      "17/17 [==============================] - 0s 6ms/step - loss: 0.3602 - mean_squared_error: 0.3602\n",
      "Epoch 9/15\n",
      "17/17 [==============================] - 0s 5ms/step - loss: 0.3600 - mean_squared_error: 0.3600\n",
      "Epoch 10/15\n",
      "17/17 [==============================] - 0s 5ms/step - loss: 0.3601 - mean_squared_error: 0.3601\n",
      "Epoch 11/15\n",
      "17/17 [==============================] - 0s 5ms/step - loss: 0.3600 - mean_squared_error: 0.3600\n",
      "Epoch 12/15\n",
      "17/17 [==============================] - 0s 5ms/step - loss: 0.3600 - mean_squared_error: 0.3600\n",
      "Epoch 13/15\n",
      "17/17 [==============================] - 0s 5ms/step - loss: 0.3596 - mean_squared_error: 0.3596\n",
      "Epoch 14/15\n",
      "17/17 [==============================] - 0s 5ms/step - loss: 0.3601 - mean_squared_error: 0.3601\n",
      "Epoch 15/15\n",
      "17/17 [==============================] - 0s 6ms/step - loss: 0.3599 - mean_squared_error: 0.3599\n"
     ]
    },
    {
     "data": {
      "image/png": "[encoded data removed]",
      "text/plain": [
       "<Figure size 432x288 with 1 Axes>"
      ]
     },
     "metadata": {
      "needs_background": "light"
     },
     "output_type": "display_data"
    }
   ],
   "source": [
    "# The following variables are the hyperparameters.\n",
    "learning_rate = 0.01\n",
    "epochs = 15\n",
    "batch_size = 1000\n",
    "label_name = \"median_house_value\"\n",
    "\n",
    "# Establish the model's topography.\n",
    "my_model = create_model(learning_rate, my_feature_layer)\n",
    "\n",
    "# Train the model on the normalized training set.\n",
    "epochs, mse = train_model(my_model, train_df_norm, epochs, batch_size, label_name)\n",
    "plot_the_loss_curve(epochs, mse)"
   ]
  },
  {
   "cell_type": "code",
   "execution_count": 45,
   "id": "answering-hardwood",
   "metadata": {},
   "outputs": [
    {
     "name": "stdout",
     "output_type": "stream",
     "text": [
      "\n",
      " Evaluate the linear regression model against the test set:\n",
      "WARNING:tensorflow:Layers in a Sequential model should only have a single input tensor, but we receive a <class 'dict'> input: {'longitude': <tf.Tensor 'ExpandDims_3:0' shape=(1000, 1) dtype=float32>, 'latitude': <tf.Tensor 'ExpandDims_2:0' shape=(1000, 1) dtype=float32>, 'housing_median_age': <tf.Tensor 'ExpandDims_1:0' shape=(1000, 1) dtype=float32>, 'total_rooms': <tf.Tensor 'ExpandDims_7:0' shape=(1000, 1) dtype=float32>, 'total_bedrooms': <tf.Tensor 'ExpandDims_6:0' shape=(1000, 1) dtype=float32>, 'population': <tf.Tensor 'ExpandDims_5:0' shape=(1000, 1) dtype=float32>, 'households': <tf.Tensor 'ExpandDims:0' shape=(1000, 1) dtype=float32>, 'median_income': <tf.Tensor 'ExpandDims_4:0' shape=(1000, 1) dtype=float32>}\n",
      "Consider rewriting this model with the Functional API.\n",
      "3/3 [==============================] - 1s 5ms/step - loss: 0.3951 - mean_squared_error: 0.3951\n"
     ]
    },
    {
     "data": {
      "text/plain": [
       "[0.395093709230423, 0.395093709230423]"
      ]
     },
     "execution_count": 45,
     "metadata": {},
     "output_type": "execute_result"
    }
   ],
   "source": [
    "test_features = {name:np.array(value) for name, value in test_df_norm.items()}\n",
    "test_label = np.array(test_features.pop(label_name)) # isolate the label\n",
    "print(\"\\n Evaluate the linear regression model against the test set:\")\n",
    "my_model.evaluate(x = test_features, y = test_label, batch_size=batch_size)"
   ]
  },
  {
   "cell_type": "code",
   "execution_count": null,
   "id": "advisory-beach",
   "metadata": {},
   "outputs": [],
   "source": []
  }
 ],
 "metadata": {
  "kernelspec": {
   "display_name": "Python 3",
   "language": "python",
   "name": "python3"
  },
  "language_info": {
   "codemirror_mode": {
    "name": "ipython",
    "version": 3
   },
   "file_extension": ".py",
   "mimetype": "text/x-python",
   "name": "python",
   "nbconvert_exporter": "python",
   "pygments_lexer": "ipython3",
   "version": "3.9.1"
  }
 },
 "nbformat": 4,
 "nbformat_minor": 5
}
