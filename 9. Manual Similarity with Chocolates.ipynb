{
 "cells": [
  {
   "cell_type": "markdown",
   "id": "hispanic-airfare",
   "metadata": {},
   "source": [
    "# Clustering with Manual Similarity Measure\n",
    "\n",
    "In this Colab, you will group chocolates in the\n",
    "[Chocolate Bar Ratings](https://www.kaggle.com/rtatman/chocolate-bar-ratings)\n",
    "dataset using the k-means clustering algorithm with a manual similarity measure. The dataset has ratings\n",
    "of chocolate bars along with their cocoa percentage, bean type, bean origin,\n",
    "maker name, and maker country. You will:\n",
    "\n",
    "*   Load and clean the data.\n",
    "*   Process the data.\n",
    "*   Calculate similarity between pairs of chocolates.\n",
    "*   Cluster the chocolates using k-means.\n",
    "*   Check the clustering result using quality metrics.\n"
   ]
  },
  {
   "cell_type": "markdown",
   "id": "enabling-cooperation",
   "metadata": {},
   "source": [
    "# 1. Load and clean data\n",
    "\n",
    "Run the following cell to load and clean the chocolate dataset. The first few rows of the dataset are displayed. Inspect\n",
    "the features and their values."
   ]
  },
  {
   "cell_type": "code",
   "execution_count": 1,
   "id": "suspended-version",
   "metadata": {},
   "outputs": [],
   "source": [
    "import math\n",
    "import matplotlib.pyplot as plt\n",
    "import numpy as np\n",
    "import pandas as pd\n",
    "import seaborn as sns\n",
    "import altair as alt\n",
    "import re\n",
    "import pdb # python debugger\n",
    "import sys\n",
    "from os.path import join\n",
    "\n",
    "np.set_printoptions(precision=2)\n",
    "pd.options.display.float_format = '{:.2f}'.format\n",
    "pd.options.display.max_rows = 15\n",
    "\n",
    "choc_data = pd.read_csv(\"https://download.mlcc.google.com/mledu-datasets/flavors_of_cacao.csv\", sep=\",\", encoding='latin-1')\n",
    "\n",
    "# We can rename the columns.\n",
    "choc_data.columns = ['maker', 'specific_origin', 'reference_number', 'review_date', 'cocoa_percent', 'maker_location', 'rating', 'bean_type', 'broad_origin']\n",
    "\n",
    "# choc_data.dtypes"
   ]
  },
  {
   "cell_type": "code",
   "execution_count": 2,
   "id": "toxic-animal",
   "metadata": {},
   "outputs": [
    {
     "data": {
      "text/plain": [
       "maker                object\n",
       "specific_origin      object\n",
       "reference_number      int64\n",
       "review_date           int64\n",
       "cocoa_percent        object\n",
       "maker_location       object\n",
       "rating              float64\n",
       "bean_type            object\n",
       "broad_origin         object\n",
       "dtype: object"
      ]
     },
     "execution_count": 2,
     "metadata": {},
     "output_type": "execute_result"
    }
   ],
   "source": [
    "choc_data.dtypes"
   ]
  },
  {
   "cell_type": "code",
   "execution_count": 3,
   "id": "logical-meeting",
   "metadata": {},
   "outputs": [
    {
     "data": {
      "text/html": [
       "<div>\n",
       "<style scoped>\n",
       "    .dataframe tbody tr th:only-of-type {\n",
       "        vertical-align: middle;\n",
       "    }\n",
       "\n",
       "    .dataframe tbody tr th {\n",
       "        vertical-align: top;\n",
       "    }\n",
       "\n",
       "    .dataframe thead th {\n",
       "        text-align: right;\n",
       "    }\n",
       "</style>\n",
       "<table border=\"1\" class=\"dataframe\">\n",
       "  <thead>\n",
       "    <tr style=\"text-align: right;\">\n",
       "      <th></th>\n",
       "      <th>maker</th>\n",
       "      <th>specific_origin</th>\n",
       "      <th>reference_number</th>\n",
       "      <th>review_date</th>\n",
       "      <th>cocoa_percent</th>\n",
       "      <th>maker_location</th>\n",
       "      <th>rating</th>\n",
       "      <th>bean_type</th>\n",
       "      <th>broad_origin</th>\n",
       "    </tr>\n",
       "  </thead>\n",
       "  <tbody>\n",
       "    <tr>\n",
       "      <th>0</th>\n",
       "      <td>A. Morin</td>\n",
       "      <td>Agua Grande</td>\n",
       "      <td>1876</td>\n",
       "      <td>2016</td>\n",
       "      <td>63.00</td>\n",
       "      <td>France</td>\n",
       "      <td>3.75</td>\n",
       "      <td>Blend</td>\n",
       "      <td>Sao Tome</td>\n",
       "    </tr>\n",
       "    <tr>\n",
       "      <th>1</th>\n",
       "      <td>A. Morin</td>\n",
       "      <td>Kpime</td>\n",
       "      <td>1676</td>\n",
       "      <td>2015</td>\n",
       "      <td>70.00</td>\n",
       "      <td>France</td>\n",
       "      <td>2.75</td>\n",
       "      <td>Blend</td>\n",
       "      <td>Togo</td>\n",
       "    </tr>\n",
       "    <tr>\n",
       "      <th>2</th>\n",
       "      <td>A. Morin</td>\n",
       "      <td>Atsane</td>\n",
       "      <td>1676</td>\n",
       "      <td>2015</td>\n",
       "      <td>70.00</td>\n",
       "      <td>France</td>\n",
       "      <td>3.00</td>\n",
       "      <td>Blend</td>\n",
       "      <td>Togo</td>\n",
       "    </tr>\n",
       "    <tr>\n",
       "      <th>3</th>\n",
       "      <td>A. Morin</td>\n",
       "      <td>Akata</td>\n",
       "      <td>1680</td>\n",
       "      <td>2015</td>\n",
       "      <td>70.00</td>\n",
       "      <td>France</td>\n",
       "      <td>3.50</td>\n",
       "      <td>Blend</td>\n",
       "      <td>Togo</td>\n",
       "    </tr>\n",
       "    <tr>\n",
       "      <th>4</th>\n",
       "      <td>A. Morin</td>\n",
       "      <td>Quilla</td>\n",
       "      <td>1704</td>\n",
       "      <td>2015</td>\n",
       "      <td>70.00</td>\n",
       "      <td>France</td>\n",
       "      <td>3.50</td>\n",
       "      <td>Blend</td>\n",
       "      <td>Peru</td>\n",
       "    </tr>\n",
       "    <tr>\n",
       "      <th>...</th>\n",
       "      <td>...</td>\n",
       "      <td>...</td>\n",
       "      <td>...</td>\n",
       "      <td>...</td>\n",
       "      <td>...</td>\n",
       "      <td>...</td>\n",
       "      <td>...</td>\n",
       "      <td>...</td>\n",
       "      <td>...</td>\n",
       "    </tr>\n",
       "    <tr>\n",
       "      <th>1790</th>\n",
       "      <td>Zotter</td>\n",
       "      <td>Peru</td>\n",
       "      <td>647</td>\n",
       "      <td>2011</td>\n",
       "      <td>70.00</td>\n",
       "      <td>Austria</td>\n",
       "      <td>3.75</td>\n",
       "      <td>Blend</td>\n",
       "      <td>Peru</td>\n",
       "    </tr>\n",
       "    <tr>\n",
       "      <th>1791</th>\n",
       "      <td>Zotter</td>\n",
       "      <td>Congo</td>\n",
       "      <td>749</td>\n",
       "      <td>2011</td>\n",
       "      <td>65.00</td>\n",
       "      <td>Austria</td>\n",
       "      <td>3.00</td>\n",
       "      <td>Forastero</td>\n",
       "      <td>Congo</td>\n",
       "    </tr>\n",
       "    <tr>\n",
       "      <th>1792</th>\n",
       "      <td>Zotter</td>\n",
       "      <td>Kerala State</td>\n",
       "      <td>749</td>\n",
       "      <td>2011</td>\n",
       "      <td>65.00</td>\n",
       "      <td>Austria</td>\n",
       "      <td>3.50</td>\n",
       "      <td>Forastero</td>\n",
       "      <td>India</td>\n",
       "    </tr>\n",
       "    <tr>\n",
       "      <th>1793</th>\n",
       "      <td>Zotter</td>\n",
       "      <td>Kerala State</td>\n",
       "      <td>781</td>\n",
       "      <td>2011</td>\n",
       "      <td>62.00</td>\n",
       "      <td>Austria</td>\n",
       "      <td>3.25</td>\n",
       "      <td>Blend</td>\n",
       "      <td>India</td>\n",
       "    </tr>\n",
       "    <tr>\n",
       "      <th>1794</th>\n",
       "      <td>Zotter</td>\n",
       "      <td>Brazil, Mitzi Blue</td>\n",
       "      <td>486</td>\n",
       "      <td>2010</td>\n",
       "      <td>65.00</td>\n",
       "      <td>Austria</td>\n",
       "      <td>3.00</td>\n",
       "      <td>Blend</td>\n",
       "      <td>Brazil</td>\n",
       "    </tr>\n",
       "  </tbody>\n",
       "</table>\n",
       "<p>1795 rows × 9 columns</p>\n",
       "</div>"
      ],
      "text/plain": [
       "         maker     specific_origin  reference_number  review_date  \\\n",
       "0     A. Morin         Agua Grande              1876         2016   \n",
       "1     A. Morin               Kpime              1676         2015   \n",
       "2     A. Morin              Atsane              1676         2015   \n",
       "3     A. Morin               Akata              1680         2015   \n",
       "4     A. Morin              Quilla              1704         2015   \n",
       "...        ...                 ...               ...          ...   \n",
       "1790    Zotter                Peru               647         2011   \n",
       "1791    Zotter               Congo               749         2011   \n",
       "1792    Zotter        Kerala State               749         2011   \n",
       "1793    Zotter        Kerala State               781         2011   \n",
       "1794    Zotter  Brazil, Mitzi Blue               486         2010   \n",
       "\n",
       "      cocoa_percent maker_location  rating  bean_type broad_origin  \n",
       "0             63.00         France    3.75      Blend     Sao Tome  \n",
       "1             70.00         France    2.75      Blend         Togo  \n",
       "2             70.00         France    3.00      Blend         Togo  \n",
       "3             70.00         France    3.50      Blend         Togo  \n",
       "4             70.00         France    3.50      Blend         Peru  \n",
       "...             ...            ...     ...        ...          ...  \n",
       "1790          70.00        Austria    3.75      Blend         Peru  \n",
       "1791          65.00        Austria    3.00  Forastero        Congo  \n",
       "1792          65.00        Austria    3.50  Forastero        India  \n",
       "1793          62.00        Austria    3.25      Blend        India  \n",
       "1794          65.00        Austria    3.00      Blend       Brazil  \n",
       "\n",
       "[1795 rows x 9 columns]"
      ]
     },
     "execution_count": 3,
     "metadata": {},
     "output_type": "execute_result"
    }
   ],
   "source": [
    "# Replace empty/null values with \"Blend\"\n",
    "choc_data['bean_type'] = choc_data['bean_type'].fillna('Blend')\n",
    "\n",
    "# Cast bean_type to string to remove leading 'u'\n",
    "choc_data['bean_type'] = choc_data['bean_type'].astype('str')\n",
    "choc_data['cocoa_percent'] = choc_data['cocoa_percent'].str.strip('%')\n",
    "choc_data['cocoa_percent'] = pd.to_numeric(choc_data['cocoa_percent'])\n",
    "\n",
    "choc_data"
   ]
  },
  {
   "cell_type": "code",
   "execution_count": 4,
   "id": "actual-fourth",
   "metadata": {},
   "outputs": [],
   "source": [
    "# # Correct spelling mistakes, and replace city with country name\n",
    "# choc_data['maker_location'] = choc_data['maker_location']\\\n",
    "# .str.replace('amsterdam', 'Holland')\\\n",
    "# .str.replace('U.K', 'England')\\\n",
    "# .str.replace('Niacragua', ' Nicaragua')\\\n",
    "# .str.replace('Domincan Republic', 'Dominican Republic')"
   ]
  },
  {
   "cell_type": "code",
   "execution_count": 5,
   "id": "working-creation",
   "metadata": {},
   "outputs": [
    {
     "name": "stderr",
     "output_type": "stream",
     "text": [
      "<ipython-input-5-c82a60bdfbf5>:2: FutureWarning: The default value of regex will change from True to False in a future version.\n",
      "  choc_data['maker_location'] = choc_data['maker_location'].str.replace('U.K', 'England')\n"
     ]
    }
   ],
   "source": [
    "choc_data['maker_location'] = choc_data['maker_location'].str.replace('amsterdam', 'Holland')\n",
    "choc_data['maker_location'] = choc_data['maker_location'].str.replace('U.K', 'England')\n",
    "choc_data['maker_location'] = choc_data['maker_location'].str.replace('Niacragua', 'Nicaragua')\n",
    "choc_data['maker_location'] = choc_data['maker_location'].str.replace('Domincan Republic', 'Dominican Republic')"
   ]
  },
  {
   "cell_type": "code",
   "execution_count": 6,
   "id": "adequate-rugby",
   "metadata": {},
   "outputs": [],
   "source": [
    "choc_data.loc[choc_data['maker_location'] == 'amsterdam', 'maker_location'] = 'Holland'\n",
    "choc_data.loc[choc_data['maker_location'] == 'U.K', 'maker_location'] = 'England'\n",
    "choc_data.loc[choc_data['maker_location'] == 'Niacragua', 'maker_location'] = 'Nicaragua'\n",
    "choc_data.loc[choc_data['maker_location'] == 'Domincan Republic', 'maker_location'] = 'Dominican Republic'"
   ]
  },
  {
   "cell_type": "code",
   "execution_count": 7,
   "id": "fresh-sitting",
   "metadata": {},
   "outputs": [],
   "source": [
    "# Adding this so that Holland and Netherlands map to the same country.\n",
    "choc_data['maker_location'] = choc_data['maker_location'].str.replace('Holland', 'Netherlands')"
   ]
  },
  {
   "cell_type": "code",
   "execution_count": 8,
   "id": "better-ireland",
   "metadata": {},
   "outputs": [],
   "source": [
    "def cleanup_spelling_abbrev(text):\n",
    "    replacements = [\n",
    "        ['-', ', '], ['/ ', ', '], ['/', ', '], ['\\(', ', '], [' and', ', '], [' &', ', '], ['\\)', ''],\n",
    "        ['Dom Rep|DR|Domin Rep|Dominican Rep,|Domincan Republic', 'Dominican Republic'],\n",
    "        ['Mad,|Mad$', 'Madagascar, '],\n",
    "        ['PNG', 'Papua New Guinea, '],\n",
    "        ['Guat,|Guat$', 'Guatemala, '],\n",
    "        ['Ven,|Ven$|Venez,|Venez$', 'Venezuela, '],\n",
    "        ['Ecu,|Ecu$|Ecuad,|Ecuad$', 'Ecuador, '],\n",
    "        ['Nic,|Nic$', 'Nicaragua, '],\n",
    "        ['Cost Rica', 'Costa Rica'],\n",
    "        ['Mex,|Mex$', 'Mexico, '],\n",
    "        ['Jam,|Jam$', 'Jamaica, '],\n",
    "        ['Haw,|Haw$', 'Hawaii, '],\n",
    "        ['Gre,|Gre$', 'Grenada, '],\n",
    "        ['Tri,|Tri$', 'Trinidad, '],\n",
    "        ['C Am', 'Central America'],\n",
    "        ['S America', 'South America'],\n",
    "        [', $', ''], [',  ', ', '], [', ,', ', '], ['\\xa0', ' '],[',\\s+', ','],\n",
    "        [' Bali', ',Bali']\n",
    "    ]\n",
    "    for i, j in replacements:\n",
    "        text = re.sub(i, j, text)\n",
    "    return text"
   ]
  },
  {
   "cell_type": "code",
   "execution_count": 9,
   "id": "efficient-fitting",
   "metadata": {},
   "outputs": [
    {
     "name": "stderr",
     "output_type": "stream",
     "text": [
      "<ipython-input-9-d18f9eb0563c>:1: FutureWarning: The default value of regex will change from True to False in a future version. In addition, single character regular expressions will *not* be treated as literal strings when regex=True.\n",
      "  choc_data['specific_origin'] = choc_data['specific_origin'].str.replace('.', '').apply(cleanup_spelling_abbrev)\n"
     ]
    }
   ],
   "source": [
    "choc_data['specific_origin'] = choc_data['specific_origin'].str.replace('.', '').apply(cleanup_spelling_abbrev)"
   ]
  },
  {
   "cell_type": "code",
   "execution_count": 10,
   "id": "adopted-richmond",
   "metadata": {},
   "outputs": [],
   "source": [
    "# Cast specific_origin to string\n",
    "choc_data['specific_origin'] = choc_data['specific_origin'].astype(str)"
   ]
  },
  {
   "cell_type": "code",
   "execution_count": 11,
   "id": "geographic-seating",
   "metadata": {},
   "outputs": [],
   "source": [
    "# Replace null-valued fields with the same value as for specific_origin\n",
    "choc_data['broad_origin'] = choc_data['broad_origin'].fillna(choc_data['specific_origin'])"
   ]
  },
  {
   "cell_type": "code",
   "execution_count": 12,
   "id": "equipped-cursor",
   "metadata": {},
   "outputs": [
    {
     "name": "stderr",
     "output_type": "stream",
     "text": [
      "<ipython-input-12-b86e43333675>:2: FutureWarning: The default value of regex will change from True to False in a future version. In addition, single character regular expressions will *not* be treated as literal strings when regex=True.\n",
      "  choc_data['broad_origin'] = choc_data['broad_origin'].str.replace('.', '').apply(cleanup_spelling_abbrev)\n"
     ]
    }
   ],
   "source": [
    "# Clean up spelling mistakes and deal with abbreviations\n",
    "choc_data['broad_origin'] = choc_data['broad_origin'].str.replace('.', '').apply(cleanup_spelling_abbrev)"
   ]
  },
  {
   "cell_type": "code",
   "execution_count": 13,
   "id": "effective-seminar",
   "metadata": {},
   "outputs": [],
   "source": [
    "# Change 'Trinitario, Criollo' to \"Criollo, Trinitario\"\n",
    "# Check with choc_data['bean_type'].unique()\n",
    "choc_data.loc[choc_data['bean_type'].isin(['Trinitario, Criollo']),'bean_type'] = \"Criollo, Trinitario\""
   ]
  },
  {
   "cell_type": "code",
   "execution_count": 14,
   "id": "assured-chinese",
   "metadata": {},
   "outputs": [
    {
     "data": {
      "text/html": [
       "<div>\n",
       "<style scoped>\n",
       "    .dataframe tbody tr th:only-of-type {\n",
       "        vertical-align: middle;\n",
       "    }\n",
       "\n",
       "    .dataframe tbody tr th {\n",
       "        vertical-align: top;\n",
       "    }\n",
       "\n",
       "    .dataframe thead th {\n",
       "        text-align: right;\n",
       "    }\n",
       "</style>\n",
       "<table border=\"1\" class=\"dataframe\">\n",
       "  <thead>\n",
       "    <tr style=\"text-align: right;\">\n",
       "      <th></th>\n",
       "      <th>maker</th>\n",
       "      <th>specific_origin</th>\n",
       "      <th>reference_number</th>\n",
       "      <th>review_date</th>\n",
       "      <th>cocoa_percent</th>\n",
       "      <th>maker_location</th>\n",
       "      <th>rating</th>\n",
       "      <th>bean_type</th>\n",
       "      <th>broad_origin</th>\n",
       "    </tr>\n",
       "  </thead>\n",
       "  <tbody>\n",
       "  </tbody>\n",
       "</table>\n",
       "</div>"
      ],
      "text/plain": [
       "Empty DataFrame\n",
       "Columns: [maker, specific_origin, reference_number, review_date, cocoa_percent, maker_location, rating, bean_type, broad_origin]\n",
       "Index: []"
      ]
     },
     "execution_count": 14,
     "metadata": {},
     "output_type": "execute_result"
    }
   ],
   "source": [
    "# Confirm\n",
    "choc_data[choc_data['bean_type'].isin(['Trinitario, Criollo'])]"
   ]
  },
  {
   "cell_type": "code",
   "execution_count": 15,
   "id": "printable-trust",
   "metadata": {},
   "outputs": [],
   "source": [
    "# Fix chocolate maker names\n",
    "choc_data.loc[choc_data['maker']=='Shattel','maker'] = 'Shattell'\n",
    "choc_data['maker'] = choc_data['maker'].str.replace(u'Na\\xef\\xbf\\xbdve','Naive')"
   ]
  },
  {
   "cell_type": "code",
   "execution_count": 16,
   "id": "standing-struggle",
   "metadata": {},
   "outputs": [],
   "source": [
    "# Save the original column names\n",
    "original_cols = choc_data.columns.values"
   ]
  },
  {
   "cell_type": "code",
   "execution_count": 17,
   "id": "iraqi-recipe",
   "metadata": {},
   "outputs": [
    {
     "data": {
      "text/html": [
       "<div>\n",
       "<style scoped>\n",
       "    .dataframe tbody tr th:only-of-type {\n",
       "        vertical-align: middle;\n",
       "    }\n",
       "\n",
       "    .dataframe tbody tr th {\n",
       "        vertical-align: top;\n",
       "    }\n",
       "\n",
       "    .dataframe thead th {\n",
       "        text-align: right;\n",
       "    }\n",
       "</style>\n",
       "<table border=\"1\" class=\"dataframe\">\n",
       "  <thead>\n",
       "    <tr style=\"text-align: right;\">\n",
       "      <th></th>\n",
       "      <th>maker</th>\n",
       "      <th>specific_origin</th>\n",
       "      <th>reference_number</th>\n",
       "      <th>review_date</th>\n",
       "      <th>cocoa_percent</th>\n",
       "      <th>maker_location</th>\n",
       "      <th>rating</th>\n",
       "      <th>bean_type</th>\n",
       "      <th>broad_origin</th>\n",
       "    </tr>\n",
       "  </thead>\n",
       "  <tbody>\n",
       "    <tr>\n",
       "      <th>0</th>\n",
       "      <td>A. Morin</td>\n",
       "      <td>Agua Grande</td>\n",
       "      <td>1876</td>\n",
       "      <td>2016</td>\n",
       "      <td>63.00</td>\n",
       "      <td>France</td>\n",
       "      <td>3.75</td>\n",
       "      <td>Blend</td>\n",
       "      <td>Sao Tome</td>\n",
       "    </tr>\n",
       "    <tr>\n",
       "      <th>1</th>\n",
       "      <td>A. Morin</td>\n",
       "      <td>Kpime</td>\n",
       "      <td>1676</td>\n",
       "      <td>2015</td>\n",
       "      <td>70.00</td>\n",
       "      <td>France</td>\n",
       "      <td>2.75</td>\n",
       "      <td>Blend</td>\n",
       "      <td>Togo</td>\n",
       "    </tr>\n",
       "    <tr>\n",
       "      <th>2</th>\n",
       "      <td>A. Morin</td>\n",
       "      <td>Atsane</td>\n",
       "      <td>1676</td>\n",
       "      <td>2015</td>\n",
       "      <td>70.00</td>\n",
       "      <td>France</td>\n",
       "      <td>3.00</td>\n",
       "      <td>Blend</td>\n",
       "      <td>Togo</td>\n",
       "    </tr>\n",
       "    <tr>\n",
       "      <th>3</th>\n",
       "      <td>A. Morin</td>\n",
       "      <td>Akata</td>\n",
       "      <td>1680</td>\n",
       "      <td>2015</td>\n",
       "      <td>70.00</td>\n",
       "      <td>France</td>\n",
       "      <td>3.50</td>\n",
       "      <td>Blend</td>\n",
       "      <td>Togo</td>\n",
       "    </tr>\n",
       "    <tr>\n",
       "      <th>4</th>\n",
       "      <td>A. Morin</td>\n",
       "      <td>Quilla</td>\n",
       "      <td>1704</td>\n",
       "      <td>2015</td>\n",
       "      <td>70.00</td>\n",
       "      <td>France</td>\n",
       "      <td>3.50</td>\n",
       "      <td>Blend</td>\n",
       "      <td>Peru</td>\n",
       "    </tr>\n",
       "  </tbody>\n",
       "</table>\n",
       "</div>"
      ],
      "text/plain": [
       "      maker specific_origin  reference_number  review_date  cocoa_percent  \\\n",
       "0  A. Morin     Agua Grande              1876         2016          63.00   \n",
       "1  A. Morin           Kpime              1676         2015          70.00   \n",
       "2  A. Morin          Atsane              1676         2015          70.00   \n",
       "3  A. Morin           Akata              1680         2015          70.00   \n",
       "4  A. Morin          Quilla              1704         2015          70.00   \n",
       "\n",
       "  maker_location  rating bean_type broad_origin  \n",
       "0         France    3.75     Blend     Sao Tome  \n",
       "1         France    2.75     Blend         Togo  \n",
       "2         France    3.00     Blend         Togo  \n",
       "3         France    3.50     Blend         Togo  \n",
       "4         France    3.50     Blend         Peru  "
      ]
     },
     "execution_count": 17,
     "metadata": {},
     "output_type": "execute_result"
    }
   ],
   "source": [
    "choc_data.head()"
   ]
  },
  {
   "cell_type": "code",
   "execution_count": null,
   "id": "french-accident",
   "metadata": {},
   "outputs": [],
   "source": []
  }
 ],
 "metadata": {
  "kernelspec": {
   "display_name": "Python 3",
   "language": "python",
   "name": "python3"
  },
  "language_info": {
   "codemirror_mode": {
    "name": "ipython",
    "version": 3
   },
   "file_extension": ".py",
   "mimetype": "text/x-python",
   "name": "python",
   "nbconvert_exporter": "python",
   "pygments_lexer": "ipython3",
   "version": "3.9.1"
  }
 },
 "nbformat": 4,
 "nbformat_minor": 5
}
