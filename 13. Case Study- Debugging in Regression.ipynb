{
 "cells": [
  {
   "cell_type": "markdown",
   "id": "145acddf",
   "metadata": {},
   "source": [
    "# Setup\n",
    "\n",
    "This Colab uses the wine quality dataset<sup>[1]</sup>, which is hosted at [UCI](https://archive.ics.uci.edu/ml/datasets/wine+quality). This dataset contains data on the physicochemical properties of wine along with wine quality ratings. The problem is to predict wine quality (0-10) from physicochemical properties."
   ]
  },
  {
   "cell_type": "code",
   "execution_count": 1,
   "id": "f284706d",
   "metadata": {},
   "outputs": [],
   "source": [
    "from os.path import join\n",
    "import numpy as np\n",
    "import pandas as pd\n",
    "import seaborn as sns\n",
    "import tensorflow as tf\n",
    "from tensorflow import keras\n",
    "import matplotlib.pyplot as plt"
   ]
  },
  {
   "cell_type": "code",
   "execution_count": 2,
   "id": "de978f32",
   "metadata": {},
   "outputs": [],
   "source": [
    "pd.options.display.max_rows = 10\n",
    "pd.options.display.float_format = '{:.2f}'.format"
   ]
  },
  {
   "cell_type": "code",
   "execution_count": 3,
   "id": "84f596d9",
   "metadata": {},
   "outputs": [
    {
     "data": {
      "text/html": [
       "<div>\n",
       "<style scoped>\n",
       "    .dataframe tbody tr th:only-of-type {\n",
       "        vertical-align: middle;\n",
       "    }\n",
       "\n",
       "    .dataframe tbody tr th {\n",
       "        vertical-align: top;\n",
       "    }\n",
       "\n",
       "    .dataframe thead th {\n",
       "        text-align: right;\n",
       "    }\n",
       "</style>\n",
       "<table border=\"1\" class=\"dataframe\">\n",
       "  <thead>\n",
       "    <tr style=\"text-align: right;\">\n",
       "      <th></th>\n",
       "      <th>fixed acidity</th>\n",
       "      <th>volatile acidity</th>\n",
       "      <th>citric acid</th>\n",
       "      <th>residual sugar</th>\n",
       "      <th>chlorides</th>\n",
       "      <th>free sulfur dioxide</th>\n",
       "      <th>total sulfur dioxide</th>\n",
       "      <th>density</th>\n",
       "      <th>pH</th>\n",
       "      <th>sulphates</th>\n",
       "      <th>alcohol</th>\n",
       "      <th>quality</th>\n",
       "    </tr>\n",
       "  </thead>\n",
       "  <tbody>\n",
       "    <tr>\n",
       "      <th>0</th>\n",
       "      <td>7.00</td>\n",
       "      <td>0.27</td>\n",
       "      <td>0.36</td>\n",
       "      <td>20.70</td>\n",
       "      <td>0.04</td>\n",
       "      <td>45.00</td>\n",
       "      <td>170.00</td>\n",
       "      <td>1.00</td>\n",
       "      <td>3.00</td>\n",
       "      <td>0.45</td>\n",
       "      <td>8.80</td>\n",
       "      <td>6</td>\n",
       "    </tr>\n",
       "    <tr>\n",
       "      <th>1</th>\n",
       "      <td>6.30</td>\n",
       "      <td>0.30</td>\n",
       "      <td>0.34</td>\n",
       "      <td>1.60</td>\n",
       "      <td>0.05</td>\n",
       "      <td>14.00</td>\n",
       "      <td>132.00</td>\n",
       "      <td>0.99</td>\n",
       "      <td>3.30</td>\n",
       "      <td>0.49</td>\n",
       "      <td>9.50</td>\n",
       "      <td>6</td>\n",
       "    </tr>\n",
       "    <tr>\n",
       "      <th>2</th>\n",
       "      <td>8.10</td>\n",
       "      <td>0.28</td>\n",
       "      <td>0.40</td>\n",
       "      <td>6.90</td>\n",
       "      <td>0.05</td>\n",
       "      <td>30.00</td>\n",
       "      <td>97.00</td>\n",
       "      <td>1.00</td>\n",
       "      <td>3.26</td>\n",
       "      <td>0.44</td>\n",
       "      <td>10.10</td>\n",
       "      <td>6</td>\n",
       "    </tr>\n",
       "    <tr>\n",
       "      <th>3</th>\n",
       "      <td>7.20</td>\n",
       "      <td>0.23</td>\n",
       "      <td>0.32</td>\n",
       "      <td>8.50</td>\n",
       "      <td>0.06</td>\n",
       "      <td>47.00</td>\n",
       "      <td>186.00</td>\n",
       "      <td>1.00</td>\n",
       "      <td>3.19</td>\n",
       "      <td>0.40</td>\n",
       "      <td>9.90</td>\n",
       "      <td>6</td>\n",
       "    </tr>\n",
       "    <tr>\n",
       "      <th>4</th>\n",
       "      <td>7.20</td>\n",
       "      <td>0.23</td>\n",
       "      <td>0.32</td>\n",
       "      <td>8.50</td>\n",
       "      <td>0.06</td>\n",
       "      <td>47.00</td>\n",
       "      <td>186.00</td>\n",
       "      <td>1.00</td>\n",
       "      <td>3.19</td>\n",
       "      <td>0.40</td>\n",
       "      <td>9.90</td>\n",
       "      <td>6</td>\n",
       "    </tr>\n",
       "  </tbody>\n",
       "</table>\n",
       "</div>"
      ],
      "text/plain": [
       "   fixed acidity  volatile acidity  citric acid  residual sugar  chlorides  \\\n",
       "0           7.00              0.27         0.36           20.70       0.04   \n",
       "1           6.30              0.30         0.34            1.60       0.05   \n",
       "2           8.10              0.28         0.40            6.90       0.05   \n",
       "3           7.20              0.23         0.32            8.50       0.06   \n",
       "4           7.20              0.23         0.32            8.50       0.06   \n",
       "\n",
       "   free sulfur dioxide  total sulfur dioxide  density   pH  sulphates  \\\n",
       "0                45.00                170.00     1.00 3.00       0.45   \n",
       "1                14.00                132.00     0.99 3.30       0.49   \n",
       "2                30.00                 97.00     1.00 3.26       0.44   \n",
       "3                47.00                186.00     1.00 3.19       0.40   \n",
       "4                47.00                186.00     1.00 3.19       0.40   \n",
       "\n",
       "   alcohol  quality  \n",
       "0     8.80        6  \n",
       "1     9.50        6  \n",
       "2    10.10        6  \n",
       "3     9.90        6  \n",
       "4     9.90        6  "
      ]
     },
     "execution_count": 3,
     "metadata": {},
     "output_type": "execute_result"
    }
   ],
   "source": [
    "wineDf = pd.read_csv('https://download.mlcc.google.com/mledu-datasets/winequality.csv',\n",
    "                     encoding='latin-1')\n",
    "wineDf.columns = ['fixed acidity','volatile acidity','citric acid',\n",
    "                  'residual sugar','chlorides','free sulfur dioxide',\n",
    "                  'total sulfur dioxide','density','pH',\n",
    "                  'sulphates','alcohol','quality']\n",
    "\n",
    "wineDf.head()"
   ]
  },
  {
   "cell_type": "markdown",
   "id": "0e46af0c",
   "metadata": {},
   "source": [
    "# Check Correlation Matrix"
   ]
  },
  {
   "cell_type": "markdown",
   "id": "833b8e75",
   "metadata": {},
   "source": [
    "Before developing your ML model, you need to select features. To find informative features, check the correlation matrix by running the following cell. Which features are informative?"
   ]
  },
  {
   "cell_type": "code",
   "execution_count": 4,
   "id": "26308c48",
   "metadata": {},
   "outputs": [
    {
     "data": {
      "text/plain": [
       "<AxesSubplot:>"
      ]
     },
     "execution_count": 4,
     "metadata": {},
     "output_type": "execute_result"
    },
    {
     "data": {
      "image/png": "[encoded data removed]",
      "text/plain": [
       "<Figure size 1152x720 with 2 Axes>"
      ]
     },
     "metadata": {
      "needs_background": "light"
     },
     "output_type": "display_data"
    }
   ],
   "source": [
    "corr_wineDf = wineDf.corr()\n",
    "plt.figure(figsize=(16,10))\n",
    "sns.heatmap(corr_wineDf, annot=True)"
   ]
  },
  {
   "cell_type": "markdown",
   "id": "a0688a34",
   "metadata": {},
   "source": [
    "`alcohol` is most highly correlated with `quality`. Looking for other informative features, notice that `volatile acidity` correlates with `quality` but not with `alcohol`, making it a good second feature. Remember that a correlation matrix is not helpful if predictive signals are encoded in combinations of features."
   ]
  },
  {
   "cell_type": "markdown",
   "id": "893a02dd",
   "metadata": {},
   "source": [
    "# Validate Input Data against Data Schema"
   ]
  },
  {
   "cell_type": "markdown",
   "id": "e71513b3",
   "metadata": {},
   "source": [
    "Before processing your data, you should validate the data against a data schema as described in [Data and Feature Debugging](https://developers.google.com/machine-learning/testing-debugging/common/data-errors).\n",
    "\n",
    "First, define a function that validates data against a schema."
   ]
  },
  {
   "cell_type": "code",
   "execution_count": 5,
   "id": "5485344f",
   "metadata": {},
   "outputs": [],
   "source": [
    "# Define function to validate data\n",
    "def test_data_schema(input_data, schema):\n",
    "    \"\"\"Tests that the datatypes and ranges of values in the dataset\n",
    "        adhere to expectations.\n",
    "\n",
    "        Args:\n",
    "          input_function: Dataframe containing data to test\n",
    "          schema: Schema which describes the properties of the data.\n",
    "    \"\"\"\n",
    "    def test_dtypes():\n",
    "        for column in schema.keys():\n",
    "            assert input_data[column].map(type).eq(schema[column]['dtype']).all(),(\n",
    "                'Incorrect dtype in column \"%s\",' %column)\n",
    "        print('Input dtypes are correct')\n",
    "        \n",
    "    def test_ranges():\n",
    "        for column in schema.keys():\n",
    "            schema_max = schema[column]['range']['max']\n",
    "            schema_min = schema[column]['range']['min']\n",
    "            # Assert that data falls between schema min and max.\n",
    "            assert input_data[column].max() <= schema_max, (\n",
    "            \"Maximum value of column '%s' is too low.\" %column)\n",
    "            assert input_data[column].min() >= schema_min, (\n",
    "            \"Minimum value of column '%s' is too high.\" %column)\n",
    "        print('Data falls within specified ranges')\n",
    "    \n",
    "    test_dtypes()\n",
    "    test_ranges()"
   ]
  },
  {
   "cell_type": "code",
   "execution_count": 6,
   "id": "725d29c0",
   "metadata": {},
   "outputs": [
    {
     "data": {
      "text/html": [
       "<div>\n",
       "<style scoped>\n",
       "    .dataframe tbody tr th:only-of-type {\n",
       "        vertical-align: middle;\n",
       "    }\n",
       "\n",
       "    .dataframe tbody tr th {\n",
       "        vertical-align: top;\n",
       "    }\n",
       "\n",
       "    .dataframe thead th {\n",
       "        text-align: right;\n",
       "    }\n",
       "</style>\n",
       "<table border=\"1\" class=\"dataframe\">\n",
       "  <thead>\n",
       "    <tr style=\"text-align: right;\">\n",
       "      <th></th>\n",
       "      <th>fixed acidity</th>\n",
       "      <th>volatile acidity</th>\n",
       "      <th>citric acid</th>\n",
       "      <th>residual sugar</th>\n",
       "      <th>chlorides</th>\n",
       "      <th>free sulfur dioxide</th>\n",
       "      <th>total sulfur dioxide</th>\n",
       "      <th>density</th>\n",
       "      <th>pH</th>\n",
       "      <th>sulphates</th>\n",
       "      <th>alcohol</th>\n",
       "      <th>quality</th>\n",
       "    </tr>\n",
       "  </thead>\n",
       "  <tbody>\n",
       "    <tr>\n",
       "      <th>count</th>\n",
       "      <td>6497.00</td>\n",
       "      <td>6497.00</td>\n",
       "      <td>6497.00</td>\n",
       "      <td>6497.00</td>\n",
       "      <td>6497.00</td>\n",
       "      <td>6497.00</td>\n",
       "      <td>6497.00</td>\n",
       "      <td>6497.00</td>\n",
       "      <td>6497.00</td>\n",
       "      <td>6497.00</td>\n",
       "      <td>6497.00</td>\n",
       "      <td>6497.00</td>\n",
       "    </tr>\n",
       "    <tr>\n",
       "      <th>mean</th>\n",
       "      <td>7.22</td>\n",
       "      <td>0.34</td>\n",
       "      <td>0.32</td>\n",
       "      <td>5.44</td>\n",
       "      <td>0.06</td>\n",
       "      <td>30.53</td>\n",
       "      <td>115.74</td>\n",
       "      <td>0.99</td>\n",
       "      <td>3.22</td>\n",
       "      <td>0.53</td>\n",
       "      <td>10.49</td>\n",
       "      <td>5.82</td>\n",
       "    </tr>\n",
       "    <tr>\n",
       "      <th>std</th>\n",
       "      <td>1.30</td>\n",
       "      <td>0.16</td>\n",
       "      <td>0.15</td>\n",
       "      <td>4.76</td>\n",
       "      <td>0.04</td>\n",
       "      <td>17.75</td>\n",
       "      <td>56.52</td>\n",
       "      <td>0.00</td>\n",
       "      <td>0.16</td>\n",
       "      <td>0.15</td>\n",
       "      <td>1.19</td>\n",
       "      <td>0.87</td>\n",
       "    </tr>\n",
       "    <tr>\n",
       "      <th>min</th>\n",
       "      <td>3.80</td>\n",
       "      <td>0.08</td>\n",
       "      <td>0.00</td>\n",
       "      <td>0.60</td>\n",
       "      <td>0.01</td>\n",
       "      <td>1.00</td>\n",
       "      <td>6.00</td>\n",
       "      <td>0.99</td>\n",
       "      <td>2.72</td>\n",
       "      <td>0.22</td>\n",
       "      <td>8.00</td>\n",
       "      <td>3.00</td>\n",
       "    </tr>\n",
       "    <tr>\n",
       "      <th>25%</th>\n",
       "      <td>6.40</td>\n",
       "      <td>0.23</td>\n",
       "      <td>0.25</td>\n",
       "      <td>1.80</td>\n",
       "      <td>0.04</td>\n",
       "      <td>17.00</td>\n",
       "      <td>77.00</td>\n",
       "      <td>0.99</td>\n",
       "      <td>3.11</td>\n",
       "      <td>0.43</td>\n",
       "      <td>9.50</td>\n",
       "      <td>5.00</td>\n",
       "    </tr>\n",
       "    <tr>\n",
       "      <th>50%</th>\n",
       "      <td>7.00</td>\n",
       "      <td>0.29</td>\n",
       "      <td>0.31</td>\n",
       "      <td>3.00</td>\n",
       "      <td>0.05</td>\n",
       "      <td>29.00</td>\n",
       "      <td>118.00</td>\n",
       "      <td>0.99</td>\n",
       "      <td>3.21</td>\n",
       "      <td>0.51</td>\n",
       "      <td>10.30</td>\n",
       "      <td>6.00</td>\n",
       "    </tr>\n",
       "    <tr>\n",
       "      <th>75%</th>\n",
       "      <td>7.70</td>\n",
       "      <td>0.40</td>\n",
       "      <td>0.39</td>\n",
       "      <td>8.10</td>\n",
       "      <td>0.07</td>\n",
       "      <td>41.00</td>\n",
       "      <td>156.00</td>\n",
       "      <td>1.00</td>\n",
       "      <td>3.32</td>\n",
       "      <td>0.60</td>\n",
       "      <td>11.30</td>\n",
       "      <td>6.00</td>\n",
       "    </tr>\n",
       "    <tr>\n",
       "      <th>max</th>\n",
       "      <td>15.90</td>\n",
       "      <td>1.58</td>\n",
       "      <td>1.66</td>\n",
       "      <td>65.80</td>\n",
       "      <td>0.61</td>\n",
       "      <td>289.00</td>\n",
       "      <td>440.00</td>\n",
       "      <td>1.04</td>\n",
       "      <td>4.01</td>\n",
       "      <td>2.00</td>\n",
       "      <td>14.90</td>\n",
       "      <td>9.00</td>\n",
       "    </tr>\n",
       "  </tbody>\n",
       "</table>\n",
       "</div>"
      ],
      "text/plain": [
       "       fixed acidity  volatile acidity  citric acid  residual sugar  \\\n",
       "count        6497.00           6497.00      6497.00         6497.00   \n",
       "mean            7.22              0.34         0.32            5.44   \n",
       "std             1.30              0.16         0.15            4.76   \n",
       "min             3.80              0.08         0.00            0.60   \n",
       "25%             6.40              0.23         0.25            1.80   \n",
       "50%             7.00              0.29         0.31            3.00   \n",
       "75%             7.70              0.40         0.39            8.10   \n",
       "max            15.90              1.58         1.66           65.80   \n",
       "\n",
       "       chlorides  free sulfur dioxide  total sulfur dioxide  density      pH  \\\n",
       "count    6497.00              6497.00               6497.00  6497.00 6497.00   \n",
       "mean        0.06                30.53                115.74     0.99    3.22   \n",
       "std         0.04                17.75                 56.52     0.00    0.16   \n",
       "min         0.01                 1.00                  6.00     0.99    2.72   \n",
       "25%         0.04                17.00                 77.00     0.99    3.11   \n",
       "50%         0.05                29.00                118.00     0.99    3.21   \n",
       "75%         0.07                41.00                156.00     1.00    3.32   \n",
       "max         0.61               289.00                440.00     1.04    4.01   \n",
       "\n",
       "       sulphates  alcohol  quality  \n",
       "count    6497.00  6497.00  6497.00  \n",
       "mean        0.53    10.49     5.82  \n",
       "std         0.15     1.19     0.87  \n",
       "min         0.22     8.00     3.00  \n",
       "25%         0.43     9.50     5.00  \n",
       "50%         0.51    10.30     6.00  \n",
       "75%         0.60    11.30     6.00  \n",
       "max         2.00    14.90     9.00  "
      ]
     },
     "execution_count": 6,
     "metadata": {},
     "output_type": "execute_result"
    }
   ],
   "source": [
    "wineDf.describe()"
   ]
  },
  {
   "cell_type": "markdown",
   "id": "7a9d2e1b",
   "metadata": {},
   "source": [
    "Using the statistics generated above, define the data schema in the following code cell. For demonstration purposes, restrict your data schema to the first three data columns. For each data column, enter the:\n",
    "\n",
    " * minimum value\n",
    " * maximum value\n",
    " * data type\n",
    "\n",
    "As an example, the values for the first column are filled out. After entering the values, run the code cell to confirm that your input data matches the schema."
   ]
  },
  {
   "cell_type": "code",
   "execution_count": 7,
   "id": "87455f4a",
   "metadata": {},
   "outputs": [
    {
     "name": "stdout",
     "output_type": "stream",
     "text": [
      "Validating wine data against data schema...\n",
      "Input dtypes are correct\n",
      "Data falls within specified ranges\n"
     ]
    }
   ],
   "source": [
    "wine_schema = {\n",
    "    'fixed acidity': {\n",
    "        'range': {\n",
    "            'min': 3.8,\n",
    "            'max': 15.9\n",
    "        },\n",
    "        'dtype': float,\n",
    "    },\n",
    "    'volatile acidity': {\n",
    "        'range': {\n",
    "            'min': 0.08,\n",
    "            'max': 1.58\n",
    "        },\n",
    "        'dtype': float,\n",
    "    },\n",
    "    'citric acid': {\n",
    "        'range':{\n",
    "            'min': 0.,\n",
    "            'max': 1.66\n",
    "        },\n",
    "        'dtype': float\n",
    "    }\n",
    "}\n",
    "\n",
    "print('Validating wine data against data schema...')\n",
    "test_data_schema(wineDf, wine_schema)"
   ]
  },
  {
   "cell_type": "code",
   "execution_count": 8,
   "id": "6bee110b",
   "metadata": {
    "collapsed": true
   },
   "outputs": [
    {
     "name": "stdout",
     "output_type": "stream",
     "text": [
      "<class 'pandas.core.frame.DataFrame'>\n",
      "RangeIndex: 6497 entries, 0 to 6496\n",
      "Data columns (total 12 columns):\n",
      " #   Column                Non-Null Count  Dtype  \n",
      "---  ------                --------------  -----  \n",
      " 0   fixed acidity         6497 non-null   float64\n",
      " 1   volatile acidity      6497 non-null   float64\n",
      " 2   citric acid           6497 non-null   float64\n",
      " 3   residual sugar        6497 non-null   float64\n",
      " 4   chlorides             6497 non-null   float64\n",
      " 5   free sulfur dioxide   6497 non-null   float64\n",
      " 6   total sulfur dioxide  6497 non-null   float64\n",
      " 7   density               6497 non-null   float64\n",
      " 8   pH                    6497 non-null   float64\n",
      " 9   sulphates             6497 non-null   float64\n",
      " 10  alcohol               6497 non-null   float64\n",
      " 11  quality               6497 non-null   int64  \n",
      "dtypes: float64(11), int64(1)\n",
      "memory usage: 609.2 KB\n"
     ]
    }
   ],
   "source": [
    "wineDf.info()"
   ]
  },
  {
   "cell_type": "markdown",
   "id": "0cf91260",
   "metadata": {},
   "source": [
    "# Split and Normalize Data"
   ]
  },
  {
   "cell_type": "markdown",
   "id": "6d3e14ee",
   "metadata": {},
   "source": [
    "Split the dataset into data and labels."
   ]
  },
  {
   "cell_type": "code",
   "execution_count": 9,
   "id": "2db3bb7f",
   "metadata": {},
   "outputs": [],
   "source": [
    "'''\n",
    "wineFeatures = wineDf.copy(deep=True)\n",
    "wineFeatures.drop(columns='quality', inplace=True)\n",
    "wineLabel = wineDf['quality'].copy(deep=True)\n",
    "'''\n",
    "wineFeatures = wineDf.copy(deep=True)\n",
    "wineLabel = wineFeatures.pop('quality')"
   ]
  },
  {
   "cell_type": "markdown",
   "id": "7aeb78d2",
   "metadata": {},
   "source": [
    "Normalize data using z-score."
   ]
  },
  {
   "cell_type": "code",
   "execution_count": 18,
   "id": "e7eab6a5",
   "metadata": {},
   "outputs": [],
   "source": [
    "def normalizeData(arr):\n",
    "    stdArr = np.std(arr)\n",
    "    meanArr = np.mean(arr)\n",
    "    arr = (arr-meanArr)/stdArr\n",
    "    return arr\n",
    "\n",
    "for str1 in wineFeatures.columns:\n",
    "    wineFeatures[str1] = normalizeData(wineFeatures[str1])"
   ]
  },
  {
   "cell_type": "code",
   "execution_count": 19,
   "id": "b0c19abf",
   "metadata": {},
   "outputs": [
    {
     "data": {
      "text/html": [
       "<div>\n",
       "<style scoped>\n",
       "    .dataframe tbody tr th:only-of-type {\n",
       "        vertical-align: middle;\n",
       "    }\n",
       "\n",
       "    .dataframe tbody tr th {\n",
       "        vertical-align: top;\n",
       "    }\n",
       "\n",
       "    .dataframe thead th {\n",
       "        text-align: right;\n",
       "    }\n",
       "</style>\n",
       "<table border=\"1\" class=\"dataframe\">\n",
       "  <thead>\n",
       "    <tr style=\"text-align: right;\">\n",
       "      <th></th>\n",
       "      <th>fixed acidity</th>\n",
       "      <th>volatile acidity</th>\n",
       "      <th>citric acid</th>\n",
       "      <th>residual sugar</th>\n",
       "      <th>chlorides</th>\n",
       "      <th>free sulfur dioxide</th>\n",
       "      <th>total sulfur dioxide</th>\n",
       "      <th>density</th>\n",
       "      <th>pH</th>\n",
       "      <th>sulphates</th>\n",
       "      <th>alcohol</th>\n",
       "    </tr>\n",
       "  </thead>\n",
       "  <tbody>\n",
       "    <tr>\n",
       "      <th>0</th>\n",
       "      <td>-0.17</td>\n",
       "      <td>-0.42</td>\n",
       "      <td>0.28</td>\n",
       "      <td>3.21</td>\n",
       "      <td>-0.31</td>\n",
       "      <td>0.82</td>\n",
       "      <td>0.96</td>\n",
       "      <td>2.10</td>\n",
       "      <td>-1.36</td>\n",
       "      <td>-0.55</td>\n",
       "      <td>-1.42</td>\n",
       "    </tr>\n",
       "    <tr>\n",
       "      <th>1</th>\n",
       "      <td>-0.71</td>\n",
       "      <td>-0.24</td>\n",
       "      <td>0.15</td>\n",
       "      <td>-0.81</td>\n",
       "      <td>-0.20</td>\n",
       "      <td>-0.93</td>\n",
       "      <td>0.29</td>\n",
       "      <td>-0.23</td>\n",
       "      <td>0.51</td>\n",
       "      <td>-0.28</td>\n",
       "      <td>-0.83</td>\n",
       "    </tr>\n",
       "    <tr>\n",
       "      <th>2</th>\n",
       "      <td>0.68</td>\n",
       "      <td>-0.36</td>\n",
       "      <td>0.56</td>\n",
       "      <td>0.31</td>\n",
       "      <td>-0.17</td>\n",
       "      <td>-0.03</td>\n",
       "      <td>-0.33</td>\n",
       "      <td>0.13</td>\n",
       "      <td>0.26</td>\n",
       "      <td>-0.61</td>\n",
       "      <td>-0.33</td>\n",
       "    </tr>\n",
       "    <tr>\n",
       "      <th>3</th>\n",
       "      <td>-0.01</td>\n",
       "      <td>-0.67</td>\n",
       "      <td>0.01</td>\n",
       "      <td>0.64</td>\n",
       "      <td>0.06</td>\n",
       "      <td>0.93</td>\n",
       "      <td>1.24</td>\n",
       "      <td>0.30</td>\n",
       "      <td>-0.18</td>\n",
       "      <td>-0.88</td>\n",
       "      <td>-0.50</td>\n",
       "    </tr>\n",
       "    <tr>\n",
       "      <th>4</th>\n",
       "      <td>-0.01</td>\n",
       "      <td>-0.67</td>\n",
       "      <td>0.01</td>\n",
       "      <td>0.64</td>\n",
       "      <td>0.06</td>\n",
       "      <td>0.93</td>\n",
       "      <td>1.24</td>\n",
       "      <td>0.30</td>\n",
       "      <td>-0.18</td>\n",
       "      <td>-0.88</td>\n",
       "      <td>-0.50</td>\n",
       "    </tr>\n",
       "  </tbody>\n",
       "</table>\n",
       "</div>"
      ],
      "text/plain": [
       "   fixed acidity  volatile acidity  citric acid  residual sugar  chlorides  \\\n",
       "0          -0.17             -0.42         0.28            3.21      -0.31   \n",
       "1          -0.71             -0.24         0.15           -0.81      -0.20   \n",
       "2           0.68             -0.36         0.56            0.31      -0.17   \n",
       "3          -0.01             -0.67         0.01            0.64       0.06   \n",
       "4          -0.01             -0.67         0.01            0.64       0.06   \n",
       "\n",
       "   free sulfur dioxide  total sulfur dioxide  density    pH  sulphates  \\\n",
       "0                 0.82                  0.96     2.10 -1.36      -0.55   \n",
       "1                -0.93                  0.29    -0.23  0.51      -0.28   \n",
       "2                -0.03                 -0.33     0.13  0.26      -0.61   \n",
       "3                 0.93                  1.24     0.30 -0.18      -0.88   \n",
       "4                 0.93                  1.24     0.30 -0.18      -0.88   \n",
       "\n",
       "   alcohol  \n",
       "0    -1.42  \n",
       "1    -0.83  \n",
       "2    -0.33  \n",
       "3    -0.50  \n",
       "4    -0.50  "
      ]
     },
     "execution_count": 19,
     "metadata": {},
     "output_type": "execute_result"
    }
   ],
   "source": [
    "wineFeatures.head()"
   ]
  },
  {
   "cell_type": "markdown",
   "id": "bc212dd0",
   "metadata": {},
   "source": [
    "# Test Engineered Data\n",
    "After normalizing your data, you should test your engineered data for errors as described in [Data and Feature Debugging](https://developers.google.com/machine-learning/testing-debugging/common/data-errors). In this section, you will test that engineering data:\n",
    "\n",
    "* Has the expected number of rows and columns.\n",
    "* Does not have null values.\n",
    "\n",
    "First, set up the testing functions by running the following code cell:"
   ]
  },
  {
   "cell_type": "code",
   "execution_count": 25,
   "id": "e31b5e35",
   "metadata": {
    "collapsed": true
   },
   "outputs": [
    {
     "name": "stdout",
     "output_type": "stream",
     "text": [
      "<class 'pandas.core.frame.DataFrame'>\n",
      "RangeIndex: 6497 entries, 0 to 6496\n",
      "Data columns (total 11 columns):\n",
      " #   Column                Non-Null Count  Dtype  \n",
      "---  ------                --------------  -----  \n",
      " 0   fixed acidity         6497 non-null   float64\n",
      " 1   volatile acidity      6497 non-null   float64\n",
      " 2   citric acid           6497 non-null   float64\n",
      " 3   residual sugar        6497 non-null   float64\n",
      " 4   chlorides             6497 non-null   float64\n",
      " 5   free sulfur dioxide   6497 non-null   float64\n",
      " 6   total sulfur dioxide  6497 non-null   float64\n",
      " 7   density               6497 non-null   float64\n",
      " 8   pH                    6497 non-null   float64\n",
      " 9   sulphates             6497 non-null   float64\n",
      " 10  alcohol               6497 non-null   float64\n",
      "dtypes: float64(11)\n",
      "memory usage: 558.5 KB\n"
     ]
    },
    {
     "data": {
      "text/plain": [
       "(None,\n",
       " count   6497.00\n",
       " mean       5.82\n",
       " std        0.87\n",
       " min        3.00\n",
       " 25%        5.00\n",
       " 50%        6.00\n",
       " 75%        6.00\n",
       " max        9.00\n",
       " Name: quality, dtype: float64,\n",
       " 0       True\n",
       " 1       True\n",
       " 2       True\n",
       " 3       True\n",
       " 4       True\n",
       "         ... \n",
       " 6492    True\n",
       " 6493    True\n",
       " 6494    True\n",
       " 6495    True\n",
       " 6496    True\n",
       " Name: quality, Length: 6497, dtype: bool)"
      ]
     },
     "execution_count": 25,
     "metadata": {},
     "output_type": "execute_result"
    }
   ],
   "source": [
    "wineFeatures.info(), wineLabel.describe(), wineLabel.notnull() # find not-null in Series"
   ]
  },
  {
   "cell_type": "code",
   "execution_count": 26,
   "id": "9ebaf2a6",
   "metadata": {},
   "outputs": [],
   "source": [
    "import unittest\n",
    "\n",
    "def test_input_dim(df, n_rows, n_columns):\n",
    "    assert len(df) == n_rows, \"Unexpected number of rows\"\n",
    "    assert len(df.columns) == n_columns, \"Unexpected number of columns\"\n",
    "    print('Engineering data has the expected number of rows and columns.')\n",
    "    \n",
    "def test_nulls(df):\n",
    "    dataNulls = df.isnull().sum().sum()\n",
    "    assert dataNulls == 0, \"Nulls in engineering data\"\n",
    "    print('Engineered features do not contain nulls')"
   ]
  },
  {
   "cell_type": "code",
   "execution_count": 30,
   "id": "1d8ad957",
   "metadata": {},
   "outputs": [
    {
     "data": {
      "text/plain": [
       "fixed acidity           0\n",
       "volatile acidity        0\n",
       "citric acid             0\n",
       "residual sugar          0\n",
       "chlorides               0\n",
       "                       ..\n",
       "total sulfur dioxide    0\n",
       "density                 0\n",
       "pH                      0\n",
       "sulphates               0\n",
       "alcohol                 0\n",
       "Length: 11, dtype: int64"
      ]
     },
     "execution_count": 30,
     "metadata": {},
     "output_type": "execute_result"
    }
   ],
   "source": [
    "wineFeatures.isnull().sum()"
   ]
  },
  {
   "cell_type": "code",
   "execution_count": 61,
   "id": "999e2b40",
   "metadata": {},
   "outputs": [
    {
     "name": "stdout",
     "output_type": "stream",
     "text": [
      "Engineering data has the expected number of rows and columns.\n"
     ]
    }
   ],
   "source": [
    "# Test dimensions of engineered data\n",
    "wine_feature_rows = 6497\n",
    "wine_feature_cols = 11 \n",
    "test_input_dim(wineFeatures,\n",
    "               wine_feature_rows,\n",
    "               wine_feature_cols)"
   ]
  },
  {
   "cell_type": "code",
   "execution_count": 62,
   "id": "de528fe8",
   "metadata": {},
   "outputs": [
    {
     "name": "stdout",
     "output_type": "stream",
     "text": [
      "Engineered features do not contain nulls\n"
     ]
    }
   ],
   "source": [
    "test_nulls(wineFeatures)"
   ]
  },
  {
   "cell_type": "markdown",
   "id": "226bba5d",
   "metadata": {},
   "source": [
    "# Check Splits for Statistical Equivalence\n",
    "\n",
    "As described in the [Data Debugging](https://developers.google.com/machine-learning/testing-debugging/common/data-errors) guidelines, before developing your model, you should check that your training and validation splits are equally representative. Assuming a training:validation split of 80:20, compare the mean and the standard deviation of the splits by running the next two code cells. Note that this comparison is not a rigorous test for statistical equivalence but simply a quick and dirty comparison of the splits."
   ]
  },
  {
   "cell_type": "code",
   "execution_count": null,
   "id": "6bcdbffc",
   "metadata": {},
   "outputs": [],
   "source": []
  }
 ],
 "metadata": {
  "kernelspec": {
   "display_name": "Python 3",
   "language": "python",
   "name": "python3"
  },
  "language_info": {
   "codemirror_mode": {
    "name": "ipython",
    "version": 3
   },
   "file_extension": ".py",
   "mimetype": "text/x-python",
   "name": "python",
   "nbconvert_exporter": "python",
   "pygments_lexer": "ipython3",
   "version": "3.9.1"
  }
 },
 "nbformat": 4,
 "nbformat_minor": 5
}
