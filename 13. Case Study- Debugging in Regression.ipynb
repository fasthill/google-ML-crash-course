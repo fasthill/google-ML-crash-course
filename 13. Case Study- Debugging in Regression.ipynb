{
 "cells": [
  {
   "cell_type": "markdown",
   "id": "145acddf",
   "metadata": {},
   "source": [
    "# Setup\n",
    "\n",
    "This Colab uses the wine quality dataset<sup>[1]</sup>, which is hosted at [UCI](https://archive.ics.uci.edu/ml/datasets/wine+quality). This dataset contains data on the physicochemical properties of wine along with wine quality ratings. The problem is to predict wine quality (0-10) from physicochemical properties."
   ]
  },
  {
   "cell_type": "code",
   "execution_count": 1,
   "id": "f284706d",
   "metadata": {},
   "outputs": [],
   "source": [
    "from os.path import join\n",
    "import numpy as np\n",
    "import pandas as pd\n",
    "import seaborn as sns\n",
    "import tensorflow as tf\n",
    "from tensorflow import keras\n",
    "import matplotlib.pyplot as plt"
   ]
  },
  {
   "cell_type": "code",
   "execution_count": 2,
   "id": "de978f32",
   "metadata": {},
   "outputs": [],
   "source": [
    "pd.options.display.max_rows = 10\n",
    "pd.options.display.float_format = '{:.2f}'.format"
   ]
  },
  {
   "cell_type": "code",
   "execution_count": 3,
   "id": "84f596d9",
   "metadata": {},
   "outputs": [
    {
     "data": {
      "text/html": [
       "<div>\n",
       "<style scoped>\n",
       "    .dataframe tbody tr th:only-of-type {\n",
       "        vertical-align: middle;\n",
       "    }\n",
       "\n",
       "    .dataframe tbody tr th {\n",
       "        vertical-align: top;\n",
       "    }\n",
       "\n",
       "    .dataframe thead th {\n",
       "        text-align: right;\n",
       "    }\n",
       "</style>\n",
       "<table border=\"1\" class=\"dataframe\">\n",
       "  <thead>\n",
       "    <tr style=\"text-align: right;\">\n",
       "      <th></th>\n",
       "      <th>fixed acidity</th>\n",
       "      <th>volatile acidity</th>\n",
       "      <th>citric acid</th>\n",
       "      <th>residual sugar</th>\n",
       "      <th>chlorides</th>\n",
       "      <th>free sulfur dioxide</th>\n",
       "      <th>total sulfur dioxide</th>\n",
       "      <th>density</th>\n",
       "      <th>pH</th>\n",
       "      <th>sulphates</th>\n",
       "      <th>alcohol</th>\n",
       "      <th>quality</th>\n",
       "    </tr>\n",
       "  </thead>\n",
       "  <tbody>\n",
       "    <tr>\n",
       "      <th>0</th>\n",
       "      <td>7.00</td>\n",
       "      <td>0.27</td>\n",
       "      <td>0.36</td>\n",
       "      <td>20.70</td>\n",
       "      <td>0.04</td>\n",
       "      <td>45.00</td>\n",
       "      <td>170.00</td>\n",
       "      <td>1.00</td>\n",
       "      <td>3.00</td>\n",
       "      <td>0.45</td>\n",
       "      <td>8.80</td>\n",
       "      <td>6</td>\n",
       "    </tr>\n",
       "    <tr>\n",
       "      <th>1</th>\n",
       "      <td>6.30</td>\n",
       "      <td>0.30</td>\n",
       "      <td>0.34</td>\n",
       "      <td>1.60</td>\n",
       "      <td>0.05</td>\n",
       "      <td>14.00</td>\n",
       "      <td>132.00</td>\n",
       "      <td>0.99</td>\n",
       "      <td>3.30</td>\n",
       "      <td>0.49</td>\n",
       "      <td>9.50</td>\n",
       "      <td>6</td>\n",
       "    </tr>\n",
       "    <tr>\n",
       "      <th>2</th>\n",
       "      <td>8.10</td>\n",
       "      <td>0.28</td>\n",
       "      <td>0.40</td>\n",
       "      <td>6.90</td>\n",
       "      <td>0.05</td>\n",
       "      <td>30.00</td>\n",
       "      <td>97.00</td>\n",
       "      <td>1.00</td>\n",
       "      <td>3.26</td>\n",
       "      <td>0.44</td>\n",
       "      <td>10.10</td>\n",
       "      <td>6</td>\n",
       "    </tr>\n",
       "    <tr>\n",
       "      <th>3</th>\n",
       "      <td>7.20</td>\n",
       "      <td>0.23</td>\n",
       "      <td>0.32</td>\n",
       "      <td>8.50</td>\n",
       "      <td>0.06</td>\n",
       "      <td>47.00</td>\n",
       "      <td>186.00</td>\n",
       "      <td>1.00</td>\n",
       "      <td>3.19</td>\n",
       "      <td>0.40</td>\n",
       "      <td>9.90</td>\n",
       "      <td>6</td>\n",
       "    </tr>\n",
       "    <tr>\n",
       "      <th>4</th>\n",
       "      <td>7.20</td>\n",
       "      <td>0.23</td>\n",
       "      <td>0.32</td>\n",
       "      <td>8.50</td>\n",
       "      <td>0.06</td>\n",
       "      <td>47.00</td>\n",
       "      <td>186.00</td>\n",
       "      <td>1.00</td>\n",
       "      <td>3.19</td>\n",
       "      <td>0.40</td>\n",
       "      <td>9.90</td>\n",
       "      <td>6</td>\n",
       "    </tr>\n",
       "  </tbody>\n",
       "</table>\n",
       "</div>"
      ],
      "text/plain": [
       "   fixed acidity  volatile acidity  citric acid  residual sugar  chlorides  \\\n",
       "0           7.00              0.27         0.36           20.70       0.04   \n",
       "1           6.30              0.30         0.34            1.60       0.05   \n",
       "2           8.10              0.28         0.40            6.90       0.05   \n",
       "3           7.20              0.23         0.32            8.50       0.06   \n",
       "4           7.20              0.23         0.32            8.50       0.06   \n",
       "\n",
       "   free sulfur dioxide  total sulfur dioxide  density   pH  sulphates  \\\n",
       "0                45.00                170.00     1.00 3.00       0.45   \n",
       "1                14.00                132.00     0.99 3.30       0.49   \n",
       "2                30.00                 97.00     1.00 3.26       0.44   \n",
       "3                47.00                186.00     1.00 3.19       0.40   \n",
       "4                47.00                186.00     1.00 3.19       0.40   \n",
       "\n",
       "   alcohol  quality  \n",
       "0     8.80        6  \n",
       "1     9.50        6  \n",
       "2    10.10        6  \n",
       "3     9.90        6  \n",
       "4     9.90        6  "
      ]
     },
     "execution_count": 3,
     "metadata": {},
     "output_type": "execute_result"
    }
   ],
   "source": [
    "wineDf = pd.read_csv('https://download.mlcc.google.com/mledu-datasets/winequality.csv',\n",
    "                     encoding='latin-1')\n",
    "wineDf.columns = ['fixed acidity','volatile acidity','citric acid',\n",
    "                  'residual sugar','chlorides','free sulfur dioxide',\n",
    "                  'total sulfur dioxide','density','pH',\n",
    "                  'sulphates','alcohol','quality']\n",
    "\n",
    "wineDf.head()"
   ]
  },
  {
   "cell_type": "markdown",
   "id": "0e46af0c",
   "metadata": {},
   "source": [
    "# Check Correlation Matrix"
   ]
  },
  {
   "cell_type": "markdown",
   "id": "833b8e75",
   "metadata": {},
   "source": [
    "Before developing your ML model, you need to select features. To find informative features, check the correlation matrix by running the following cell. Which features are informative?"
   ]
  },
  {
   "cell_type": "code",
   "execution_count": 4,
   "id": "26308c48",
   "metadata": {},
   "outputs": [
    {
     "data": {
      "text/plain": [
       "<AxesSubplot:>"
      ]
     },
     "execution_count": 4,
     "metadata": {},
     "output_type": "execute_result"
    },
    {
     "data": {
      "image/png": "[encoded data removed]",
      "text/plain": [
       "<Figure size 1152x720 with 2 Axes>"
      ]
     },
     "metadata": {
      "needs_background": "light"
     },
     "output_type": "display_data"
    }
   ],
   "source": [
    "corr_wineDf = wineDf.corr()\n",
    "plt.figure(figsize=(16,10))\n",
    "sns.heatmap(corr_wineDf, annot=True)"
   ]
  },
  {
   "cell_type": "markdown",
   "id": "a0688a34",
   "metadata": {},
   "source": [
    "<span style='color:red'>alcohol</span> is most highly correlated with `quality`. Looking for other informative features, notice that <span style='color:red'>volatile acidity</span> correlates with `quality` but not with `alcohol`, making it a good second feature. Remember that a correlation matrix is not helpful if predictive signals are encoded in combinations of features."
   ]
  },
  {
   "cell_type": "markdown",
   "id": "893a02dd",
   "metadata": {},
   "source": [
    "# Validate Input Data against Data Schema"
   ]
  },
  {
   "cell_type": "markdown",
   "id": "e71513b3",
   "metadata": {},
   "source": [
    "Before processing your data, you should validate the data against a data schema as described in [Data and Feature Debugging](https://developers.google.com/machine-learning/testing-debugging/common/data-errors).\n",
    "\n",
    "First, define a function that validates data against a schema."
   ]
  },
  {
   "cell_type": "code",
   "execution_count": 5,
   "id": "5485344f",
   "metadata": {},
   "outputs": [],
   "source": [
    "# Define function to validate data\n",
    "def test_data_schema(input_data, schema):\n",
    "    \"\"\"Tests that the datatypes and ranges of values in the dataset\n",
    "        adhere to expectations.\n",
    "\n",
    "        Args:\n",
    "          input_function: Dataframe containing data to test\n",
    "          schema: Schema which describes the properties of the data.\n",
    "    \"\"\"\n",
    "    def test_dtypes():\n",
    "        for column in schema.keys():\n",
    "            assert input_data[column].map(type).eq(schema[column]['dtype']).all(),(\n",
    "                'Incorrect dtype in column \"%s\",' %column)\n",
    "        print('Input dtypes are correct')\n",
    "        \n",
    "    def test_ranges():\n",
    "        for column in schema.keys():\n",
    "            schema_max = schema[column]['range']['max']\n",
    "            schema_min = schema[column]['range']['min']\n",
    "            # Assert that data falls between schema min and max.\n",
    "            assert input_data[column].max() <= schema_max, (\n",
    "            \"Maximum value of column '%s' is too low.\" %column)\n",
    "            assert input_data[column].min() >= schema_min, (\n",
    "            \"Minimum value of column '%s' is too high.\" %column)\n",
    "        print('Data falls within specified ranges')\n",
    "    \n",
    "    test_dtypes()\n",
    "    test_ranges()"
   ]
  },
  {
   "cell_type": "code",
   "execution_count": 6,
   "id": "725d29c0",
   "metadata": {},
   "outputs": [
    {
     "data": {
      "text/html": [
       "<div>\n",
       "<style scoped>\n",
       "    .dataframe tbody tr th:only-of-type {\n",
       "        vertical-align: middle;\n",
       "    }\n",
       "\n",
       "    .dataframe tbody tr th {\n",
       "        vertical-align: top;\n",
       "    }\n",
       "\n",
       "    .dataframe thead th {\n",
       "        text-align: right;\n",
       "    }\n",
       "</style>\n",
       "<table border=\"1\" class=\"dataframe\">\n",
       "  <thead>\n",
       "    <tr style=\"text-align: right;\">\n",
       "      <th></th>\n",
       "      <th>fixed acidity</th>\n",
       "      <th>volatile acidity</th>\n",
       "      <th>citric acid</th>\n",
       "      <th>residual sugar</th>\n",
       "      <th>chlorides</th>\n",
       "      <th>free sulfur dioxide</th>\n",
       "      <th>total sulfur dioxide</th>\n",
       "      <th>density</th>\n",
       "      <th>pH</th>\n",
       "      <th>sulphates</th>\n",
       "      <th>alcohol</th>\n",
       "      <th>quality</th>\n",
       "    </tr>\n",
       "  </thead>\n",
       "  <tbody>\n",
       "    <tr>\n",
       "      <th>count</th>\n",
       "      <td>6497.00</td>\n",
       "      <td>6497.00</td>\n",
       "      <td>6497.00</td>\n",
       "      <td>6497.00</td>\n",
       "      <td>6497.00</td>\n",
       "      <td>6497.00</td>\n",
       "      <td>6497.00</td>\n",
       "      <td>6497.00</td>\n",
       "      <td>6497.00</td>\n",
       "      <td>6497.00</td>\n",
       "      <td>6497.00</td>\n",
       "      <td>6497.00</td>\n",
       "    </tr>\n",
       "    <tr>\n",
       "      <th>mean</th>\n",
       "      <td>7.22</td>\n",
       "      <td>0.34</td>\n",
       "      <td>0.32</td>\n",
       "      <td>5.44</td>\n",
       "      <td>0.06</td>\n",
       "      <td>30.53</td>\n",
       "      <td>115.74</td>\n",
       "      <td>0.99</td>\n",
       "      <td>3.22</td>\n",
       "      <td>0.53</td>\n",
       "      <td>10.49</td>\n",
       "      <td>5.82</td>\n",
       "    </tr>\n",
       "    <tr>\n",
       "      <th>std</th>\n",
       "      <td>1.30</td>\n",
       "      <td>0.16</td>\n",
       "      <td>0.15</td>\n",
       "      <td>4.76</td>\n",
       "      <td>0.04</td>\n",
       "      <td>17.75</td>\n",
       "      <td>56.52</td>\n",
       "      <td>0.00</td>\n",
       "      <td>0.16</td>\n",
       "      <td>0.15</td>\n",
       "      <td>1.19</td>\n",
       "      <td>0.87</td>\n",
       "    </tr>\n",
       "    <tr>\n",
       "      <th>min</th>\n",
       "      <td>3.80</td>\n",
       "      <td>0.08</td>\n",
       "      <td>0.00</td>\n",
       "      <td>0.60</td>\n",
       "      <td>0.01</td>\n",
       "      <td>1.00</td>\n",
       "      <td>6.00</td>\n",
       "      <td>0.99</td>\n",
       "      <td>2.72</td>\n",
       "      <td>0.22</td>\n",
       "      <td>8.00</td>\n",
       "      <td>3.00</td>\n",
       "    </tr>\n",
       "    <tr>\n",
       "      <th>25%</th>\n",
       "      <td>6.40</td>\n",
       "      <td>0.23</td>\n",
       "      <td>0.25</td>\n",
       "      <td>1.80</td>\n",
       "      <td>0.04</td>\n",
       "      <td>17.00</td>\n",
       "      <td>77.00</td>\n",
       "      <td>0.99</td>\n",
       "      <td>3.11</td>\n",
       "      <td>0.43</td>\n",
       "      <td>9.50</td>\n",
       "      <td>5.00</td>\n",
       "    </tr>\n",
       "    <tr>\n",
       "      <th>50%</th>\n",
       "      <td>7.00</td>\n",
       "      <td>0.29</td>\n",
       "      <td>0.31</td>\n",
       "      <td>3.00</td>\n",
       "      <td>0.05</td>\n",
       "      <td>29.00</td>\n",
       "      <td>118.00</td>\n",
       "      <td>0.99</td>\n",
       "      <td>3.21</td>\n",
       "      <td>0.51</td>\n",
       "      <td>10.30</td>\n",
       "      <td>6.00</td>\n",
       "    </tr>\n",
       "    <tr>\n",
       "      <th>75%</th>\n",
       "      <td>7.70</td>\n",
       "      <td>0.40</td>\n",
       "      <td>0.39</td>\n",
       "      <td>8.10</td>\n",
       "      <td>0.07</td>\n",
       "      <td>41.00</td>\n",
       "      <td>156.00</td>\n",
       "      <td>1.00</td>\n",
       "      <td>3.32</td>\n",
       "      <td>0.60</td>\n",
       "      <td>11.30</td>\n",
       "      <td>6.00</td>\n",
       "    </tr>\n",
       "    <tr>\n",
       "      <th>max</th>\n",
       "      <td>15.90</td>\n",
       "      <td>1.58</td>\n",
       "      <td>1.66</td>\n",
       "      <td>65.80</td>\n",
       "      <td>0.61</td>\n",
       "      <td>289.00</td>\n",
       "      <td>440.00</td>\n",
       "      <td>1.04</td>\n",
       "      <td>4.01</td>\n",
       "      <td>2.00</td>\n",
       "      <td>14.90</td>\n",
       "      <td>9.00</td>\n",
       "    </tr>\n",
       "  </tbody>\n",
       "</table>\n",
       "</div>"
      ],
      "text/plain": [
       "       fixed acidity  volatile acidity  citric acid  residual sugar  \\\n",
       "count        6497.00           6497.00      6497.00         6497.00   \n",
       "mean            7.22              0.34         0.32            5.44   \n",
       "std             1.30              0.16         0.15            4.76   \n",
       "min             3.80              0.08         0.00            0.60   \n",
       "25%             6.40              0.23         0.25            1.80   \n",
       "50%             7.00              0.29         0.31            3.00   \n",
       "75%             7.70              0.40         0.39            8.10   \n",
       "max            15.90              1.58         1.66           65.80   \n",
       "\n",
       "       chlorides  free sulfur dioxide  total sulfur dioxide  density      pH  \\\n",
       "count    6497.00              6497.00               6497.00  6497.00 6497.00   \n",
       "mean        0.06                30.53                115.74     0.99    3.22   \n",
       "std         0.04                17.75                 56.52     0.00    0.16   \n",
       "min         0.01                 1.00                  6.00     0.99    2.72   \n",
       "25%         0.04                17.00                 77.00     0.99    3.11   \n",
       "50%         0.05                29.00                118.00     0.99    3.21   \n",
       "75%         0.07                41.00                156.00     1.00    3.32   \n",
       "max         0.61               289.00                440.00     1.04    4.01   \n",
       "\n",
       "       sulphates  alcohol  quality  \n",
       "count    6497.00  6497.00  6497.00  \n",
       "mean        0.53    10.49     5.82  \n",
       "std         0.15     1.19     0.87  \n",
       "min         0.22     8.00     3.00  \n",
       "25%         0.43     9.50     5.00  \n",
       "50%         0.51    10.30     6.00  \n",
       "75%         0.60    11.30     6.00  \n",
       "max         2.00    14.90     9.00  "
      ]
     },
     "execution_count": 6,
     "metadata": {},
     "output_type": "execute_result"
    }
   ],
   "source": [
    "wineDf.describe()"
   ]
  },
  {
   "cell_type": "markdown",
   "id": "7a9d2e1b",
   "metadata": {},
   "source": [
    "Using the statistics generated above, define the data schema in the following code cell. For demonstration purposes, restrict your data schema to the first three data columns. For each data column, enter the:\n",
    "\n",
    " * minimum value\n",
    " * maximum value\n",
    " * data type\n",
    "\n",
    "As an example, the values for the first column are filled out. After entering the values, run the code cell to confirm that your input data matches the schema."
   ]
  },
  {
   "cell_type": "code",
   "execution_count": 7,
   "id": "87455f4a",
   "metadata": {},
   "outputs": [
    {
     "name": "stdout",
     "output_type": "stream",
     "text": [
      "Validating wine data against data schema...\n",
      "Input dtypes are correct\n",
      "Data falls within specified ranges\n"
     ]
    }
   ],
   "source": [
    "wine_schema = {\n",
    "    'fixed acidity': {\n",
    "        'range': {\n",
    "            'min': 3.8,\n",
    "            'max': 15.9\n",
    "        },\n",
    "        'dtype': float,\n",
    "    },\n",
    "    'volatile acidity': {\n",
    "        'range': {\n",
    "            'min': 0.08,\n",
    "            'max': 1.58\n",
    "        },\n",
    "        'dtype': float,\n",
    "    },\n",
    "    'citric acid': {\n",
    "        'range':{\n",
    "            'min': 0.,\n",
    "            'max': 1.66\n",
    "        },\n",
    "        'dtype': float\n",
    "    }\n",
    "}\n",
    "\n",
    "print('Validating wine data against data schema...')\n",
    "test_data_schema(wineDf, wine_schema)"
   ]
  },
  {
   "cell_type": "code",
   "execution_count": 8,
   "id": "6bee110b",
   "metadata": {},
   "outputs": [
    {
     "name": "stdout",
     "output_type": "stream",
     "text": [
      "<class 'pandas.core.frame.DataFrame'>\n",
      "RangeIndex: 6497 entries, 0 to 6496\n",
      "Data columns (total 12 columns):\n",
      " #   Column                Non-Null Count  Dtype  \n",
      "---  ------                --------------  -----  \n",
      " 0   fixed acidity         6497 non-null   float64\n",
      " 1   volatile acidity      6497 non-null   float64\n",
      " 2   citric acid           6497 non-null   float64\n",
      " 3   residual sugar        6497 non-null   float64\n",
      " 4   chlorides             6497 non-null   float64\n",
      " 5   free sulfur dioxide   6497 non-null   float64\n",
      " 6   total sulfur dioxide  6497 non-null   float64\n",
      " 7   density               6497 non-null   float64\n",
      " 8   pH                    6497 non-null   float64\n",
      " 9   sulphates             6497 non-null   float64\n",
      " 10  alcohol               6497 non-null   float64\n",
      " 11  quality               6497 non-null   int64  \n",
      "dtypes: float64(11), int64(1)\n",
      "memory usage: 609.2 KB\n"
     ]
    }
   ],
   "source": [
    "wineDf.info()"
   ]
  },
  {
   "cell_type": "markdown",
   "id": "0cf91260",
   "metadata": {},
   "source": [
    "# Split and Normalize Data"
   ]
  },
  {
   "cell_type": "markdown",
   "id": "6d3e14ee",
   "metadata": {},
   "source": [
    "Split the dataset into data and labels."
   ]
  },
  {
   "cell_type": "code",
   "execution_count": 9,
   "id": "2db3bb7f",
   "metadata": {},
   "outputs": [],
   "source": [
    "'''\n",
    "wineFeatures = wineDf.copy(deep=True)\n",
    "wineFeatures.drop(columns='quality', inplace=True)\n",
    "wineLabels = wineDf['quality'].copy(deep=True)\n",
    "'''\n",
    "wineFeatures = wineDf.copy(deep=True)\n",
    "wineLabels = wineFeatures.pop('quality')"
   ]
  },
  {
   "cell_type": "markdown",
   "id": "7aeb78d2",
   "metadata": {},
   "source": [
    "Normalize data using z-score."
   ]
  },
  {
   "cell_type": "code",
   "execution_count": 10,
   "id": "e7eab6a5",
   "metadata": {},
   "outputs": [],
   "source": [
    "def normalizeData(arr):\n",
    "    stdArr = np.std(arr)\n",
    "    meanArr = np.mean(arr)\n",
    "    arr = (arr-meanArr)/stdArr\n",
    "    return arr\n",
    "\n",
    "for str1 in wineFeatures.columns:\n",
    "    wineFeatures[str1] = normalizeData(wineFeatures[str1])"
   ]
  },
  {
   "cell_type": "code",
   "execution_count": 11,
   "id": "b0c19abf",
   "metadata": {},
   "outputs": [
    {
     "data": {
      "text/html": [
       "<div>\n",
       "<style scoped>\n",
       "    .dataframe tbody tr th:only-of-type {\n",
       "        vertical-align: middle;\n",
       "    }\n",
       "\n",
       "    .dataframe tbody tr th {\n",
       "        vertical-align: top;\n",
       "    }\n",
       "\n",
       "    .dataframe thead th {\n",
       "        text-align: right;\n",
       "    }\n",
       "</style>\n",
       "<table border=\"1\" class=\"dataframe\">\n",
       "  <thead>\n",
       "    <tr style=\"text-align: right;\">\n",
       "      <th></th>\n",
       "      <th>fixed acidity</th>\n",
       "      <th>volatile acidity</th>\n",
       "      <th>citric acid</th>\n",
       "      <th>residual sugar</th>\n",
       "      <th>chlorides</th>\n",
       "      <th>free sulfur dioxide</th>\n",
       "      <th>total sulfur dioxide</th>\n",
       "      <th>density</th>\n",
       "      <th>pH</th>\n",
       "      <th>sulphates</th>\n",
       "      <th>alcohol</th>\n",
       "    </tr>\n",
       "  </thead>\n",
       "  <tbody>\n",
       "    <tr>\n",
       "      <th>0</th>\n",
       "      <td>-0.17</td>\n",
       "      <td>-0.42</td>\n",
       "      <td>0.28</td>\n",
       "      <td>3.21</td>\n",
       "      <td>-0.31</td>\n",
       "      <td>0.82</td>\n",
       "      <td>0.96</td>\n",
       "      <td>2.10</td>\n",
       "      <td>-1.36</td>\n",
       "      <td>-0.55</td>\n",
       "      <td>-1.42</td>\n",
       "    </tr>\n",
       "    <tr>\n",
       "      <th>1</th>\n",
       "      <td>-0.71</td>\n",
       "      <td>-0.24</td>\n",
       "      <td>0.15</td>\n",
       "      <td>-0.81</td>\n",
       "      <td>-0.20</td>\n",
       "      <td>-0.93</td>\n",
       "      <td>0.29</td>\n",
       "      <td>-0.23</td>\n",
       "      <td>0.51</td>\n",
       "      <td>-0.28</td>\n",
       "      <td>-0.83</td>\n",
       "    </tr>\n",
       "    <tr>\n",
       "      <th>2</th>\n",
       "      <td>0.68</td>\n",
       "      <td>-0.36</td>\n",
       "      <td>0.56</td>\n",
       "      <td>0.31</td>\n",
       "      <td>-0.17</td>\n",
       "      <td>-0.03</td>\n",
       "      <td>-0.33</td>\n",
       "      <td>0.13</td>\n",
       "      <td>0.26</td>\n",
       "      <td>-0.61</td>\n",
       "      <td>-0.33</td>\n",
       "    </tr>\n",
       "    <tr>\n",
       "      <th>3</th>\n",
       "      <td>-0.01</td>\n",
       "      <td>-0.67</td>\n",
       "      <td>0.01</td>\n",
       "      <td>0.64</td>\n",
       "      <td>0.06</td>\n",
       "      <td>0.93</td>\n",
       "      <td>1.24</td>\n",
       "      <td>0.30</td>\n",
       "      <td>-0.18</td>\n",
       "      <td>-0.88</td>\n",
       "      <td>-0.50</td>\n",
       "    </tr>\n",
       "    <tr>\n",
       "      <th>4</th>\n",
       "      <td>-0.01</td>\n",
       "      <td>-0.67</td>\n",
       "      <td>0.01</td>\n",
       "      <td>0.64</td>\n",
       "      <td>0.06</td>\n",
       "      <td>0.93</td>\n",
       "      <td>1.24</td>\n",
       "      <td>0.30</td>\n",
       "      <td>-0.18</td>\n",
       "      <td>-0.88</td>\n",
       "      <td>-0.50</td>\n",
       "    </tr>\n",
       "  </tbody>\n",
       "</table>\n",
       "</div>"
      ],
      "text/plain": [
       "   fixed acidity  volatile acidity  citric acid  residual sugar  chlorides  \\\n",
       "0          -0.17             -0.42         0.28            3.21      -0.31   \n",
       "1          -0.71             -0.24         0.15           -0.81      -0.20   \n",
       "2           0.68             -0.36         0.56            0.31      -0.17   \n",
       "3          -0.01             -0.67         0.01            0.64       0.06   \n",
       "4          -0.01             -0.67         0.01            0.64       0.06   \n",
       "\n",
       "   free sulfur dioxide  total sulfur dioxide  density    pH  sulphates  \\\n",
       "0                 0.82                  0.96     2.10 -1.36      -0.55   \n",
       "1                -0.93                  0.29    -0.23  0.51      -0.28   \n",
       "2                -0.03                 -0.33     0.13  0.26      -0.61   \n",
       "3                 0.93                  1.24     0.30 -0.18      -0.88   \n",
       "4                 0.93                  1.24     0.30 -0.18      -0.88   \n",
       "\n",
       "   alcohol  \n",
       "0    -1.42  \n",
       "1    -0.83  \n",
       "2    -0.33  \n",
       "3    -0.50  \n",
       "4    -0.50  "
      ]
     },
     "execution_count": 11,
     "metadata": {},
     "output_type": "execute_result"
    }
   ],
   "source": [
    "wineFeatures.head()"
   ]
  },
  {
   "cell_type": "markdown",
   "id": "bc212dd0",
   "metadata": {},
   "source": [
    "# Test Engineered Data\n",
    "After normalizing your data, you should test your engineered data for errors as described in [Data and Feature Debugging](https://developers.google.com/machine-learning/testing-debugging/common/data-errors). In this section, you will test that engineering data:\n",
    "\n",
    "* Has the expected number of rows and columns.\n",
    "* Does not have null values.\n",
    "\n",
    "First, set up the testing functions by running the following code cell:"
   ]
  },
  {
   "cell_type": "code",
   "execution_count": 12,
   "id": "e31b5e35",
   "metadata": {},
   "outputs": [
    {
     "name": "stdout",
     "output_type": "stream",
     "text": [
      "<class 'pandas.core.frame.DataFrame'>\n",
      "RangeIndex: 6497 entries, 0 to 6496\n",
      "Data columns (total 11 columns):\n",
      " #   Column                Non-Null Count  Dtype  \n",
      "---  ------                --------------  -----  \n",
      " 0   fixed acidity         6497 non-null   float64\n",
      " 1   volatile acidity      6497 non-null   float64\n",
      " 2   citric acid           6497 non-null   float64\n",
      " 3   residual sugar        6497 non-null   float64\n",
      " 4   chlorides             6497 non-null   float64\n",
      " 5   free sulfur dioxide   6497 non-null   float64\n",
      " 6   total sulfur dioxide  6497 non-null   float64\n",
      " 7   density               6497 non-null   float64\n",
      " 8   pH                    6497 non-null   float64\n",
      " 9   sulphates             6497 non-null   float64\n",
      " 10  alcohol               6497 non-null   float64\n",
      "dtypes: float64(11)\n",
      "memory usage: 558.5 KB\n"
     ]
    },
    {
     "data": {
      "text/plain": [
       "(None,\n",
       " count   6497.00\n",
       " mean       5.82\n",
       " std        0.87\n",
       " min        3.00\n",
       " 25%        5.00\n",
       " 50%        6.00\n",
       " 75%        6.00\n",
       " max        9.00\n",
       " Name: quality, dtype: float64,\n",
       " 0       True\n",
       " 1       True\n",
       " 2       True\n",
       " 3       True\n",
       " 4       True\n",
       "         ... \n",
       " 6492    True\n",
       " 6493    True\n",
       " 6494    True\n",
       " 6495    True\n",
       " 6496    True\n",
       " Name: quality, Length: 6497, dtype: bool)"
      ]
     },
     "execution_count": 12,
     "metadata": {},
     "output_type": "execute_result"
    }
   ],
   "source": [
    "wineFeatures.info(), wineLabels.describe(), wineLabels.notnull() # find not-null in Series"
   ]
  },
  {
   "cell_type": "code",
   "execution_count": 13,
   "id": "9ebaf2a6",
   "metadata": {},
   "outputs": [],
   "source": [
    "import unittest\n",
    "\n",
    "def test_input_dim(df, n_rows, n_columns):\n",
    "    assert len(df) == n_rows, \"Unexpected number of rows\"\n",
    "    assert len(df.columns) == n_columns, \"Unexpected number of columns\"\n",
    "    print('Engineering data has the expected number of rows and columns.')\n",
    "    \n",
    "def test_nulls(df):\n",
    "    dataNulls = df.isnull().sum().sum()\n",
    "    assert dataNulls == 0, \"Nulls in engineering data\"\n",
    "    print('Engineered features do not contain nulls')"
   ]
  },
  {
   "cell_type": "code",
   "execution_count": 14,
   "id": "1d8ad957",
   "metadata": {},
   "outputs": [
    {
     "data": {
      "text/plain": [
       "fixed acidity           0\n",
       "volatile acidity        0\n",
       "citric acid             0\n",
       "residual sugar          0\n",
       "chlorides               0\n",
       "                       ..\n",
       "total sulfur dioxide    0\n",
       "density                 0\n",
       "pH                      0\n",
       "sulphates               0\n",
       "alcohol                 0\n",
       "Length: 11, dtype: int64"
      ]
     },
     "execution_count": 14,
     "metadata": {},
     "output_type": "execute_result"
    }
   ],
   "source": [
    "wineFeatures.isnull().sum()"
   ]
  },
  {
   "cell_type": "code",
   "execution_count": 15,
   "id": "999e2b40",
   "metadata": {},
   "outputs": [
    {
     "name": "stdout",
     "output_type": "stream",
     "text": [
      "Engineering data has the expected number of rows and columns.\n"
     ]
    }
   ],
   "source": [
    "# Test dimensions of engineered data\n",
    "wine_feature_rows = 6497\n",
    "wine_feature_cols = 11 \n",
    "test_input_dim(wineFeatures,\n",
    "               wine_feature_rows,\n",
    "               wine_feature_cols)"
   ]
  },
  {
   "cell_type": "code",
   "execution_count": 16,
   "id": "de528fe8",
   "metadata": {},
   "outputs": [
    {
     "name": "stdout",
     "output_type": "stream",
     "text": [
      "Engineered features do not contain nulls\n"
     ]
    }
   ],
   "source": [
    "test_nulls(wineFeatures)"
   ]
  },
  {
   "cell_type": "markdown",
   "id": "226bba5d",
   "metadata": {},
   "source": [
    "# Check Splits for Statistical Equivalence\n",
    "\n",
    "As described in the [Data Debugging](https://developers.google.com/machine-learning/testing-debugging/common/data-errors) guidelines, before developing your model, you should check that your training and validation splits are equally representative. Assuming a training:validation split of 80:20, compare the mean and the standard deviation of the splits by running the next two code cells. Note that this comparison is not a rigorous test for statistical equivalence but simply a quick and dirty comparison of the splits."
   ]
  },
  {
   "cell_type": "code",
   "execution_count": 17,
   "id": "6bcdbffc",
   "metadata": {},
   "outputs": [
    {
     "data": {
      "text/plain": [
       "5198"
      ]
     },
     "execution_count": 17,
     "metadata": {},
     "output_type": "execute_result"
    }
   ],
   "source": [
    "int(wineFeatures.shape[0]*8/10 + 0.5)"
   ]
  },
  {
   "cell_type": "code",
   "execution_count": 18,
   "id": "arranged-bonus",
   "metadata": {
    "scrolled": true
   },
   "outputs": [
    {
     "data": {
      "text/html": [
       "<div>\n",
       "<style scoped>\n",
       "    .dataframe tbody tr th:only-of-type {\n",
       "        vertical-align: middle;\n",
       "    }\n",
       "\n",
       "    .dataframe tbody tr th {\n",
       "        vertical-align: top;\n",
       "    }\n",
       "\n",
       "    .dataframe thead th {\n",
       "        text-align: right;\n",
       "    }\n",
       "</style>\n",
       "<table border=\"1\" class=\"dataframe\">\n",
       "  <thead>\n",
       "    <tr style=\"text-align: right;\">\n",
       "      <th></th>\n",
       "      <th>fixed acidity</th>\n",
       "      <th>volatile acidity</th>\n",
       "      <th>citric acid</th>\n",
       "      <th>residual sugar</th>\n",
       "      <th>chlorides</th>\n",
       "      <th>free sulfur dioxide</th>\n",
       "      <th>total sulfur dioxide</th>\n",
       "      <th>density</th>\n",
       "      <th>pH</th>\n",
       "      <th>sulphates</th>\n",
       "      <th>alcohol</th>\n",
       "    </tr>\n",
       "  </thead>\n",
       "  <tbody>\n",
       "    <tr>\n",
       "      <th>count</th>\n",
       "      <td>5198.00</td>\n",
       "      <td>5198.00</td>\n",
       "      <td>5198.00</td>\n",
       "      <td>5198.00</td>\n",
       "      <td>5198.00</td>\n",
       "      <td>5198.00</td>\n",
       "      <td>5198.00</td>\n",
       "      <td>5198.00</td>\n",
       "      <td>5198.00</td>\n",
       "      <td>5198.00</td>\n",
       "      <td>5198.00</td>\n",
       "    </tr>\n",
       "    <tr>\n",
       "      <th>mean</th>\n",
       "      <td>-0.23</td>\n",
       "      <td>-0.28</td>\n",
       "      <td>0.07</td>\n",
       "      <td>0.15</td>\n",
       "      <td>-0.21</td>\n",
       "      <td>0.20</td>\n",
       "      <td>0.32</td>\n",
       "      <td>-0.17</td>\n",
       "      <td>-0.14</td>\n",
       "      <td>-0.20</td>\n",
       "      <td>-0.01</td>\n",
       "    </tr>\n",
       "    <tr>\n",
       "      <th>std</th>\n",
       "      <td>0.72</td>\n",
       "      <td>0.76</td>\n",
       "      <td>0.88</td>\n",
       "      <td>1.05</td>\n",
       "      <td>0.86</td>\n",
       "      <td>0.98</td>\n",
       "      <td>0.82</td>\n",
       "      <td>1.00</td>\n",
       "      <td>0.96</td>\n",
       "      <td>0.90</td>\n",
       "      <td>1.02</td>\n",
       "    </tr>\n",
       "    <tr>\n",
       "      <th>min</th>\n",
       "      <td>-2.63</td>\n",
       "      <td>-1.58</td>\n",
       "      <td>-2.19</td>\n",
       "      <td>-1.02</td>\n",
       "      <td>-1.34</td>\n",
       "      <td>-1.61</td>\n",
       "      <td>-1.91</td>\n",
       "      <td>-2.53</td>\n",
       "      <td>-3.10</td>\n",
       "      <td>-2.09</td>\n",
       "      <td>-2.09</td>\n",
       "    </tr>\n",
       "    <tr>\n",
       "      <th>25%</th>\n",
       "      <td>-0.71</td>\n",
       "      <td>-0.79</td>\n",
       "      <td>-0.40</td>\n",
       "      <td>-0.78</td>\n",
       "      <td>-0.57</td>\n",
       "      <td>-0.48</td>\n",
       "      <td>-0.23</td>\n",
       "      <td>-0.97</td>\n",
       "      <td>-0.80</td>\n",
       "      <td>-0.82</td>\n",
       "      <td>-0.92</td>\n",
       "    </tr>\n",
       "    <tr>\n",
       "      <th>50%</th>\n",
       "      <td>-0.32</td>\n",
       "      <td>-0.42</td>\n",
       "      <td>-0.06</td>\n",
       "      <td>-0.14</td>\n",
       "      <td>-0.34</td>\n",
       "      <td>0.11</td>\n",
       "      <td>0.27</td>\n",
       "      <td>-0.23</td>\n",
       "      <td>-0.24</td>\n",
       "      <td>-0.34</td>\n",
       "      <td>-0.16</td>\n",
       "    </tr>\n",
       "    <tr>\n",
       "      <th>75%</th>\n",
       "      <td>0.14</td>\n",
       "      <td>0.00</td>\n",
       "      <td>0.49</td>\n",
       "      <td>0.85</td>\n",
       "      <td>-0.12</td>\n",
       "      <td>0.82</td>\n",
       "      <td>0.87</td>\n",
       "      <td>0.60</td>\n",
       "      <td>0.44</td>\n",
       "      <td>0.19</td>\n",
       "      <td>0.68</td>\n",
       "    </tr>\n",
       "    <tr>\n",
       "      <th>max</th>\n",
       "      <td>6.01</td>\n",
       "      <td>6.02</td>\n",
       "      <td>9.23</td>\n",
       "      <td>12.69</td>\n",
       "      <td>15.84</td>\n",
       "      <td>14.56</td>\n",
       "      <td>5.74</td>\n",
       "      <td>14.77</td>\n",
       "      <td>4.24</td>\n",
       "      <td>9.87</td>\n",
       "      <td>3.11</td>\n",
       "    </tr>\n",
       "  </tbody>\n",
       "</table>\n",
       "</div>"
      ],
      "text/plain": [
       "       fixed acidity  volatile acidity  citric acid  residual sugar  \\\n",
       "count        5198.00           5198.00      5198.00         5198.00   \n",
       "mean           -0.23             -0.28         0.07            0.15   \n",
       "std             0.72              0.76         0.88            1.05   \n",
       "min            -2.63             -1.58        -2.19           -1.02   \n",
       "25%            -0.71             -0.79        -0.40           -0.78   \n",
       "50%            -0.32             -0.42        -0.06           -0.14   \n",
       "75%             0.14              0.00         0.49            0.85   \n",
       "max             6.01              6.02         9.23           12.69   \n",
       "\n",
       "       chlorides  free sulfur dioxide  total sulfur dioxide  density      pH  \\\n",
       "count    5198.00              5198.00               5198.00  5198.00 5198.00   \n",
       "mean       -0.21                 0.20                  0.32    -0.17   -0.14   \n",
       "std         0.86                 0.98                  0.82     1.00    0.96   \n",
       "min        -1.34                -1.61                 -1.91    -2.53   -3.10   \n",
       "25%        -0.57                -0.48                 -0.23    -0.97   -0.80   \n",
       "50%        -0.34                 0.11                  0.27    -0.23   -0.24   \n",
       "75%        -0.12                 0.82                  0.87     0.60    0.44   \n",
       "max        15.84                14.56                  5.74    14.77    4.24   \n",
       "\n",
       "       sulphates  alcohol  \n",
       "count    5198.00  5198.00  \n",
       "mean       -0.20    -0.01  \n",
       "std         0.90     1.02  \n",
       "min        -2.09    -2.09  \n",
       "25%        -0.82    -0.92  \n",
       "50%        -0.34    -0.16  \n",
       "75%         0.19     0.68  \n",
       "max         9.87     3.11  "
      ]
     },
     "execution_count": 18,
     "metadata": {},
     "output_type": "execute_result"
    }
   ],
   "source": [
    "splitIdx = int(wineFeatures.shape[0]*8/10 + 0.5) # split Idx (capital I)dx == index(Idx)\n",
    "wineFeatures.iloc[:splitIdx].describe()"
   ]
  },
  {
   "cell_type": "code",
   "execution_count": 19,
   "id": "enclosed-smell",
   "metadata": {},
   "outputs": [
    {
     "data": {
      "text/html": [
       "<div>\n",
       "<style scoped>\n",
       "    .dataframe tbody tr th:only-of-type {\n",
       "        vertical-align: middle;\n",
       "    }\n",
       "\n",
       "    .dataframe tbody tr th {\n",
       "        vertical-align: top;\n",
       "    }\n",
       "\n",
       "    .dataframe thead th {\n",
       "        text-align: right;\n",
       "    }\n",
       "</style>\n",
       "<table border=\"1\" class=\"dataframe\">\n",
       "  <thead>\n",
       "    <tr style=\"text-align: right;\">\n",
       "      <th></th>\n",
       "      <th>fixed acidity</th>\n",
       "      <th>volatile acidity</th>\n",
       "      <th>citric acid</th>\n",
       "      <th>residual sugar</th>\n",
       "      <th>chlorides</th>\n",
       "      <th>free sulfur dioxide</th>\n",
       "      <th>total sulfur dioxide</th>\n",
       "      <th>density</th>\n",
       "      <th>pH</th>\n",
       "      <th>sulphates</th>\n",
       "      <th>alcohol</th>\n",
       "    </tr>\n",
       "  </thead>\n",
       "  <tbody>\n",
       "    <tr>\n",
       "      <th>count</th>\n",
       "      <td>1299.00</td>\n",
       "      <td>1299.00</td>\n",
       "      <td>1299.00</td>\n",
       "      <td>1299.00</td>\n",
       "      <td>1299.00</td>\n",
       "      <td>1299.00</td>\n",
       "      <td>1299.00</td>\n",
       "      <td>1299.00</td>\n",
       "      <td>1299.00</td>\n",
       "      <td>1299.00</td>\n",
       "      <td>1299.00</td>\n",
       "    </tr>\n",
       "    <tr>\n",
       "      <th>mean</th>\n",
       "      <td>0.91</td>\n",
       "      <td>1.11</td>\n",
       "      <td>-0.27</td>\n",
       "      <td>-0.61</td>\n",
       "      <td>0.83</td>\n",
       "      <td>-0.82</td>\n",
       "      <td>-1.27</td>\n",
       "      <td>0.67</td>\n",
       "      <td>0.55</td>\n",
       "      <td>0.80</td>\n",
       "      <td>0.05</td>\n",
       "    </tr>\n",
       "    <tr>\n",
       "      <th>std</th>\n",
       "      <td>1.38</td>\n",
       "      <td>1.08</td>\n",
       "      <td>1.34</td>\n",
       "      <td>0.31</td>\n",
       "      <td>1.10</td>\n",
       "      <td>0.61</td>\n",
       "      <td>0.56</td>\n",
       "      <td>0.66</td>\n",
       "      <td>0.96</td>\n",
       "      <td>0.99</td>\n",
       "      <td>0.90</td>\n",
       "    </tr>\n",
       "    <tr>\n",
       "      <th>min</th>\n",
       "      <td>-1.79</td>\n",
       "      <td>-1.33</td>\n",
       "      <td>-2.19</td>\n",
       "      <td>-0.95</td>\n",
       "      <td>-1.26</td>\n",
       "      <td>-1.66</td>\n",
       "      <td>-1.94</td>\n",
       "      <td>-1.54</td>\n",
       "      <td>-2.23</td>\n",
       "      <td>-1.08</td>\n",
       "      <td>-1.75</td>\n",
       "    </tr>\n",
       "    <tr>\n",
       "      <th>25%</th>\n",
       "      <td>-0.09</td>\n",
       "      <td>0.31</td>\n",
       "      <td>-1.50</td>\n",
       "      <td>-0.74</td>\n",
       "      <td>0.37</td>\n",
       "      <td>-1.33</td>\n",
       "      <td>-1.68</td>\n",
       "      <td>0.25</td>\n",
       "      <td>-0.05</td>\n",
       "      <td>0.13</td>\n",
       "      <td>-0.75</td>\n",
       "    </tr>\n",
       "    <tr>\n",
       "      <th>50%</th>\n",
       "      <td>0.61</td>\n",
       "      <td>1.03</td>\n",
       "      <td>-0.33</td>\n",
       "      <td>-0.68</td>\n",
       "      <td>0.66</td>\n",
       "      <td>-0.93</td>\n",
       "      <td>-1.43</td>\n",
       "      <td>0.65</td>\n",
       "      <td>0.51</td>\n",
       "      <td>0.60</td>\n",
       "      <td>-0.08</td>\n",
       "    </tr>\n",
       "    <tr>\n",
       "      <th>75%</th>\n",
       "      <td>1.69</td>\n",
       "      <td>1.81</td>\n",
       "      <td>0.77</td>\n",
       "      <td>-0.60</td>\n",
       "      <td>0.97</td>\n",
       "      <td>-0.48</td>\n",
       "      <td>-1.00</td>\n",
       "      <td>1.07</td>\n",
       "      <td>1.13</td>\n",
       "      <td>1.30</td>\n",
       "      <td>0.68</td>\n",
       "    </tr>\n",
       "    <tr>\n",
       "      <th>max</th>\n",
       "      <td>6.70</td>\n",
       "      <td>7.53</td>\n",
       "      <td>3.24</td>\n",
       "      <td>2.11</td>\n",
       "      <td>10.45</td>\n",
       "      <td>2.34</td>\n",
       "      <td>3.07</td>\n",
       "      <td>3.00</td>\n",
       "      <td>4.92</td>\n",
       "      <td>7.32</td>\n",
       "      <td>3.70</td>\n",
       "    </tr>\n",
       "  </tbody>\n",
       "</table>\n",
       "</div>"
      ],
      "text/plain": [
       "       fixed acidity  volatile acidity  citric acid  residual sugar  \\\n",
       "count        1299.00           1299.00      1299.00         1299.00   \n",
       "mean            0.91              1.11        -0.27           -0.61   \n",
       "std             1.38              1.08         1.34            0.31   \n",
       "min            -1.79             -1.33        -2.19           -0.95   \n",
       "25%            -0.09              0.31        -1.50           -0.74   \n",
       "50%             0.61              1.03        -0.33           -0.68   \n",
       "75%             1.69              1.81         0.77           -0.60   \n",
       "max             6.70              7.53         3.24            2.11   \n",
       "\n",
       "       chlorides  free sulfur dioxide  total sulfur dioxide  density      pH  \\\n",
       "count    1299.00              1299.00               1299.00  1299.00 1299.00   \n",
       "mean        0.83                -0.82                 -1.27     0.67    0.55   \n",
       "std         1.10                 0.61                  0.56     0.66    0.96   \n",
       "min        -1.26                -1.66                 -1.94    -1.54   -2.23   \n",
       "25%         0.37                -1.33                 -1.68     0.25   -0.05   \n",
       "50%         0.66                -0.93                 -1.43     0.65    0.51   \n",
       "75%         0.97                -0.48                 -1.00     1.07    1.13   \n",
       "max        10.45                 2.34                  3.07     3.00    4.92   \n",
       "\n",
       "       sulphates  alcohol  \n",
       "count    1299.00  1299.00  \n",
       "mean        0.80     0.05  \n",
       "std         0.99     0.90  \n",
       "min        -1.08    -1.75  \n",
       "25%         0.13    -0.75  \n",
       "50%         0.60    -0.08  \n",
       "75%         1.30     0.68  \n",
       "max         7.32     3.70  "
      ]
     },
     "execution_count": 19,
     "metadata": {},
     "output_type": "execute_result"
    }
   ],
   "source": [
    "wineFeatures.iloc[splitIdx:].describe() # 20%의 통계"
   ]
  },
  {
   "cell_type": "markdown",
   "id": "choice-layout",
   "metadata": {},
   "source": [
    "80% 데이터 결과와 20% 데이터 결과의 각 column의  <span style='color:red'>평균, 표준편차의 차이가 크게 나타남.</span> <br>\n",
    "The two splits are clearly not equally representative. To make the splits equally representative, you can shuffle the data.\n",
    "\n",
    "Run the following code cell to shuffle the data, and then recreate the features and labels from the shuffled data."
   ]
  },
  {
   "cell_type": "code",
   "execution_count": 20,
   "id": "yellow-residence",
   "metadata": {},
   "outputs": [],
   "source": [
    "# Shuffle data\n",
    "wineDf = wineDf.sample(frac=1)\n",
    "wineDf.reset_index(drop=True) # index numbering을 0부터 재 부여. drop=True: 기존 index number를 delete\n",
    "# Recreate feature and labels\n",
    "wineFeatures = wineDf.copy(deep=True)\n",
    "wineLabels = wineFeatures.pop('quality')"
   ]
  },
  {
   "cell_type": "markdown",
   "id": "liable-tuition",
   "metadata": {},
   "source": [
    "# Establish a Baseline\n",
    "For a regression problem, the simplest baseline to predict the average value. Run the following code to calculate the mean-squared error (MSE) loss on the training split using the average value as a baseline. Your loss is approximately 0.75. Any model should beat this loss to justify its use."
   ]
  },
  {
   "cell_type": "code",
   "execution_count": 21,
   "id": "annual-governor",
   "metadata": {},
   "outputs": [
    {
     "name": "stdout",
     "output_type": "stream",
     "text": [
      "0.777129074564891\n"
     ]
    }
   ],
   "source": [
    "baselineMSE = np.square(wineLabels[0:splitIdx] - np.mean(wineLabels[0:splitIdx]))\n",
    "baselineMSE = np.sum(baselineMSE)/len(baselineMSE)\n",
    "print(baselineMSE)"
   ]
  },
  {
   "cell_type": "markdown",
   "id": "bored-roads",
   "metadata": {},
   "source": [
    "# Linear Model (use only one feature column to start!)\n",
    "\n",
    "Following good ML dev practice, let's start with a linear model that uses the most informative feature from the correlation matrix: `alcohol`. Even if this model performs badly, we can still use it as a baseline. This model should beat our previous baseline's MSE of 0.75."
   ]
  },
  {
   "cell_type": "markdown",
   "id": "amber-evolution",
   "metadata": {},
   "source": [
    "First, let's define a function to plot our loss and accuracy curves. The function will also print the final loss and accuracy. Instead of using `verbose=1`, you can call the function."
   ]
  },
  {
   "cell_type": "code",
   "execution_count": 22,
   "id": "moving-wilderness",
   "metadata": {},
   "outputs": [],
   "source": [
    "def showRegressionResults(trainHistory):\n",
    "    # Print final loss\n",
    "    print('Final training loss:' + str(trainHistory.history['loss'][-1]))\n",
    "    print('Final validation loss:' + str(trainHistory.history['val_loss'][-1])) \n",
    "    plt.figure(figsize=(8,5))\n",
    "    loss = trainHistory.history['loss']\n",
    "    val_loss = trainHistory.history['val_loss']\n",
    "    epochs = trainHistory.epoch\n",
    "    plt.plot(epochs, loss, '-ro')\n",
    "    plt.plot(epochs, val_loss, ':b+')\n",
    "    plt.legend(['Training loss', 'Validation loss'], loc='best')\n",
    "    plt.title('Loss Curves')"
   ]
  },
  {
   "cell_type": "markdown",
   "id": "illegal-hydrogen",
   "metadata": {},
   "source": [
    "For fast prototyping, let's try using a full batch per epoch to update the gradient only once per  epoch. Use the full batch by setting `batch_size = wineFeatures.shape[0]` as indicated by the code comment."
   ]
  },
  {
   "cell_type": "code",
   "execution_count": 23,
   "id": "sixth-exercise",
   "metadata": {},
   "outputs": [
    {
     "name": "stdout",
     "output_type": "stream",
     "text": [
      "Final training loss:8.161182403564453\n",
      "Final validation loss:7.8668131828308105\n"
     ]
    },
    {
     "data": {
      "image/png": "[encoded data removed]",
      "text/plain": [
       "<Figure size 576x360 with 1 Axes>"
      ]
     },
     "metadata": {
      "needs_background": "light"
     },
     "output_type": "display_data"
    }
   ],
   "source": [
    "wineFeatureSelected = wineFeatures['alcohol']\n",
    "\n",
    "model = None\n",
    "\n",
    "model = tf.keras.models.Sequential()\n",
    "model.add(tf.keras.layers.Dense(units=1, activation='linear', input_dim=1))\n",
    "model.compile(loss='mse', optimizer=tf.keras.optimizers.Adam(learning_rate=0.01))\n",
    "trainHistory = model.fit(wineFeatureSelected, wineLabels, batch_size=len(wineLabels), epochs=50, \n",
    "                        validation_split=0.2, verbose=0)\n",
    "\n",
    "showRegressionResults(trainHistory)"
   ]
  },
  {
   "cell_type": "markdown",
   "id": "pressing-infection",
   "metadata": {},
   "source": [
    "The loss decreases but very slowly. Possible fixes are:\n",
    "\n",
    "* Increase number of epochs.\n",
    "* Increase learning rate.\n",
    "* Decrease batch size. A lower batch size can result in larger decrease in loss per epoch, under the assumption that the smaller batches stay representative of the overall data distribution.\n",
    "\n",
    "Play with these three parameters in the code above to decrease the loss."
   ]
  },
  {
   "cell_type": "code",
   "execution_count": 24,
   "id": "artificial-republican",
   "metadata": {},
   "outputs": [
    {
     "name": "stdout",
     "output_type": "stream",
     "text": [
      "Final training loss:0.6503302454948425\n",
      "Final validation loss:0.5999253392219543\n"
     ]
    },
    {
     "data": {
      "image/png": "[encoded data removed]",
      "text/plain": [
       "<Figure size 576x360 with 1 Axes>"
      ]
     },
     "metadata": {
      "needs_background": "light"
     },
     "output_type": "display_data"
    }
   ],
   "source": [
    "# just change batch_size to 100\n",
    "wineFeatureSelected = wineFeatures['alcohol']\n",
    "\n",
    "model = None\n",
    "\n",
    "model = tf.keras.models.Sequential()\n",
    "model.add(tf.keras.layers.Dense(units=1, activation='linear', input_dim=1))\n",
    "model.compile(loss='mse', optimizer=tf.keras.optimizers.Adam(learning_rate=0.01))\n",
    "trainHistory = model.fit(wineFeatureSelected, wineLabels, batch_size=100, epochs=20, \n",
    "                        validation_split=0.2, verbose=0)\n",
    "\n",
    "showRegressionResults(trainHistory)"
   ]
  },
  {
   "cell_type": "markdown",
   "id": "announced-doubt",
   "metadata": {},
   "source": [
    "Run the following code cell to train the model using a <span style='color:red'>reduced batch size of 100</span>. Reducing the batch size leads to a greater decrease in loss per epoch. The minimum achievable loss is about <span style='color:red'>0.64. This is a significant increase over our baseline of 0.75.</span>"
   ]
  },
  {
   "cell_type": "markdown",
   "id": "ignored-cowboy",
   "metadata": {},
   "source": [
    "# Add Feature to Linear Model\n",
    "\n",
    "Try adding a feature to the linear model. Since you need to combine the two features into one prediction for regression, you'll also need to add a second layer. Modify the code below to implement the following changes:\n",
    "\n",
    "1. Add `'volatile acidity'` to the features in `wineFeaturesSimple`.\n",
    "1. Add a second linear layer with 1 unit.\n",
    "1. Experiment with learning rate, epochs, and batch_size to try to reduce loss.\n",
    "\n",
    "What happens to your loss?"
   ]
  },
  {
   "cell_type": "code",
   "execution_count": 25,
   "id": "committed-thing",
   "metadata": {},
   "outputs": [
    {
     "name": "stdout",
     "output_type": "stream",
     "text": [
      "Final training loss:0.579509437084198\n",
      "Final validation loss:0.5397416353225708\n"
     ]
    },
    {
     "data": {
      "image/png": "[encoded data removed]",
      "text/plain": [
       "<Figure size 576x360 with 1 Axes>"
      ]
     },
     "metadata": {
      "needs_background": "light"
     },
     "output_type": "display_data"
    }
   ],
   "source": [
    "# add one more feature\n",
    "wineFeatureSelected = wineFeatures[['alcohol', 'volatile acidity']]\n",
    "in_dim = wineFeatureSelected.shape[1]\n",
    "n_node = in_dim # 처음에는 layer node 수는 특성열 갯수와 동일하게 시작. 후에 결과를 보면서 조정\n",
    "\n",
    "model = None\n",
    "\n",
    "model = tf.keras.models.Sequential()\n",
    "model.add(tf.keras.layers.Dense(units=n_node, activation='linear', input_dim=in_dim))\n",
    "model.add(tf.keras.layers.Dense(1, activation='linear'))\n",
    "model.compile(loss='mse', optimizer=tf.keras.optimizers.Adam(learning_rate=0.01))\n",
    "trainHistory = model.fit(wineFeatureSelected, wineLabels, \n",
    "                         batch_size=100, epochs=20, validation_split=0.2, verbose=0)\n",
    "\n",
    "showRegressionResults(trainHistory)"
   ]
  },
  {
   "cell_type": "markdown",
   "id": "palestinian-cement",
   "metadata": {},
   "source": [
    "# Use a Nonlinear Model\n",
    "\n",
    "Let's try a nonlinear model. Modify the code below to make the following changes:\n",
    "\n",
    "1. Change the first layer to use `relu`. (<span style='color:red'>Output layer stays linear since this is a regression problem.</span>)\n",
    "1. As usual, specify the learning rate, epochs, and batch_size.\n",
    "\n",
    "Run the cell. Does the loss increase, decrease, or stay the same?"
   ]
  },
  {
   "cell_type": "code",
   "execution_count": 26,
   "id": "parental-fitness",
   "metadata": {},
   "outputs": [
    {
     "name": "stdout",
     "output_type": "stream",
     "text": [
      "Final training loss:0.6151139140129089\n",
      "Final validation loss:0.5747257471084595\n"
     ]
    },
    {
     "data": {
      "image/png": "[encoded data removed]",
      "text/plain": [
       "<Figure size 576x360 with 1 Axes>"
      ]
     },
     "metadata": {
      "needs_background": "light"
     },
     "output_type": "display_data"
    }
   ],
   "source": [
    "# change activation \n",
    "wineFeatureSelected = wineFeatures[['alcohol', 'volatile acidity']]\n",
    "in_dim = wineFeatureSelected.shape[1]\n",
    "n_node = in_dim # 처음에는 layer node 수는 특성열 갯수와 동일하게 시작. 후에 결과를 보면서 조정\n",
    "\n",
    "model = None\n",
    "\n",
    "model = tf.keras.models.Sequential()\n",
    "model.add(tf.keras.layers.Dense(units=n_node, activation='relu', input_dim=in_dim))\n",
    "model.add(tf.keras.layers.Dense(1, activation='linear'))\n",
    "model.compile(loss='mse', optimizer=tf.keras.optimizers.Adam(learning_rate=0.01))\n",
    "trainHistory = model.fit(wineFeatureSelected, wineLabels, \n",
    "                         batch_size=100, epochs=20, validation_split=0.2, verbose=0)\n",
    "\n",
    "showRegressionResults(trainHistory)"
   ]
  },
  {
   "cell_type": "markdown",
   "id": "loved-hands",
   "metadata": {},
   "source": [
    "# Optimize Your Model\n",
    "\n",
    "We have two features with one hidden layer but didn't see an improvement. At this point, it's tempting to use all your features with a high-capacity network. However, you must resist the temptation. Instead, follow the guidance in [Model Optimization](https://developers.google.com/machine-learning/testing-debugging/common/optimization) to improve model performance. For a hint and for a discussion, see the following text sections."
   ]
  },
  {
   "cell_type": "code",
   "execution_count": 27,
   "id": "collect-identification",
   "metadata": {},
   "outputs": [
    {
     "name": "stdout",
     "output_type": "stream",
     "text": [
      "Final training loss:0.5743517875671387\n",
      "Final validation loss:0.5318405628204346\n"
     ]
    },
    {
     "data": {
      "image/png": "[encoded data removed]",
      "text/plain": [
       "<Figure size 576x360 with 1 Axes>"
      ]
     },
     "metadata": {
      "needs_background": "light"
     },
     "output_type": "display_data"
    }
   ],
   "source": [
    "# add one more feature\n",
    "wineFeatureSelected = wineFeatures[['alcohol', 'volatile acidity', 'density', 'chlorides']]\n",
    "in_dim = wineFeatureSelected.shape[1]\n",
    "n_node = in_dim # 처음에는 layer node 수는 특성열 갯수와 동일하게 시작. 후에 결과를 보면서 조정\n",
    "\n",
    "model = None\n",
    "\n",
    "model = tf.keras.models.Sequential()\n",
    "model.add(tf.keras.layers.Dense(units=n_node, activation='relu', input_dim=in_dim))\n",
    "model.add(tf.keras.layers.Dense(1, activation='linear'))\n",
    "model.compile(loss='mse', optimizer=tf.keras.optimizers.Adam())\n",
    "trainHistory = model.fit(wineFeatureSelected, wineLabels, \n",
    "                         batch_size=100, epochs=300, validation_split=0.2, verbose=0)\n",
    "\n",
    "showRegressionResults(trainHistory)"
   ]
  },
  {
   "cell_type": "markdown",
   "id": "absolute-louis",
   "metadata": {},
   "source": [
    "Your loss reduces to about 0.56. That's a minor improvement over the previous loss of 0.58. It seems that adding more features or capacity isn't improving your model by much. Perhaps your model has a bug? In the next section, you will run a sanity check on your model."
   ]
  },
  {
   "cell_type": "markdown",
   "id": "weekly-minority",
   "metadata": {},
   "source": [
    "# Check for Implementation Bugs using Reduced Dataset\n",
    "\n",
    "Your loss isn't decreasing by much. Perhaps your model has an implementation bug. From the [Model Debugging](https://developers.google.com/machine-learning/testing-debugging/common/model-errors) guidelines, a quick test for implementation bugs is to obtain a low loss on a reduced dataset of, say, 10 examples. Remember, passing this test does not validate your modeling approach but only checks for basic implementation bugs. In your ML problem, if your model passes this test, then continue debugging your model to train on your full dataset.\n",
    "\n",
    "In the following code, experiment with the learning rate, batch size, and number of epochs. Can you reach a low loss? Choose hyperparameter values that let you iterate quickly."
   ]
  },
  {
   "cell_type": "code",
   "execution_count": 30,
   "id": "stuck-toddler",
   "metadata": {},
   "outputs": [
    {
     "name": "stdout",
     "output_type": "stream",
     "text": [
      "Final training loss:0.3575061857700348\n",
      "Final validation loss:0.9661902189254761\n"
     ]
    },
    {
     "data": {
      "image/png": "[encoded data removed]",
      "text/plain": [
       "<Figure size 576x360 with 1 Axes>"
      ]
     },
     "metadata": {
      "needs_background": "light"
     },
     "output_type": "display_data"
    }
   ],
   "source": [
    "# use small number of samples say 10 examples \n",
    "wineFeatureSelected = wineFeatures.iloc[0:10]\n",
    "# wineFeatureSelected = wineFeatureSelected[['alcohol', 'volatile acidity', 'density', 'chlorides']]\n",
    "wineLabelSelected = wineLabels[0:10]\n",
    "in_dim = wineFeatureSelected.shape[1]\n",
    "n_node = in_dim # 처음에는 layer node 수는 특성열 갯수와 동일하게 시작. 후에 결과를 보면서 조정\n",
    "\n",
    "model = None\n",
    "\n",
    "model = tf.keras.models.Sequential()\n",
    "model.add(tf.keras.layers.Dense(units=n_node, activation='relu', input_dim=in_dim))\n",
    "model.add(tf.keras.layers.Dense(units=n_node, activation='relu'))\n",
    "model.add(tf.keras.layers.Dense(1, activation='linear'))\n",
    "model.compile(loss='mse', optimizer=tf.keras.optimizers.Adam(0.01))\n",
    "trainHistory = model.fit(wineFeatureSelected, wineLabelSelected, \n",
    "                         batch_size=10, epochs=200, validation_split=0.2, verbose=0)\n",
    "\n",
    "showRegressionResults(trainHistory)"
   ]
  },
  {
   "cell_type": "markdown",
   "id": "thrown-intent",
   "metadata": {},
   "source": [
    "# Trying a Very Complex Model\n",
    "Let's go all in and use a very complex model with all the features. For science! And to satisfy ourselves that a simple model is indeed better. Let's use all 11 features with 3 fully-connected relu layers and a final linear layer. The next cell takes a while to run. Skip to the results in the cell after if you like."
   ]
  },
  {
   "cell_type": "code",
   "execution_count": 29,
   "id": "going-premiere",
   "metadata": {},
   "outputs": [
    {
     "name": "stdout",
     "output_type": "stream",
     "text": [
      "Final training loss:0.5539884567260742\n",
      "Final validation loss:0.6087650656700134\n"
     ]
    },
    {
     "data": {
      "text/plain": [
       "(0.4, 1.0)"
      ]
     },
     "execution_count": 29,
     "metadata": {},
     "output_type": "execute_result"
    },
    {
     "data": {
      "image/png": "[encoded data removed]",
      "text/plain": [
       "<Figure size 576x360 with 1 Axes>"
      ]
     },
     "metadata": {
      "needs_background": "light"
     },
     "output_type": "display_data"
    }
   ],
   "source": [
    "in_dim = wineFeatures.shape[1]\n",
    "n_node = in_dim # 처음에는 layer node 수는 특성열 갯수와 동일하게 시작. 후에 결과를 보면서 조정\n",
    "\n",
    "model = None\n",
    "\n",
    "model = tf.keras.models.Sequential()\n",
    "model.add(tf.keras.layers.Dense(units=n_node, activation='relu', input_dim=in_dim))\n",
    "model.add(tf.keras.layers.Dense(units=n_node, activation='relu'))\n",
    "model.add(tf.keras.layers.Dense(units=n_node, activation='relu'))\n",
    "model.add(tf.keras.layers.Dense(1, activation='linear'))\n",
    "model.compile(loss='mse', optimizer=tf.keras.optimizers.Adam())\n",
    "trainHistory = model.fit(wineFeatures, wineLabels, \n",
    "                         batch_size=100, epochs=100, validation_split=0.2, verbose=0)\n",
    "\n",
    "showRegressionResults(trainHistory)\n",
    "plt.ylim(0.4,1)"
   ]
  },
  {
   "cell_type": "code",
   "execution_count": null,
   "id": "helpful-toilet",
   "metadata": {},
   "outputs": [],
   "source": []
  }
 ],
 "metadata": {
  "kernelspec": {
   "display_name": "Python 3 (ipykernel)",
   "language": "python",
   "name": "python3"
  },
  "language_info": {
   "codemirror_mode": {
    "name": "ipython",
    "version": 3
   },
   "file_extension": ".py",
   "mimetype": "text/x-python",
   "name": "python",
   "nbconvert_exporter": "python",
   "pygments_lexer": "ipython3",
   "version": "3.9.1"
  }
 },
 "nbformat": 4,
 "nbformat_minor": 5
}
