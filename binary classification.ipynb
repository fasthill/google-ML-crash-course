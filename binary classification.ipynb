{
 "cells": [
  {
   "cell_type": "code",
   "execution_count": 1,
   "id": "presidential-examination",
   "metadata": {},
   "outputs": [],
   "source": [
    "import numpy as np\n",
    "import pandas as pd\n",
    "import matplotlib.pyplot as plt\n",
    "\n",
    "import tensorflow as tf\n",
    "from tensorflow.keras import layers"
   ]
  },
  {
   "cell_type": "code",
   "execution_count": 2,
   "id": "instant-poster",
   "metadata": {},
   "outputs": [
    {
     "name": "stdout",
     "output_type": "stream",
     "text": [
      "Ran the import statements.\n"
     ]
    }
   ],
   "source": [
    "pd.options.display.max_rows = 10\n",
    "pd.options.display.float_format = '{:.1f}'.format\n",
    "tf.keras.backend.set_floatx('float32')\n",
    "print(\"Ran the import statements.\")"
   ]
  },
  {
   "cell_type": "code",
   "execution_count": 3,
   "id": "bronze-thirty",
   "metadata": {},
   "outputs": [],
   "source": [
    "train_df = pd.read_csv(\"https://download.mlcc.google.com/mledu-datasets/california_housing_train.csv\")\n",
    "test_df = pd.read_csv(\"https://download.mlcc.google.com/mledu-datasets/california_housing_test.csv\")"
   ]
  },
  {
   "cell_type": "code",
   "execution_count": 4,
   "id": "inner-topic",
   "metadata": {},
   "outputs": [],
   "source": [
    "train_df = train_df.sample(frac=1)\n",
    "# or\n",
    "# train_df = train_df.reindex(np.random.permutation(train_df.index))"
   ]
  },
  {
   "cell_type": "markdown",
   "id": "normal-evaluation",
   "metadata": {},
   "source": [
    "## Normalize values\n",
    "When creating a model with multiple features, the values of each feature should cover roughly the same range.<br>\n",
    "The following code cell normalizes datasets by converting each raw value (including the label) to its Z-score"
   ]
  },
  {
   "cell_type": "code",
   "execution_count": 5,
   "id": "optical-joining",
   "metadata": {},
   "outputs": [
    {
     "data": {
      "text/html": [
       "<div>\n",
       "<style scoped>\n",
       "    .dataframe tbody tr th:only-of-type {\n",
       "        vertical-align: middle;\n",
       "    }\n",
       "\n",
       "    .dataframe tbody tr th {\n",
       "        vertical-align: top;\n",
       "    }\n",
       "\n",
       "    .dataframe thead th {\n",
       "        text-align: right;\n",
       "    }\n",
       "</style>\n",
       "<table border=\"1\" class=\"dataframe\">\n",
       "  <thead>\n",
       "    <tr style=\"text-align: right;\">\n",
       "      <th></th>\n",
       "      <th>longitude</th>\n",
       "      <th>latitude</th>\n",
       "      <th>housing_median_age</th>\n",
       "      <th>total_rooms</th>\n",
       "      <th>total_bedrooms</th>\n",
       "      <th>population</th>\n",
       "      <th>households</th>\n",
       "      <th>median_income</th>\n",
       "      <th>median_house_value</th>\n",
       "    </tr>\n",
       "  </thead>\n",
       "  <tbody>\n",
       "    <tr>\n",
       "      <th>401</th>\n",
       "      <td>1.3</td>\n",
       "      <td>-1.3</td>\n",
       "      <td>-2.0</td>\n",
       "      <td>5.6</td>\n",
       "      <td>4.6</td>\n",
       "      <td>4.8</td>\n",
       "      <td>5.0</td>\n",
       "      <td>0.6</td>\n",
       "      <td>0.2</td>\n",
       "    </tr>\n",
       "    <tr>\n",
       "      <th>15735</th>\n",
       "      <td>-1.4</td>\n",
       "      <td>1.0</td>\n",
       "      <td>-0.2</td>\n",
       "      <td>-1.2</td>\n",
       "      <td>-1.3</td>\n",
       "      <td>-1.2</td>\n",
       "      <td>-1.3</td>\n",
       "      <td>1.2</td>\n",
       "      <td>0.2</td>\n",
       "    </tr>\n",
       "    <tr>\n",
       "      <th>14695</th>\n",
       "      <td>-1.3</td>\n",
       "      <td>1.0</td>\n",
       "      <td>-1.9</td>\n",
       "      <td>-0.3</td>\n",
       "      <td>-0.3</td>\n",
       "      <td>-0.5</td>\n",
       "      <td>-0.3</td>\n",
       "      <td>0.8</td>\n",
       "      <td>-0.2</td>\n",
       "    </tr>\n",
       "    <tr>\n",
       "      <th>1340</th>\n",
       "      <td>1.2</td>\n",
       "      <td>-1.3</td>\n",
       "      <td>1.1</td>\n",
       "      <td>-0.6</td>\n",
       "      <td>-0.3</td>\n",
       "      <td>-0.6</td>\n",
       "      <td>-0.3</td>\n",
       "      <td>-0.4</td>\n",
       "      <td>2.2</td>\n",
       "    </tr>\n",
       "    <tr>\n",
       "      <th>2405</th>\n",
       "      <td>1.0</td>\n",
       "      <td>-0.8</td>\n",
       "      <td>-1.8</td>\n",
       "      <td>-0.9</td>\n",
       "      <td>-1.1</td>\n",
       "      <td>-1.0</td>\n",
       "      <td>-1.1</td>\n",
       "      <td>1.6</td>\n",
       "      <td>0.4</td>\n",
       "    </tr>\n",
       "  </tbody>\n",
       "</table>\n",
       "</div>"
      ],
      "text/plain": [
       "       longitude  latitude  housing_median_age  total_rooms  total_bedrooms  \\\n",
       "401          1.3      -1.3                -2.0          5.6             4.6   \n",
       "15735       -1.4       1.0                -0.2         -1.2            -1.3   \n",
       "14695       -1.3       1.0                -1.9         -0.3            -0.3   \n",
       "1340         1.2      -1.3                 1.1         -0.6            -0.3   \n",
       "2405         1.0      -0.8                -1.8         -0.9            -1.1   \n",
       "\n",
       "       population  households  median_income  median_house_value  \n",
       "401           4.8         5.0            0.6                 0.2  \n",
       "15735        -1.2        -1.3            1.2                 0.2  \n",
       "14695        -0.5        -0.3            0.8                -0.2  \n",
       "1340         -0.6        -0.3           -0.4                 2.2  \n",
       "2405         -1.0        -1.1            1.6                 0.4  "
      ]
     },
     "execution_count": 5,
     "metadata": {},
     "output_type": "execute_result"
    }
   ],
   "source": [
    "# Calculate the Z-scores of each column in the training set and write those Z-scores into a new pandas DataFrame named train_df_norm.\n",
    "train_df_mean = train_df.mean()\n",
    "train_df_std = train_df.std()\n",
    "train_df_norm = (train_df - train_df_mean)/train_df_std\n",
    "\n",
    "# Examine some of the values of the normalized training set. Notice that most Z-scores fall between -2 and +2.\n",
    "train_df_norm.head()"
   ]
  },
  {
   "cell_type": "code",
   "execution_count": 6,
   "id": "fleet-collar",
   "metadata": {},
   "outputs": [
    {
     "data": {
      "text/html": [
       "<div>\n",
       "<style scoped>\n",
       "    .dataframe tbody tr th:only-of-type {\n",
       "        vertical-align: middle;\n",
       "    }\n",
       "\n",
       "    .dataframe tbody tr th {\n",
       "        vertical-align: top;\n",
       "    }\n",
       "\n",
       "    .dataframe thead th {\n",
       "        text-align: right;\n",
       "    }\n",
       "</style>\n",
       "<table border=\"1\" class=\"dataframe\">\n",
       "  <thead>\n",
       "    <tr style=\"text-align: right;\">\n",
       "      <th></th>\n",
       "      <th>longitude</th>\n",
       "      <th>latitude</th>\n",
       "      <th>housing_median_age</th>\n",
       "      <th>total_rooms</th>\n",
       "      <th>total_bedrooms</th>\n",
       "      <th>population</th>\n",
       "      <th>households</th>\n",
       "      <th>median_income</th>\n",
       "      <th>median_house_value</th>\n",
       "    </tr>\n",
       "  </thead>\n",
       "  <tbody>\n",
       "    <tr>\n",
       "      <th>0</th>\n",
       "      <td>-1.2</td>\n",
       "      <td>0.8</td>\n",
       "      <td>-0.1</td>\n",
       "      <td>0.6</td>\n",
       "      <td>0.3</td>\n",
       "      <td>0.1</td>\n",
       "      <td>0.3</td>\n",
       "      <td>1.5</td>\n",
       "      <td>1.2</td>\n",
       "    </tr>\n",
       "    <tr>\n",
       "      <th>1</th>\n",
       "      <td>0.6</td>\n",
       "      <td>-0.6</td>\n",
       "      <td>1.1</td>\n",
       "      <td>-0.5</td>\n",
       "      <td>-0.5</td>\n",
       "      <td>-0.6</td>\n",
       "      <td>-0.6</td>\n",
       "      <td>-0.1</td>\n",
       "      <td>-0.3</td>\n",
       "    </tr>\n",
       "    <tr>\n",
       "      <th>2</th>\n",
       "      <td>0.9</td>\n",
       "      <td>-0.9</td>\n",
       "      <td>-0.1</td>\n",
       "      <td>0.5</td>\n",
       "      <td>-0.1</td>\n",
       "      <td>0.1</td>\n",
       "      <td>0.0</td>\n",
       "      <td>1.1</td>\n",
       "      <td>0.6</td>\n",
       "    </tr>\n",
       "    <tr>\n",
       "      <th>3</th>\n",
       "      <td>0.6</td>\n",
       "      <td>-0.9</td>\n",
       "      <td>-0.1</td>\n",
       "      <td>-1.2</td>\n",
       "      <td>-1.2</td>\n",
       "      <td>-1.3</td>\n",
       "      <td>-1.3</td>\n",
       "      <td>1.3</td>\n",
       "      <td>1.1</td>\n",
       "    </tr>\n",
       "    <tr>\n",
       "      <th>4</th>\n",
       "      <td>-0.0</td>\n",
       "      <td>0.3</td>\n",
       "      <td>-0.8</td>\n",
       "      <td>-0.6</td>\n",
       "      <td>-0.7</td>\n",
       "      <td>-0.5</td>\n",
       "      <td>-0.7</td>\n",
       "      <td>-0.5</td>\n",
       "      <td>-1.1</td>\n",
       "    </tr>\n",
       "  </tbody>\n",
       "</table>\n",
       "</div>"
      ],
      "text/plain": [
       "   longitude  latitude  housing_median_age  total_rooms  total_bedrooms  \\\n",
       "0       -1.2       0.8                -0.1          0.6             0.3   \n",
       "1        0.6      -0.6                 1.1         -0.5            -0.5   \n",
       "2        0.9      -0.9                -0.1          0.5            -0.1   \n",
       "3        0.6      -0.9                -0.1         -1.2            -1.2   \n",
       "4       -0.0       0.3                -0.8         -0.6            -0.7   \n",
       "\n",
       "   population  households  median_income  median_house_value  \n",
       "0         0.1         0.3            1.5                 1.2  \n",
       "1        -0.6        -0.6           -0.1                -0.3  \n",
       "2         0.1         0.0            1.1                 0.6  \n",
       "3        -1.3        -1.3            1.3                 1.1  \n",
       "4        -0.5        -0.7           -0.5                -1.1  "
      ]
     },
     "execution_count": 6,
     "metadata": {},
     "output_type": "execute_result"
    }
   ],
   "source": [
    "# Calculate the Z-scores of each column in the test set and write those Z-scores into a new pandas DataFrame named test_df_norm.\n",
    "test_df_mean = test_df.mean()\n",
    "test_df_std = test_df.std()\n",
    "test_df_norm = (test_df - test_df_mean)/test_df_std\n",
    "\n",
    "test_df_norm.head()"
   ]
  },
  {
   "cell_type": "markdown",
   "id": "optimum-refrigerator",
   "metadata": {},
   "source": [
    "## Task 1: Create a binary label\n",
    "In classification problems, the label for every example must be either 0 or 1.<br>\n",
    "If the median_house_value is higher than a certain arbitrary value (defined by threshold), then set median_house_value_is_high to 1. Otherwise, set median_house_value_is_high to 0."
   ]
  },
  {
   "cell_type": "code",
   "execution_count": 7,
   "id": "fluid-custom",
   "metadata": {},
   "outputs": [],
   "source": [
    "threshold = 265000"
   ]
  },
  {
   "cell_type": "code",
   "execution_count": 8,
   "id": "japanese-salvation",
   "metadata": {},
   "outputs": [],
   "source": [
    "train_df_norm['median_house_value_is_high'] = (train_df['median_house_value'] > threshold).astype(float)\n",
    "test_df_norm['median_house_value_is_high'] = (test_df['median_house_value'] > threshold).astype(float)"
   ]
  },
  {
   "cell_type": "code",
   "execution_count": 9,
   "id": "norman-reservation",
   "metadata": {},
   "outputs": [
    {
     "data": {
      "text/plain": [
       "0   1.0\n",
       "1   0.0\n",
       "2   1.0\n",
       "3   1.0\n",
       "4   0.0\n",
       "Name: median_house_value_is_high, dtype: float64"
      ]
     },
     "execution_count": 9,
     "metadata": {},
     "output_type": "execute_result"
    }
   ],
   "source": [
    "test_df_norm['median_house_value_is_high'].head()"
   ]
  },
  {
   "cell_type": "markdown",
   "id": "quality-spyware",
   "metadata": {},
   "source": [
    "Alternatively, instead of picking the threshold based on raw house values, you can work with Z-scores. <br>\n",
    "For example, the following possible solution uses a Z-score of +1.0 as the threshold, meaning that no more than 16% of the values in median_house_value_is_high will be labeled 1."
   ]
  },
  {
   "cell_type": "code",
   "execution_count": 10,
   "id": "periodic-parade",
   "metadata": {},
   "outputs": [],
   "source": [
    "threshold_in_Z = 1.0"
   ]
  },
  {
   "cell_type": "code",
   "execution_count": 11,
   "id": "danish-category",
   "metadata": {},
   "outputs": [],
   "source": [
    "train_df_norm['median_house_value_is_high'] = (train_df_norm['median_house_value'] > threshold_in_Z).astype(float)\n",
    "test_df_norm['median_house_value_is_high'] = (test_df_norm['median_house_value'] > threshold_in_Z).astype(float)"
   ]
  },
  {
   "cell_type": "code",
   "execution_count": 12,
   "id": "dietary-disposal",
   "metadata": {},
   "outputs": [
    {
     "data": {
      "text/plain": [
       "0   1.0\n",
       "1   0.0\n",
       "2   0.0\n",
       "3   1.0\n",
       "4   0.0\n",
       "Name: median_house_value_is_high, dtype: float64"
      ]
     },
     "execution_count": 12,
     "metadata": {},
     "output_type": "execute_result"
    }
   ],
   "source": [
    "test_df_norm['median_house_value_is_high'].head()"
   ]
  },
  {
   "cell_type": "markdown",
   "id": "endangered-planner",
   "metadata": {},
   "source": [
    "## Represent features in feature columns\n",
    "\n",
    "This code cell specifies the features that you'll ultimately train the model on and how each of those features will be represented. The transformations (collected in `feature_layer`) don't actually get applied until you pass a DataFrame to it, which will happen when we train the model."
   ]
  },
  {
   "cell_type": "code",
   "execution_count": 13,
   "id": "comic-alignment",
   "metadata": {},
   "outputs": [
    {
     "data": {
      "text/plain": [
       "<tf.Tensor: shape=(17000, 2), dtype=float32, numpy=\n",
       "array([[ 0.6490672 ,  5.6379056 ],\n",
       "       [ 1.1803653 , -1.1879483 ],\n",
       "       [ 0.83967006, -0.25535685],\n",
       "       ...,\n",
       "       [-0.29928264, -0.16498768],\n",
       "       [ 0.08029839, -0.72325814],\n",
       "       [-0.8572557 , -0.22553961]], dtype=float32)>"
      ]
     },
     "execution_count": 13,
     "metadata": {},
     "output_type": "execute_result"
    }
   ],
   "source": [
    "# Create an empty list that will eventually hold all creasted feature columns\n",
    "feature_columns = []\n",
    "\n",
    "# Create a numerical feature column to represent median_income\n",
    "median_income = tf.feature_column.numeric_column('median_income')\n",
    "feature_columns.append(median_income)\n",
    "\n",
    "# Create a numerical feature column to represent total_rooms\n",
    "total_rooms = tf.feature_column.numeric_column('total_rooms')\n",
    "feature_columns.append(total_rooms)\n",
    "\n",
    "# Convert the list of feature_columns into a layer that will later be fed into the model\n",
    "feature_layer = tf.keras.layers.DenseFeatures(feature_columns)\n",
    "\n",
    "# Print the first 3 and last 3 rows of the feature_layer's output when applied to train_df_norm.\n",
    "feature_layer(dict(train_df_norm))"
   ]
  },
  {
   "cell_type": "markdown",
   "id": "filled-marine",
   "metadata": {},
   "source": [
    "## Define functions that build and train a model"
   ]
  },
  {
   "cell_type": "code",
   "execution_count": 14,
   "id": "metric-mechanism",
   "metadata": {},
   "outputs": [],
   "source": [
    "#@title Define the functions that create and train a model.\n",
    "def create_model(my_learning_rate, feature_layer, my_metrics):\n",
    "    # Most simple tf.keras models are sequential.\n",
    "    model = tf.keras.models.Sequential()\n",
    "    \n",
    "    # Add the feature layer (the list of features and how they are represented) to the model.\n",
    "    model.add(feature_layer)\n",
    "    \n",
    "    # Funnel the regression value through a sigmoid function.\n",
    "    model.add(tf.keras.layers.Dense(units=1, input_shape=(1,), activation='sigmoid'))\n",
    "    \n",
    "#     model.compile(loss='binary_crossentropy', optimizer=tf.keras.optimizers.RMSprop(learning_rate=my_learning_rate),\n",
    "#                  metrics=([my_metrics]))\n",
    "    model.compile(optimizer=tf.keras.optimizers.RMSprop(learning_rate=my_learning_rate),                                                   \n",
    "                loss=tf.keras.losses.BinaryCrossentropy(),\n",
    "                metrics=my_metrics)\n",
    "    \n",
    "    return model"
   ]
  },
  {
   "cell_type": "code",
   "execution_count": 15,
   "id": "accompanied-filing",
   "metadata": {},
   "outputs": [
    {
     "name": "stdout",
     "output_type": "stream",
     "text": [
      "Defined the create_model and train_model functions.\n"
     ]
    }
   ],
   "source": [
    "def train_model(model, dataset, epochs, label_name, batch_size=None, shuffle=True):\n",
    "    # The x parameter of tf.keras.Model.fit can be a list of arrays, where each array contains \n",
    "    # the data for one feature.  Here, we're passing every column in the dataset.\n",
    "    # Note that the feature_layer will filter away most of those columns, \n",
    "    # leaving only the desired columns and their representations as features.\n",
    "    features = {name:np.array(value) for name, value in dataset.items()}\n",
    "    label = np.array(features.pop(label_name))\n",
    "    history = model.fit(features, label, batch_size=batch_size, epochs=epochs, shuffle=shuffle)\n",
    "    \n",
    "    # The list of epochs is stored separately from the rest of history.\n",
    "    epochs = history.epoch\n",
    "    \n",
    "    # Isolate the classification metric for each epoch.\n",
    "    hist = pd.DataFrame(history.history)\n",
    "    \n",
    "    return epochs, hist\n",
    "    \n",
    "print('Defined the create_model and train_model functions.')"
   ]
  },
  {
   "cell_type": "code",
   "execution_count": 16,
   "id": "atomic-electricity",
   "metadata": {},
   "outputs": [
    {
     "name": "stdout",
     "output_type": "stream",
     "text": [
      "Defined the plot_curve function\n"
     ]
    }
   ],
   "source": [
    "def plot_curve(epochs, hist, list_of_metrics):\n",
    "    # list_of_metrics should be one of the names shown in:\n",
    "    # https://www.tensorflow.org/tutorials/structured_data/imbalanced_data#define_the_model_and_metrics  \n",
    "    \n",
    "    plt.figure()\n",
    "    plt.xlabel('Epoch')\n",
    "    plt.ylabel('Value')\n",
    "    \n",
    "    for m in list_of_metrics:\n",
    "        x = hist[m]\n",
    "        plt.plot(epochs[1:], x[1:], label=m)\n",
    "        \n",
    "    plt.legend()\n",
    "    \n",
    "print('Defined the plot_curve function')"
   ]
  },
  {
   "cell_type": "markdown",
   "id": "pursuant-colony",
   "metadata": {},
   "source": [
    "## Invoke the creating, training, and plotting functions\n",
    "\n",
    "The following code cell calls specify the hyperparameters, and then invokes the \n",
    "functions to create and train the model, and then to plot the results."
   ]
  },
  {
   "cell_type": "code",
   "execution_count": 17,
   "id": "desirable-consolidation",
   "metadata": {},
   "outputs": [
    {
     "name": "stdout",
     "output_type": "stream",
     "text": [
      "Epoch 1/20\n",
      "WARNING:tensorflow:Layers in a Sequential model should only have a single input tensor, but we receive a <class 'dict'> input: {'longitude': <tf.Tensor 'ExpandDims_3:0' shape=(100, 1) dtype=float32>, 'latitude': <tf.Tensor 'ExpandDims_2:0' shape=(100, 1) dtype=float32>, 'housing_median_age': <tf.Tensor 'ExpandDims_1:0' shape=(100, 1) dtype=float32>, 'total_rooms': <tf.Tensor 'ExpandDims_8:0' shape=(100, 1) dtype=float32>, 'total_bedrooms': <tf.Tensor 'ExpandDims_7:0' shape=(100, 1) dtype=float32>, 'population': <tf.Tensor 'ExpandDims_6:0' shape=(100, 1) dtype=float32>, 'households': <tf.Tensor 'ExpandDims:0' shape=(100, 1) dtype=float32>, 'median_income': <tf.Tensor 'ExpandDims_5:0' shape=(100, 1) dtype=float32>, 'median_house_value': <tf.Tensor 'ExpandDims_4:0' shape=(100, 1) dtype=float32>}\n",
      "Consider rewriting this model with the Functional API.\n",
      "WARNING:tensorflow:Layers in a Sequential model should only have a single input tensor, but we receive a <class 'dict'> input: {'longitude': <tf.Tensor 'ExpandDims_3:0' shape=(100, 1) dtype=float32>, 'latitude': <tf.Tensor 'ExpandDims_2:0' shape=(100, 1) dtype=float32>, 'housing_median_age': <tf.Tensor 'ExpandDims_1:0' shape=(100, 1) dtype=float32>, 'total_rooms': <tf.Tensor 'ExpandDims_8:0' shape=(100, 1) dtype=float32>, 'total_bedrooms': <tf.Tensor 'ExpandDims_7:0' shape=(100, 1) dtype=float32>, 'population': <tf.Tensor 'ExpandDims_6:0' shape=(100, 1) dtype=float32>, 'households': <tf.Tensor 'ExpandDims:0' shape=(100, 1) dtype=float32>, 'median_income': <tf.Tensor 'ExpandDims_5:0' shape=(100, 1) dtype=float32>, 'median_house_value': <tf.Tensor 'ExpandDims_4:0' shape=(100, 1) dtype=float32>}\n",
      "Consider rewriting this model with the Functional API.\n",
      "170/170 [==============================] - 1s 2ms/step - loss: 0.8463 - accuracy: 0.2138\n",
      "Epoch 2/20\n",
      "170/170 [==============================] - 0s 2ms/step - loss: 0.7232 - accuracy: 0.2288\n",
      "Epoch 3/20\n",
      "170/170 [==============================] - 0s 2ms/step - loss: 0.6194 - accuracy: 0.2668\n",
      "Epoch 4/20\n",
      "170/170 [==============================] - 0s 2ms/step - loss: 0.5355 - accuracy: 0.4341\n",
      "Epoch 5/20\n",
      "170/170 [==============================] - 0s 2ms/step - loss: 0.4705 - accuracy: 0.7770\n",
      "Epoch 6/20\n",
      "170/170 [==============================] - 0s 2ms/step - loss: 0.4227 - accuracy: 0.8474\n",
      "Epoch 7/20\n",
      "170/170 [==============================] - 0s 2ms/step - loss: 0.3888 - accuracy: 0.8576\n",
      "Epoch 8/20\n",
      "170/170 [==============================] - 0s 2ms/step - loss: 0.3643 - accuracy: 0.8607\n",
      "Epoch 9/20\n",
      "170/170 [==============================] - 0s 2ms/step - loss: 0.3466 - accuracy: 0.8656\n",
      "Epoch 10/20\n",
      "170/170 [==============================] - 0s 2ms/step - loss: 0.3341 - accuracy: 0.8689\n",
      "Epoch 11/20\n",
      "170/170 [==============================] - 0s 2ms/step - loss: 0.3255 - accuracy: 0.8711\n",
      "Epoch 12/20\n",
      "170/170 [==============================] - 0s 2ms/step - loss: 0.3202 - accuracy: 0.8724\n",
      "Epoch 13/20\n",
      "170/170 [==============================] - 0s 2ms/step - loss: 0.3170 - accuracy: 0.8735\n",
      "Epoch 14/20\n",
      "170/170 [==============================] - 0s 2ms/step - loss: 0.3153 - accuracy: 0.8739\n",
      "Epoch 15/20\n",
      "170/170 [==============================] - 0s 2ms/step - loss: 0.3142 - accuracy: 0.8741\n",
      "Epoch 16/20\n",
      "170/170 [==============================] - 0s 2ms/step - loss: 0.3135 - accuracy: 0.8744\n",
      "Epoch 17/20\n",
      "170/170 [==============================] - 0s 2ms/step - loss: 0.3131 - accuracy: 0.8741\n",
      "Epoch 18/20\n",
      "170/170 [==============================] - 0s 2ms/step - loss: 0.3129 - accuracy: 0.8740\n",
      "Epoch 19/20\n",
      "170/170 [==============================] - 0s 2ms/step - loss: 0.3127 - accuracy: 0.8738\n",
      "Epoch 20/20\n",
      "170/170 [==============================] - 0s 2ms/step - loss: 0.3127 - accuracy: 0.8743\n"
     ]
    },
    {
     "data": {
      "image/png": "[encoded data removed]",
      "text/plain": [
       "<Figure size 432x288 with 1 Axes>"
      ]
     },
     "metadata": {
      "needs_background": "light"
     },
     "output_type": "display_data"
    }
   ],
   "source": [
    "# The following variables are the hyperparameters.\n",
    "learning_rate = 0.001\n",
    "epochs = 20\n",
    "batch_size = 100\n",
    "label_name = \"median_house_value_is_high\"\n",
    "classification_threshold = 0.35\n",
    "\n",
    "# Establish the metrics the model will measure.\n",
    "METRICS = [\n",
    "    tf.keras.metrics.BinaryAccuracy(name='accuracy',\n",
    "                                   threshold=classification_threshold)\n",
    "]\n",
    "\n",
    "# Establish the model's topography.\n",
    "my_model = create_model(learning_rate, feature_layer, METRICS)\n",
    "\n",
    "# Train the model on the training set.\n",
    "epochs, hist = train_model(my_model, train_df_norm, epochs, label_name, batch_size)\n",
    "\n",
    "# Plot a graph of the metrics vs.epoch\n",
    "list_of_metrics_to_plot = ['accuracy']\n",
    "\n",
    "plot_curve(epochs, hist, list_of_metrics_to_plot)"
   ]
  },
  {
   "cell_type": "code",
   "execution_count": 18,
   "id": "digital-rapid",
   "metadata": {},
   "outputs": [
    {
     "data": {
      "image/png": "[encoded data removed]",
      "text/plain": [
       "<Figure size 432x288 with 1 Axes>"
      ]
     },
     "metadata": {
      "needs_background": "light"
     },
     "output_type": "display_data"
    }
   ],
   "source": [
    "plot_curve(epochs, hist, list_of_metrics_to_plot)"
   ]
  },
  {
   "cell_type": "markdown",
   "id": "generic-yugoslavia",
   "metadata": {},
   "source": [
    "## Evaluate the model against the test set\n",
    "\n",
    "At the end of model training, you ended up with a certain accuracy against the *training set*. Invoke the following code cell to determine your model's accuracy against the *test set*."
   ]
  },
  {
   "cell_type": "code",
   "execution_count": 19,
   "id": "religious-boating",
   "metadata": {},
   "outputs": [
    {
     "name": "stdout",
     "output_type": "stream",
     "text": [
      "WARNING:tensorflow:Layers in a Sequential model should only have a single input tensor, but we receive a <class 'dict'> input: {'longitude': <tf.Tensor 'ExpandDims_3:0' shape=(100, 1) dtype=float32>, 'latitude': <tf.Tensor 'ExpandDims_2:0' shape=(100, 1) dtype=float32>, 'housing_median_age': <tf.Tensor 'ExpandDims_1:0' shape=(100, 1) dtype=float32>, 'total_rooms': <tf.Tensor 'ExpandDims_8:0' shape=(100, 1) dtype=float32>, 'total_bedrooms': <tf.Tensor 'ExpandDims_7:0' shape=(100, 1) dtype=float32>, 'population': <tf.Tensor 'ExpandDims_6:0' shape=(100, 1) dtype=float32>, 'households': <tf.Tensor 'ExpandDims:0' shape=(100, 1) dtype=float32>, 'median_income': <tf.Tensor 'ExpandDims_5:0' shape=(100, 1) dtype=float32>, 'median_house_value': <tf.Tensor 'ExpandDims_4:0' shape=(100, 1) dtype=float32>}\n",
      "Consider rewriting this model with the Functional API.\n",
      "30/30 [==============================] - 0s 2ms/step - loss: 0.3130 - accuracy: 0.8693\n"
     ]
    },
    {
     "data": {
      "text/plain": [
       "[0.31301313638687134, 0.8693333268165588]"
      ]
     },
     "execution_count": 19,
     "metadata": {},
     "output_type": "execute_result"
    }
   ],
   "source": [
    "features = {name:np.array(value) for name, value in test_df_norm.items()}\n",
    "label = np.array(features.pop(label_name))\n",
    "\n",
    "my_model.evaluate(x = features, y = label, batch_size=batch_size)"
   ]
  },
  {
   "cell_type": "markdown",
   "id": "passive-bermuda",
   "metadata": {},
   "source": [
    "## Task 2: How accurate is your model really?\n",
    "\n",
    "Is your model valuable?"
   ]
  },
  {
   "cell_type": "markdown",
   "id": "composite-tomorrow",
   "metadata": {},
   "source": [
    "### a possible answer to Task 2.\n",
    "\n",
    "A perfect model would make 100% accurate predictions.  Our model makes 80% accurate predictions. <br>\n",
    "80% sounds good, but note that a model that always guesses \"median_house_value_is_high is False\" would be 75% accurate. "
   ]
  },
  {
   "cell_type": "markdown",
   "id": "greatest-surname",
   "metadata": {},
   "source": [
    "## Task 3: Add precision and recall as metrics\n",
    "\n",
    "Relying solely on accuracy, particularly for a class-imbalanced data set (like ours), can be a poor way to judge a classification model. See the [TensorFlow Reference](https://www.tensorflow.org/api_docs/python/tf/keras/metrics/Recall) for details."
   ]
  },
  {
   "cell_type": "code",
   "execution_count": 28,
   "id": "historical-bottom",
   "metadata": {},
   "outputs": [
    {
     "name": "stdout",
     "output_type": "stream",
     "text": [
      "Epoch 1/20\n",
      "WARNING:tensorflow:Layers in a Sequential model should only have a single input tensor, but we receive a <class 'dict'> input: {'longitude': <tf.Tensor 'ExpandDims_3:0' shape=(100, 1) dtype=float32>, 'latitude': <tf.Tensor 'ExpandDims_2:0' shape=(100, 1) dtype=float32>, 'housing_median_age': <tf.Tensor 'ExpandDims_1:0' shape=(100, 1) dtype=float32>, 'total_rooms': <tf.Tensor 'ExpandDims_8:0' shape=(100, 1) dtype=float32>, 'total_bedrooms': <tf.Tensor 'ExpandDims_7:0' shape=(100, 1) dtype=float32>, 'population': <tf.Tensor 'ExpandDims_6:0' shape=(100, 1) dtype=float32>, 'households': <tf.Tensor 'ExpandDims:0' shape=(100, 1) dtype=float32>, 'median_income': <tf.Tensor 'ExpandDims_5:0' shape=(100, 1) dtype=float32>, 'median_house_value': <tf.Tensor 'ExpandDims_4:0' shape=(100, 1) dtype=float32>}\n",
      "Consider rewriting this model with the Functional API.\n",
      "WARNING:tensorflow:Layers in a Sequential model should only have a single input tensor, but we receive a <class 'dict'> input: {'longitude': <tf.Tensor 'ExpandDims_3:0' shape=(100, 1) dtype=float32>, 'latitude': <tf.Tensor 'ExpandDims_2:0' shape=(100, 1) dtype=float32>, 'housing_median_age': <tf.Tensor 'ExpandDims_1:0' shape=(100, 1) dtype=float32>, 'total_rooms': <tf.Tensor 'ExpandDims_8:0' shape=(100, 1) dtype=float32>, 'total_bedrooms': <tf.Tensor 'ExpandDims_7:0' shape=(100, 1) dtype=float32>, 'population': <tf.Tensor 'ExpandDims_6:0' shape=(100, 1) dtype=float32>, 'households': <tf.Tensor 'ExpandDims:0' shape=(100, 1) dtype=float32>, 'median_income': <tf.Tensor 'ExpandDims_5:0' shape=(100, 1) dtype=float32>, 'median_house_value': <tf.Tensor 'ExpandDims_4:0' shape=(100, 1) dtype=float32>}\n",
      "Consider rewriting this model with the Functional API.\n",
      "170/170 [==============================] - 2s 2ms/step - loss: 0.6141 - accuracy: 0.2841 - precision: 0.1831 - recall: 0.9770\n",
      "Epoch 2/20\n",
      "170/170 [==============================] - 0s 3ms/step - loss: 0.5473 - accuracy: 0.4478 - precision: 0.2215 - recall: 0.9463\n",
      "Epoch 3/20\n",
      "170/170 [==============================] - 0s 2ms/step - loss: 0.4931 - accuracy: 0.5834 - precision: 0.2671 - recall: 0.8894\n",
      "Epoch 4/20\n",
      "170/170 [==============================] - 0s 2ms/step - loss: 0.4500 - accuracy: 0.6752 - precision: 0.3128 - recall: 0.8257\n",
      "Epoch 5/20\n",
      "170/170 [==============================] - 0s 2ms/step - loss: 0.4159 - accuracy: 0.7355 - precision: 0.3565 - recall: 0.7695\n",
      "Epoch 6/20\n",
      "170/170 [==============================] - 0s 2ms/step - loss: 0.3891 - accuracy: 0.7750 - precision: 0.3962 - recall: 0.7202\n",
      "Epoch 7/20\n",
      "170/170 [==============================] - 0s 3ms/step - loss: 0.3677 - accuracy: 0.8055 - precision: 0.4387 - recall: 0.6817\n",
      "Epoch 8/20\n",
      "170/170 [==============================] - 0s 3ms/step - loss: 0.3509 - accuracy: 0.8255 - precision: 0.4749 - recall: 0.6435\n",
      "Epoch 9/20\n",
      "170/170 [==============================] - 0s 2ms/step - loss: 0.3378 - accuracy: 0.8449 - precision: 0.5217 - recall: 0.6097\n",
      "Epoch 10/20\n",
      "170/170 [==============================] - 0s 3ms/step - loss: 0.3284 - accuracy: 0.8559 - precision: 0.5569 - recall: 0.5780\n",
      "Epoch 11/20\n",
      "170/170 [==============================] - 1s 4ms/step - loss: 0.3221 - accuracy: 0.8632 - precision: 0.5864 - recall: 0.5524\n",
      "Epoch 12/20\n",
      "170/170 [==============================] - 0s 2ms/step - loss: 0.3180 - accuracy: 0.8685 - precision: 0.6115 - recall: 0.5344\n",
      "Epoch 13/20\n",
      "170/170 [==============================] - 0s 2ms/step - loss: 0.3158 - accuracy: 0.8722 - precision: 0.6298 - recall: 0.5275\n",
      "Epoch 14/20\n",
      "170/170 [==============================] - 0s 2ms/step - loss: 0.3145 - accuracy: 0.8731 - precision: 0.6349 - recall: 0.5247\n",
      "Epoch 15/20\n",
      "170/170 [==============================] - 1s 3ms/step - loss: 0.3137 - accuracy: 0.8739 - precision: 0.6406 - recall: 0.5200\n",
      "Epoch 16/20\n",
      "170/170 [==============================] - 0s 2ms/step - loss: 0.3132 - accuracy: 0.8739 - precision: 0.6406 - recall: 0.5193\n",
      "Epoch 17/20\n",
      "170/170 [==============================] - 0s 2ms/step - loss: 0.3129 - accuracy: 0.8739 - precision: 0.6415 - recall: 0.5175\n",
      "Epoch 18/20\n",
      "170/170 [==============================] - 0s 2ms/step - loss: 0.3128 - accuracy: 0.8746 - precision: 0.6443 - recall: 0.5185\n",
      "Epoch 19/20\n",
      "170/170 [==============================] - 0s 2ms/step - loss: 0.3127 - accuracy: 0.8745 - precision: 0.6435 - recall: 0.5193\n",
      "Epoch 20/20\n",
      "170/170 [==============================] - 0s 2ms/step - loss: 0.3126 - accuracy: 0.8739 - precision: 0.6406 - recall: 0.5200\n"
     ]
    },
    {
     "data": {
      "image/png": "[encoded data removed]",
      "text/plain": [
       "<Figure size 432x288 with 1 Axes>"
      ]
     },
     "metadata": {
      "needs_background": "light"
     },
     "output_type": "display_data"
    }
   ],
   "source": [
    "# The following variables are the hyperparameters.\n",
    "learning_rate = 0.001\n",
    "epochs = 20\n",
    "batch_size = 100\n",
    "classification_threshold = 0.35\n",
    "label_name = 'median_house_value_is_high'\n",
    "\n",
    "# Modify the following definition of METRICS to generate not only accuracy and precision, but also recall.\n",
    "METRICS = [\n",
    "    tf.keras.metrics.BinaryAccuracy(name='accuracy', threshold=classification_threshold),\n",
    "    tf.keras.metrics.Precision(thresholds=classification_threshold, name='precision'),\n",
    "    tf.keras.metrics.Recall(thresholds=classification_threshold, name=\"recall\"),\n",
    "]\n",
    "\n",
    "# Establish the model's topography\n",
    "my_model = create_model(learning_rate, feature_layer, METRICS)\n",
    "\n",
    "# Train the model on the training set\n",
    "epochs, hist = train_model(my_model, train_df_norm, epochs, label_name, batch_size)\n",
    "\n",
    "# Plot metrics vs. epoch\n",
    "list_of_metrics_to_plot = ['accuracy', 'precision', 'recall']\n",
    "plot_curve(epochs, hist, list_of_metrics_to_plot)"
   ]
  },
  {
   "cell_type": "markdown",
   "id": "sunrise-mexican",
   "metadata": {},
   "source": [
    "The new graphs suggest that precision and recall are somewhat in conflict. That is, improvements to one of those metrics may hurt the other metric."
   ]
  },
  {
   "cell_type": "markdown",
   "id": "following-graham",
   "metadata": {},
   "source": [
    "## Task 4: Experiment with the classification threshold (if time permits)\n",
    "\n",
    "Experiment with different values for `classification_threshold` in the code cell within \"Invoke the creating, training, and plotting functions.\"  What value of `classification_threshold` produces the highest accuracy?"
   ]
  },
  {
   "cell_type": "code",
   "execution_count": 39,
   "id": "finnish-shakespeare",
   "metadata": {},
   "outputs": [
    {
     "name": "stdout",
     "output_type": "stream",
     "text": [
      "Epoch 1/20\n",
      "WARNING:tensorflow:Layers in a Sequential model should only have a single input tensor, but we receive a <class 'dict'> input: {'longitude': <tf.Tensor 'ExpandDims_3:0' shape=(100, 1) dtype=float32>, 'latitude': <tf.Tensor 'ExpandDims_2:0' shape=(100, 1) dtype=float32>, 'housing_median_age': <tf.Tensor 'ExpandDims_1:0' shape=(100, 1) dtype=float32>, 'total_rooms': <tf.Tensor 'ExpandDims_8:0' shape=(100, 1) dtype=float32>, 'total_bedrooms': <tf.Tensor 'ExpandDims_7:0' shape=(100, 1) dtype=float32>, 'population': <tf.Tensor 'ExpandDims_6:0' shape=(100, 1) dtype=float32>, 'households': <tf.Tensor 'ExpandDims:0' shape=(100, 1) dtype=float32>, 'median_income': <tf.Tensor 'ExpandDims_5:0' shape=(100, 1) dtype=float32>, 'median_house_value': <tf.Tensor 'ExpandDims_4:0' shape=(100, 1) dtype=float32>}\n",
      "Consider rewriting this model with the Functional API.\n",
      "WARNING:tensorflow:Layers in a Sequential model should only have a single input tensor, but we receive a <class 'dict'> input: {'longitude': <tf.Tensor 'ExpandDims_3:0' shape=(100, 1) dtype=float32>, 'latitude': <tf.Tensor 'ExpandDims_2:0' shape=(100, 1) dtype=float32>, 'housing_median_age': <tf.Tensor 'ExpandDims_1:0' shape=(100, 1) dtype=float32>, 'total_rooms': <tf.Tensor 'ExpandDims_8:0' shape=(100, 1) dtype=float32>, 'total_bedrooms': <tf.Tensor 'ExpandDims_7:0' shape=(100, 1) dtype=float32>, 'population': <tf.Tensor 'ExpandDims_6:0' shape=(100, 1) dtype=float32>, 'households': <tf.Tensor 'ExpandDims:0' shape=(100, 1) dtype=float32>, 'median_income': <tf.Tensor 'ExpandDims_5:0' shape=(100, 1) dtype=float32>, 'median_house_value': <tf.Tensor 'ExpandDims_4:0' shape=(100, 1) dtype=float32>}\n",
      "Consider rewriting this model with the Functional API.\n",
      "170/170 [==============================] - 2s 2ms/step - loss: 0.5979 - accuracy: 0.6898 - precision: 0.3153 - recall: 0.7677\n",
      "Epoch 2/20\n",
      "170/170 [==============================] - 0s 2ms/step - loss: 0.5355 - accuracy: 0.7515 - precision: 0.3684 - recall: 0.7292\n",
      "Epoch 3/20\n",
      "170/170 [==============================] - 0s 2ms/step - loss: 0.4858 - accuracy: 0.7925 - precision: 0.4183 - recall: 0.6925\n",
      "Epoch 4/20\n",
      "170/170 [==============================] - 0s 2ms/step - loss: 0.4466 - accuracy: 0.8205 - precision: 0.4643 - recall: 0.6431\n",
      "Epoch 5/20\n",
      "170/170 [==============================] - 0s 2ms/step - loss: 0.4143 - accuracy: 0.8461 - precision: 0.5250 - recall: 0.6093\n",
      "Epoch 6/20\n",
      "170/170 [==============================] - 0s 2ms/step - loss: 0.3884 - accuracy: 0.8626 - precision: 0.5831 - recall: 0.5574\n",
      "Epoch 7/20\n",
      "170/170 [==============================] - 0s 2ms/step - loss: 0.3670 - accuracy: 0.8736 - precision: 0.6389 - recall: 0.5200\n",
      "Epoch 8/20\n",
      "170/170 [==============================] - 0s 3ms/step - loss: 0.3505 - accuracy: 0.8790 - precision: 0.6807 - recall: 0.4883\n",
      "Epoch 9/20\n",
      "170/170 [==============================] - 0s 2ms/step - loss: 0.3376 - accuracy: 0.8831 - precision: 0.7253 - recall: 0.4573\n",
      "Epoch 10/20\n",
      "170/170 [==============================] - 1s 3ms/step - loss: 0.3283 - accuracy: 0.8849 - precision: 0.7613 - recall: 0.4307\n",
      "Epoch 11/20\n",
      "170/170 [==============================] - 1s 3ms/step - loss: 0.3220 - accuracy: 0.8850 - precision: 0.7831 - recall: 0.4094\n",
      "Epoch 12/20\n",
      "170/170 [==============================] - ETA: 0s - loss: 0.3185 - accuracy: 0.8853 - precision: 0.7918 - recall: 0.398 - 0s 3ms/step - loss: 0.3180 - accuracy: 0.8849 - precision: 0.7945 - recall: 0.3983\n",
      "Epoch 13/20\n",
      "170/170 [==============================] - 0s 3ms/step - loss: 0.3157 - accuracy: 0.8843 - precision: 0.7969 - recall: 0.3914\n",
      "Epoch 14/20\n",
      "170/170 [==============================] - 0s 3ms/step - loss: 0.3143 - accuracy: 0.8841 - precision: 0.7959 - recall: 0.3903A: 0s - loss: 0.3141 - accuracy: 0.8847 - precision: 0.7980 - recall: 0.390\n",
      "Epoch 15/20\n",
      "170/170 [==============================] - 0s 3ms/step - loss: 0.3136 - accuracy: 0.8845 - precision: 0.7975 - recall: 0.3929\n",
      "Epoch 16/20\n",
      "170/170 [==============================] - 0s 3ms/step - loss: 0.3131 - accuracy: 0.8844 - precision: 0.7979 - recall: 0.3911\n",
      "Epoch 17/20\n",
      "170/170 [==============================] - 0s 2ms/step - loss: 0.3129 - accuracy: 0.8846 - precision: 0.7959 - recall: 0.3947\n",
      "Epoch 18/20\n",
      "170/170 [==============================] - 0s 2ms/step - loss: 0.3128 - accuracy: 0.8849 - precision: 0.7937 - recall: 0.3990\n",
      "Epoch 19/20\n",
      "170/170 [==============================] - 0s 2ms/step - loss: 0.3127 - accuracy: 0.8850 - precision: 0.7911 - recall: 0.4022\n",
      "Epoch 20/20\n",
      "170/170 [==============================] - 0s 2ms/step - loss: 0.3126 - accuracy: 0.8849 - precision: 0.7918 - recall: 0.4012\n"
     ]
    },
    {
     "data": {
      "image/png": "[encoded data removed]",
      "text/plain": [
       "<Figure size 432x288 with 1 Axes>"
      ]
     },
     "metadata": {
      "needs_background": "light"
     },
     "output_type": "display_data"
    }
   ],
   "source": [
    "learning_rate = 0.001\n",
    "epochs = 20\n",
    "batch_size = 100\n",
    "classification_threshold = 0.52\n",
    "label_name = \"median_house_value_is_high\"\n",
    "\n",
    "METRICS = [\n",
    "    tf.keras.metrics.BinaryAccuracy(threshold=classification_threshold, name='accuracy'),\n",
    "    tf.keras.metrics.Precision(thresholds=classification_threshold, name='precision'),\n",
    "    tf.keras.metrics.Recall(thresholds=classification_threshold, name='recall')\n",
    "]\n",
    "\n",
    "my_model = create_model(learning_rate, feature_layer, METRICS)\n",
    "\n",
    "epochs, hist = train_model(my_model, train_df_norm, epochs, label_name, batch_size)\n",
    "\n",
    "list_of_metrics_to_plot = ['accuracy', \"precision\", \"recall\"] \n",
    "plot_curve(epochs, hist, list_of_metrics_to_plot)"
   ]
  },
  {
   "cell_type": "markdown",
   "id": "casual-serial",
   "metadata": {},
   "source": [
    " A `classification_threshold` of slightly over 0.5 appears to produce the highest accuracy (about 83%). Raising the `classification_threshold` to 0.9 drops accuracy by about 5%.  Lowering the `classification_threshold` to 0.3 drops accuracy by about 3%. "
   ]
  },
  {
   "cell_type": "markdown",
   "id": "advisory-finnish",
   "metadata": {},
   "source": [
    "## Task 5: Summarize model performance (if time permits)\n",
    "\n",
    "If time permits, add one more metric that attempts to summarize the model's overall performance. "
   ]
  },
  {
   "cell_type": "code",
   "execution_count": 41,
   "id": "fresh-cookbook",
   "metadata": {},
   "outputs": [
    {
     "name": "stdout",
     "output_type": "stream",
     "text": [
      "Epoch 1/20\n",
      "WARNING:tensorflow:Layers in a Sequential model should only have a single input tensor, but we receive a <class 'dict'> input: {'longitude': <tf.Tensor 'ExpandDims_3:0' shape=(100, 1) dtype=float32>, 'latitude': <tf.Tensor 'ExpandDims_2:0' shape=(100, 1) dtype=float32>, 'housing_median_age': <tf.Tensor 'ExpandDims_1:0' shape=(100, 1) dtype=float32>, 'total_rooms': <tf.Tensor 'ExpandDims_8:0' shape=(100, 1) dtype=float32>, 'total_bedrooms': <tf.Tensor 'ExpandDims_7:0' shape=(100, 1) dtype=float32>, 'population': <tf.Tensor 'ExpandDims_6:0' shape=(100, 1) dtype=float32>, 'households': <tf.Tensor 'ExpandDims:0' shape=(100, 1) dtype=float32>, 'median_income': <tf.Tensor 'ExpandDims_5:0' shape=(100, 1) dtype=float32>, 'median_house_value': <tf.Tensor 'ExpandDims_4:0' shape=(100, 1) dtype=float32>}\n",
      "Consider rewriting this model with the Functional API.\n",
      "WARNING:tensorflow:Layers in a Sequential model should only have a single input tensor, but we receive a <class 'dict'> input: {'longitude': <tf.Tensor 'ExpandDims_3:0' shape=(100, 1) dtype=float32>, 'latitude': <tf.Tensor 'ExpandDims_2:0' shape=(100, 1) dtype=float32>, 'housing_median_age': <tf.Tensor 'ExpandDims_1:0' shape=(100, 1) dtype=float32>, 'total_rooms': <tf.Tensor 'ExpandDims_8:0' shape=(100, 1) dtype=float32>, 'total_bedrooms': <tf.Tensor 'ExpandDims_7:0' shape=(100, 1) dtype=float32>, 'population': <tf.Tensor 'ExpandDims_6:0' shape=(100, 1) dtype=float32>, 'households': <tf.Tensor 'ExpandDims:0' shape=(100, 1) dtype=float32>, 'median_income': <tf.Tensor 'ExpandDims_5:0' shape=(100, 1) dtype=float32>, 'median_house_value': <tf.Tensor 'ExpandDims_4:0' shape=(100, 1) dtype=float32>}\n",
      "Consider rewriting this model with the Functional API.\n",
      "170/170 [==============================] - 3s 2ms/step - loss: 0.6707 - accuracy: 0.6574 - precision: 0.2885 - recall: 0.7486 - auc: 0.7712\n",
      "Epoch 2/20\n",
      "170/170 [==============================] - 0s 3ms/step - loss: 0.5986 - accuracy: 0.7142 - precision: 0.3286 - recall: 0.7184 - auc: 0.7863\n",
      "Epoch 3/20\n",
      "170/170 [==============================] - 0s 3ms/step - loss: 0.5370 - accuracy: 0.7565 - precision: 0.3680 - recall: 0.6838 - auc: 0.7979\n",
      "Epoch 4/20\n",
      "170/170 [==============================] - 1s 4ms/step - loss: 0.4844 - accuracy: 0.7951 - precision: 0.4185 - recall: 0.6536 - auc: 0.8075\n",
      "Epoch 5/20\n",
      "170/170 [==============================] - 0s 3ms/step - loss: 0.4396 - accuracy: 0.8260 - precision: 0.4748 - recall: 0.6143 - auc: 0.8156\n",
      "Epoch 6/20\n",
      "170/170 [==============================] - 0s 3ms/step - loss: 0.4032 - accuracy: 0.8499 - precision: 0.5382 - recall: 0.5708 - auc: 0.8232\n",
      "Epoch 7/20\n",
      "170/170 [==============================] - 0s 3ms/step - loss: 0.3750 - accuracy: 0.8668 - precision: 0.6064 - recall: 0.5254 - auc: 0.8297\n",
      "Epoch 8/20\n",
      "170/170 [==============================] - 0s 2ms/step - loss: 0.3538 - accuracy: 0.8779 - precision: 0.6752 - recall: 0.4865 - auc: 0.8348\n",
      "Epoch 9/20\n",
      "170/170 [==============================] - 1s 4ms/step - loss: 0.3385 - accuracy: 0.8814 - precision: 0.7149 - recall: 0.4552 - auc: 0.8380\n",
      "Epoch 10/20\n",
      "170/170 [==============================] - 1s 3ms/step - loss: 0.3283 - accuracy: 0.8835 - precision: 0.7599 - recall: 0.4195 - auc: 0.8391\n",
      "Epoch 11/20\n",
      "170/170 [==============================] - 1s 5ms/step - loss: 0.3216 - accuracy: 0.8842 - precision: 0.7887 - recall: 0.3979 - auc: 0.8394\n",
      "Epoch 12/20\n",
      "170/170 [==============================] - 1s 3ms/step - loss: 0.3176 - accuracy: 0.8844 - precision: 0.8066 - recall: 0.3846 - auc: 0.8396\n",
      "Epoch 13/20\n",
      "170/170 [==============================] - 0s 3ms/step - loss: 0.3153 - accuracy: 0.8845 - precision: 0.8159 - recall: 0.3781 - auc: 0.8397\n",
      "Epoch 14/20\n",
      "170/170 [==============================] - 1s 3ms/step - loss: 0.3141 - accuracy: 0.8845 - precision: 0.8155 - recall: 0.3788 - auc: 0.8399\n",
      "Epoch 15/20\n",
      "170/170 [==============================] - 0s 3ms/step - loss: 0.3134 - accuracy: 0.8845 - precision: 0.8178 - recall: 0.3767 - auc: 0.8399\n",
      "Epoch 16/20\n",
      "170/170 [==============================] - 0s 3ms/step - loss: 0.3130 - accuracy: 0.8847 - precision: 0.8194 - recall: 0.3774 - auc: 0.8394\n",
      "Epoch 17/20\n",
      "170/170 [==============================] - 0s 3ms/step - loss: 0.3128 - accuracy: 0.8845 - precision: 0.8160 - recall: 0.3785 - auc: 0.8394\n",
      "Epoch 18/20\n",
      "170/170 [==============================] - 0s 3ms/step - loss: 0.3127 - accuracy: 0.8845 - precision: 0.8110 - recall: 0.3817 - auc: 0.8395\n",
      "Epoch 19/20\n",
      "170/170 [==============================] - 1s 3ms/step - loss: 0.3126 - accuracy: 0.8845 - precision: 0.8096 - recall: 0.3828 - auc: 0.8397\n",
      "Epoch 20/20\n",
      "170/170 [==============================] - 0s 3ms/step - loss: 0.3126 - accuracy: 0.8845 - precision: 0.8105 - recall: 0.3821 - auc: 0.8397\n"
     ]
    },
    {
     "data": {
      "image/png": "[encoded data removed]",
      "text/plain": [
       "<Figure size 432x288 with 1 Axes>"
      ]
     },
     "metadata": {
      "needs_background": "light"
     },
     "output_type": "display_data"
    }
   ],
   "source": [
    "learning_rate = 0.001\n",
    "epochs = 20\n",
    "batch_size = 100\n",
    "classification_threshold = 0.52\n",
    "label_name = \"median_house_value_is_high\"\n",
    "\n",
    "METRICS = [\n",
    "    tf.keras.metrics.BinaryAccuracy(threshold=classification_threshold, name='accuracy'),\n",
    "    tf.keras.metrics.Precision(thresholds=classification_threshold, name='precision'),\n",
    "    tf.keras.metrics.Recall(thresholds=classification_threshold, name='recall'),\n",
    "    tf.keras.metrics.AUC(num_thresholds=100, name='auc')\n",
    "]\n",
    "\n",
    "my_model = create_model(learning_rate, feature_layer, METRICS)\n",
    "\n",
    "epochs, hist = train_model(my_model, train_df_norm, epochs, label_name, batch_size)\n",
    "\n",
    "list_of_metrics_to_plot = ['accuracy', \"precision\", \"recall\", 'auc'] \n",
    "plot_curve(epochs, hist, list_of_metrics_to_plot)"
   ]
  },
  {
   "cell_type": "code",
   "execution_count": 42,
   "id": "spare-understanding",
   "metadata": {},
   "outputs": [
    {
     "name": "stdout",
     "output_type": "stream",
     "text": [
      "Epoch 1/20\n",
      "WARNING:tensorflow:Layers in a Sequential model should only have a single input tensor, but we receive a <class 'dict'> input: {'longitude': <tf.Tensor 'ExpandDims_3:0' shape=(100, 1) dtype=float32>, 'latitude': <tf.Tensor 'ExpandDims_2:0' shape=(100, 1) dtype=float32>, 'housing_median_age': <tf.Tensor 'ExpandDims_1:0' shape=(100, 1) dtype=float32>, 'total_rooms': <tf.Tensor 'ExpandDims_8:0' shape=(100, 1) dtype=float32>, 'total_bedrooms': <tf.Tensor 'ExpandDims_7:0' shape=(100, 1) dtype=float32>, 'population': <tf.Tensor 'ExpandDims_6:0' shape=(100, 1) dtype=float32>, 'households': <tf.Tensor 'ExpandDims:0' shape=(100, 1) dtype=float32>, 'median_income': <tf.Tensor 'ExpandDims_5:0' shape=(100, 1) dtype=float32>, 'median_house_value': <tf.Tensor 'ExpandDims_4:0' shape=(100, 1) dtype=float32>}\n",
      "Consider rewriting this model with the Functional API.\n",
      "WARNING:tensorflow:Layers in a Sequential model should only have a single input tensor, but we receive a <class 'dict'> input: {'longitude': <tf.Tensor 'ExpandDims_3:0' shape=(100, 1) dtype=float32>, 'latitude': <tf.Tensor 'ExpandDims_2:0' shape=(100, 1) dtype=float32>, 'housing_median_age': <tf.Tensor 'ExpandDims_1:0' shape=(100, 1) dtype=float32>, 'total_rooms': <tf.Tensor 'ExpandDims_8:0' shape=(100, 1) dtype=float32>, 'total_bedrooms': <tf.Tensor 'ExpandDims_7:0' shape=(100, 1) dtype=float32>, 'population': <tf.Tensor 'ExpandDims_6:0' shape=(100, 1) dtype=float32>, 'households': <tf.Tensor 'ExpandDims:0' shape=(100, 1) dtype=float32>, 'median_income': <tf.Tensor 'ExpandDims_5:0' shape=(100, 1) dtype=float32>, 'median_house_value': <tf.Tensor 'ExpandDims_4:0' shape=(100, 1) dtype=float32>}\n",
      "Consider rewriting this model with the Functional API.\n",
      "170/170 [==============================] - 3s 3ms/step - loss: 0.6707 - accuracy: 0.3508 - precision: 0.1879 - recall: 0.8952 - auc: 0.7552\n",
      "Epoch 2/20\n",
      "170/170 [==============================] - 0s 2ms/step - loss: 0.5940 - accuracy: 0.4327 - precision: 0.2089 - recall: 0.8869 - auc: 0.7791\n",
      "Epoch 3/20\n",
      "170/170 [==============================] - 0s 3ms/step - loss: 0.5312 - accuracy: 0.5137 - precision: 0.2338 - recall: 0.8682 - auc: 0.7958\n",
      "Epoch 4/20\n",
      "170/170 [==============================] - 0s 3ms/step - loss: 0.4788 - accuracy: 0.5876 - precision: 0.2632 - recall: 0.8470 - auc: 0.8073\n",
      "Epoch 5/20\n",
      "170/170 [==============================] - 0s 3ms/step - loss: 0.4352 - accuracy: 0.6458 - precision: 0.2912 - recall: 0.8149 - auc: 0.8169\n",
      "Epoch 6/20\n",
      "170/170 [==============================] - 0s 3ms/step - loss: 0.3999 - accuracy: 0.7002 - precision: 0.3265 - recall: 0.7861 - auc: 0.8253\n",
      "Epoch 7/20\n",
      "170/170 [==============================] - 1s 3ms/step - loss: 0.3726 - accuracy: 0.7455 - precision: 0.3642 - recall: 0.7483 - auc: 0.8319\n",
      "Epoch 8/20\n",
      "170/170 [==============================] - 0s 2ms/step - loss: 0.3522 - accuracy: 0.7813 - precision: 0.4042 - recall: 0.7148 - auc: 0.8368\n",
      "Epoch 9/20\n",
      "170/170 [==============================] - 0s 3ms/step - loss: 0.3380 - accuracy: 0.8071 - precision: 0.4414 - recall: 0.6817 - auc: 0.8388\n",
      "Epoch 10/20\n",
      "170/170 [==============================] - 0s 3ms/step - loss: 0.3282 - accuracy: 0.8254 - precision: 0.4746 - recall: 0.6435 - auc: 0.8398A: 0s - loss: 0.3299 - accuracy: 0.8222 - precision: 0.4678 - recall: 0.6393 - auc: 0.8\n",
      "Epoch 11/20\n",
      "170/170 [==============================] - 1s 3ms/step - loss: 0.3218 - accuracy: 0.8405 - precision: 0.5096 - recall: 0.6208 - auc: 0.8396\n",
      "Epoch 12/20\n",
      "170/170 [==============================] - 0s 3ms/step - loss: 0.3178 - accuracy: 0.8490 - precision: 0.5337 - recall: 0.5988 - auc: 0.8397\n",
      "Epoch 13/20\n",
      "170/170 [==============================] - 0s 2ms/step - loss: 0.3154 - accuracy: 0.8550 - precision: 0.5532 - recall: 0.5841 - auc: 0.8395\n",
      "Epoch 14/20\n",
      "170/170 [==============================] - 0s 3ms/step - loss: 0.3142 - accuracy: 0.8586 - precision: 0.5663 - recall: 0.5740 - auc: 0.8396\n",
      "Epoch 15/20\n",
      "170/170 [==============================] - 0s 2ms/step - loss: 0.3135 - accuracy: 0.8589 - precision: 0.5679 - recall: 0.5690 - auc: 0.8396\n",
      "Epoch 16/20\n",
      "170/170 [==============================] - 0s 3ms/step - loss: 0.3131 - accuracy: 0.8595 - precision: 0.5705 - recall: 0.5668 - auc: 0.8395\n",
      "Epoch 17/20\n",
      "170/170 [==============================] - 1s 3ms/step - loss: 0.3129 - accuracy: 0.8605 - precision: 0.5747 - recall: 0.5621 - auc: 0.8395\n",
      "Epoch 18/20\n",
      "170/170 [==============================] - 0s 3ms/step - loss: 0.3127 - accuracy: 0.8605 - precision: 0.5745 - recall: 0.5639 - auc: 0.8394\n",
      "Epoch 19/20\n",
      "170/170 [==============================] - 0s 3ms/step - loss: 0.3126 - accuracy: 0.8604 - precision: 0.5742 - recall: 0.5628 - auc: 0.8396\n",
      "Epoch 20/20\n",
      "170/170 [==============================] - 0s 3ms/step - loss: 0.3126 - accuracy: 0.8604 - precision: 0.5744 - recall: 0.5614 - auc: 0.8398\n"
     ]
    },
    {
     "data": {
      "image/png": "[encoded data removed]",
      "text/plain": [
       "<Figure size 432x288 with 1 Axes>"
      ]
     },
     "metadata": {
      "needs_background": "light"
     },
     "output_type": "display_data"
    }
   ],
   "source": [
    "learning_rate = 0.001\n",
    "epochs = 20\n",
    "batch_size = 100\n",
    "classification_threshold = 0.3\n",
    "label_name = \"median_house_value_is_high\"\n",
    "\n",
    "METRICS = [\n",
    "    tf.keras.metrics.BinaryAccuracy(threshold=classification_threshold, name='accuracy'),\n",
    "    tf.keras.metrics.Precision(thresholds=classification_threshold, name='precision'),\n",
    "    tf.keras.metrics.Recall(thresholds=classification_threshold, name='recall'),\n",
    "    tf.keras.metrics.AUC(num_thresholds=100, name='auc')\n",
    "]\n",
    "\n",
    "my_model = create_model(learning_rate, feature_layer, METRICS)\n",
    "\n",
    "epochs, hist = train_model(my_model, train_df_norm, epochs, label_name, batch_size)\n",
    "\n",
    "list_of_metrics_to_plot = ['accuracy', \"precision\", \"recall\", 'auc'] \n",
    "plot_curve(epochs, hist, list_of_metrics_to_plot)"
   ]
  },
  {
   "cell_type": "code",
   "execution_count": null,
   "id": "fundamental-therapy",
   "metadata": {},
   "outputs": [],
   "source": []
  }
 ],
 "metadata": {
  "kernelspec": {
   "display_name": "Python 3",
   "language": "python",
   "name": "python3"
  },
  "language_info": {
   "codemirror_mode": {
    "name": "ipython",
    "version": 3
   },
   "file_extension": ".py",
   "mimetype": "text/x-python",
   "name": "python",
   "nbconvert_exporter": "python",
   "pygments_lexer": "ipython3",
   "version": "3.9.1"
  }
 },
 "nbformat": 4,
 "nbformat_minor": 5
}
