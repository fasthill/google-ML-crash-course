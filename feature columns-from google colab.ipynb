{
 "cells": [
  {
   "cell_type": "markdown",
   "id": "5c5891ec",
   "metadata": {},
   "source": [
    "[google colab](https://colab.research.google.com/drive/1_sAitZMGkBqcDXTMYLs2RIkpo9RRKZdF)"
   ]
  },
  {
   "cell_type": "code",
   "execution_count": 1,
   "id": "372520b3",
   "metadata": {},
   "outputs": [],
   "source": [
    "import pandas as pd\n",
    "import numpy as np\n",
    "import matplotlib.pyplot as plt\n",
    "\n",
    "import tensorflow as tf\n",
    "from tensorflow import feature_column\n",
    "from tensorflow.keras import layers"
   ]
  },
  {
   "cell_type": "code",
   "execution_count": 2,
   "id": "ae1981cb",
   "metadata": {},
   "outputs": [],
   "source": [
    "data = {'marks': [55,21,63,88,74,54,95,41,84,52],\n",
    "        'grade': ['average','poor','average','good','good','average','good','average','good','average'],\n",
    "        'point': ['c','f','c+','b+','b','c','a','d+','b+','c']}"
   ]
  },
  {
   "cell_type": "code",
   "execution_count": 3,
   "id": "cbe6cb2d",
   "metadata": {},
   "outputs": [
    {
     "data": {
      "text/html": [
       "<div>\n",
       "<style scoped>\n",
       "    .dataframe tbody tr th:only-of-type {\n",
       "        vertical-align: middle;\n",
       "    }\n",
       "\n",
       "    .dataframe tbody tr th {\n",
       "        vertical-align: top;\n",
       "    }\n",
       "\n",
       "    .dataframe thead th {\n",
       "        text-align: right;\n",
       "    }\n",
       "</style>\n",
       "<table border=\"1\" class=\"dataframe\">\n",
       "  <thead>\n",
       "    <tr style=\"text-align: right;\">\n",
       "      <th></th>\n",
       "      <th>marks</th>\n",
       "      <th>grade</th>\n",
       "      <th>point</th>\n",
       "    </tr>\n",
       "  </thead>\n",
       "  <tbody>\n",
       "    <tr>\n",
       "      <th>0</th>\n",
       "      <td>55</td>\n",
       "      <td>average</td>\n",
       "      <td>c</td>\n",
       "    </tr>\n",
       "    <tr>\n",
       "      <th>1</th>\n",
       "      <td>21</td>\n",
       "      <td>poor</td>\n",
       "      <td>f</td>\n",
       "    </tr>\n",
       "    <tr>\n",
       "      <th>2</th>\n",
       "      <td>63</td>\n",
       "      <td>average</td>\n",
       "      <td>c+</td>\n",
       "    </tr>\n",
       "    <tr>\n",
       "      <th>3</th>\n",
       "      <td>88</td>\n",
       "      <td>good</td>\n",
       "      <td>b+</td>\n",
       "    </tr>\n",
       "    <tr>\n",
       "      <th>4</th>\n",
       "      <td>74</td>\n",
       "      <td>good</td>\n",
       "      <td>b</td>\n",
       "    </tr>\n",
       "    <tr>\n",
       "      <th>5</th>\n",
       "      <td>54</td>\n",
       "      <td>average</td>\n",
       "      <td>c</td>\n",
       "    </tr>\n",
       "    <tr>\n",
       "      <th>6</th>\n",
       "      <td>95</td>\n",
       "      <td>good</td>\n",
       "      <td>a</td>\n",
       "    </tr>\n",
       "    <tr>\n",
       "      <th>7</th>\n",
       "      <td>41</td>\n",
       "      <td>average</td>\n",
       "      <td>d+</td>\n",
       "    </tr>\n",
       "    <tr>\n",
       "      <th>8</th>\n",
       "      <td>84</td>\n",
       "      <td>good</td>\n",
       "      <td>b+</td>\n",
       "    </tr>\n",
       "    <tr>\n",
       "      <th>9</th>\n",
       "      <td>52</td>\n",
       "      <td>average</td>\n",
       "      <td>c</td>\n",
       "    </tr>\n",
       "  </tbody>\n",
       "</table>\n",
       "</div>"
      ],
      "text/plain": [
       "   marks    grade point\n",
       "0     55  average     c\n",
       "1     21     poor     f\n",
       "2     63  average    c+\n",
       "3     88     good    b+\n",
       "4     74     good     b\n",
       "5     54  average     c\n",
       "6     95     good     a\n",
       "7     41  average    d+\n",
       "8     84     good    b+\n",
       "9     52  average     c"
      ]
     },
     "execution_count": 3,
     "metadata": {},
     "output_type": "execute_result"
    }
   ],
   "source": [
    "df = pd.DataFrame(data)\n",
    "df"
   ]
  },
  {
   "cell_type": "code",
   "execution_count": 4,
   "id": "409219fc",
   "metadata": {},
   "outputs": [
    {
     "data": {
      "text/plain": [
       "marks     int64\n",
       "grade    object\n",
       "point    object\n",
       "dtype: object"
      ]
     },
     "execution_count": 4,
     "metadata": {},
     "output_type": "execute_result"
    }
   ],
   "source": [
    "df.dtypes"
   ]
  },
  {
   "cell_type": "code",
   "execution_count": 5,
   "id": "090182ed",
   "metadata": {},
   "outputs": [],
   "source": [
    "# A utility method to show transromation from feature column\n",
    "def demo(feature_column):\n",
    "    feature_layer = layers.DenseFeatures(feature_column)\n",
    "    print(feature_layer(data).numpy())"
   ]
  },
  {
   "cell_type": "code",
   "execution_count": 6,
   "id": "20fdf266",
   "metadata": {},
   "outputs": [
    {
     "name": "stdout",
     "output_type": "stream",
     "text": [
      "tf.Tensor(\n",
      "[[55.]\n",
      " [21.]\n",
      " [63.]\n",
      " [88.]\n",
      " [74.]\n",
      " [54.]\n",
      " [95.]\n",
      " [41.]\n",
      " [84.]\n",
      " [52.]], shape=(10, 1), dtype=float32)\n",
      "(10, 1)\n"
     ]
    }
   ],
   "source": [
    "marks = feature_column.numeric_column(\"marks\")\n",
    "feature_layer = layers.DenseFeatures(marks)\n",
    "print(feature_layer(data))\n",
    "print(feature_layer(data).numpy().shape)"
   ]
  },
  {
   "cell_type": "code",
   "execution_count": 7,
   "id": "78ea7f8e",
   "metadata": {},
   "outputs": [
    {
     "name": "stdout",
     "output_type": "stream",
     "text": [
      "tf.Tensor(\n",
      "[[0. 0. 0. 1. 0. 0. 0. 0.]\n",
      " [1. 0. 0. 0. 0. 0. 0. 0.]\n",
      " [0. 0. 0. 0. 1. 0. 0. 0.]\n",
      " [0. 0. 0. 0. 0. 0. 1. 0.]\n",
      " [0. 0. 0. 0. 0. 1. 0. 0.]\n",
      " [0. 0. 0. 1. 0. 0. 0. 0.]\n",
      " [0. 0. 0. 0. 0. 0. 0. 1.]\n",
      " [0. 0. 1. 0. 0. 0. 0. 0.]\n",
      " [0. 0. 0. 0. 0. 0. 1. 0.]\n",
      " [0. 0. 0. 1. 0. 0. 0. 0.]], shape=(10, 8), dtype=float32)\n",
      "[[0. 0. 0. 1. 0. 0. 0. 0.]\n",
      " [1. 0. 0. 0. 0. 0. 0. 0.]\n",
      " [0. 0. 0. 0. 1. 0. 0. 0.]\n",
      " [0. 0. 0. 0. 0. 0. 1. 0.]\n",
      " [0. 0. 0. 0. 0. 1. 0. 0.]\n",
      " [0. 0. 0. 1. 0. 0. 0. 0.]\n",
      " [0. 0. 0. 0. 0. 0. 0. 1.]\n",
      " [0. 0. 1. 0. 0. 0. 0. 0.]\n",
      " [0. 0. 0. 0. 0. 0. 1. 0.]\n",
      " [0. 0. 0. 1. 0. 0. 0. 0.]]\n"
     ]
    }
   ],
   "source": [
    "marks = feature_column.numeric_column(\"marks\")\n",
    "marks_buckets = feature_column.bucketized_column(marks, boundaries=[30,40,50,60,70,80,90])\n",
    "feature_layer = layers.DenseFeatures(marks_buckets)\n",
    "print(feature_layer(data))\n",
    "print(feature_layer(data).numpy())"
   ]
  },
  {
   "cell_type": "markdown",
   "id": "93bbec32",
   "metadata": {},
   "source": [
    "## Indicator and embedding columns\n",
    "Indicator columns and embedding columns never work on features directly, but instead take categorical columns as input."
   ]
  },
  {
   "cell_type": "code",
   "execution_count": 8,
   "id": "a1506042",
   "metadata": {},
   "outputs": [
    {
     "name": "stdout",
     "output_type": "stream",
     "text": [
      "tf.Tensor(\n",
      "[[0. 1. 0.]\n",
      " [1. 0. 0.]\n",
      " [0. 1. 0.]\n",
      " [0. 0. 1.]\n",
      " [0. 0. 1.]\n",
      " [0. 1. 0.]\n",
      " [0. 0. 1.]\n",
      " [0. 1. 0.]\n",
      " [0. 0. 1.]\n",
      " [0. 1. 0.]], shape=(10, 3), dtype=float32)\n"
     ]
    }
   ],
   "source": [
    "grade = feature_column.categorical_column_with_vocabulary_list(\n",
    "    'grade', ['poor', 'average', 'good'])\n",
    "grade_one_hot = feature_column.indicator_column(grade)\n",
    "feature_layer = layers.DenseFeatures(grade_one_hot)\n",
    "print(feature_layer(data))"
   ]
  },
  {
   "cell_type": "code",
   "execution_count": 9,
   "id": "68c98014",
   "metadata": {},
   "outputs": [
    {
     "name": "stdout",
     "output_type": "stream",
     "text": [
      "[[1. 0. 0. 0. 0. 0. 0.]\n",
      " [0. 1. 0. 0. 0. 0. 0.]\n",
      " [0. 0. 1. 0. 0. 0. 0.]\n",
      " [0. 0. 0. 1. 0. 0. 0.]\n",
      " [0. 0. 0. 0. 1. 0. 0.]\n",
      " [1. 0. 0. 0. 0. 0. 0.]\n",
      " [0. 0. 0. 0. 0. 1. 0.]\n",
      " [0. 0. 0. 0. 0. 0. 1.]\n",
      " [0. 0. 0. 1. 0. 0. 0.]\n",
      " [1. 0. 0. 0. 0. 0. 0.]]\n"
     ]
    }
   ],
   "source": [
    "point = feature_column.categorical_column_with_vocabulary_list(\n",
    "      'point', df['point'].unique())\n",
    "point_one_hot = feature_column.indicator_column(point)\n",
    "feature_layer = layers.DenseFeatures(point_one_hot)\n",
    "print(feature_layer(data).numpy())"
   ]
  },
  {
   "cell_type": "code",
   "execution_count": 10,
   "id": "4d12fc1f",
   "metadata": {},
   "outputs": [],
   "source": [
    "data1 = {'marks1': [55,21,63,88,74,54,95,41,84,52],\n",
    "        'grade1': ['average','poor','average','good','good','average','good','average','good','average'],\n",
    "        'point1': ['c','c','c','b','b','c','a','c','b','c']}\n",
    "df1 = pd.DataFrame(data1)"
   ]
  },
  {
   "cell_type": "code",
   "execution_count": 11,
   "id": "25a3de71",
   "metadata": {},
   "outputs": [
    {
     "name": "stdout",
     "output_type": "stream",
     "text": [
      "tf.Tensor(\n",
      "[[1. 0. 0.]\n",
      " [1. 0. 0.]\n",
      " [1. 0. 0.]\n",
      " [0. 1. 0.]\n",
      " [0. 1. 0.]\n",
      " [1. 0. 0.]\n",
      " [0. 0. 1.]\n",
      " [1. 0. 0.]\n",
      " [0. 1. 0.]\n",
      " [1. 0. 0.]], shape=(10, 3), dtype=float32)\n"
     ]
    }
   ],
   "source": [
    "point1 = feature_column.categorical_column_with_vocabulary_list(\n",
    "    'point1', df1['point1'].unique())\n",
    "point1_one_hot = feature_column.indicator_column(point1)\n",
    "feature_layer1 = layers.DenseFeatures(point1_one_hot)\n",
    "print(feature_layer1(data1))"
   ]
  },
  {
   "cell_type": "code",
   "execution_count": 12,
   "id": "02001e28",
   "metadata": {},
   "outputs": [
    {
     "name": "stdout",
     "output_type": "stream",
     "text": [
      "tf.Tensor(\n",
      "[[-0.9210452  -0.24410504  0.05263579  0.00426026]\n",
      " [ 0.04256853 -0.12394153 -0.53852063 -0.35018656]\n",
      " [-0.12812604  0.48414207 -0.78286046  0.10103692]\n",
      " [-0.3610778   0.30405998  0.64818835  0.83606577]\n",
      " [ 0.15670884 -0.03258523 -0.67206484 -0.1578501 ]\n",
      " [-0.9210452  -0.24410504  0.05263579  0.00426026]\n",
      " [-0.9761848   0.8016284  -0.08925328 -0.23772472]\n",
      " [-0.38139325 -0.6212604   0.28508696 -0.3042958 ]\n",
      " [-0.3610778   0.30405998  0.64818835  0.83606577]\n",
      " [-0.9210452  -0.24410504  0.05263579  0.00426026]], shape=(10, 4), dtype=float32)\n"
     ]
    }
   ],
   "source": [
    "# Notice the input to the embedding column is the categorical column\n",
    "# we previously created\n",
    "point = feature_column.categorical_column_with_vocabulary_list(\n",
    "    'point', df['point'].unique())\n",
    "point_embedding = feature_column.embedding_column(point, dimension=4)\n",
    "feature_layer = layers.DenseFeatures(point_embedding)\n",
    "print(feature_layer(data))"
   ]
  },
  {
   "cell_type": "code",
   "execution_count": 13,
   "id": "b8ea87ed",
   "metadata": {},
   "outputs": [
    {
     "name": "stdout",
     "output_type": "stream",
     "text": [
      "tf.Tensor(\n",
      "[[0. 0. 0. 0. 1. 0.]\n",
      " [1. 0. 0. 0. 0. 0.]\n",
      " [0. 0. 0. 1. 0. 0.]\n",
      " [0. 0. 0. 1. 0. 0.]\n",
      " [0. 0. 0. 0. 1. 0.]\n",
      " [0. 0. 0. 0. 1. 0.]\n",
      " [0. 0. 0. 1. 0. 0.]\n",
      " [0. 0. 0. 0. 1. 0.]\n",
      " [0. 0. 0. 1. 0. 0.]\n",
      " [0. 0. 0. 0. 1. 0.]], shape=(10, 6), dtype=float32)\n"
     ]
    }
   ],
   "source": [
    "point_hashed = feature_column.categorical_column_with_hash_bucket(\n",
    "    'point', hash_bucket_size=6)\n",
    "point_hashed = feature_column.indicator_column(point_hashed)\n",
    "feature_layer = layers.DenseFeatures(point_hashed)\n",
    "print(feature_layer(data))"
   ]
  },
  {
   "cell_type": "code",
   "execution_count": 15,
   "id": "87f6045b",
   "metadata": {},
   "outputs": [
    {
     "name": "stdout",
     "output_type": "stream",
     "text": [
      "tf.Tensor(\n",
      "[[0. 0. 0. 0. 0. 0. 0. 0. 1. 0.]\n",
      " [0. 0. 0. 0. 1. 0. 0. 0. 0. 0.]\n",
      " [0. 0. 0. 0. 1. 0. 0. 0. 0. 0.]\n",
      " [0. 0. 0. 0. 1. 0. 0. 0. 0. 0.]\n",
      " [1. 0. 0. 0. 0. 0. 0. 0. 0. 0.]\n",
      " [0. 0. 0. 0. 0. 0. 0. 0. 1. 0.]\n",
      " [0. 0. 0. 0. 0. 1. 0. 0. 0. 0.]\n",
      " [0. 0. 0. 0. 0. 0. 1. 0. 0. 0.]\n",
      " [0. 0. 0. 0. 1. 0. 0. 0. 0. 0.]\n",
      " [0. 0. 0. 0. 0. 0. 0. 0. 1. 0.]], shape=(10, 10), dtype=float32)\n"
     ]
    }
   ],
   "source": [
    "crossed_feature = feature_column.crossed_column([marks_buckets, grade], hash_bucket_size=10)\n",
    "feature_column = feature_column.indicator_column(crossed_feature)\n",
    "feature_layer = layers.DenseFeatures(feature_column)\n",
    "print(feature_layer(data))"
   ]
  },
  {
   "cell_type": "code",
   "execution_count": null,
   "id": "378f36d8",
   "metadata": {},
   "outputs": [],
   "source": []
  }
 ],
 "metadata": {
  "kernelspec": {
   "display_name": "Python 3",
   "language": "python",
   "name": "python3"
  },
  "language_info": {
   "codemirror_mode": {
    "name": "ipython",
    "version": 3
   },
   "file_extension": ".py",
   "mimetype": "text/x-python",
   "name": "python",
   "nbconvert_exporter": "python",
   "pygments_lexer": "ipython3",
   "version": "3.9.1"
  }
 },
 "nbformat": 4,
 "nbformat_minor": 5
}
