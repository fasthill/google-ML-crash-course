{
 "cells": [
  {
   "cell_type": "markdown",
   "id": "2e508a54",
   "metadata": {},
   "source": [
    "# 1. Load and clean data\n",
    "Run the section below to load and clean the dataset. You do not need to understand the code. The code displays data for the first few chocolates."
   ]
  },
  {
   "cell_type": "code",
   "execution_count": 1,
   "id": "52151664",
   "metadata": {},
   "outputs": [],
   "source": [
    "# Run to load and clean the dataset\n",
    "%reset -f\n",
    "# from __future__ import print_function\n",
    "\n",
    "import math\n",
    "import numpy as np\n",
    "import numpy.linalg as nla\n",
    "import pandas as pd\n",
    "import re\n",
    "# import six\n",
    "# from os.path import join\n",
    "from matplotlib import pyplot as plt\n",
    "\n",
    "# import tensorflow.compat.v1 as tf\n",
    "# tf.disable_v2_behavior()"
   ]
  },
  {
   "cell_type": "code",
   "execution_count": 2,
   "id": "febb1854",
   "metadata": {},
   "outputs": [],
   "source": [
    "# Set the output display to have one digit for decimal places and limit it to\n",
    "# printing 15 rows.\n",
    "pd.options.display.max_rows =  15\n",
    "pd.options.display.float_format = '{:.2f}'.format"
   ]
  },
  {
   "cell_type": "code",
   "execution_count": 3,
   "id": "be2c574f",
   "metadata": {},
   "outputs": [],
   "source": [
    "choc_data = pd.read_csv(\"https://download.mlcc.google.com/mledu-datasets/flavors_of_cacao.csv\", sep=\",\", encoding='latin-1')"
   ]
  },
  {
   "cell_type": "code",
   "execution_count": 4,
   "id": "2e5e29d4",
   "metadata": {},
   "outputs": [],
   "source": [
    "# rename the columns.\n",
    "choc_data.columns = ['maker', 'specific_origin', 'reference_number', 'review_date', 'cocoa_percent', 'maker_location', 'rating', 'bean_type', 'broad_origin']"
   ]
  },
  {
   "cell_type": "code",
   "execution_count": null,
   "id": "4bfaa419",
   "metadata": {},
   "outputs": [],
   "source": [
    "choc_data.dtypes"
   ]
  },
  {
   "cell_type": "code",
   "execution_count": null,
   "id": "52188d65",
   "metadata": {},
   "outputs": [],
   "source": [
    "choc_data.info()"
   ]
  },
  {
   "cell_type": "code",
   "execution_count": 5,
   "id": "896caf73",
   "metadata": {},
   "outputs": [],
   "source": [
    "# Replace empty/null values with \"Blend\"\n",
    "choc_data['bean_type'] = choc_data['bean_type'].fillna('Blend')"
   ]
  },
  {
   "cell_type": "code",
   "execution_count": 6,
   "id": "74ef7810",
   "metadata": {},
   "outputs": [],
   "source": [
    "# Cast bean_type to string to remove leading 'u'\n",
    "choc_data['bean_type'] = choc_data['bean_type'].astype(str)"
   ]
  },
  {
   "cell_type": "code",
   "execution_count": 9,
   "id": "0c15940e",
   "metadata": {},
   "outputs": [],
   "source": [
    "choc_data['cocoa_percent'] = choc_data['cocoa_percent'].str.strip('%')"
   ]
  },
  {
   "cell_type": "code",
   "execution_count": 16,
   "id": "1c26634e",
   "metadata": {},
   "outputs": [],
   "source": [
    "choc_data['cocoa_percent'] = pd.to_numeric(choc_data['cocoa_percent'])"
   ]
  },
  {
   "cell_type": "code",
   "execution_count": 17,
   "id": "5980c1a2",
   "metadata": {},
   "outputs": [
    {
     "name": "stdout",
     "output_type": "stream",
     "text": [
      "<class 'pandas.core.frame.DataFrame'>\n",
      "RangeIndex: 1795 entries, 0 to 1794\n",
      "Data columns (total 9 columns):\n",
      " #   Column            Non-Null Count  Dtype  \n",
      "---  ------            --------------  -----  \n",
      " 0   maker             1795 non-null   object \n",
      " 1   specific_origin   1795 non-null   object \n",
      " 2   reference_number  1795 non-null   int64  \n",
      " 3   review_date       1795 non-null   int64  \n",
      " 4   cocoa_percent     1795 non-null   float64\n",
      " 5   maker_location    1795 non-null   object \n",
      " 6   rating            1795 non-null   float64\n",
      " 7   bean_type         1795 non-null   object \n",
      " 8   broad_origin      1721 non-null   object \n",
      "dtypes: float64(2), int64(2), object(5)\n",
      "memory usage: 126.3+ KB\n"
     ]
    }
   ],
   "source": [
    "choc_data.info()"
   ]
  },
  {
   "cell_type": "code",
   "execution_count": null,
   "id": "76143337",
   "metadata": {},
   "outputs": [],
   "source": []
  }
 ],
 "metadata": {
  "kernelspec": {
   "display_name": "Python 3",
   "language": "python",
   "name": "python3"
  },
  "language_info": {
   "codemirror_mode": {
    "name": "ipython",
    "version": 3
   },
   "file_extension": ".py",
   "mimetype": "text/x-python",
   "name": "python",
   "nbconvert_exporter": "python",
   "pygments_lexer": "ipython3",
   "version": "3.9.1"
  }
 },
 "nbformat": 4,
 "nbformat_minor": 5
}
