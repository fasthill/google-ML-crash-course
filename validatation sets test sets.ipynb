{
 "cells": [
  {
   "cell_type": "code",
   "execution_count": 1,
   "id": "welcome-belize",
   "metadata": {},
   "outputs": [],
   "source": [
    "#@title modules\n",
    "import numpy as np\n",
    "import pandas as pd\n",
    "import tensorflow as tf\n",
    "from matplotlib import pyplot as plt"
   ]
  },
  {
   "cell_type": "code",
   "execution_count": 16,
   "id": "further-spider",
   "metadata": {},
   "outputs": [],
   "source": [
    "pd.options.display.max_rows = 10\n",
    "pd.options.display.float_format = '{:.4f}'.format"
   ]
  },
  {
   "cell_type": "code",
   "execution_count": 4,
   "id": "orange-rocket",
   "metadata": {},
   "outputs": [],
   "source": [
    "# Load the datasets from the internet\n",
    "train_df = pd.read_csv('https://download.mlcc.google.com/mledu-datasets/california_housing_train.csv')\n",
    "test_df = pd.read_csv('https://download.mlcc.google.com/mledu-datasets/california_housing_test.csv')"
   ]
  },
  {
   "cell_type": "code",
   "execution_count": 7,
   "id": "enhanced-spice",
   "metadata": {},
   "outputs": [
    {
     "data": {
      "text/plain": [
       "((17000, 9), (3000, 9))"
      ]
     },
     "execution_count": 7,
     "metadata": {},
     "output_type": "execute_result"
    }
   ],
   "source": [
    "train_df.shape, test_df.shape"
   ]
  },
  {
   "cell_type": "code",
   "execution_count": 8,
   "id": "undefined-concentration",
   "metadata": {},
   "outputs": [
    {
     "data": {
      "text/html": [
       "<div>\n",
       "<style scoped>\n",
       "    .dataframe tbody tr th:only-of-type {\n",
       "        vertical-align: middle;\n",
       "    }\n",
       "\n",
       "    .dataframe tbody tr th {\n",
       "        vertical-align: top;\n",
       "    }\n",
       "\n",
       "    .dataframe thead th {\n",
       "        text-align: right;\n",
       "    }\n",
       "</style>\n",
       "<table border=\"1\" class=\"dataframe\">\n",
       "  <thead>\n",
       "    <tr style=\"text-align: right;\">\n",
       "      <th></th>\n",
       "      <th>longitude</th>\n",
       "      <th>latitude</th>\n",
       "      <th>housing_median_age</th>\n",
       "      <th>total_rooms</th>\n",
       "      <th>total_bedrooms</th>\n",
       "      <th>population</th>\n",
       "      <th>households</th>\n",
       "      <th>median_income</th>\n",
       "      <th>median_house_value</th>\n",
       "    </tr>\n",
       "  </thead>\n",
       "  <tbody>\n",
       "    <tr>\n",
       "      <th>0</th>\n",
       "      <td>-114.3100</td>\n",
       "      <td>34.1900</td>\n",
       "      <td>15.0000</td>\n",
       "      <td>5612.0000</td>\n",
       "      <td>1283.0000</td>\n",
       "      <td>1015.0000</td>\n",
       "      <td>472.0000</td>\n",
       "      <td>1.4936</td>\n",
       "      <td>66900.0000</td>\n",
       "    </tr>\n",
       "    <tr>\n",
       "      <th>1</th>\n",
       "      <td>-114.4700</td>\n",
       "      <td>34.4000</td>\n",
       "      <td>19.0000</td>\n",
       "      <td>7650.0000</td>\n",
       "      <td>1901.0000</td>\n",
       "      <td>1129.0000</td>\n",
       "      <td>463.0000</td>\n",
       "      <td>1.8200</td>\n",
       "      <td>80100.0000</td>\n",
       "    </tr>\n",
       "    <tr>\n",
       "      <th>2</th>\n",
       "      <td>-114.5600</td>\n",
       "      <td>33.6900</td>\n",
       "      <td>17.0000</td>\n",
       "      <td>720.0000</td>\n",
       "      <td>174.0000</td>\n",
       "      <td>333.0000</td>\n",
       "      <td>117.0000</td>\n",
       "      <td>1.6509</td>\n",
       "      <td>85700.0000</td>\n",
       "    </tr>\n",
       "    <tr>\n",
       "      <th>3</th>\n",
       "      <td>-114.5700</td>\n",
       "      <td>33.6400</td>\n",
       "      <td>14.0000</td>\n",
       "      <td>1501.0000</td>\n",
       "      <td>337.0000</td>\n",
       "      <td>515.0000</td>\n",
       "      <td>226.0000</td>\n",
       "      <td>3.1917</td>\n",
       "      <td>73400.0000</td>\n",
       "    </tr>\n",
       "    <tr>\n",
       "      <th>4</th>\n",
       "      <td>-114.5700</td>\n",
       "      <td>33.5700</td>\n",
       "      <td>20.0000</td>\n",
       "      <td>1454.0000</td>\n",
       "      <td>326.0000</td>\n",
       "      <td>624.0000</td>\n",
       "      <td>262.0000</td>\n",
       "      <td>1.9250</td>\n",
       "      <td>65500.0000</td>\n",
       "    </tr>\n",
       "  </tbody>\n",
       "</table>\n",
       "</div>"
      ],
      "text/plain": [
       "   longitude  latitude  housing_median_age  total_rooms  total_bedrooms  \\\n",
       "0  -114.3100   34.1900             15.0000    5612.0000       1283.0000   \n",
       "1  -114.4700   34.4000             19.0000    7650.0000       1901.0000   \n",
       "2  -114.5600   33.6900             17.0000     720.0000        174.0000   \n",
       "3  -114.5700   33.6400             14.0000    1501.0000        337.0000   \n",
       "4  -114.5700   33.5700             20.0000    1454.0000        326.0000   \n",
       "\n",
       "   population  households  median_income  median_house_value  \n",
       "0   1015.0000    472.0000         1.4936          66900.0000  \n",
       "1   1129.0000    463.0000         1.8200          80100.0000  \n",
       "2    333.0000    117.0000         1.6509          85700.0000  \n",
       "3    515.0000    226.0000         3.1917          73400.0000  \n",
       "4    624.0000    262.0000         1.9250          65500.0000  "
      ]
     },
     "execution_count": 8,
     "metadata": {},
     "output_type": "execute_result"
    }
   ],
   "source": [
    "train_df.head()"
   ]
  },
  {
   "cell_type": "code",
   "execution_count": 9,
   "id": "serial-accreditation",
   "metadata": {},
   "outputs": [],
   "source": [
    "scale_factor = 1000.0"
   ]
  },
  {
   "cell_type": "code",
   "execution_count": 11,
   "id": "fantastic-handbook",
   "metadata": {},
   "outputs": [],
   "source": [
    "train_df['median_house_value'] /= scale_factor # Scale the training set's label\n",
    "test_df[\"median_house_value\"] /= scale_factor # Scale the test set's label"
   ]
  },
  {
   "cell_type": "code",
   "execution_count": 15,
   "id": "amended-sequence",
   "metadata": {},
   "outputs": [
    {
     "data": {
      "text/html": [
       "<div>\n",
       "<style scoped>\n",
       "    .dataframe tbody tr th:only-of-type {\n",
       "        vertical-align: middle;\n",
       "    }\n",
       "\n",
       "    .dataframe tbody tr th {\n",
       "        vertical-align: top;\n",
       "    }\n",
       "\n",
       "    .dataframe thead th {\n",
       "        text-align: right;\n",
       "    }\n",
       "</style>\n",
       "<table border=\"1\" class=\"dataframe\">\n",
       "  <thead>\n",
       "    <tr style=\"text-align: right;\">\n",
       "      <th></th>\n",
       "      <th>longitude</th>\n",
       "      <th>latitude</th>\n",
       "      <th>housing_median_age</th>\n",
       "      <th>total_rooms</th>\n",
       "      <th>total_bedrooms</th>\n",
       "      <th>population</th>\n",
       "      <th>households</th>\n",
       "      <th>median_income</th>\n",
       "      <th>median_house_value</th>\n",
       "    </tr>\n",
       "  </thead>\n",
       "  <tbody>\n",
       "    <tr>\n",
       "      <th>0</th>\n",
       "      <td>-114.3</td>\n",
       "      <td>34.2</td>\n",
       "      <td>15.0</td>\n",
       "      <td>5612.0</td>\n",
       "      <td>1283.0</td>\n",
       "      <td>1015.0</td>\n",
       "      <td>472.0</td>\n",
       "      <td>1.5</td>\n",
       "      <td>66.9</td>\n",
       "    </tr>\n",
       "    <tr>\n",
       "      <th>1</th>\n",
       "      <td>-114.5</td>\n",
       "      <td>34.4</td>\n",
       "      <td>19.0</td>\n",
       "      <td>7650.0</td>\n",
       "      <td>1901.0</td>\n",
       "      <td>1129.0</td>\n",
       "      <td>463.0</td>\n",
       "      <td>1.8</td>\n",
       "      <td>80.1</td>\n",
       "    </tr>\n",
       "    <tr>\n",
       "      <th>2</th>\n",
       "      <td>-114.6</td>\n",
       "      <td>33.7</td>\n",
       "      <td>17.0</td>\n",
       "      <td>720.0</td>\n",
       "      <td>174.0</td>\n",
       "      <td>333.0</td>\n",
       "      <td>117.0</td>\n",
       "      <td>1.7</td>\n",
       "      <td>85.7</td>\n",
       "    </tr>\n",
       "    <tr>\n",
       "      <th>3</th>\n",
       "      <td>-114.6</td>\n",
       "      <td>33.6</td>\n",
       "      <td>14.0</td>\n",
       "      <td>1501.0</td>\n",
       "      <td>337.0</td>\n",
       "      <td>515.0</td>\n",
       "      <td>226.0</td>\n",
       "      <td>3.2</td>\n",
       "      <td>73.4</td>\n",
       "    </tr>\n",
       "    <tr>\n",
       "      <th>4</th>\n",
       "      <td>-114.6</td>\n",
       "      <td>33.6</td>\n",
       "      <td>20.0</td>\n",
       "      <td>1454.0</td>\n",
       "      <td>326.0</td>\n",
       "      <td>624.0</td>\n",
       "      <td>262.0</td>\n",
       "      <td>1.9</td>\n",
       "      <td>65.5</td>\n",
       "    </tr>\n",
       "  </tbody>\n",
       "</table>\n",
       "</div>"
      ],
      "text/plain": [
       "   longitude  latitude  housing_median_age  total_rooms  total_bedrooms  \\\n",
       "0     -114.3      34.2                15.0       5612.0          1283.0   \n",
       "1     -114.5      34.4                19.0       7650.0          1901.0   \n",
       "2     -114.6      33.7                17.0        720.0           174.0   \n",
       "3     -114.6      33.6                14.0       1501.0           337.0   \n",
       "4     -114.6      33.6                20.0       1454.0           326.0   \n",
       "\n",
       "   population  households  median_income  median_house_value  \n",
       "0      1015.0       472.0            1.5                66.9  \n",
       "1      1129.0       463.0            1.8                80.1  \n",
       "2       333.0       117.0            1.7                85.7  \n",
       "3       515.0       226.0            3.2                73.4  \n",
       "4       624.0       262.0            1.9                65.5  "
      ]
     },
     "execution_count": 15,
     "metadata": {},
     "output_type": "execute_result"
    }
   ],
   "source": [
    "pd.options.display.float_format = '{:.1f}'.format\n",
    "train_df.head()"
   ]
  },
  {
   "cell_type": "code",
   "execution_count": 30,
   "id": "employed-delivery",
   "metadata": {},
   "outputs": [],
   "source": [
    "#@title Define the functions that build and train a model\n",
    "def build_model(my_learning_rate):\n",
    "    model = tf.keras.models.Sequential()\n",
    "    \n",
    "    # Add one linear layer to the model to yield a simple linear regressor.\n",
    "    model.add(tf.keras.layers.Dense(units=1, input_shape=(1,)))\n",
    "    \n",
    "    model.compile(loss='mean_squared_error', optimizer=tf.keras.optimizers.RMSprop(learning_rate=my_learning_rate),\n",
    "                 metrics=[tf.keras.metrics.RootMeanSquaredError()])\n",
    "    \n",
    "    return model"
   ]
  },
  {
   "cell_type": "code",
   "execution_count": 23,
   "id": "efficient-conjunction",
   "metadata": {},
   "outputs": [
    {
     "name": "stdout",
     "output_type": "stream",
     "text": [
      "Defined the build_model and train_model functions.\n"
     ]
    }
   ],
   "source": [
    "def train_model(model, df, feature, label, my_epochs, my_batch_size=None, my_validation_split=0.1):\n",
    "    history = model.fit(x=df[feature], \n",
    "                        y=df[label], \n",
    "                        epochs=my_epochs, \n",
    "                        batch_size=my_batch_size,\n",
    "                       validation_split=my_validation_split)\n",
    "    \n",
    "    # Gather the model's trained weight and bias.\n",
    "    trained_weight = model.get_weights()[0]\n",
    "    trained_bias = model.get_weights()[1]\n",
    "    \n",
    "    # The list of epochs is stored separately from the rest of history.\n",
    "    epochs = history.epoch\n",
    "    \n",
    "    # Isolate the root mean squared error for each epoch.\n",
    "    hist = pd.DataFrame(history.history)\n",
    "    rmse = hist['root_mean_squared_error']\n",
    "    \n",
    "    return epochs, rmse, history.history\n",
    "\n",
    "print(\"Defined the build_model and train_model functions.\")"
   ]
  },
  {
   "cell_type": "code",
   "execution_count": 40,
   "id": "representative-cornwall",
   "metadata": {},
   "outputs": [
    {
     "name": "stdout",
     "output_type": "stream",
     "text": [
      "Defined the plot_the_loss_curve function.\n"
     ]
    }
   ],
   "source": [
    "def plot_the_loss_curve(epochs, mae_training, mae_validation):\n",
    "    \n",
    "    plt.figure()\n",
    "    plt.xlabel('Epoch')\n",
    "    plt.ylabel('Root Mean Squared Error')\n",
    "    \n",
    "    plt.plot(epochs[1:], mae_training[1:], label='Training Loss')\n",
    "    plt.plot(epochs[1:], mae_validation[1:], label='Validation Loss')\n",
    "    \n",
    "    # We're not going to plot the first epoch, since the loss on the first epoch\n",
    "    # is often substantially greater than the loss for other epochs.\n",
    "    merged_mae_lists = mae_training[1:] + mae_validation[1:]\n",
    "    highest_loss = max(merged_mae_lists)\n",
    "    lowest_loss = min(merged_mae_lists)\n",
    "    delta = highest_loss - lowest_loss\n",
    "    print(delta)\n",
    "    \n",
    "    top_of_y_axis = highest_loss + (delta * 0.05)\n",
    "    bottom_of_y_axis = lowest_loss - (delta * 0.05)\n",
    "    \n",
    "    plt.ylim([bottom_of_y_axis, top_of_y_axis])\n",
    "    plt.show()\n",
    "    \n",
    "print(\"Defined the plot_the_loss_curve function.\")"
   ]
  },
  {
   "cell_type": "code",
   "execution_count": 42,
   "id": "demographic-television",
   "metadata": {},
   "outputs": [
    {
     "name": "stdout",
     "output_type": "stream",
     "text": [
      "Epoch 1/30\n",
      "136/136 [==============================] - 1s 4ms/step - loss: 40295.1875 - root_mean_squared_error: 200.7366 - val_loss: 48816.7539 - val_root_mean_squared_error: 220.9451\n",
      "Epoch 2/30\n",
      "136/136 [==============================] - 0s 2ms/step - loss: 23321.9668 - root_mean_squared_error: 152.7153 - val_loss: 28702.5410 - val_root_mean_squared_error: 169.4182\n",
      "Epoch 3/30\n",
      "136/136 [==============================] - 0s 2ms/step - loss: 12382.7402 - root_mean_squared_error: 111.2778 - val_loss: 15490.6387 - val_root_mean_squared_error: 124.4614\n",
      "Epoch 4/30\n",
      "136/136 [==============================] - 0s 2ms/step - loss: 7300.0928 - root_mean_squared_error: 85.4406 - val_loss: 9658.5410 - val_root_mean_squared_error: 98.2779\n",
      "Epoch 5/30\n",
      "136/136 [==============================] - 0s 2ms/step - loss: 6516.0117 - root_mean_squared_error: 80.7218 - val_loss: 9211.8369 - val_root_mean_squared_error: 95.9783\n",
      "Epoch 6/30\n",
      "136/136 [==============================] - 0s 2ms/step - loss: 6512.4390 - root_mean_squared_error: 80.6997 - val_loss: 9374.6104 - val_root_mean_squared_error: 96.8226\n",
      "Epoch 7/30\n",
      "136/136 [==============================] - 0s 2ms/step - loss: 6513.4775 - root_mean_squared_error: 80.7061 - val_loss: 9164.9355 - val_root_mean_squared_error: 95.7337\n",
      "Epoch 8/30\n",
      "136/136 [==============================] - 0s 2ms/step - loss: 6513.0811 - root_mean_squared_error: 80.7037 - val_loss: 9377.3740 - val_root_mean_squared_error: 96.8368\n",
      "Epoch 9/30\n",
      "136/136 [==============================] - 0s 2ms/step - loss: 6513.5107 - root_mean_squared_error: 80.7063 - val_loss: 9207.5156 - val_root_mean_squared_error: 95.9558\n",
      "Epoch 10/30\n",
      "136/136 [==============================] - 0s 2ms/step - loss: 6513.7725 - root_mean_squared_error: 80.7079 - val_loss: 9306.4297 - val_root_mean_squared_error: 96.4698\n",
      "Epoch 11/30\n",
      "136/136 [==============================] - 0s 2ms/step - loss: 6513.2075 - root_mean_squared_error: 80.7044 - val_loss: 9252.6260 - val_root_mean_squared_error: 96.1906\n",
      "Epoch 12/30\n",
      "136/136 [==============================] - 0s 2ms/step - loss: 6512.6128 - root_mean_squared_error: 80.7008 - val_loss: 9344.4219 - val_root_mean_squared_error: 96.6665\n",
      "Epoch 13/30\n",
      "136/136 [==============================] - 0s 2ms/step - loss: 6513.5996 - root_mean_squared_error: 80.7069 - val_loss: 9307.8076 - val_root_mean_squared_error: 96.4770\n",
      "Epoch 14/30\n",
      "136/136 [==============================] - 0s 2ms/step - loss: 6514.6348 - root_mean_squared_error: 80.7133 - val_loss: 9274.0703 - val_root_mean_squared_error: 96.3020\n",
      "Epoch 15/30\n",
      "136/136 [==============================] - 0s 2ms/step - loss: 6513.0986 - root_mean_squared_error: 80.7038 - val_loss: 9144.8311 - val_root_mean_squared_error: 95.6286\n",
      "Epoch 16/30\n",
      "136/136 [==============================] - 0s 2ms/step - loss: 6513.3794 - root_mean_squared_error: 80.7055 - val_loss: 9355.8828 - val_root_mean_squared_error: 96.7258\n",
      "Epoch 17/30\n",
      "136/136 [==============================] - 0s 3ms/step - loss: 6513.8442 - root_mean_squared_error: 80.7084 - val_loss: 9318.7480 - val_root_mean_squared_error: 96.5337\n",
      "Epoch 18/30\n",
      "136/136 [==============================] - 0s 2ms/step - loss: 6512.9731 - root_mean_squared_error: 80.7030 - val_loss: 9216.5088 - val_root_mean_squared_error: 96.0026\n",
      "Epoch 19/30\n",
      "136/136 [==============================] - 0s 2ms/step - loss: 6513.2729 - root_mean_squared_error: 80.7048 - val_loss: 9211.2480 - val_root_mean_squared_error: 95.9753\n",
      "Epoch 20/30\n",
      "136/136 [==============================] - 0s 2ms/step - loss: 6511.2407 - root_mean_squared_error: 80.6923 - val_loss: 9425.0254 - val_root_mean_squared_error: 97.0826\n",
      "Epoch 21/30\n",
      "136/136 [==============================] - 0s 2ms/step - loss: 6513.3818 - root_mean_squared_error: 80.7055 - val_loss: 9232.2607 - val_root_mean_squared_error: 96.0847\n",
      "Epoch 22/30\n",
      "136/136 [==============================] - 0s 2ms/step - loss: 6513.5498 - root_mean_squared_error: 80.7066 - val_loss: 9181.7754 - val_root_mean_squared_error: 95.8216\n",
      "Epoch 23/30\n",
      "136/136 [==============================] - 0s 2ms/step - loss: 6513.3237 - root_mean_squared_error: 80.7052 - val_loss: 9315.1738 - val_root_mean_squared_error: 96.5152\n",
      "Epoch 24/30\n",
      "136/136 [==============================] - 0s 2ms/step - loss: 6513.8672 - root_mean_squared_error: 80.7085 - val_loss: 9267.7061 - val_root_mean_squared_error: 96.2689\n",
      "Epoch 25/30\n",
      "136/136 [==============================] - 0s 3ms/step - loss: 6513.0083 - root_mean_squared_error: 80.7032 - val_loss: 9370.1846 - val_root_mean_squared_error: 96.7997\n",
      "Epoch 26/30\n",
      "136/136 [==============================] - 0s 2ms/step - loss: 6513.4263 - root_mean_squared_error: 80.7058 - val_loss: 9225.3701 - val_root_mean_squared_error: 96.0488\n",
      "Epoch 27/30\n",
      "136/136 [==============================] - 0s 2ms/step - loss: 6514.2241 - root_mean_squared_error: 80.7107 - val_loss: 9273.8564 - val_root_mean_squared_error: 96.3009\n",
      "Epoch 28/30\n",
      "136/136 [==============================] - 0s 2ms/step - loss: 6512.6514 - root_mean_squared_error: 80.7010 - val_loss: 9147.7510 - val_root_mean_squared_error: 95.6439\n",
      "Epoch 29/30\n",
      "136/136 [==============================] - 0s 2ms/step - loss: 6513.4253 - root_mean_squared_error: 80.7058 - val_loss: 9235.3359 - val_root_mean_squared_error: 96.1007\n",
      "Epoch 30/30\n",
      "136/136 [==============================] - 0s 2ms/step - loss: 6511.1035 - root_mean_squared_error: 80.6914 - val_loss: 9109.2832 - val_root_mean_squared_error: 95.4426\n",
      "88.72683715820312\n"
     ]
    },
    {
     "data": {
      "image/png": "[encoded data removed]",
      "text/plain": [
       "<Figure size 432x288 with 1 Axes>"
      ]
     },
     "metadata": {
      "needs_background": "light"
     },
     "output_type": "display_data"
    }
   ],
   "source": [
    "# The following variables are the hyperparameters.\n",
    "learning_rate = 0.08\n",
    "epochs = 30\n",
    "batch_size = 100\n",
    "\n",
    "# Split the original training set into a reduced training set and a validation set. \n",
    "validation_split = 0.2\n",
    "\n",
    "# Identify the feature and the label.\n",
    "my_feature = \"median_income\"    # the median income on a specific city block.\n",
    "my_label = \"median_house_value\" # the median house value on a specific city block.\n",
    "\n",
    "# Discard any pre-existing version of the model.\n",
    "my_model = None\n",
    "\n",
    "# Invoke the functions to build and train the model.\n",
    "my_model = build_model(learning_rate)\n",
    "epochs, rmse, history = train_model(my_model, train_df, my_feature, \n",
    "                                    my_label, epochs, batch_size, \n",
    "                                    validation_split)\n",
    "\n",
    "plot_the_loss_curve(epochs, history[\"root_mean_squared_error\"], \n",
    "                    history[\"val_root_mean_squared_error\"])"
   ]
  },
  {
   "cell_type": "code",
   "execution_count": null,
   "id": "adapted-bouquet",
   "metadata": {},
   "outputs": [],
   "source": []
  }
 ],
 "metadata": {
  "kernelspec": {
   "display_name": "Python 3",
   "language": "python",
   "name": "python3"
  },
  "language_info": {
   "codemirror_mode": {
    "name": "ipython",
    "version": 3
   },
   "file_extension": ".py",
   "mimetype": "text/x-python",
   "name": "python",
   "nbconvert_exporter": "python",
   "pygments_lexer": "ipython3",
   "version": "3.9.1"
  }
 },
 "nbformat": 4,
 "nbformat_minor": 5
}
